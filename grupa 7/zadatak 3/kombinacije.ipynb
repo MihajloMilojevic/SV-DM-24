{
  "cells": [
    {
      "cell_type": "markdown",
      "metadata": {
        "id": "zwAIo6aW-oAf"
      },
      "source": [
        "# Kombinacije"
      ]
    },
    {
      "cell_type": "markdown",
      "metadata": {
        "id": "tMHbiSKY-oAk"
      },
      "source": [
        "U prethodnoj lekciji smo definisali permutacije elemenata skupa kao odabir $k$ elemenata iz kolekcije od $n$ elemenata, pri čemu je redosled odabira bitan. Kombinacije, s druge strane, su odabiri u kojima redosled nije bitan"
      ]
    },
    {
      "cell_type": "markdown",
      "metadata": {
        "id": "xtZpnROY-oAv"
      },
      "source": [
        "## Kombinacije bez ponavljanja"
      ]
    },
    {
      "cell_type": "markdown",
      "metadata": {
        "id": "T2AM6SRs-oAw"
      },
      "source": [
        "**Definicija** $k$-kombinacija bez ponavljanja predstavlja sve načine na koji možemo iz skupa od $n$ različitih elemenata odabrati $k$ elemenata, pri čemu redosled izbora elemenata nije bitan. Broj kombinacija bez ponavljanja se označava sa $C(n, k)$."
      ]
    },
    {
      "cell_type": "markdown",
      "metadata": {
        "id": "Sl14D3nq-oAx"
      },
      "source": [
        "**Teorema** $$C(n, k) = \\frac{n!}{k! \\cdot (n-k)!}$$"
      ]
    },
    {
      "cell_type": "markdown",
      "metadata": {
        "id": "UTTvyraG-oAy"
      },
      "source": [
        "**Dokaz** Podsetimo se da je broj permutacija bez ponavljanja $P(n, k)$ bio jednak $\\frac{n!}{(n-k)!}$. Tih $k$ odabranih elemenata je moguće odabrati u $P(k, k) = k!$ različitih redosleda. Kako sve te rasporede tretiramo kao iste prilikom brojanja kombinacija, broj $C(n, k)$ je $k!$ puta manji od $P(n, k)$. Dakle, ukupno imamo $\\frac{n!}{k! \\cdot (n-k)!}$ kombinacija"
      ]
    },
    {
      "cell_type": "markdown",
      "metadata": {
        "id": "SdODMO6A-oAy"
      },
      "source": [
        "Primetimo da svaka jedinstvena kombinacija $k$ elemenata iz skupa od $n$ elemenata predstavlja jedan podskup početnog skupa sa tačno $k$ elemenata. Skup svih podskupova skupa $A$ koji imaju $k$ elemenata označavamo sa $\\binom{A}{k}$"
      ]
    },
    {
      "cell_type": "markdown",
      "metadata": {
        "id": "lqKknf5N-oA0"
      },
      "source": [
        "Npr. za $A = \\{1, 2, 3, 4\\}$ imamo da je $\\binom{A}{2} = \\{\\{1, 2\\},\\{1, 3\\},\\{1, 4\\},\\{2, 3\\},\\{2, 4\\},\\{3, 4\\}\\}$"
      ]
    },
    {
      "cell_type": "markdown",
      "metadata": {
        "id": "zV_kdurH-oA1"
      },
      "source": [
        "Analogno uvodimo oznaku za broj elemenata ovog skupa kao $\\binom{n}{k}$, gde je $|A| = n$ i $k$ broj elemenata u svakom podskupu. Dakle, imamo da je $|\\binom{A}{k}| = \\binom{|A|}{k} = \\binom{n}{k}$. Pošto smo konstantovali da je broj $k$-kombinacija skupa jednak broj podskupova sa $k$ elemenata, sledi da je $C(n, k) = \\binom{n}{k} = \\frac{n!}{k! \\cdot (n-k)!}$"
      ]
    },
    {
      "cell_type": "markdown",
      "metadata": {
        "id": "k7QP1NEG-oA2"
      },
      "source": [
        "Izraz $\\binom{n}{k}$ se još naziva i **binomni koeficijent $n$ nad $k$**"
      ]
    },
    {
      "cell_type": "markdown",
      "metadata": {
        "id": "Sthkr6o_-oA3"
      },
      "source": [
        "**Teorema** Skup $A$, takav da je $|A|=n$, ima ukupno $2^{n}$ različitih podskupova"
      ]
    },
    {
      "cell_type": "markdown",
      "metadata": {
        "id": "6eoI-eWt-oA4"
      },
      "source": [
        "**Dokaz** Svaki element skupa $A$ može da pripada ili ne pripada jednom podskupu. Za svaki element možemo birati da li će pripadati ili ne jednom traženom podskupu. Kako za $n$ elemenata pravimo izbor između dve opcije, po principu proizvoda imamo ukupno $2^n$ različitih ishoda - što čini ukupan broj svih podskupova"
      ]
    },
    {
      "cell_type": "code",
      "execution_count": null,
      "metadata": {
        "id": "N552VvF0-oA4",
        "outputId": "d9b1313e-d70d-48bb-a147-720775596058"
      },
      "outputs": [
        {
          "name": "stdout",
          "output_type": "stream",
          "text": [
            "[1, 2]\n",
            "[1, 3]\n",
            "[1, 4]\n",
            "[1, 5]\n",
            "[2, 3]\n",
            "[2, 4]\n",
            "[2, 5]\n",
            "[3, 4]\n",
            "[3, 5]\n",
            "[4, 5]\n"
          ]
        }
      ],
      "source": [
        "#Funkcija za generisanje kombinacija proizvoljne dužine od zadatog skupa\n",
        "def generate_combinations(arr, length, current, lastindex):\n",
        "    if lastindex > len(arr):\n",
        "        pass\n",
        "    elif len(current) == min(len(arr), length):\n",
        "        print(current)\n",
        "    else:\n",
        "        for i in range(lastindex, len(arr)):\n",
        "            newcurrent = current.copy()\n",
        "            newcurrent.append(arr[i])\n",
        "            generate_combinations(arr, length, newcurrent, i + 1)\n",
        "\n",
        "def combine(arr, k):\n",
        "    generate_combinations(arr, k, [], 0)\n",
        "\n",
        "arr = [eval(i) for i in input(\"Unesite elemente skupa sa razmacima: \").split()]\n",
        "k = int(input(\"Unesite broj elemenata kombinacije: \"))\n",
        "combine(arr, k)"
      ]
    },
    {
      "cell_type": "markdown",
      "metadata": {
        "id": "QLhBjXyU-oA7"
      },
      "source": [
        "### Jedna osobina binomnih koeficijenata i njeni različiti dokazi"
      ]
    },
    {
      "cell_type": "markdown",
      "metadata": {
        "id": "35IsulQl-oA7"
      },
      "source": [
        "Sada ćemo prikazati jednu osobinu binomnih koeficijenata i na njoj demonstrirati različite tehnike dokazivanja, jednu koja nam je dosad poznata i drugu s kojom se dosad nismo sretali."
      ]
    },
    {
      "cell_type": "markdown",
      "metadata": {
        "id": "qSbLBlB5-oA8"
      },
      "source": [
        "**Teorema** $$\\sum_{k=0}^{n} \\binom{n}{k} = 2^{n}$$"
      ]
    },
    {
      "cell_type": "markdown",
      "metadata": {
        "id": "AAdXRkkoGcEz"
      },
      "source": [
        "Predstavićemo nacrt dokaza putem matematičke indukcije"
      ]
    },
    {
      "cell_type": "markdown",
      "metadata": {
        "id": "HrYkMDO9-oA8"
      },
      "source": [
        "**Dokaz 1** (*matematičkom indukcijom*)\n",
        "\n",
        "1. Bazni slučaj $n=1$ $$\\binom{1}{0} + \\binom{1}{1} = \\frac{1!}{0! \\cdot 1!} + \\frac{1!}{1! \\cdot 0!} = 1 + 1 = 2 = 2^{1}$$\n",
        "\n",
        "2. Induktivna hipoteza $n=m$ $$\\sum_{k=0}^{m} \\binom{m}{k} = 2^{m}$$\n",
        "\n",
        "3. Induktivni korak $n=m+1$ Za ovaj dokaz koristimo tvrđenje $\\binom{n+1}{k} = \\binom{n}{k} + \\binom{n-1}{k}$  $$\\sum_{k=0}^{m} \\binom{m+1}{k} = \\sum_{k=0}^{m} (\\binom{m}{k} + \\binom{m-1}{k}) = \\sum_{k=0}^{m} \\binom{m}{k} + \\sum_{k=0}^{m} \\binom{m-1}{k}=...$$\n"
      ]
    },
    {
      "cell_type": "markdown",
      "metadata": {
        "id": "ZxxTMYV0-oA9"
      },
      "source": [
        "Sada ćemo predstaviti drugi dokaz izveden od znanja iz kombinatorike, tzv. **kombinatorni dokaz**"
      ]
    },
    {
      "cell_type": "markdown",
      "metadata": {
        "id": "jlzy_5P_-oA9"
      },
      "source": [
        "**Dokaz 2** (*kombinatorni dokaz*)\n",
        "\n",
        "Primetimo da svaki binomni koeficijent u razvoju izraza $\\sum_{k=0}^{n} \\binom{n}{k}$ predstavlja broj podskupova sa $k$ elemenata, gde $k$ uzima sve vrednosti od $0$ do $n$, odnosno, izraz s leve strane je broj svih mogućih podskupova skupa sa $n$ elemenata - što smo već dokazali da ih za skup od $n$ elemenata ukupno ima $2^{n}$"
      ]
    },
    {
      "cell_type": "markdown",
      "metadata": {
        "id": "e_8scW5E-oA9"
      },
      "source": [
        "## Kombinacije sa ponavljanjem"
      ]
    },
    {
      "cell_type": "markdown",
      "metadata": {
        "id": "fD3pFo9f-oA-"
      },
      "source": [
        "**Definicija** $k$-kombinacija sa ponavljanjem predstavlja sve načine na koji možemo iz skupa od $n$ različitih elemenata odabrati $k$ elemenata, pri čemu redosled izbora elemenata nije bitan i jedan element možemo birati više puta."
      ]
    },
    {
      "cell_type": "markdown",
      "metadata": {
        "id": "nqSEzqgT-oA-"
      },
      "source": [
        "Kombinacije s ponavljanjem dobijamo tako što iz skupa biramo jedan element, zapisujemo ga u niz i vraćamo ga nazad u skup. Taj postupak ponavljamo više puta i posle željenog broja iteracija dobijeni niz elemenata sortiramo po nekom kriterijumu (npr. leksikografski poredak). Neki primeri kombinacija s ponavljanjem $6$ elemenata iz skupa $A=\\{a, b, c, d\\}$ su $aaabcd$, $abbccd$, $aaaaab$, $bcccdd$..."
      ]
    },
    {
      "cell_type": "markdown",
      "metadata": {
        "id": "fVCsPRc7-oA-"
      },
      "source": [
        "**Teorema** Broj $k$-kombinacija sa ponavljanjem je jednak sa $C(n+k-1, k) = \\binom{n+k-1}{k}$"
      ]
    },
    {
      "cell_type": "markdown",
      "metadata": {
        "id": "wRtzmKuIUuqJ"
      },
      "source": [
        "**Dokaz** Neka je\n",
        "$$\n",
        "\\binom{M}{m} = \\{M_1 : |M_1| = m \\land M_1 \\subseteq M\\}\n",
        "$$\n",
        "$$\n",
        "A = \\{(a_1, \\dots, a_{m+l-1}) \\in \\{0, 1\\}^{m+l-1} : \\{a_1, \\dots, a_{m+l-1}\\} = [0, 1]_{l-1, m}\\}\n",
        "$$\n",
        "Znači, $\\binom{M}{m}$ je skup svih $m$-tačlanih podmultiskupova od $M$, a $A$ je skup svih uređenih torki dužine $m + l - 1$ koje imaju tačno $m$ komponenti jednakih 1 i preostalih $l - 1$ komponenti jednakih 0.\n",
        "\n",
        "Definišimo preslikavanje\n",
        "$$\n",
        "\\varphi_{(b_1, \\dots, b_l)}: \\binom{M}{m} \\to A\n",
        "$$\n",
        "na sledeći način\n",
        "$$\n",
        "\\varphi_{(b_1, \\dots, b_l)}(M_1) = (c_1, \\dots, c_{m+l-1}),\n",
        "$$\n",
        "gde je $M_1 = [b_1, \\dots, b_l]_{m_1, \\dots, m_l}$ i za svako $i \\in \\{1, \\dots, l - 1\\}$\n",
        "$$\n",
        "c_{(i-1) + (m_i + 1)} = 0, \\quad c_{(i-1) + j} = 1, \\quad 0 < j \\leq m_i.\n",
        "$$\n",
        "\n",
        "Kako je $\\varphi_{(b_1, \\dots, b_l)}$ bijektivno preslikavanje,\n",
        "$$\n",
        "\\overline{C}(l; m) = \\left| \\binom{M}{m} \\right| = |A|.\n",
        "$$\n",
        "Broj načina da od $m + l - 1$ mesta izaberemo $m$ za 1 i preostalih $l - 1$ za 0 jednak je\n",
        "$$\n",
        "\\overline{P}(m, l - 1) = \\frac{(m + l - 1)!}{m! (l - 1)!}.\n",
        "$$\n"
      ]
    },
    {
      "cell_type": "code",
      "execution_count": null,
      "metadata": {
        "colab": {
          "base_uri": "https://localhost:8080/"
        },
        "id": "DpvuXws0-oA_",
        "outputId": "07363116-1c07-495a-f9c6-a802f4528486"
      },
      "outputs": [
        {
          "name": "stdout",
          "output_type": "stream",
          "text": [
            "Unesite elemente skupa sa razmacima: a a a b b b c c c\n",
            "Unesite broj elemenata kombinacije: 3\n",
            "['a', 'a', 'a']\n",
            "['a', 'a', 'b']\n",
            "['a', 'a', 'c']\n",
            "['a', 'b', 'b']\n",
            "['a', 'b', 'c']\n",
            "['a', 'c', 'c']\n",
            "['b', 'b', 'b']\n",
            "['b', 'b', 'c']\n",
            "['b', 'c', 'c']\n",
            "['c', 'c', 'c']\n"
          ]
        }
      ],
      "source": [
        "#Funkcija za generisanje kombinacija proizvoljne dužine od zadatog multiskupa\n",
        "def generate_combinations(arr, length, current, lastindex, repeated):\n",
        "    if lastindex > len(arr) or current in repeated:\n",
        "        pass\n",
        "    elif len(current) == min(len(arr), length):\n",
        "        print(current)\n",
        "        repeated.append(current)\n",
        "    else:\n",
        "        for i in range(lastindex, len(arr)):\n",
        "            newcurrent = current.copy()\n",
        "            newcurrent.append(arr[i])\n",
        "            generate_combinations(arr, length, newcurrent, i + 1, repeated)\n",
        "\n",
        "def combine(arr, k):\n",
        "    generate_combinations(arr, k, [], 0, [])\n",
        "\n",
        "arr = [str(i) for i in input(\"Unesite elemente skupa sa razmacima: \").split()]\n",
        "arr.sort()\n",
        "k = int(input(\"Unesite broj elemenata kombinacije: \"))\n",
        "combine(arr, k)"
      ]
    },
    {
      "cell_type": "markdown",
      "metadata": {
        "id": "bsO9tqMf-oBA"
      },
      "source": [
        "### Jedna interpretacija kombinacija sa ponavljanjem - crtice i zvezdice"
      ]
    },
    {
      "cell_type": "markdown",
      "metadata": {
        "id": "3jBT4nCF-oBA"
      },
      "source": [
        "Primetimo da nam je svaka kombinacija sa ponavljanjem precizno određena brojem puta koliko je svaki od datih $n$ elemenata izabran. Neka je $i$-ti element izabran $x_{i}$ puta, $1 \\leq i \\leq k$. Kako biramo ukupno $n$ elemenata, znamo da je zbir svih tih izbora jednak $n$, tj. $$\\sum_{i=1}^{n} x_{i} = x_{1} + x_{2} + ... + x_{k} = n$$"
      ]
    },
    {
      "cell_type": "markdown",
      "metadata": {
        "id": "aWjSb9Pa-oBB"
      },
      "source": [
        "Neka je, bez gubljenja opštosti $n=6$ i $k=4$. Imamo $$x_{1} +x_{2}+x_{3}+x_{4}=6$$"
      ]
    },
    {
      "cell_type": "markdown",
      "metadata": {
        "id": "eG4IqfMu-oBB"
      },
      "source": [
        "Posmatrajmo niz koji se sastoji od 6 zvezdica i 3 crtice $$******|||$$"
      ]
    },
    {
      "cell_type": "markdown",
      "metadata": {
        "id": "rFCxw1a_-oBC"
      },
      "source": [
        "Svaka permutacija ovih elemenata nam kodira jedno rešenje jednačine $x_{1} +x_{2}+x_{3}+x_{4}=6$, npr. $$**|***||* \\equiv 2+3+0+1=6$$"
      ]
    },
    {
      "cell_type": "markdown",
      "metadata": {
        "id": "rkh_zGqL-oBD"
      },
      "source": [
        "Ovih permutacija imamo, po formuli za permutacije s ponavljanjem, ukupno $\\frac{9!}{6!3!}=63$"
      ]
    },
    {
      "cell_type": "markdown",
      "metadata": {
        "id": "0JUHaE0n-oBE"
      },
      "source": [
        "U opštem slučaju, imaćemo $n$ zvezdica i $k-1$ crtica, gde će nam ukupan broj permutacija biti $$\\frac{(n+k-1)!}{n!(k-1)!}=\\binom{k+n-1}{n}$$ što je jednako broju kombinacija sa ponavljanjem $n$ elemenata iz skupa od $k$ elemenata."
      ]
    },
    {
      "cell_type": "markdown",
      "metadata": {
        "id": "tV2puXNXZlN7"
      },
      "source": [
        "### Rešavanje linearnih jednačina pomoću kombinacija multiskupa"
      ]
    },
    {
      "cell_type": "markdown",
      "metadata": {
        "id": "oLmTOdJ0ZxgF"
      },
      "source": [
        "**Problem**: Koliko rešenja ima jednačina $$x_1 + x_2 + \\dots + x_k = n,$$ gde su $x_1, x_2, \\dots, x_k$ nenegativni celi brojevi?"
      ]
    },
    {
      "cell_type": "markdown",
      "metadata": {
        "id": "vyLRJ99yaUcI"
      },
      "source": [
        "**Rešenje**:  Posmatrajmo skup $X = \\{1, 2, \\dots, k\\}$. Ako pretpostavimo da, za $1 \\leq i \\leq k$, broj $x_i$ označava koliko je puta izabran element $i$ iz skupa $X$, tada svako rešenje $(x_1, x_2, \\dots, x_k)$ gornje jednačine odgovara tačno jednom neuređenom izboru $n$ elemenata sa ponavljanjem iz skupa sa $k$ elemenata.  \n",
        "\n",
        "Takođe važi i obratno: svaki neuređeni izbor $n$ elemenata sa ponavljanjem iz skupa sa $k$ elemenata određuje tačno jedno rešenje $(x_1, x_2, \\dots, x_k)$ gornje jednačine.  \n",
        "\n",
        "Stoga, broj rešenja jednačine je jednak broju ovakvih neuređenih izbora, a to je:  $$\\binom{k + n - 1}{n}.$$\n"
      ]
    },
    {
      "cell_type": "markdown",
      "metadata": {
        "id": "WWL3e3brb4sH"
      },
      "source": [
        "Napomena: Na osnovu jedne od osobina binomnih koeficijenata (osobina simetričnosti), broj rešenja prethodne jednačine može se predstaviti i na sledeći način: $\\binom{k + n - 1}{k - 1}$."
      ]
    },
    {
      "cell_type": "markdown",
      "metadata": {
        "id": "jPZHKwp6r9cN"
      },
      "source": [
        "### Određivanje broja monotono neopadajućih konačnih nizova brojeva"
      ]
    },
    {
      "cell_type": "markdown",
      "metadata": {
        "id": "BC5baU4FtJOB"
      },
      "source": [
        "**Teorema**\n",
        "Broj monotono neopadajućih nizova dužine $n$ sa vrednostima iz skupa $\\{1, 2, \\dots, k\\}$ je dat formulom: $$\\binom{k + n - 1}{n}$$"
      ]
    },
    {
      "cell_type": "markdown",
      "metadata": {
        "id": "ZCtJLG3jtVhn"
      },
      "source": [
        "**Dokaz**\n",
        "Monotono neopadajući nizovi su nizovi $x_1 \\leq x_2 \\leq \\dots \\leq x_n$, gde su elementi iz skupa $\\{1, 2, \\dots, k\\}$. Ovaj problem možemo posmatrati kao sortiranje permutacija, gde se sve permutacije sa istim elementima sortiraju u jedan fiksni redosled ili ga možemo preformulisati kao raspodelu $n$ objekata u $k$ kutija, što odgovara rešenju jednačine: $$x_1 + x_2 + \\dots + x_k = n, \\quad x_i \\geq 0$$\n",
        "\n",
        "Broj takvih raspodela je jednak broju načina da postavimo $k - 1$ razdvajajućih linija između $n$ objekata tj. broju kombinacija sa ponavljanjem, što je binomni koeficijent: $$\\binom{k + n - 1}{n}$$\n",
        "\n",
        "Ovo je broj monotono neopadajućih nizova, što završava dokaz."
      ]
    }
  ],
  "metadata": {
    "colab": {
      "provenance": []
    },
    "kernelspec": {
      "display_name": "Python 3",
      "language": "python",
      "name": "python3"
    },
    "language_info": {
      "codemirror_mode": {
        "name": "ipython",
        "version": 3
      },
      "file_extension": ".py",
      "mimetype": "text/x-python",
      "name": "python",
      "nbconvert_exporter": "python",
      "pygments_lexer": "ipython3",
      "version": "3.10.0"
    }
  },
  "nbformat": 4,
  "nbformat_minor": 0
}
