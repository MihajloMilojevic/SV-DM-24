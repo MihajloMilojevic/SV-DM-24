{
  "cells": [
    {
      "cell_type": "markdown",
      "metadata": {
        "id": "exMBylYwKGr2"
      },
      "source": [
        "# Ponavljanje"
      ]
    },
    {
      "cell_type": "markdown",
      "metadata": {
        "id": "VFjTY1V8oZ4-"
      },
      "source": [
        "\n",
        "\n",
        "Veliki deo diskretne matematike je posvećen proučavanju diskretnih struktura, koje se koriste za predstavljanje diskretnih objekata. Mnoge važne diskretne strukture se grade korišćenjem skupova, koji su kolekcije objekata. Među diskretnim strukturama izgrađenim od skupova su kombinacije, neuređene kolekcije objekata koji se ekstenzivno koriste u brojanju; relacije, skupovi uređenih parova koji predstavljaju odnose između objekata; grafovi, skupovi temena i ivica koje ih povezuju, itd.\n"
      ]
    },
    {
      "cell_type": "markdown",
      "metadata": {
        "id": "zN37ogSXtj4E"
      },
      "source": [
        "Relativne veličine beskonačnih skupova mogu se proučavati uvođenjem pojma veličine, ili kardinalnosti, skupa. Kažemo da je skup prebrojiv kada je konačan ili ima istu veličinu kao skup pozitivnih celih brojeva.\n"
      ]
    },
    {
      "cell_type": "markdown",
      "metadata": {
        "id": "OH1bdGfGtlUG"
      },
      "source": [
        "\n",
        "Skupovi se koriste za grupisanje objekata zajedno. Često, ali ne uvek, objekti u skupu imaju slična svojstva. Jezik skupova je sredstvo za proučavanje takvih kolekcija na organizovan način."
      ]
    },
    {
      "cell_type": "markdown",
      "metadata": {
        "id": "IpIMCFg2KKRq"
      },
      "source": [
        "## Skup"
      ]
    },
    {
      "cell_type": "markdown",
      "metadata": {
        "id": "88iKUNxiuH1H"
      },
      "source": [
        "\n",
        "\n",
        "**Definicija**: Skup je neuređena kolekcija objekata, koji se nazivaju elementi ili članovi skupa. Za skup se kaže da sadrži svoje elemente. Pišemo $a ∈ A$ da bismo označili da je a element skupa $A$."
      ]
    },
    {
      "cell_type": "markdown",
      "metadata": {
        "id": "gOsyH1I719jI"
      },
      "source": [
        "Skup $A$ je podskup $B$ ako i samo ako je svaki element $A$ takođe element $B$. Koristimo notaciju $A \\subseteq B$ da označimo da je $A$ podskup skupa $B$.\n"
      ]
    },
    {
      "cell_type": "markdown",
      "metadata": {
        "id": "F1-znh622CVq"
      },
      "source": [
        "Za svaki neprazan skup $S$ garantovano da ima najmanje dva podskupa, prazan skup i sam skup $S$, odnosno  $∅ \\subseteq S$ i $S \\subseteq S$."
      ]
    },
    {
      "cell_type": "markdown",
      "metadata": {
        "id": "eogrYHF52EvY"
      },
      "source": [
        "Neka je $S$ skup. Ako postoji tačno $n$ različitih elemenata u $S$ gde je $n$ nenegativan ceo broj, kažemo da je $S$ konačan prebrojiv skup i da je $n$ kardinalnost $S$. Kardinalnost $S$ je označena sa $|S|$."
      ]
    },
    {
      "cell_type": "markdown",
      "metadata": {
        "id": "ouRQ3IeWKR4P"
      },
      "source": [
        "## Multiskup"
      ]
    },
    {
      "cell_type": "markdown",
      "metadata": {
        "id": "ur1P43YYtG2K"
      },
      "source": [
        "\n",
        "Multiskup u diskretnoj matematici je skup u kojem su elementi dozvoljeni da se pojavljuju više puta. Za razliku od običnog skupa, gde se svaki element pojavljuje tačno jednom, u multiskupu se može brojati koliko puta se neki element pojavljuje, što se naziva multiplicitet tog elementa.\n"
      ]
    },
    {
      "cell_type": "markdown",
      "metadata": {
        "id": "_0C-i5fTtfTC"
      },
      "source": [
        "U multiskupovima se operacije poput unije i preseka definišu drugačije, jer moraju da uzmu u obzir koliko puta se elementi pojavljuju. Na primer, unija multiskupova uzima najveći broj pojavljivanja svakog elementa, dok presek uzima najmanji broj pojavljivanja.\n"
      ]
    },
    {
      "cell_type": "markdown",
      "metadata": {
        "id": "JijCNnxxtg4a"
      },
      "source": [
        "\n",
        "Multiskupovi se koriste u situacijama kada je važno ne samo prisustvo elementa, već i broj njegovih pojavljivanja, kao što su kombinatorika, analiza podataka i druge oblasti diskretne matematike."
      ]
    },
    {
      "cell_type": "code",
      "execution_count": 2,
      "metadata": {
        "colab": {
          "base_uri": "https://localhost:8080/"
        },
        "id": "_Q3jcC_OSTYn",
        "outputId": "1f07bbc5-ecd0-4fb7-9338-028689c70e05"
      },
      "outputs": [
        {
          "name": "stdout",
          "output_type": "stream",
          "text": [
            "{'a': 2, 'b': 1}\n"
          ]
        }
      ],
      "source": [
        "#Implementacija multiskupa pomoću mape, gde je ključ element, a vrednost broj pojavljivanja u multiskupu\n",
        "class Multiskup():\n",
        "  def __init__(self):\n",
        "    self.elementi = {}\n",
        "  def add(self, newelem):\n",
        "    if newelem in self.elementi:\n",
        "      self.elementi[newelem] += 1\n",
        "    else:\n",
        "      self.elementi[newelem] = 1\n",
        "  def __str__(self):\n",
        "    return str(self.elementi)\n",
        "\n",
        "ms = Multiskup()\n",
        "ms.add('a')\n",
        "ms.add('b')\n",
        "ms.add('a')\n",
        "print(ms)"
      ]
    },
    {
      "cell_type": "markdown",
      "metadata": {
        "id": "WW8xCHRPKUhz"
      },
      "source": [
        "## Uređena $n$-torka"
      ]
    },
    {
      "cell_type": "markdown",
      "metadata": {
        "id": "VnHNanaw2IdX"
      },
      "source": [
        "\n",
        "\n",
        "Redosled elemenata u kolekciji je često važan. Pošto skupovi nisu uređeni, potrebna je drugačija struktura za predstavljanje uređenih kolekcija. Ovo je obezbeđeno uređenim $n$-torkama."
      ]
    },
    {
      "cell_type": "markdown",
      "metadata": {
        "id": "lgOY8G142NsU"
      },
      "source": [
        "Uređena $n$-torka $(a_1, a_2, \\ldots, a_n)$ je uređena kolekcija koja ima $a_1$ kao prvi element, $a_2$ kao drugi element, $\\ldots$, i $a_n$ kao $n$-ti element.\n"
      ]
    },
    {
      "cell_type": "markdown",
      "metadata": {
        "id": "WhPpGXDj2QSg"
      },
      "source": [
        "Uređene dvojke se nazivaju uređeni parovi."
      ]
    },
    {
      "cell_type": "markdown",
      "metadata": {
        "id": "kAIqmXwD2Umi"
      },
      "source": [
        "## Operacije nad skupovima\n",
        "\n"
      ]
    },
    {
      "cell_type": "markdown",
      "metadata": {
        "id": "KP4Rj7X7KZe1"
      },
      "source": [
        "### Unija skupova"
      ]
    },
    {
      "cell_type": "markdown",
      "metadata": {
        "id": "9nM4Z8hj2bgA"
      },
      "source": [
        "\n",
        "Neka su $A$ i $B$ skupovi. Unija skupova $A$ i $B$, označena sa A∪B, je skup koji sadrži one elemente koji su ili u $A$ ili u $B$, ili u oba. Element $k$ pripada uniji skupova $A$ i $B$ ako i samo ako $k$ pripada $A$ ili $k$ pripada $B$. Ovo nam govori da je $$A\\cup B =\\{k |k \\in A \\lor k \\in B\\}.$$"
      ]
    },
    {
      "cell_type": "markdown",
      "metadata": {
        "id": "uqvJKcEs2f5W"
      },
      "source": [
        "Često smo zainteresovani za pronalaženje kardinalnosti unije dva konačna skupa $A$ i $B$. Primetimo da $|A| + |B|$ broji svaki element koji je u $A$, ali nije u $B$ ili u $B$, ali ne i u $A$ tačno jednom, i svaki element koji je u $A$ i $B$ tačno dva puta. Dakle, ako se broj elemenata koji se nalaze u $A$ i $B$ oduzme od $|A| + |B|$, elementi u $A \\cap B$ će se brojati samo jednom. Dakle,\n",
        "$$\n",
        "|A \\cup B| = |A| + |B| - |A \\cap B|.\n",
        "$$\n",
        "\n"
      ]
    },
    {
      "cell_type": "markdown",
      "metadata": {
        "id": "5BPt700W2lsF"
      },
      "source": [
        "Generalizacija ovog rezultata na unije proizvoljnog broja skupova naziva se princip uključenja–isključenja."
      ]
    },
    {
      "cell_type": "markdown",
      "metadata": {
        "id": "T_98-nxN2pLg"
      },
      "source": [
        "Unija kolekcije skupova je skup koji sadrži one elemente koji su članovi najmanje jednog skupa u kolekciji."
      ]
    },
    {
      "cell_type": "markdown",
      "metadata": {
        "id": "EL8vhMEo2q5C"
      },
      "source": [
        "Koristimo notaciju $A_1 \\cup A_2 \\cup \\cdots \\cup A_n$ da označimo uniju skupova $A_1, A_2, \\ldots, A_n$.\n"
      ]
    },
    {
      "cell_type": "markdown",
      "metadata": {
        "id": "4HBFoDPJKdvE"
      },
      "source": [
        "### Presek"
      ]
    },
    {
      "cell_type": "markdown",
      "metadata": {
        "id": "4ZhlWSFO2sOG"
      },
      "source": [
        "\n",
        "Neka su $A$ i $B$ skupovi. Presek skupova $A$ i $B$, označen sa $A \\cap B$, je skup koji sadrži te elemente u $A$ i $B$."
      ]
    },
    {
      "cell_type": "markdown",
      "metadata": {
        "id": "pUE5q-UG2xh2"
      },
      "source": [
        "Element $k$ pripada preseku skupova $A$ i $B$ ako i samo ako $k$ pripada $A$ i $k$ pripada $B$. Ovo nam govori da\n",
        " $$A\\cap B =\\{k |k \\in A \\land k \\in B\\}.$$\n"
      ]
    },
    {
      "cell_type": "markdown",
      "metadata": {
        "id": "EJbF746y20Xh"
      },
      "source": [
        "Presek kolekcije skupova je skup koji sadrži one elemente koji su članovi svih skupova u kolekciji."
      ]
    },
    {
      "cell_type": "markdown",
      "metadata": {
        "id": "EKD2PcOE22tV"
      },
      "source": [
        "Koristimo oznaku $A_1 \\cap A_2 \\cap \\cdots \\cap A_n$ da označimo presek skupova $A_1, A_2, \\ldots, A_n$.\n"
      ]
    },
    {
      "cell_type": "code",
      "execution_count": 3,
      "metadata": {
        "colab": {
          "base_uri": "https://localhost:8080/"
        },
        "id": "6cUV9knxUQ62",
        "outputId": "1c698d94-c872-4c44-8d02-c77f70d8aab9"
      },
      "outputs": [
        {
          "name": "stdout",
          "output_type": "stream",
          "text": [
            "{1, 2, 3, 4, 5}\n",
            "{3}\n"
          ]
        }
      ],
      "source": [
        "#Python ima ugrađenu strukturu podataka skupa, koja podržava operacije preseka i unije\n",
        "A = set([1, 2, 3])\n",
        "B = set([3, 4, 5])\n",
        "print(A.union(B))\n",
        "print(A.intersection(B))"
      ]
    },
    {
      "cell_type": "markdown",
      "metadata": {
        "id": "ibTb6KgYKlmL"
      },
      "source": [
        "### Dekartov proizvod"
      ]
    },
    {
      "cell_type": "markdown",
      "metadata": {
        "id": "8-1R09QN246W"
      },
      "source": [
        "\n",
        "\n",
        "Neka su $A$ i $B$ skupovi. Dekartov proizvod $A$ i $B$, označen sa $A \\times B$, je skup svih uređenih parova $(a, b)$, gde je $a \\in A$ i $b \\in B$. Dakle,\n",
        "$$\n",
        "A \\times B = \\{ (a, b) \\ | \\ a \\in A \\land b \\in B \\}.\n",
        "$$\n"
      ]
    },
    {
      "cell_type": "markdown",
      "metadata": {
        "id": "8QsSoB3YJq_w"
      },
      "source": [
        "Dekartov proizvod skupova $A_1, A_2, \\ldots, A_n$, označen kao $A_1 \\times A_2 \\times \\cdots \\times A_n$, je skup uređenih $n$-torki $(a_1, a_2, \\ldots, a_n)$, gde $a_i$ pripada skupu $A_i$ za $i = 1, 2, \\ldots, n$. Drugim rečima,\n",
        "\n",
        "$$A_1 \\times A_2 \\times \\cdots \\times A_n = \\{(a_1, a_2, \\ldots, a_n) \\mid a_i \\in A_i \\text{ za } i = 1, 2, \\ldots, n\\}.$$\n"
      ]
    },
    {
      "cell_type": "markdown",
      "metadata": {
        "id": "0W9p3DF6KoMl"
      },
      "source": [
        "## Osobine operacija nad skupovima"
      ]
    },
    {
      "cell_type": "markdown",
      "metadata": {
        "id": "p9bsw2Qk2-sQ"
      },
      "source": [
        "\n",
        "\n",
        "Asocijativnost i komutativnost su osnovna svojstva binarnih operacija nad skupovima (ili multiskupovima), a odnose se na način na koji možemo grupisati ili permutovati elemente prilikom izvođenja operacija poput unije i preseka."
      ]
    },
    {
      "cell_type": "markdown",
      "metadata": {
        "id": "y8BXUasRKrE9"
      },
      "source": [
        "### Asocijativnost"
      ]
    },
    {
      "cell_type": "markdown",
      "metadata": {
        "id": "YzsnhSuU3JE7"
      },
      "source": [
        "\n",
        "Operacija je asocijativna ako redosled u kojem grupišemo elemente ne menja rezultat operacije. Drugim rečima, operacija zadovoljava asocijativnost ako za sve skupove $A$, $B$, i $C$ važi:\n",
        "$$(A * B) * C = A * (B * C)$$\n",
        "gde je $*$ neka binarna operacija (npr. unija ili presek).\n",
        "\n"
      ]
    },
    {
      "cell_type": "markdown",
      "metadata": {
        "id": "cn_sbpANKtdy"
      },
      "source": [
        "### Komutativnost"
      ]
    },
    {
      "cell_type": "markdown",
      "metadata": {
        "id": "Fht4QgMO3Mpw"
      },
      "source": [
        "\n",
        "\n",
        "Operacija je komutativna ako je rezultat isti bez obzira na redosled u kojem primenjujemo operaciju na skupove. Drugim rečima, operacija zadovoljava komutativnost ako za sve skupove $A$ i $B$ važi:\n",
        "$$\n",
        "A * B = B * A\n",
        "$$\n",
        "gde je $*$ neka binarna operacija (npr. unija ili presek).\n",
        "\n"
      ]
    },
    {
      "cell_type": "markdown",
      "metadata": {
        "id": "VFgQzOXVKv0c"
      },
      "source": [
        "## Relacije"
      ]
    },
    {
      "cell_type": "markdown",
      "metadata": {
        "id": "-LZIHau73TUG"
      },
      "source": [
        "\n",
        "\n",
        "Podskup $R$ Dekartovog proizvoda $A \\times B$ naziva se relacija iz skupa $A$ prema skupu $B$. Elementi $R$ su uređeni parovi, gde prvi element pripada $A$, a drugi $B$. Relacija iz skupa $A$ prema sebi naziva se relacija na $A$. Koristimo notaciju $a ρ b$ da kažemo da je $(a, b) \\in R$.\n"
      ]
    },
    {
      "cell_type": "markdown",
      "metadata": {
        "id": "ieHMfi8a5evK"
      },
      "source": [
        "Relacija $R$ na skupu $A$ naziva se refleksivna ako $(a, a) \\in R$ za svaki element $a \\in A$.\n",
        "\n",
        "Relacija $R$ na skupu $A$ naziva se simetrična ako $(b, a) \\in R$ kad god je $(a, b) \\in R$, za sve $a, b \\in A$.\n",
        "\n",
        "Relacija $R$ na skupu $A$ takva da za sve $a, b \\in A$, ako $(a, b) \\in R$ i $(b, a) \\in R$, onda se $a = b$ naziva antisimetrična.\n",
        "\n",
        "Relacija $R$ na skupu $A$ naziva se tranzitivna ako kad god $(a, b) \\in R$ i $(b, c) \\in R$, onda $(a, c) \\in R$, za sve $a, b, c \\in A$.\n",
        "\n"
      ]
    },
    {
      "cell_type": "markdown",
      "metadata": {
        "id": "AIze4hGoKyMq"
      },
      "source": [
        "## Funkcija"
      ]
    },
    {
      "cell_type": "markdown",
      "metadata": {
        "id": "LWYUgzTa5hPd"
      },
      "source": [
        "\n",
        "\n",
        "Koncept funkcije je izuzetno važan u diskretnoj matematici. Funkcija svakom elementu prvog skupa dodeljuje tačno jedan element drugog skupa, pri čemu ta dva skupa nisu nužno različita. Funkcije igraju važnu ulogu u diskretnoj matematici. Koriste se za predstavljanje računske složenosti algoritama, za proučavanje veličine skupova, za brojanje objekata…"
      ]
    },
    {
      "cell_type": "markdown",
      "metadata": {
        "id": "lYFF3Bqo5kI8"
      },
      "source": [
        "Neka su $A$ i $B$ neprazni skupovi. Funkcija $f$ od $A$ do $B$ je dodeljivanje tačno jednog elementa iz $B$ svakom elementu iz $A$. Pišemo $f(a) = b$ ako je $b$ jedinstveni element iz $B$ koji funkcija $f$ dodeljuje elementu $a$ iz $A$. Ako je $f$ funkcija iz $A$ u $B$, pišemo $f : A \\to B$.\n",
        "Funkcije se ponekad nazivaju i preslikavanja ili transformacije.\n"
      ]
    },
    {
      "cell_type": "markdown",
      "metadata": {
        "id": "IbMs_4xY5mzj"
      },
      "source": [
        "Funkcija $f : A \\to B$ se takođe može definisati u smislu relacije iz $A$ u $B$. Relacija iz $A$ u $B$ je samo podskup od $A \\times B$.\n",
        "Relacija iz $A$ u $B$ koja sadrži jedan, i samo jedan, uređeni par $(a,b)$ za svaki element $a \\in A$, definiše funkciju $f$ iz $A$ u $B$. Ova funkcija je definisana dodeljivanjem $f(a) = b$, gde je $(a, b)$ jedinstveni uređeni par u relaciji koja kao prvi element ima $a$.\n",
        "Ako je $f$ funkcija iz $A$ u $B$, kažemo da je $A$ domen od $f$ i da je $B$ kodomen od $f$.\n",
        "Ako je $f(a) = b$, kažemo da je $b$ slika od $a$. Opseg ili slika $f$ je skup svih slika elemenata $A$. Takođe, ako je $f$ funkcija iz $A$ u $B$, kažemo da $f$ preslikava $A$ u $B$.\n"
      ]
    },
    {
      "cell_type": "markdown",
      "metadata": {
        "id": "OB0iZ0D2K0u5"
      },
      "source": [
        "### Binarna operacija skupa"
      ]
    },
    {
      "cell_type": "markdown",
      "metadata": {
        "id": "IVZby0sN5s6Q"
      },
      "source": [
        "\n",
        "Binarna operacija skupa je funkcija koja preslikava uređen par elemenata skupa $A$ u neki element tog skupa, tj. $f: A \\times A \\to A$.\n"
      ]
    },
    {
      "cell_type": "markdown",
      "metadata": {
        "id": "hsvJWAjEK3GK"
      },
      "source": [
        "### Injektivnost"
      ]
    },
    {
      "cell_type": "markdown",
      "metadata": {
        "id": "JoZ_UWC65yhU"
      },
      "source": [
        "\n",
        "Za funkciju $f$ se kaže da je **jedan-na-jedan**, ili da je injekcija, ako i samo ako $f(a) = f(b)$ implicira da je $a = b$ za sve $a$ i $b$ u domenu $f$. Za funkciju se kaže da je injektivna ako je **jedan-na-jedan**.\n"
      ]
    },
    {
      "cell_type": "markdown",
      "metadata": {
        "id": "ZvbuZ2brK5HI"
      },
      "source": [
        "### Sirjektivnost"
      ]
    },
    {
      "cell_type": "markdown",
      "metadata": {
        "id": "ZeJPh1PM55VE"
      },
      "source": [
        "\n",
        "Funkcija $f$ od $A$ do $B$ se naziva sirjekcija ako i samo ako za svaki element $b \\in B$ postoji element $a \\in A$ sa $f(a) = b$. Funkcija $f$ se zove sirjektivna ako je **na**.\n"
      ]
    },
    {
      "cell_type": "markdown",
      "metadata": {
        "id": "iKwFFWEjK7uN"
      },
      "source": [
        "### Bijekcija"
      ]
    },
    {
      "cell_type": "markdown",
      "metadata": {
        "id": "p8C9J7e95_Ok"
      },
      "source": [
        "\n",
        "\n",
        "Funkcija je **bijektivna**, ako je i **jedan-na-jedan** i **na**."
      ]
    },
    {
      "cell_type": "markdown",
      "metadata": {
        "id": "bIdmX2keK-ti"
      },
      "source": [
        "## Matematička indukcija"
      ]
    },
    {
      "cell_type": "markdown",
      "metadata": {
        "id": "XlgW_byg6EI2"
      },
      "source": [
        "\n",
        "Matematička indukcija jedan je od najčešćih načina dokazivanja matematičkih tvrđenja u matematici, a sam princip možemo opisati na sledeći način."
      ]
    },
    {
      "cell_type": "markdown",
      "metadata": {
        "id": "h2PibT_n6KyE"
      },
      "source": [
        "Neka je $S(n)$ neko tvrdjenje koje zavisi od prirodnog broja $n$. Ispravnost ovog tvrđenja dokazujemo pomoću principa matematičke indukcije, koji se sastoji u sledećem:\n",
        "\n",
        "i) **Baza indukcije:** dokazati da je $S(1)$ tačno;\n",
        "\n",
        "ii) **Induktivni korak:** dokazati da važi “ako je $S(n)$ tačno, tada je i $S(n + 1)$ tačno”. Pritom, dokaz mora da važi za proizvoljan prirodan broj $n$.\n",
        "\n"
      ]
    },
    {
      "cell_type": "markdown",
      "metadata": {
        "id": "wEr28Z6VLA-O"
      },
      "source": [
        "### Princip jake indukcije"
      ]
    },
    {
      "cell_type": "markdown",
      "metadata": {
        "id": "OwtNb6ow6OEI"
      },
      "source": [
        "\n",
        "\n",
        "U nekim slučajevima za dokaz tačnosti tvrđenja $S(n+1)$ u induktivnom koraku jednostavnije je zameniti pretpostavku da je $S(n)$ tačno tvrđenje pomoću jače pretpostavke da su sva prethodna tvrđenja $S(1)$, $S(2)$, ..., $S(n)$ tačna. Ovakav modifikovani princip se naziva princip jake indukcije, a koristi se na sledeći način:\n",
        "\n",
        "i) Dokazati da je $S(1)$ tačno tvrđenje;\n",
        "\n",
        "ii) Dokazati da važi “ako su sva tvrđenja $S(1)$, $S(2)$, ..., $S(n)$ tačna, tada je i $S(n+1)$ tačno tvrđenje”.\n"
      ]
    },
    {
      "cell_type": "markdown",
      "metadata": {
        "id": "Fgr4jEcb6SuE"
      },
      "source": [
        "Lako je videti da i ovaj princip garantuje tačnost tvrđenja $S(n)$ za svaki prirodan broj $n$. Staviše, postoji još mnogo drugih varijanti indukcije koje se sve sastoje iz baze indukcije i induktivnog koraka. Njihova glavna odlika je da induktivni korak generiše beskonačan niz implikacija koje služe da se dođe do tvrđenja $S(n)$ za proizvoljan prirodan broj $n$, a baza indukcije služi da pokaže tačnost uslova u prvoj implikaciji takvog beskonačnog niza.\n"
      ]
    },
    {
      "cell_type": "markdown",
      "metadata": {
        "id": "6jZYCho3pbJB"
      },
      "source": [
        "### Primeri:\n",
        "\n",
        "1.   Koncept tipa podataka u računarstvu izgrađen je na konceptu skupa. Konkretno, tip podatka je ime skupa, zajedno sa skupom operacija koje se mogu izvršiti nad objektima iz tog skupa. Na primer, boolean je ime skupa $\\{0,1\\}$ zajedno sa operatorima na jednom ili više elemenata ovog skupa, kao što su **AND**, **OR** i **NOT**.\n",
        "2.   Skup sa jednim elementom naziva se singlton skup. Jedini element skupa $\\{∅\\}$ je sam prazan skup! Korisna analogija za pamćenje ove razlike je razmišljanje o fasciklama u sistemu datoteka računara. Prazan skup se može smatrati praznom fasciklom, a skup koji se sastoji samo od praznog skupa može se smatrati fasciklom sa tačno jednim folderom unutar, naime, praznim folderom.\n",
        "3. Obični skup $\\{1, 2, 3\\}$ sadrži elemente 1, 2 i 3, svaki samo jednom.\n",
        "Međutim, multiskup može biti nešto poput $\\{1, 1, 2, 3, 3, 3\\}$, gde:\n",
        "> * Element 1 ima multiplicitet 2 (pojavljuje se dva puta),\n",
        "> * Element 2 ima multiplicitet 1,\n",
        "> * Element 3 ima multiplicitet 3.\n",
        "\n",
        "\n",
        "\n"
      ]
    },
    {
      "cell_type": "markdown",
      "metadata": {
        "id": "7mb4lVjvmzG_"
      },
      "source": [
        "# Prebrojavanje"
      ]
    },
    {
      "cell_type": "markdown",
      "metadata": {
        "id": "QhQipku1mzHF"
      },
      "source": [
        "## Definicija nabrajanja i prebrojavanja. Kardinalnost skupa."
      ]
    },
    {
      "cell_type": "markdown",
      "metadata": {
        "id": "D07tSZPDyk3b"
      },
      "source": [
        "**Definicija 2.1** Neka je dat skup $A=\\{a_{1},a_{2}, a_{3} ... a_{n}\\}$, gde su $a_{i}, 1 \\leq i \\leq n$ elementi skupa $A$.\n",
        "Nabrajanje predstavlja navođenje svih $a_{i}$."
      ]
    },
    {
      "cell_type": "markdown",
      "metadata": {
        "id": "YuL2RAqumzHG"
      },
      "source": [
        "**Definicija 2.2** Skup $A$ ima $n$ elemenata ukoliko postoji bijekcija $f:A \\rightarrow \\{1, 2, 3...  n\\}$."
      ]
    },
    {
      "cell_type": "markdown",
      "metadata": {
        "id": "MdaW3lhmmzHH"
      },
      "source": [
        "Broj elemenata skupa naziva se kardinalnost skupa i obeležava se sa $|A|$.\n",
        "Za skup iz prethodne definicije važi $|A|=n$."
      ]
    },
    {
      "cell_type": "markdown",
      "metadata": {
        "id": "XHhQMs0oywE8"
      },
      "source": [
        "Za prazan skup posebno usvajamo da je kardinalnost nula, tj. $|∅|=0$."
      ]
    },
    {
      "cell_type": "markdown",
      "metadata": {
        "id": "1USQm5RPyyCF"
      },
      "source": [
        "**Teorema 2.1** Ako između dva konačna skupa $A$ i $B$ postoji bijekcija, tada je $|A|=|B|$."
      ]
    },
    {
      "cell_type": "markdown",
      "metadata": {
        "id": "dXyqNA2YzGn6"
      },
      "source": [
        "**Dokaz** Neka je $|A| = n$ i $|B| = m$. Onda postoji bijekcija $f: A \\rightarrow \\{1, 2, 3... n\\}$ i $g: B \\rightarrow \\{1, 2, 3... m\\}$. Po pretpostavci, postoji\n",
        "i bijekcija $h: A \\rightarrow B$. Tada je funkcija $g \\circ h \\circ f^{-1}$ bijekcija iz skupa $\\{1, 2, 3... n\\} \\rightarrow \\{1, 2, 3...m\\}$, a ona postoji samo\n",
        "ako je $m=n$ (u suprotnom bi postojao element u koji se ne slika nijedan element ili više elemenata koji se slika u isti, što je kontradikcija sa tvrdnjom da je kompozicija bijekcija).\n"
      ]
    },
    {
      "cell_type": "markdown",
      "metadata": {
        "id": "fzjhWJbLmzHI"
      },
      "source": [
        "## Neke metode prebrojavanja"
      ]
    },
    {
      "cell_type": "markdown",
      "metadata": {
        "id": "Zw3haa6ZmzHJ"
      },
      "source": [
        "Čest problem u matematici je prebrojavanje elemenata nekog skupa. Pokažimo neke metode koje nam mogu pomoći u tome."
      ]
    },
    {
      "cell_type": "markdown",
      "metadata": {
        "id": "LedjL-rBmzHJ"
      },
      "source": [
        "**Teorema 2.2** *(Princip zbira)* Ako su $A$ i $B$ disjunktni skupovi, važi $|A \\cup B| = |A|+|B|$."
      ]
    },
    {
      "cell_type": "markdown",
      "metadata": {
        "id": "b4-G-yuWmzHK"
      },
      "source": [
        "**Dokaz:** Neka su $A=\\{a_{1}, a_{2}, a_{3}... a_{n}\\}$ i $B\\{b_{1}, b_{2}, b_{3}... b_{m}\\}$. Pošto su $A$ i $B$ disjunktni, možemo konstruisati skup $C=\\{c_{1}, c_{2}, c_{3}... c_{n}, c_{n+1}, c_{n+2}... c_{n+m}\\}$, takav da važi da je $c_{i} = a_{i}, 0 < i \\leq 0 n$ i $c_{n+i} = b_{i}, 0 < i \\leq m$, iz čega očigledno sledi tvrđenje."
      ]
    },
    {
      "cell_type": "markdown",
      "metadata": {
        "id": "gJI6Mz7XmzHK"
      },
      "source": [
        "Na osnovu matematičke indukcije sledi $|A_{1} + A_{2} + A_{3} + ... + A_{n}| = |A_{1}| + |A_{2}| + |A_{3}| + ... + |A_{n}|$."
      ]
    },
    {
      "cell_type": "code",
      "execution_count": null,
      "metadata": {
        "colab": {
          "base_uri": "https://localhost:8080/"
        },
        "id": "ZenGHvFkmzHL",
        "outputId": "4d230645-baec-48c3-a729-f1cc7e1c4f15"
      },
      "outputs": [
        {
          "name": "stdout",
          "output_type": "stream",
          "text": [
            "True\n",
            "False\n"
          ]
        }
      ],
      "source": [
        "#Funkcija koji proverava za dva skupa da li su disjunktni\n",
        "def disjoint(a, b):\n",
        "    if len(a) > len(b):\n",
        "        for i in b:\n",
        "            if i in a:\n",
        "                return False\n",
        "    else:\n",
        "        for i in a:\n",
        "            if i in b:\n",
        "                return False\n",
        "    return True\n",
        "a = set([1, 2, 4])\n",
        "b = set([3, 6, 9])\n",
        "c = set([3, 4, 5])\n",
        "print(disjoint(a, b))\n",
        "print(disjoint(a, c))"
      ]
    },
    {
      "cell_type": "markdown",
      "metadata": {
        "id": "mPuzqKw4mzHN"
      },
      "source": [
        "**Teorema 2.3** *(Princip proizvoda)* Za svaka dva skupa $A$ i $B$ važi $|A \\times B| = |A| \\cdot |B|$."
      ]
    },
    {
      "cell_type": "markdown",
      "metadata": {
        "id": "5bXhCjIemzHN"
      },
      "source": [
        "**Dokaz** Neka je $a'$ proizvoljni element skupa $A$. Posmatrajmo skup $S=\\{(a', b)|b \\in B\\}$. Očigledno $|S|=|B|$. Na isti način, konstruišimo skupove $S_{a}$ za svaki element skupa $A$. Važi $$\\bigcup S_{a} = A \\times B$$Kako su svi skupovi $S_{a}$ disjunktni i ima ih ukupno $|A|$, sledi da je $|A \\times B| = |A| \\cdot |B|$."
      ]
    },
    {
      "cell_type": "markdown",
      "metadata": {
        "id": "tLALIlHAmzHO"
      },
      "source": [
        "Kao i za prethodnu teoremu, primenom matematičke indukcije dobijamo $|A_{1} \\times A_{2} \\times A_{3} \\times ... \\times A_{n}| = |A_{1}| \\cdot |A_{2}| \\cdot |A_{3}| \\cdot ... \\cdot |A_{n}|$."
      ]
    },
    {
      "cell_type": "markdown",
      "metadata": {
        "id": "2GInKGYkmzHO"
      },
      "source": [
        "**Teorema 2.4** *(Dirihleov princip)* Ako je više od $n$ elemenata raspoređeno u $n$ skupova, onda jedan skup sigurno sadrži više od jednog elementa."
      ]
    },
    {
      "cell_type": "markdown",
      "metadata": {
        "id": "5rdKHLZnmzHO"
      },
      "source": [
        "**Dokaz** Pretpostavimo da svaki skup sadrži tačno jedan element, onda ukupno imamo tačno $n$ elemenata, što je u suprotnosti sa pretpostavkom da imamo više od $n$ elemenata."
      ]
    },
    {
      "cell_type": "markdown",
      "metadata": {
        "id": "4BxdYoommzHO"
      },
      "source": [
        "U opštem slučaju, ako raspoređujemo više od $n \\cdot m$ elemenata u $n$ skupova, jedan od njih će sigurno imati bar $m+1$ element."
      ]
    },
    {
      "cell_type": "markdown",
      "metadata": {
        "id": "P9WIjFrsyN3u"
      },
      "source": [
        "**Teorema 2.5** (*Princip uključenja-isključenja*)\n",
        "Neka skup ima $n$ elemenata. Dato je $t$ uslova, pri čemu svaki od njih ispunjava bar neki od elemenata skupa, dok postoje $i$ elemenata koji ne ispunjavaju nijedan od uslova. Broj takvih elemenata $n'$ dat je sa: $$n' = n - \\sum_{1 \\le i \\le t} N(c_i) + \\sum_{1 \\le i < j \\le t} N(c_i c_j)-\\sum_{1 \\le i < j < k \\le t} N(c_i c_j c_k) + \\cdots + (-1)^t N(c_1 \\cdots c_t).$$"
      ]
    },
    {
      "cell_type": "markdown",
      "metadata": {
        "id": "Vt-XvfXb0htU"
      },
      "source": [
        "Za dva skupa $A$ i $B$, princip uključenja i isključenja glasi $$|A \\cup B| = |A| + |B| - |A \\cap B|.$$"
      ]
    },
    {
      "cell_type": "markdown",
      "metadata": {
        "id": "IbjST6v-mzHO"
      },
      "source": [
        "## Beskonačni skupovi"
      ]
    },
    {
      "cell_type": "markdown",
      "metadata": {
        "id": "uBTN1xgBmzHP"
      },
      "source": [
        "Primetimo da se prethodna definicija kardinalnosti može primeniti samo na skupove sa konačnim brojem elemenata. Da bismo mogli da opišemo kardinalnost za beskonačne skupove, moramo prvo definisati beskonačnost skupa."
      ]
    },
    {
      "cell_type": "markdown",
      "metadata": {
        "id": "0dih94vTmzHP"
      },
      "source": [
        "**Definicija 2.3** Skup $A$ je beskonačan ako za svaki prirodan broj $n$ postoji skup $A_{n}$ takav da važi $|A_{n}|=n$ i $A_{n} \\subset A$."
      ]
    },
    {
      "cell_type": "markdown",
      "metadata": {
        "id": "DhGFWWHAmzHP"
      },
      "source": [
        "Postavlja se pitanje da li su svi beskonačni skupovi jednake kardinalnosti, odnosno da li se između svaka dva beskonačna skupa može definisati bijekcija. Odgovor na ovo pitanje dao je nemački matematičar Georg Kantor (1845 - 1918), koji je dokazao da ovo nije uvek slučaj."
      ]
    },
    {
      "cell_type": "markdown",
      "metadata": {
        "id": "-JXccFCdmzHP"
      },
      "source": [
        "**Teorema 2.6** *(Kantorov dijagonalni argument)* Ne postoji bijekcija između skupa $\\mathbb{N}$ i skupa $\\mathbb{R}$."
      ]
    },
    {
      "cell_type": "markdown",
      "metadata": {
        "id": "j3TL5HFPmzHP"
      },
      "source": [
        "**Dokaz** Dovoljno je samo posmatrati interval (0, 1). Pretpostavimo da postoji bijekcija $f:\\mathbb{N} \\rightarrow (0, 1)$ $$f(1) = 0.a_{11}a_{12}a_{13}a_{14}a_{15}...$$ $$f(2) = 0.a_{21}a_{22}a_{23}a_{24}a_{25}...$$ $$f(3) = 0.a_{31}a_{32}a_{33}a_{34}a_{35}...$$ $$f(4) = 0.a_{41}a_{42}a_{43}a_{44}a_{45}...$$ $$f(5) = 0.a_{51}a_{52}a_{53}a_{54}a_{55}...$$ $$...$$"
      ]
    },
    {
      "cell_type": "markdown",
      "metadata": {
        "id": "AXIlRQSqmzHQ"
      },
      "source": [
        "Obeležimo sa $a_{mn}'$ cifru $a_{mn}$ uvećanu za 1. Posmatrajmo broj $$a = 0.a_{11}'a_{22}'a_{33}'a_{44}'a_{55}'...$$ Njegova prva cifra je za 1 veća od prve cifre broja $f(1)$, druga cifra mu je za 1 veća od druge cifre broja $f(2)$... odnosno, *konstruisali smo realan broj koji je različit od svih brojeva u kodomenu funkcije.* Dakle, ne postoji prirodan broj $n$ takav da je $f(n) = a$, što je kontradikcija sa tvrdnjom da je funkcija $f$ bijekcija između skupa prirodnih brojeva i intervala $(0, 1)$."
      ]
    },
    {
      "cell_type": "markdown",
      "metadata": {
        "id": "NwSPSOGbmzHQ"
      },
      "source": [
        "Ovime smo pokazali da postoje različite klase beskonačnosti."
      ]
    },
    {
      "cell_type": "markdown",
      "metadata": {
        "id": "tU0nMrM3mzHQ"
      },
      "source": [
        "**Definicija 2.4** Ukoliko između skupa $A$ i skupa $\\mathbb{N}$ postoji bijekcija, kažemo da je on prebrojiv (kardinalnosti alef nula - zapisujemo $|A| = \\aleph_{0}$)."
      ]
    },
    {
      "cell_type": "markdown",
      "metadata": {
        "id": "9GOtTtffNhXQ"
      },
      "source": [
        "### Zanimljivost"
      ]
    },
    {
      "cell_type": "markdown",
      "metadata": {
        "id": "5f3cYClsNTbh"
      },
      "source": [
        "Sada opisujemo paradoks koji ilustruje kako je nešto što je nemoguće za konačne skupove moguće za beskonačne. Poznati matematičar David Hilbert osmislio je pojam Velikog Hotela, koji ima prebrojivo beskonačan broj soba, svaka zauzeta od strane jednog gosta. Kada novi gost stigne, a sve sobe su zauzete, u Velikom Hotelu možemo ga smestiti bez izbacivanja trenutnih gostiju. Sobe su prebrojive i možemo ih označiti kao Soba 1, Soba 2, Soba 3, itd. Kada novi gost stigne, premestimo gosta iz Sobe $1$ u Sobu $2$, iz Sobe $2$ u Sobu $3$, i generalno, gosta iz Sobe $n$ u Sobu $n + 1$ za sve pozitivne cele brojeve $n$. Ovo oslobađa Sobu $1$, koju dodeljujemo novom gostu, dok svi trenutni gosti i dalje imaju svoje sobe. Dakle, *Hilbertov veliki hotel nikada ne može biti u potpunosti popunjen!*\n"
      ]
    }
  ],
  "metadata": {
    "colab": {
      "provenance": []
    },
    "kernelspec": {
      "display_name": "Python 3",
      "language": "python",
      "name": "python3"
    },
    "language_info": {
      "name": "python",
      "version": "3.10.0"
    }
  },
  "nbformat": 4,
  "nbformat_minor": 0
}
