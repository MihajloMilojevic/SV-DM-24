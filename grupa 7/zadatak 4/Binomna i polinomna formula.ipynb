{
 "cells": [
  {
   "cell_type": "markdown",
   "metadata": {
    "id": "CVgRGHiETrvn"
   },
   "source": [
    "# Binomna i polinomna formula"
   ]
  },
  {
   "cell_type": "markdown",
   "metadata": {
    "id": "azZyZFscb0Zz"
   },
   "source": [
    "U ovom radu istražićemo ključne koncepte iz kombinatorike, fokusirajući se na binomne i polinomne koeficijente. Kroz različite aspekte ovih tema, razjasnićemo njihove definicije, osobine i primene.\n",
    "\n",
    "Prvo, definisaćemo binomni koeficijent i prikazati ga algebarski i kombinatorno, kao i izvesti osobine, uključujući Paskalov identitet. Nakon toga, uvešćemo binomnu formulu i dokazati je indukcijom po stepenu $n$ .\n",
    "\n",
    "Zatim ćemo preći na polinomne koeficijente, definišući ih kao permutacije multiskupa, i istražiti njihove osobine, uz odgovarajuće algebarske dokaze. Uvešćemo polinomnu formulu uz primere, kao dodatak teorijskom okviru.\n",
    "\n",
    "Na kraju, razmotrićemo primene ovih koncepata, uključujući preslikavanja i povezanost sa Stirlingovim brojevima druge vrste, kao i njihov značaj u kombinatorici. U ovom istraživanju, takođe ćemo razviti algoritme i programe za kreiranje Paskalovog trougla i za razvoj binomnih i polinomnih formula. Ova analiza će nam pomoći da bolje razumemo složenost i lepotu kombinatornih struktura."
   ]
  },
  {
   "cell_type": "markdown",
   "metadata": {
    "id": "nwLYeN2UT_l-"
   },
   "source": [
    "## Uvod"
   ]
  },
  {
   "cell_type": "markdown",
   "metadata": {
    "id": "SGd2CNp6bW0l"
   },
   "source": [
    "Uvodimo teoremu o broju sirjektivnih preslikavanja i povezujemo je sa pojmom Stirlingovih brojeva druge vrste."
   ]
  },
  {
   "cell_type": "markdown",
   "metadata": {
    "id": "9qdWvKBMvBhM"
   },
   "source": [
    "### Broj \"na\" preslikavanja"
   ]
  },
  {
   "cell_type": "markdown",
   "metadata": {
    "id": "pkEVWyUSvF5G"
   },
   "source": [
    "Neka je $B = \\{ b_1, \\dots, b_n \\}$ .\n",
    "\n",
    "**Teorema**: Neka je $A$ skup sa osobinom $|A| = m$ , gde je $1 \\leq n \\leq m$ . Broj surjektivnih preslikavanja skupa $A$ u skup $B$ jednak je:\n",
    "\n",
    "$$n^m - n (n-1)^m + \\binom{n}{2} (n-2)^m + \\dots + (-1)^{n-1} \\binom{n}{n-1} 1^m.$$\n",
    "\n"
   ]
  },
  {
   "cell_type": "markdown",
   "metadata": {
    "id": "KSIcZbMuweiY"
   },
   "source": [
    "**Dokaz**: Skup svih preslikavanja $f : A \\to B$ delimo na dva disjunktna podskupa - na one funkcije koje jesu sirjektivne, i na one koje nisu.\n",
    "Broj preslikavanja koja jesu sirjektivna izračunaćemo tako što ćemo od broja svih preslikavanja $f : A \\to B$ oduzeti broj onih preslikavanja koja nisu sirjektivna (prema principu zbira).\n",
    "\n",
    "Ako preslikavanje $f : A \\to B$ nije sirjektivno, onda $f$ pripada bar jednom od sledećih skupova čija unija sadrži sva nesirjektivna preslikavanja:\n",
    "\n",
    "- $B_1 = \\{ f : A \\to B | b_1 \\notin f(A) \\}$\n",
    "- $B_2 = \\{ f : A \\to B | b_2 \\notin f(A) \\}$\n",
    "- $\\vdots$\n",
    "- $B_n = \\{ f : A \\to B | b_n \\notin f(A) \\}$\n",
    "\n",
    "Ovi skupovi ne moraju da budu disjunktni, pa ćemo primeniti princip uključenja-isključenja da bismo izračunali kardinalnost njihove unije.\n",
    "\n",
    "$$|B_1 \\cup B_2 \\cup \\dots \\cup B_n| = |B_1| + \\dots + |B_2| - |B_1 \\cap B_2| - \\dots |B_{n-1} \\cap B_n| + \\dots + (-1)^{n-1}|B_1 \\cap B_2 \\cap \\dots \\cap B_n|$$\n",
    "\n",
    "Krenimo od $|B_1| + \\dots + |B_2|$ . Iz skupa $|B_1|$ smo isključili jedan element tako da je njegova kardinalnost $n-1$ . Funkcija koje slikaju $f : A \\to B_1$ onda ima $(n-1)^m$ , ali pošto možemo taj skup u koji će se $A$ slikati da odaberemo na $n$ načina iz skupa $\\{B_1, B_2, \\dots,B_n \\}$ , ovaj zbir možemo predstaviti kao $n(n-1)^m$ .\n",
    "\n",
    "Za $|B_1 \\cap B_2| - \\dots |B_{n-1} \\cap B_n|$ je slično, samo smo sada ovim presekom isključili dva elementa, i od $n$ elemenata skupova $\\{B_1, B_2, \\dots,B_n \\}$ biramo dva. Ovaj izraz se može predstaviti formulom $\\binom{n}{2} (n-2)^m$ .\n",
    "\n",
    "Slično radimo za sve ostale, a kada dođemo do poslednjeg člana, tj. $(-1)^{n-1}|B_1 \\cap B_2 \\cap \\dots \\cap B_n|$ , možemo da uvidimo da je on jednak 0 jer kada presekom svih skupova $\\{B_1, B_2, \\dots,B_n \\}$ isključimo sve elemente, ostaće nam prazan skup čija je kardinalnost 0.\n",
    "\n",
    "Zato će nam konačni zapis izgledati na sledeći način:\n",
    "$$n^m - n (n-1)^m + \\binom{n}{2} (n-2)^m + \\dots + (-1)^{n-1} \\binom{n}{n-1} 1^m,$$\n",
    "gde je $(-1)^{n-1} \\binom{n}{n-1} 1^m$ zapravo pretposlednji član ispred kog bi prebao da bude znak $ -$ pa smo ga zapisali umesto kao $(-1)(-1)^{n-2}$ , kao $(-1)^{n-1}$ . Jedino nerazjašnjeno ostaje $1^m$ što predstavlja jedini element iz $B$ kog nismo isključili i u koga će se svi elementi iz $A$ slikati.\n",
    "\n",
    "\n"
   ]
  },
  {
   "cell_type": "markdown",
   "metadata": {
    "id": "hxsiTGyDUDet"
   },
   "source": [
    "### Stirlingovi brojevi 2. vrste"
   ]
  },
  {
   "cell_type": "markdown",
   "metadata": {
    "id": "vQDxD6TiSXWy"
   },
   "source": [
    "Stirlingov broj druge vrste predstavlja broj particija skupa od $m$ elemenata na $n$ nepraznih podskupova. To se može interpretirati i kao broj načina da se $m$ različitih elemenata rasporedi u $n$ neoznačenih kutija tako da nijedna ne ostane prazna."
   ]
  },
  {
   "cell_type": "markdown",
   "metadata": {
    "id": "oBq0c7xdphiB"
   },
   "source": [
    "**Definicija**: Neka je $A = \\{a_1, a_2, \\dots, a_m\\}$ i $\\{B_1, \\dots, B_n\\}$ takav da:\n",
    "\n",
    "$$(1) \\quad A = B_1 \\cup \\dots \\cup B_n,$$\n",
    "\n",
    "$$(2) \\quad \\forall i \\in \\{1, \\dots, n\\}, \\, B_i \\neq \\emptyset,$$\n",
    "\n",
    "$$(3) \\quad \\forall i, j \\in \\{1, \\dots, n\\}, \\, i \\neq j \\Rightarrow B_i \\cap B_j = \\emptyset.$$\n"
   ]
  },
  {
   "cell_type": "markdown",
   "metadata": {
    "id": "DC-FWZ_Gqg7w"
   },
   "source": [
    "Za broj svih particija skupa uvodimo posebnu oznaku $S(m, n)$ datu narednom definicijom."
   ]
  },
  {
   "cell_type": "markdown",
   "metadata": {
    "id": "CD1FfkBnq0Wn"
   },
   "source": [
    "**Definicija**: Neka je $1 \\leq n \\leq m$ . Broj particija skupa od $m$ elemenata na $n$ podskupova u oznaci $S(m, n)$ naziva se Stirlingov broj druge vrste."
   ]
  },
  {
   "cell_type": "markdown",
   "metadata": {
    "id": "WSHNAgZ2S_GK"
   },
   "source": [
    "**Teorema:** Neka su $m$ , $n \\in \\mathbb{N}$ i neka je $n \\leq m$ . Tada je\n",
    "\n",
    "$1)$ $S(m, m) = 1$ ,\n",
    "\n",
    "$2)$ $S(m, 1) = 1$ ,\n",
    "\n",
    "$3)$ $S(m, n) = S(m - 1, n - 1) + n S(m - 1, n)$ , za $0 < n < m$ .\n",
    "\n",
    "\n",
    "\n"
   ]
  },
  {
   "cell_type": "markdown",
   "metadata": {
    "id": "0Uj3KP3eV4HB"
   },
   "source": [
    "**Dokaz:**\n",
    "\n",
    "$(i)$ Ako posmatramo skup $A = \\{a_1, a_2, \\dots, a_m\\}$ , onda je jedino moguće razbijanje tog skupa na $m$ nepraznih podskupova oblika $\\{\\{a_1\\}, \\{a_2\\}, \\dots, \\{a_m\\}\\}$ .\n",
    "\n",
    "$(ii)$ Ako posmatramo skup $A = \\{a_1, a_2, \\dots, a_m\\}$ , onda je jedino moguće razbijanje tog skupa na $1$ neprazan podskup oblika $\\{A\\}$ .\n",
    "\n",
    "$(iii)$ Posmatrajmo skup $A = \\{a_1, a_2, \\dots, a_m\\}$ i fiksirajmo $a_1$ . Pretpostavimo da je skup $A$ razbijen na podskupove $B_1, \\dots, B_n$ . Imamo dve opcije:\n",
    "\n",
    "- ako je $a_1$ jedini element nekog podskupa, onda je broj takvih razbijanja jednak broju razbijanja skupa $A \\setminus \\{a_1\\}$ na $n - 1$ podskupa. Takvih razbijanja ima $S(m - 1, n - 1)$ ,\n",
    "\n",
    "- ako $a_1$ nije jedini element, tada postoji jedan od $n$ podskupova u kojem se nalazi $a_1$ , što daje $n S(m - 1, n)$ mogućnosti."
   ]
  },
  {
   "cell_type": "markdown",
   "metadata": {
    "id": "oZydJ4XhVmnR"
   },
   "source": [
    "**Teorema:** Neka je $0 < n \\leq m$ . Tada je $$|\\{ f : A \\to B : f \\text{ je \"na\"} \\}| = n! \\cdot S(m, n).$$"
   ]
  },
  {
   "cell_type": "markdown",
   "metadata": {
    "id": "pfCr__JqVrpk"
   },
   "source": [
    "**Dokaz:** Ako je $m$ elemenata raspoređeno u $n$ jednakih (nepraznih) kutija, onda bismo te kutije mogli da označimo na $n!$ različitih načina. Svako označavanje odgovara jednom bijektivnom preslikavanju skupa elemenata na skup oznaka kutija. Tako je\n",
    "\n",
    "$$n! \\cdot S(m, n) = |\\{ f : A \\to B : f \\text{ je \"na\" preslikavanje} \\}|.$$"
   ]
  },
  {
   "cell_type": "code",
   "execution_count": 1,
   "metadata": {
    "colab": {
     "base_uri": "https://localhost:8080/"
    },
    "id": "qV-nPvioV9Jy",
    "outputId": "910ed9d5-908f-4435-9e29-7c66fed4ff39"
   },
   "outputs": [
    {
     "name": "stdout",
     "output_type": "stream",
     "text": [
      "1\t\n",
      "1\t1\t\n",
      "1\t3\t1\t\n",
      "1\t7\t6\t1\t\n",
      "1\t15\t25\t10\t1\t\n",
      "1\t31\t90\t65\t15\t1\t\n",
      "1\t63\t301\t350\t140\t21\t1\t\n",
      "1\t127\t966\t1701\t1050\t266\t28\t1\t\n"
     ]
    }
   ],
   "source": [
    "# Program za generisanje tablice Stirlingovih brojeva n * n\n",
    "def stirling_table(n):\n",
    "    matrix = [[0 for i in range(n)] for i in range(n)]\n",
    "    for i in range(n):\n",
    "        for j in range(n):\n",
    "            if j == 0 or i == j:\n",
    "                matrix[i][j] = 1\n",
    "            else:\n",
    "                matrix[i][j] = matrix[i - 1][j - 1] + (j + 1) * matrix[i - 1][j]\n",
    "    return matrix\n",
    "\n",
    "\n",
    "def print_stirling_table(table):\n",
    "    n = len(table)\n",
    "\n",
    "    for r in range(n):\n",
    "        for c in range(n):\n",
    "            elem = table[r][c]\n",
    "            if elem == 0:\n",
    "                continue\n",
    "            print(elem, end=\"\\t\")\n",
    "        print()\n",
    "\n",
    "n = int(input(\"Unesite koliko redova tabele Stirlingovih brojeva želite: \"))\n",
    "print_stirling_table(stirling_table(n))\n"
   ]
  },
  {
   "cell_type": "code",
   "execution_count": 6,
   "metadata": {
    "colab": {
     "base_uri": "https://localhost:8080/"
    },
    "id": "NoHjc76LaJxF",
    "outputId": "98397d05-62c5-46fc-e8e9-787e9295b7d7"
   },
   "outputs": [
    {
     "name": "stdout",
     "output_type": "stream",
     "text": [
      "Unesite n (ukupan broj elemenata): 8\n",
      "Unesite m (broj delova): 4\n",
      "S(8, 4) = 1701\n"
     ]
    }
   ],
   "source": [
    "def stirling_number(n, m):\n",
    "    if m == 0 or n == 0 or m > n:\n",
    "        raise Exception(\"Nevalidni brojevi\")\n",
    "    if m == 1 or m == n:\n",
    "        return 1\n",
    "    return stirling_number(n - 1, m - 1) + m * stirling_number(n - 1, m)\n",
    "\n",
    "def main():\n",
    "    try:\n",
    "        n = int(input(\"Unesite n (ukupan broj elemenata): \"))\n",
    "        m = int(input(\"Unesite m (broj delova): \"))\n",
    "\n",
    "        result = stirling_number(n, m)\n",
    "        print(f\"S({n}, {m}) = {result}\")\n",
    "\n",
    "    except ValueError:\n",
    "        print(\"Molimo unesite celobrojne vrednosti.\")\n",
    "    except Exception as e:\n",
    "        print(e)\n",
    "\n",
    "if __name__ == \"__main__\":\n",
    "    main()\n"
   ]
  },
  {
   "cell_type": "markdown",
   "metadata": {
    "id": "oKeFUU4BYTEY"
   },
   "source": [
    "## Binomni koeficijent i binomna formula"
   ]
  },
  {
   "cell_type": "markdown",
   "metadata": {
    "id": "bVuh9YujZHTn"
   },
   "source": [
    "**Definicija**: Neka su $n$ i $k$ celi brojevi sa osobinom $0 \\leq k \\leq n$ .  \n",
    "Binomni koeficijent $\\binom{n}{k}$ je funkcija koja takvim parovima vrednosti $n$ i $k$ dodeljuje pozitivne cele brojeve na sledeći način:\n",
    "\n",
    "$$\\binom{n}{0} = 1 \\land \\binom{n}{k} = \\frac{n \\cdot (n - 1) \\cdots (n - k + 1)}{k \\cdot (k - 1) \\cdots 2 \\cdot 1}$$"
   ]
  },
  {
   "cell_type": "markdown",
   "metadata": {
    "id": "xT7VU8enZK7K"
   },
   "source": [
    "**Lema** (*Faktorijelna reprezentacija*): Za cele brojeve $n$ i $k$ , $n \\geq k \\geq 0$ važi:\n",
    "\n",
    "$$\\binom{n}{k} = \\frac{n!}{k! (n - k)!}$$\n"
   ]
  },
  {
   "cell_type": "markdown",
   "metadata": {
    "id": "K-hsbDaHZOrA"
   },
   "source": [
    "**Dokaz**: Ako je $k = 0$ , imamo $\\binom{n}{0} = 1$ i $\\frac{n!}{0! \\cdot n!} = 1$ .\n"
   ]
  },
  {
   "cell_type": "markdown",
   "metadata": {
    "id": "ZwkMHVG9ZSJm"
   },
   "source": [
    "A ako je $k > 0$ , jednakost se dobija proširenjem razlomka u datoj definiciji binomnog koeficijenta sa $(n - k)!$ . Naime,\n",
    "\n",
    "$$\\binom{n}{k} = \\frac{n(n - 1)(n - 2) \\cdots (n - k + 1)}{k(k - 1) \\cdots 2 \\cdot 1} =\n",
    "\\frac{n(n - 1)(n - 2) \\cdots (n - k + 1) \\cdot (n - k)!}{k(k - 1) \\cdots 2 \\cdot 1 \\cdot (n - k)!} =\n",
    "\\frac{n!}{k!(n - k)!}.$$"
   ]
  },
  {
   "cell_type": "markdown",
   "metadata": {
    "id": "pdIbEpf_3apE"
   },
   "source": [
    "**Definicija** Binomni koeficijent $\\binom{n}{k}$ je broj koji označava broj $k$ -kombinacija skupa od $n$ elemenata i jednak je $$\\frac{n!}{k!(n-k)!}$$"
   ]
  },
  {
   "cell_type": "markdown",
   "metadata": {
    "id": "aQliOHKz3apF"
   },
   "source": [
    "Sada ćemo pogledati dve teoreme vezane za binomne koeficijente, čiji algebarski dokazi slede iz direktnog izračunavanja, ali ćemo umesto toga izložiti **kombinatorne dokaze**"
   ]
  },
  {
   "cell_type": "markdown",
   "metadata": {
    "id": "B5LFjKb33apF"
   },
   "source": [
    "**Teorema** (*Uslov simetričnosti*) $$\\binom{n}{k} = \\binom{n}{n-k}$$"
   ]
  },
  {
   "cell_type": "markdown",
   "metadata": {
    "id": "hUnZDFA_3apF"
   },
   "source": [
    "**Dokaz** Svaki put prilikom odabira kombinacije od $k$ elemenata iz skupa od $n$ elemenata ostaje $n-k$ elemenata koji nisu izabrani - koji sami obrazuju neku kombinaciju. Po principu bijekcije, sledi da je jednak broj $k$ -kombinacija i $n-k$ kombinacija, što je i trebalo dokazati"
   ]
  },
  {
   "cell_type": "markdown",
   "metadata": {
    "id": "O44mwgM39hd3"
   },
   "source": [
    "**Teorema** (Binomna formula): Neka je $n \\geq 1$ : Tada je\n",
    "$$(x + y)^n = \\binom{n}{0} x^n y^0 + \\binom{n}{1} x^{n-1} y + \\ldots + \\binom{n}{k} x^{n-k} y^k + \\ldots + \\binom{n}{n} x^0 y^n.$$\n"
   ]
  },
  {
   "cell_type": "markdown",
   "metadata": {
    "id": "FYRC7pio90wx"
   },
   "source": [
    "**Kombinatorni dokaz**:\n",
    "\n",
    "$$(x + y)^n = (x + y)(x + y) \\ldots (x + y) \\quad | \\ \\quad n \\text{ puta}$$\n",
    "$$= (xxx + xxy + xyx + xyy + yxx + yxy + yyx + yyy)(x + y) \\ldots (x + y)$$\n",
    "$$= x^n + x^{n-1}y + \\ldots + x^{n-1}y + x^{n-2}y^2 + \\ldots + x^{n-2}y^2 + \\ldots + xy^{n-1} + \\ldots + xy^{n-1} + y^n$$\n",
    "\n",
    "Ako iz $m$ zagrada izaberemo $y$ , a iz $n - m$ zagrada izaberemo $x$:\n",
    "$x^{n-m}y^m.$\n",
    "\n",
    "Broj načina da izaberemo $m$ zagrada iz kojih ćemo izabrati $y$ jednak je $\\binom{n}{m}.$\n"
   ]
  },
  {
   "cell_type": "markdown",
   "metadata": {
    "id": "JPW88GZw--tA"
   },
   "source": [
    "**Induktivni dokaz**:\n",
    "\n",
    "Baza: $n = 1$ : $(x + y)^1 = x + y$ .\n",
    "\n",
    "Induktivna pretpostavka $(T_n)$ : $(x + y)^n = x^n + n x^{n - 1} y + \\binom{n}{2} x^{n - 2} y^2 + \\ldots + n x y^{n - 1} + y^n$ .\n",
    "\n",
    "Induktivni korak: $T_n \\Rightarrow T_{n + 1}$:\n",
    "$$(x + y)^n (x + y) = (x^n + n x^{n - 1} y + \\binom{n}{2} x^{n - 2} y^2 + \\ldots + n x y^{n - 1} + y^n)(x + y)$$\n",
    "$$= (x^{n + 1} + n x^n y + \\binom{n}{2} x^{n - 1} y^2 + \\ldots + \\binom{n}{n - 1} x^2 y^{n - 1} + x y^n + x^n y + n \\binom{n}{1} x^{n - 1} y^2 + \\ldots + \\binom{n}{n - 2} x^2 y^{n - 1} + n x y^n + y^{n + 1})$$\n",
    "$$= x^{n + 1} + (n + 1) x^n y + \\binom{n + 1}{2} x^{n - 1} y^2 + \\ldots + \\binom{n + 1}{n - 1} x^2 y^{n - 1} + (n + 1) x y^n + y^{n + 1}$$\n",
    "$$= \\sum_{m = 0}^{n + 1} \\binom{n + 1}{m} x^{n + 1 - m} y^m.$$\n",
    "\n",
    "\n"
   ]
  },
  {
   "cell_type": "markdown",
   "metadata": {
    "id": "nVnSOXM-G2jD"
   },
   "source": [
    "**Posledica**: Za nenegativan ceo broj $n$ važi\n",
    "$\\sum_{k = 0}^{n} \\binom{n}{k} = 2^n.$\n"
   ]
  },
  {
   "cell_type": "markdown",
   "metadata": {
    "id": "RhDFXAbRHDSu"
   },
   "source": [
    "**Dokaz**: Koristeći binomnu teoremu sa $x = 1$ i $y = 1$ dobijamo\n",
    "$\n",
    "(1 + 1)^n = 2^n = \\sum_{k = 0}^{n} \\binom{n}{k} 1^k 1^{n - k} = \\sum_{k = 0}^{n} \\binom{n}{k}.\n",
    "$\n"
   ]
  },
  {
   "cell_type": "markdown",
   "metadata": {
    "id": "HzKdoMNKc_It"
   },
   "source": [
    "**Lema**: Neka je $n$ pozitivan ceo broj. Tada važi: $$\\sum_{k=0}^{n} (-1)^k \\binom{n}{k} = 0.$$\n",
    "\n"
   ]
  },
  {
   "cell_type": "markdown",
   "metadata": {
    "id": "bQYGpHBIeuSy"
   },
   "source": [
    "**Dokaz:** Kada koristimo binomnu teoremu sa $x = -1$ i $y = 1$ , dobijamo:\n",
    "\n",
    "$$0 = (0)^n = ((-1) + 1)^n = \\sum_{k=0}^{n} \\binom{n}{k} (-1)^k 1^{n-k} = \\sum_{k=0}^{n} \\binom{n}{k} (-1)^k.$$\n",
    "\n",
    "Ovo dokazuje navedenu posledicu."
   ]
  },
  {
   "cell_type": "markdown",
   "metadata": {
    "id": "JQuI8GzTfDJS"
   },
   "source": [
    "**Lema**: Neka je $n$ nenegativan ceo broj. Tada važi:\n",
    "\n",
    "$$\\sum_{k=0}^{n} 2^k \\binom{n}{k} = 3^n.$$\n",
    "\n"
   ]
  },
  {
   "cell_type": "markdown",
   "metadata": {
    "id": "d6XBEgdBfJox"
   },
   "source": [
    "**Dokaz:** Prepoznajemo da je leva strana ove formule ekspanzija izraza $(1 + 2)^n$ prema binomnoj teoremi. Dakle, prema binomnoj teoremi, imamo:\n",
    "\n",
    "$$(1 + 2)^n = \\sum_{k=0}^{n} \\binom{n}{k} 1^{n-k} 2^k = \\sum_{k=0}^{n} \\binom{n}{k} 2^k.$$\n",
    "\n",
    "Otuda sledi:\n",
    "\n",
    "$$\\sum_{k=0}^{n} 2^k \\binom{n}{k} = 3^n.$$"
   ]
  },
  {
   "cell_type": "code",
   "execution_count": null,
   "metadata": {
    "colab": {
     "base_uri": "https://localhost:8080/"
    },
    "id": "a-egua8UJWdb",
    "outputId": "93196b01-dd5b-4179-f8ca-59ccd8f632b4"
   },
   "outputs": [
    {
     "name": "stdout",
     "output_type": "stream",
     "text": [
      "Unesite prvi broj: 2\n",
      "Unesite drugi broj: 3\n",
      "Unesite stepen (nenegativan broj): 4\n",
      "Binomni razvoj (2.0 + 3.0)^4 je:\n",
      "16*2.0^4 + 96*2.0^3*3.0^1 + 216*2.0^2*3.0^2 + 216*2.0^1*3.0^3 + 81*3.0^4\n"
     ]
    }
   ],
   "source": [
    "# Program za razvoj binomne formule\n",
    "def factorial(n):\n",
    "    f = 1\n",
    "    for i in range(2, n + 1):\n",
    "        f *= i\n",
    "    return f\n",
    "\n",
    "\n",
    "def series(A, X, n):\n",
    "    nFact = factorial(n)\n",
    "\n",
    "    coefficients = []\n",
    "    expansion_terms = []\n",
    "\n",
    "    for i in range(n + 1):\n",
    "        niFact = factorial(n - i)\n",
    "        iFact = factorial(i)\n",
    "\n",
    "        aPow = pow(A, n - i)\n",
    "        xPow = pow(X, i)\n",
    "\n",
    "        coefficient = (nFact * aPow * xPow) / (niFact * iFact)\n",
    "        coefficients.append(int(coefficient))\n",
    "\n",
    "        term = f\"{int(coefficient)}\"\n",
    "        if n - i > 0:\n",
    "            term += f\"*{A}^{n - i}\"\n",
    "        if i > 0:\n",
    "            term += f\"*{X}^{i}\"\n",
    "\n",
    "        expansion_terms.append(term)\n",
    "\n",
    "    expansion = \" + \".join(expansion_terms)\n",
    "    return coefficients, expansion\n",
    "\n",
    "\n",
    "def get_user_input():\n",
    "    while True:\n",
    "        try:\n",
    "            A = float(input(\"Unesite prvi broj: \"))\n",
    "            X = float(input(\"Unesite drugi broj: \"))\n",
    "            n = int(input(\"Unesite stepen (nenegativan broj): \"))\n",
    "            if n < 0:\n",
    "                raise ValueError(\"Stepen mora biti nenegativan ceo broj.\")\n",
    "            return A, X, n\n",
    "        except ValueError as e:\n",
    "            print(f\"Neispravan unos: {e}. Probaj ponovo.\")\n",
    "\n",
    "\n",
    "A, X, n = get_user_input()\n",
    "\n",
    "coefficients, expansion = series(A, X, n)\n",
    "print(f\"Binomni razvoj ({A} + {X})^{n} je:\")\n",
    "print(expansion)"
   ]
  },
  {
   "cell_type": "markdown",
   "metadata": {
    "id": "5zR6TgPmYf8e"
   },
   "source": [
    "### Paskalov identitet i Paskalov trougao"
   ]
  },
  {
   "cell_type": "markdown",
   "metadata": {
    "id": "pRj7rjtl3apF"
   },
   "source": [
    "**Teorema** (*Paskalov identitet*) $$\\binom{n}{k} = \\binom{n-1}{k} + \\binom{n-1}{k-1}$$"
   ]
  },
  {
   "cell_type": "markdown",
   "metadata": {
    "id": "_NKNGgce3apG"
   },
   "source": [
    "**Dokaz** (*kombinatorno*) Uočimo jedan element $a$ iz skupa od $n$ elemenata. Sve $k$ -kombinacije skupa od $n$ elemenata se mogu podeliti u dve kolekcije - jednu koja sadrži $a$ i drugu koja ne sadrži. Prvu kolekciju dobijamo tako što od datog skupa bez $a$ (koji ima $n-1$ elemanata) odaberemo kombinacije sa $k-1$ elementom i dodamo im $a$ , a drugu tako što od istog tog skupa odaberemo sve $k$ -kombinacije. Te dve kolekcije zajedno imaju $\\binom{n-1}{k} + \\binom{n-1}{k-1}$ elemenata"
   ]
  },
  {
   "cell_type": "markdown",
   "metadata": {
    "id": "H_BXgnlYcTTc"
   },
   "source": [
    "**Dokaz** (*algebarski*):\n",
    "$$\\binom{n-1}{m-1} + \\binom{n-1}{m} = \\frac{(n-1)!}{(m-1)!(n-m)!} + \\frac{(n-1)!}{m!(n-m-1)!}$$\n",
    "\n",
    "$$= \\frac{m \\cdot (n-1)! + (n-m) \\cdot (n-1)!}{m!(n-m)!}$$\n",
    "\n",
    "$$= \\frac{(m + n - m) \\cdot (n-1)!}{m!(n-m)!} = \\binom{n}{m}.$$"
   ]
  },
  {
   "cell_type": "markdown",
   "metadata": {
    "id": "MF-Ut2MY3apG"
   },
   "source": [
    "Na osnovu ove osobine možemo konstruisati jedan interesantan dijagram - **Paskalov trougao**"
   ]
  },
  {
   "cell_type": "markdown",
   "metadata": {
    "id": "cS7MDBge3apH"
   },
   "source": [
    "Svaki element Paskalovog trougla se dobija sabiranjem dva elementa iznad njega"
   ]
  },
  {
   "cell_type": "code",
   "execution_count": 2,
   "metadata": {
    "colab": {
     "base_uri": "https://localhost:8080/"
    },
    "id": "dmtbYl_43apH",
    "outputId": "ed1b7b2b-8d75-4d86-a8f4-35cc0be14b06"
   },
   "outputs": [
    {
     "name": "stdout",
     "output_type": "stream",
     "text": [
      "Unesite koliko redova Paskalovog trougla želite: 7\n",
      "             1              \n",
      "           1   1            \n",
      "         1   2   1          \n",
      "       1   3   3   1        \n",
      "     1   4   6   4   1      \n",
      "  1   5   10   10   5   1   \n",
      "1   6   15   20   15   6   1\n"
     ]
    }
   ],
   "source": [
    "#Program za generisanje Paskalovog trougla\n",
    "def pascals_triangle(n):\n",
    "    triangle = []\n",
    "\n",
    "    for i in range(n):\n",
    "        row = [1]\n",
    "\n",
    "        if triangle:\n",
    "            last_row = triangle[-1]\n",
    "\n",
    "            for j in range(len(last_row) - 1):\n",
    "                row.append(last_row[j] + last_row[j + 1])\n",
    "\n",
    "            row.append(1)\n",
    "\n",
    "        triangle.append(row)\n",
    "\n",
    "    max_width = len(\"   \".join(map(str, triangle[-1])))\n",
    "    for row in triangle:\n",
    "        print(\"   \".join(map(str, row)).center(max_width))\n",
    "\n",
    "n = int(input(\"Unesite koliko redova Paskalovog trougla želite: \"))\n",
    "pascals_triangle(n)"
   ]
  },
  {
   "cell_type": "markdown",
   "metadata": {
    "id": "CdyRtuiXXxg7"
   },
   "source": [
    "## Polinomni koeficijent i polinomna formula"
   ]
  },
  {
   "cell_type": "markdown",
   "metadata": {
    "id": "xhRkqtg63apI"
   },
   "source": [
    "**Definicija** Polinomni koeficijent $\\binom{n}{n_{1}, n_{2}...n_{k}}$ jednak je broju $n$ -permutacija sa elementima koji se ponavljaju $n_{1}, n_{2}...n_{k}$ puta i važi $$\\binom{n}{n_{1}, n_{2}...n_{k}} = \\frac{n!}{n_{1}! n_{2}!...n_{k}!}$$"
   ]
  },
  {
   "cell_type": "markdown",
   "metadata": {
    "id": "cdUGhosedY1L"
   },
   "source": [
    "**Lema**: Neka su dati brojevi $m_1, m_2, \\ldots, m_l \\in \\mathbb{N}_0$ takvi da je $n = m_1 + m_2 + \\ldots + m_l$ . Tada je:\n",
    "\n",
    "$$\\binom{n}{m_1, m_2, \\ldots, m_l} = \\binom{n}{m_1} \\binom{n - m_1}{m_2} \\binom{n - (m_1 + m_2)}{m_3} \\cdots \\binom{n - (m_1 + m_2 + \\ldots + m_{l-1})}{m_l}.$$\n"
   ]
  },
  {
   "cell_type": "markdown",
   "metadata": {
    "id": "7hEfXYEZk9Vs"
   },
   "source": [
    "**Dokaz**: Ako se primeni definicija binomnih koeficijenata na desnu stranu, po jedan činilac iz imenioca se uvek skrati sa brojiocem iz narednog razlomka.\n",
    "\n",
    "$$\\binom{n}{m_1} \\binom{n - m_1}{m_2} \\cdots \\binom{n - (m_1 + m_2 + \\ldots + m_{l-1})}{m_l} =$$\n",
    "\n",
    "$$\\frac{n!}{m_1! (n - m_1)!} \\cdot \\frac{(n - m_1)!}{m_2! (n - m_1 - m_2)!} \\cdots \\frac{1}{m_l! 0!} =$$\n",
    "\n",
    "$$\\frac{n!}{m_1! m_2! \\cdots m_l!} = \\binom{n}{m_1, m_2, \\ldots, m_l}$$\n"
   ]
  },
  {
   "cell_type": "markdown",
   "metadata": {
    "id": "l1RDkPnPlpCv"
   },
   "source": [
    "**Lema**: Neka su dati brojevi $m_1, \\dots, m_l \\in \\mathbb{N}_0$ takvi da je $n = m_1 + \\dots + m_l$ .\n",
    "\n",
    "Ako je $\\{m_1, m_2, \\dots, m_l\\} = \\{k_1, k_2, \\dots, k_l\\}$ , onda važi:\n",
    "\n",
    "$$\\binom{n}{m_1, m_2, \\dots, m_l} = \\binom{n}{k_1, k_2, \\dots, k_l}.$$"
   ]
  },
  {
   "cell_type": "markdown",
   "metadata": {
    "id": "v0t-HU6UmHei"
   },
   "source": [
    "**Dokaz**: Iz uslova $\\{m_1, m_2, \\dots, m_l\\} = \\{k_1, k_2, \\dots, k_l\\}$ direktno sledi da je $m_1! m_2! \\dots m_l! = k_1! k_2! \\dots k_l!,$ a odatle i da su posmatrani koeficijenti jednaki.\n"
   ]
  },
  {
   "cell_type": "markdown",
   "metadata": {
    "id": "T3o-puYJmpuV"
   },
   "source": [
    "**Lema**: Neka su dati brojevi $m_1, \\dots, m_l \\in \\mathbb{N}_0$ takvi da je $n = m_1 + \\dots + m_l$ .\n",
    "\n",
    "Ako važi $0 < m_1, \\dots, m_l < n$ , onda:\n",
    "\n",
    "$$\\binom{n}{m_1, m_2, \\dots, m_l} = \\binom{n - 1}{m_1 - 1, m_2, \\dots, m_l} + \\binom{n - 1}{m_1, m_2 - 1, \\dots, m_l} + \\dots + \\binom{n - 1}{m_1, m_2, \\dots, m_l - 1}.$$"
   ]
  },
  {
   "cell_type": "markdown",
   "metadata": {
    "id": "JLTV-G7em--m"
   },
   "source": [
    "**Dokaz** (*algebarski*):\n",
    "\n",
    "$$\\binom{n - 1}{m_1 - 1, m_2, \\dots, m_l} = \\frac{(n - 1)!}{(m_1 - 1)! m_2! \\dots m_l!} = \\frac{m_1 (n - 1)!}{m_1! m_2! \\dots m_l!}$$\n",
    "\n",
    "$$\\binom{n - 1}{m_1, m_2 - 1, \\dots, m_l} = \\frac{(n - 1)!}{m_1! (m_2 - 1)! \\dots m_l!} = \\frac{m_2 (n - 1)!}{m_1! m_2! \\dots m_l!}$$\n",
    "\n",
    "$$\\vdots$$\n",
    "\n",
    "$$\\binom{n - 1}{m_1, m_2, \\dots, m_l - 1} = \\frac{(n - 1)!}{m_1! m_2! \\dots (m_l - 1)!} = \\frac{m_l (n - 1)!}{m_1! m_2! \\dots m_l!}$$\n",
    "\n",
    "Dakle:\n",
    "\n",
    "$$\\binom{n - 1}{m_1 - 1, m_2, \\dots, m_l} + \\binom{n - 1}{m_1, m_2 - 1, \\dots, m_l} + \\dots + \\binom{n - 1}{m_1, m_2, \\dots, m_l - 1}$$\n",
    "\n",
    "$$= \\frac{m_1 (n - 1)!}{m_1! m_2! \\dots m_l!} + \\frac{m_2 (n - 1)!}{m_1! m_2! \\dots m_l!} + \\dots + \\frac{m_l (n - 1)!}{m_1! m_2! \\dots m_l!}$$\n",
    "\n",
    "$$= \\frac{(m_1 + m_2 + \\dots + m_l) (n - 1)!}{m_1! m_2! \\dots m_l!} = \\frac{n!}{m_1! m_2! \\dots m_l!}$$\n"
   ]
  },
  {
   "cell_type": "markdown",
   "metadata": {
    "id": "NC0xl6Z8nYjh"
   },
   "source": [
    "**Dokaz** (*kombinatorni*): Leva strana jednakosti odgovara permutacijama multiskupa $\\{a_1, \\dots, a_1, \\dots, a_l, \\dots, a_l\\}$ .\n",
    "\n",
    "Ako posmatramo desnu stranu, kombinatorna interpretacija je sledeća: skup svih uređenja možemo podeliti na $l$ podskupova tako da svaki podskup sadrži $n$ -torke sa fiksiranom prvom komponentom. Kako su ti podskupovi po parovima disjunktni, možemo primeniti princip zbira.\n",
    "\n",
    "Dalje, zaključujemo da je broj načina da se urede elementi tako da je na prvom mestu $a_1$ jednak broju načina da se uredi preostalih $n - 1$ elemenata, pri čemu će biti jedan manje $a_1$ na raspolaganju, a to je: $P(m_1 - 1, m_2, \\dots, m_l)$ .\n",
    "\n",
    "Slično se zaključuje i za ostale elemente koji se mogu pojaviti na prvom mestu.\n"
   ]
  },
  {
   "cell_type": "markdown",
   "metadata": {
    "id": "pOjFdNBwo2h_"
   },
   "source": [
    "**Lema**: Neka su dati celi brojevi $m_1, \\dots, m_l \\geq 0$ takvi da je $n = m_1 + \\dots + m_l$ .\n",
    "\n",
    "Tada važi:\n",
    "\n",
    "$$\\binom{n}{m_1, m_2, \\dots, m_l - 1, 0} = \\binom{n}{m_1, m_2, \\dots, m_l - 1}.$$\n"
   ]
  },
  {
   "cell_type": "markdown",
   "metadata": {
    "id": "qjb9hTOjpEgV"
   },
   "source": [
    "**Dokaz**: Na osnovu definicije polinomnog koeficijenta i definicije faktorijela dobijamo:\n",
    "\n",
    "$$\\binom{n}{m_1, m_2, \\dots, m_l - 1, 0} = \\frac{n!}{m_1! \\dots m_l! \\cdot 1! \\cdot 0!} = \\frac{n!}{m_1! \\dots m_l! \\cdot 1!} = \\binom{n}{m_1, m_2, \\dots, m_l - 1}$$\n"
   ]
  },
  {
   "cell_type": "markdown",
   "metadata": {
    "id": "2Dcj4nkrULvD"
   },
   "source": [
    "\n",
    "**Teorema** (*Polinomna formula*):\n",
    "\n",
    "Neka su $n, k \\in \\mathbb{N}$ . Tada za sve $x_1, x_2, \\ldots, x_k \\in \\mathbb{C}$ važi:\n",
    "\n",
    "$$(x_1 + x_2 + \\dots + x_k)^n = \\sum_{(n_1, n_2, \\dots, n_k)} \\binom{n}{n_1 n_2 \\dots n_k} x_1^{n_1} x_2^{n_2} \\dots x_k^{n_k},$$\n",
    "\n",
    "pri čemu se sumiranje vrši po svim $k$ -torkama $(n_1, n_2, \\dots, n_k)$ nenegativnih celih brojeva, takvih da je $n_1 + n_2 + \\dots + n_k = n$ .\n",
    "\n"
   ]
  },
  {
   "cell_type": "markdown",
   "metadata": {
    "id": "UQ0KO3lWVc90"
   },
   "source": [
    "**Dokaz:** Tvrđenje ćemo dokazati upotrebom kombinatornog dokaza binomne teoreme.\n",
    "\n",
    "$$(x_1 + x_2 + \\dots + x_k)^n = (x_1 + x_2 + \\dots + x_k)(x_1 + x_2 + \\dots + x_k) \\dots (x_1 + x_2 + \\dots + x_k)$$\n",
    "\n",
    "Oslobađanjem od zagrada, posle izvršenih $k^n$ množenja, dobijamo sabirke oblika $x_1^{n_1} x_2^{n_2} \\dots x_k^{n_k}$ .\n",
    "\n",
    "Za svaku $k$ -torku $(n_1, n_2, \\dots, n_k)$ nenegativnih celih brojeva, takvih da je $n_1 + n_2 + \\dots + n_k = n$ , monom $x_1^{n_1} x_2^{n_2} \\dots x_k^{n_k}$ u dobijenoj sumi pojavljuje se kao sabirak onoliko puta koliko imamo mogućnosti da se od ponuđenih $n$ zagrada za sabirak $x_1$ odlučimo $n_1$ puta, za sabirak $x_2$ , od preostalih $n - n_1$ zagrada, se odlučimo $n_2$ puta, za $x_3$ , od $n - n_1 - n_2$ zagrada, se odlučimo $n_3$ puta, i tako dalje. Prema principu proizvoda sledi da se monom $x_1^{n_1} x_2^{n_2} \\dots x_k^{n_k}$ kao sabirak u gornjoj sumi pojavljuje\n",
    "\n",
    "$$\\binom{n}{n_1} \\binom{n - n_1}{n_2} \\binom{n - n_1 - n_2}{n_3} \\dots \\binom{n-n_1- \\dots -n_{k-1}}{n_k}=$$\n",
    "\n",
    "$$\\frac{n!}{n_1! (n - n_1)!} \\cdot \\frac{(n - n_1)!}{n_2! (n - n_1 - n_2)!} \\cdot \\dots \\cdot \\frac{(n-n_1- \\dots -n_{k-1})!}{n_k!(n-n_1- \\dots -n_{k})!} =$$\n",
    " \n",
    "$$\\frac{n!}{n_1! n_2! \\dots n_k!} = \\binom{n}{n_1 n_2 \\dots n_k}$$\n",
    "\n",
    "puta."
   ]
  },
  {
   "cell_type": "code",
   "execution_count": null,
   "metadata": {
    "colab": {
     "base_uri": "https://localhost:8080/"
    },
    "id": "NYAsyyG2cWA3",
    "outputId": "4a4f10fe-0bee-45ae-c262-2a5dbabb095c"
   },
   "outputs": [
    {
     "name": "stdout",
     "output_type": "stream",
     "text": [
      "Unesite stepen (nenegativan broj): 3\n",
      "Unesite koeficijente (odvojene razmakom): 2 2\n",
      "Unesite promenljive (odvojene razmakom): x y\n",
      "Polinomni razvoj za 3. stepen je:\n",
      "1.0*x^0*y^0 + 1.0*x^0*y^0 + 2.0*x^1*y^0 + 2.0*x^0*y^1 + 4.0*x^2*y^0 + 4.0*x^0*y^2 + 8.0*x^3*y^0 + 8.0*x^0*y^3\n"
     ]
    }
   ],
   "source": [
    "# Program za razvoj polinomne formule\n",
    "def factorial(n):\n",
    "    f = 1\n",
    "    for i in range(2, n + 1):\n",
    "        f *= i\n",
    "    return f\n",
    "\n",
    "def polynomial_expansion(coefficients, variables, n):\n",
    "    expansion_terms = []\n",
    "\n",
    "    num_vars = len(variables)\n",
    "\n",
    "    for i in range(n + 1):\n",
    "        for j in range(num_vars):\n",
    "            term_coeff = coefficients[j] ** (i) * factorial(i) // (factorial(i) * factorial(0))\n",
    "            term = f\"{term_coeff}\"\n",
    "\n",
    "            for k in range(num_vars):\n",
    "                if k == j:\n",
    "                    term += f\"*{variables[k]}^{i}\"\n",
    "                else:\n",
    "                    term += f\"*{variables[k]}^0\"\n",
    "\n",
    "            expansion_terms.append(term)\n",
    "\n",
    "    expansion = \" + \".join(expansion_terms)\n",
    "    return expansion\n",
    "\n",
    "def get_user_input():\n",
    "    while True:\n",
    "        try:\n",
    "            n = int(input(\"Unesite stepen (nenegativan broj): \"))\n",
    "            if n < 0:\n",
    "                raise ValueError(\"Stepen mora biti nenegativan ceo broj.\")\n",
    "            coefficients = list(map(float, input(\"Unesite koeficijente (odvojene razmakom): \").split()))\n",
    "            variables = input(\"Unesite promenljive (odvojene razmakom): \").split()\n",
    "            if len(coefficients) != len(variables):\n",
    "                raise ValueError(\"Broj koeficijenata mora biti jednak broju promenljivih.\")\n",
    "            return coefficients, variables, n\n",
    "        except ValueError as e:\n",
    "            print(f\"Neispravan unos: {e}. Probaj ponovo.\")\n",
    "\n",
    "coefficients, variables, n = get_user_input()\n",
    "expansion = polynomial_expansion(coefficients, variables, n)\n",
    "print(f\"Polinomni razvoj za {n}. stepen je:\")\n",
    "print(expansion)\n"
   ]
  }
 ],
 "metadata": {
  "colab": {
   "provenance": []
  },
  "kernelspec": {
   "display_name": "Python 3",
   "name": "python3"
  },
  "language_info": {
   "codemirror_mode": {
    "name": "ipython",
    "version": 3
   },
   "file_extension": ".py",
   "mimetype": "text/x-python",
   "name": "python",
   "nbconvert_exporter": "python",
   "pygments_lexer": "ipython3",
   "version": "3.10.0"
  }
 },
 "nbformat": 4,
 "nbformat_minor": 0
}
