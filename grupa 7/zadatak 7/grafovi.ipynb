{
 "cells": [
  {
   "cell_type": "markdown",
   "metadata": {},
   "source": [
    "# Grafovi"
   ]
  },
  {
   "cell_type": "markdown",
   "metadata": {},
   "source": [
    "Grafovi su jedni od fundamentalnih objekata u matematici, čijem istraživanju je posvećena cela oblast matematike (*teorija grafova*). "
   ]
  },
  {
   "cell_type": "markdown",
   "metadata": {},
   "source": [
    "Istraživanja nad grafovima imaju svoje početke u radu Leonarda Ojlera i problema sedam mostova Kenigsberga, kojeg je Ojler prvi formalizovao i dao rešenje 1736. godine. Danas grafovi nalaze široku primenu u svim oblastima koje imaju veze sa organizacijom i optimizacijom kao što su računarstvo, telekomunikacije, saobraćaj... kao i u mnogim naukama kao što su fizika, hemija, biologija, pa čak i društvenim naukama, kao što su sociologija."
   ]
  },
  {
   "cell_type": "markdown",
   "metadata": {},
   "source": [
    "## Definicija grafa, tipovi grafa"
   ]
  },
  {
   "cell_type": "markdown",
   "metadata": {},
   "source": [
    "**Definicija** Usmereni multigraf je uređena trojka $G = (V, E, \\psi)$ gde je $V \\neq \\emptyset$ skup čvorova, $E$ skup grana ($V \\cap E = \\emptyset$) i $\\psi = E \\rightarrow \\{(u, v) : u, v \\in V, u \\neq v\\}$ funkcija incidencije."
   ]
  },
  {
   "cell_type": "markdown",
   "metadata": {},
   "source": [
    "Za dva čvora $u, v \\in V$ za koje postoji $e \\in E$ takvo da $\\psi(e) = (u, v)$ kažemo da su **susedni** a za granu $e$ da je **incidentna** sa čvorovima $u, v$"
   ]
  },
  {
   "cell_type": "markdown",
   "metadata": {},
   "source": [
    "Ukoliko postoje dve grane $e, e' \\in E$ takve da $\\psi(e) = \\psi(e')$ kažemo da su one **paralelne**."
   ]
  },
  {
   "cell_type": "markdown",
   "metadata": {},
   "source": [
    "Grana može imati početak i kraj u istom čvoru - takve grane se nazivaju **petlje**"
   ]
  },
  {
   "cell_type": "markdown",
   "metadata": {},
   "source": [
    "Na sledećoj slici je primer usmerenog grafa $G = (V, E, \\psi)$, gde je $V = \\{a, b, c, d\\}$, $E = \\{e_1, e_2, e_3, e_4, e_5\\}$ i $\\psi = \\bigl(\\begin{smallmatrix} e_1&e_2&e_3&e_4&e_5 \\\\ (a, b)&(b, d)&(c, d)&(c, b)&(b, c) \\end{smallmatrix} \\bigr)$"
   ]
  },
  {
   "cell_type": "markdown",
   "metadata": {},
   "source": [
    "![Usmereni graf](usmereni_graf.png)"
   ]
  },
  {
   "cell_type": "markdown",
   "metadata": {},
   "source": [
    "**Definicija** Prost (*neusmeren*) par je uređeni par $G = (V, E)$ gde je $V \\neq \\emptyset$ skup čvorova i $E \\subseteq \\binom{V}{2}$ skup grana."
   ]
  },
  {
   "cell_type": "markdown",
   "metadata": {},
   "source": [
    "Ako je $e=\\{u, v\\} \\in E$, grana $e$ je incidentna sa $u$ i $v$ i čvorovi $u$ i $v$ su susedni."
   ]
  },
  {
   "cell_type": "markdown",
   "metadata": {},
   "source": [
    "Primer za neusmereni graf $G = (V, E)$ je dat na sledećoj slici, gde je $V = \\{a, b, c, d\\}$ i $E = \\{\\{a, b\\},\\{b, d\\},\\{c, d\\},\\{b, c\\}\\}$ Primetimo da prost graf po definiciji ne može imati paralelne grane niti petlje."
   ]
  },
  {
   "cell_type": "markdown",
   "metadata": {},
   "source": [
    "![Neusmereni graf](neusmereni_graf.png)"
   ]
  },
  {
   "cell_type": "code",
   "execution_count": null,
   "metadata": {},
   "outputs": [],
   "source": [
    "# Grafovi kao strukture podataka se često koriste u programiranju\n",
    "# Dve najčešće predstave grafa su pomoću matrice incidencije i liste susedstva\n",
    "\n",
    "# Matrica incidencije - svaki red i kolona se dodeljuju jednom čvoru, u preseku kolone i reda dva čvora se nalazi\n",
    "# 1 ukoliko između njih postoji grana\n",
    "graph = [[0, 1, 0, 0],\n",
    "        [1, 0, 1, 1],\n",
    "        [0, 1, 0, 1],\n",
    "        [0, 1, 1, 0]]\n",
    "\n",
    "# Lista susedstva - asocijativna mapa gde parove ključ - vrednost čine čvor i lista svih drugih čvorova s kojima je\n",
    "# taj čvor povezan\n",
    "graph = {'a':['b'], 'b':['a', 'c', 'd'], 'c':['b', 'd'], 'd':['b', 'c']}"
   ]
  },
  {
   "cell_type": "markdown",
   "metadata": {},
   "source": [
    "## Stepen čvora u grafu"
   ]
  },
  {
   "cell_type": "markdown",
   "metadata": {},
   "source": [
    "Neka je $G=(V, E)$ prost graf i neka je $v \\in V$ proizvoljni čvor grafa $G$"
   ]
  },
  {
   "cell_type": "markdown",
   "metadata": {},
   "source": [
    "Definisaćemo sada neke pojmove vezane za grafove"
   ]
  },
  {
   "cell_type": "markdown",
   "metadata": {},
   "source": [
    "- **Okolina čvora** je skup definisan sa $$N_G(u) = \\{v \\in V : \\{u, v\\} \\in E\\}$$ odnosno, skup svih čvorova susednih sa $u$. Koristi se još i oznaka $\\omega_G(u)$"
   ]
  },
  {
   "cell_type": "markdown",
   "metadata": {},
   "source": [
    "- **Stepen čvora** $d_G(u)$ se definiše kao broj čvorova susednih sa $u$, tj. $d_G(u) = |N_G(u)|$"
   ]
  },
  {
   "cell_type": "markdown",
   "metadata": {},
   "source": [
    "- Skup svih grana incidentnih sa datim čvorom $v$ se obeležava sa $\\Omega_G(u)$. Očigledno, važi da je $|N_G(u)|=|\\Omega_G(u)| = d_G(u)$"
   ]
  },
  {
   "cell_type": "markdown",
   "metadata": {},
   "source": [
    "- Specijalno, uvode se oznake $\\delta(G) = \\min_{v \\in V} d_G(v)$ i $\\Delta(G) = \\max_{v \\in V} d_G(v)$"
   ]
  },
  {
   "cell_type": "markdown",
   "metadata": {},
   "source": [
    "- Graf $G$ je **regularan** ako su sve grane jednakog stepena, tj. ako važi $\\delta(v) = \\Delta(v)$"
   ]
  },
  {
   "cell_type": "markdown",
   "metadata": {},
   "source": [
    "**Teorema** (*Osnovna teorema teorije grafova*) Za svaki prost graf $G = (V, E)$ važi $$\\sum_{v \\in V} d_G(v) = 2|E|$$"
   ]
  },
  {
   "cell_type": "markdown",
   "metadata": {},
   "source": [
    "**Dokaz** $d_G(v)$ je po definiciji jednak broju svih čvorova susednih sa $v$. Čvor $v$ je svakim od tih čvorova povezan jednom granom, dakle $d_G(v)$ je ujedno i broj svih grana incidentnih sa $v$. Kako je svaka grana incidentna sa tačno dva čvora, sabiranjem stepena svih čvorova prebrojavamo svaku granu u grafu dvaput, iz čega sledi tvrđenje."
   ]
  },
  {
   "cell_type": "markdown",
   "metadata": {},
   "source": [
    "Iz ovog tvrđenja izvodimo mnoge teoreme vezane za grafove. Navedimo neke njene posledice."
   ]
  },
  {
   "cell_type": "markdown",
   "metadata": {},
   "source": [
    "**Posledica 1** Prost graf ima paran broj čvorova neparnog stepena."
   ]
  },
  {
   "cell_type": "markdown",
   "metadata": {},
   "source": [
    "**Dokaz** Posmatrajmo graf $G = (V, E)$. Neka je $V_1$ skup svih čvorova parnog, a $V_2$ skup svih čvorova neparnog stepena. Kako su ta dva skupa disjunktna, možemo zapisati $$\\sum_{v \\in V} d_G(v) = \\sum_{v_1 \\in V_1} d_G(v_1) + \\sum_{v_2 \\in V_2} d_G(v_2) = 2|E|$$"
   ]
  },
  {
   "cell_type": "markdown",
   "metadata": {},
   "source": [
    "Iz date jednakosti dobijamo $\\sum_{v_2 \\in V_2} d_G(v_2) = 2|E| - \\sum_{v_1 \\in V_1} d_G(v_1)$ Kako je izraz sa desne strane paran, dobijamo da je $\\sum_{v_2 \\in V_2} d_G(v_2)$, odnosno zbir stepena svih čvorova sa neparnim stepenom, paran. To je jedino moguće ukoliko imamo paran broj neparanih sabiraka, iz čega sledi tvrđenje."
   ]
  },
  {
   "cell_type": "markdown",
   "metadata": {},
   "source": [
    "**Posledica 2** Ako prost graf ima neparan broj čvorova, bar jedan je parnog stepena."
   ]
  },
  {
   "cell_type": "markdown",
   "metadata": {},
   "source": [
    "**Dokaz** Pretpostavimo suprotno. Neka su svi čvorovi neparnog stepena. To je u kontradikciji s prethodnom posledicom, jer znamo da prost graf može imati samo paran broj čvorova neparnog stepena. Dakle, bar jedan čvor u grafu je parnog stepena."
   ]
  },
  {
   "cell_type": "markdown",
   "metadata": {},
   "source": [
    "**Posledica 3** Neka u grafu $G = (V, E)$ važi da je $|V| = n$ i $|E| < n$. Onda postoji čvor $v \\in V$ takav da je $d_G(v) \\leq 1$."
   ]
  },
  {
   "cell_type": "markdown",
   "metadata": {},
   "source": [
    "**Dokaz** Pretpostavimo suprotno $$(\\forall v \\in V) (d_G(v) \\geq 2)$$ Računanjem zbira stepena svih čvorova dobijamo $$\\sum_{v \\in V} d_G(v) \\geq 2|V| = 2n > 2|E|$$ što je kontradikcija sa početnom pretpostavkom."
   ]
  },
  {
   "cell_type": "markdown",
   "metadata": {},
   "source": [
    "## Posebne klase grafova"
   ]
  },
  {
   "cell_type": "markdown",
   "metadata": {},
   "source": [
    "Određeni grafovi će nam biti interesantni za dalje razmatranje."
   ]
  },
  {
   "cell_type": "markdown",
   "metadata": {},
   "source": [
    "**Definicija** Kompletan graf $K_n=(V, E)$ je graf sa $n$ čvorova u kojem je svaki par čvorova povezan granom, tj. graf za koji važi $|V|=n$ i $E=\\binom{V}{2}$"
   ]
  },
  {
   "cell_type": "markdown",
   "metadata": {},
   "source": [
    "Primer kompletnog grafa je $K_6$"
   ]
  },
  {
   "cell_type": "markdown",
   "metadata": {},
   "source": [
    "![Graf K6](k6_graf.png)"
   ]
  },
  {
   "cell_type": "markdown",
   "metadata": {},
   "source": [
    "**Definicija** Prazan graf $\\overline{K_n} = (V, E)$ je graf sa $n$ čvorova u kojem nijedan čvor nije povezan granom, tj. $|V| = n$ i $E = \\emptyset$"
   ]
  },
  {
   "cell_type": "markdown",
   "metadata": {},
   "source": [
    "Primer praznog grafa je $\\overline{K_6}$"
   ]
  },
  {
   "cell_type": "markdown",
   "metadata": {},
   "source": [
    "![Prazan K6 graf](k6_prazan.png)"
   ]
  },
  {
   "cell_type": "markdown",
   "metadata": {},
   "source": [
    "**Definicija** Bipartitni graf $G=(V, E)$ je graf za koji važi da mu se čvorovi mogu razbiti u dva disjunktna skupa takva da među čvorovima u istom skupu ne postoji grana tj. $$V = V_1 \\cup V_2 \\land V_1 \\cap V_2 = \\emptyset \\land E \\subseteq \\{(v_1, v_2) : v_1 \\in V_1, v_2 \\in V_2\\}$$"
   ]
  },
  {
   "cell_type": "markdown",
   "metadata": {},
   "source": [
    "**Definicija** Kompletan bipartitni graf $K_{m, n}$ je bipartitni graf čiji se čvorovi mogu razbiti u dva disjunktna skupa od $m$ i $n$ elemenata, takvi da je proizvoljni čvor iz jednog skupa povezan sa svakim čvorom iz drugog skupa i nepovezan sa svakim čvorom iz svog skupa tj. $$V = V_1 \\cup V_2 \\land V_1 \\cap V_2 = \\emptyset \\land |V_1|=m \\land |V_2|=n \\land E = \\{(v_1, v_2) : v_1 \\in V_1, v_2 \\in V_2\\}$$"
   ]
  },
  {
   "cell_type": "markdown",
   "metadata": {},
   "source": [
    "Primer za kompletni bipartitni graf je graf $K_{2, 3}$"
   ]
  },
  {
   "cell_type": "markdown",
   "metadata": {},
   "source": [
    "![Graf K2,3](bipartitni23.png)"
   ]
  },
  {
   "cell_type": "markdown",
   "metadata": {},
   "source": [
    "## Jednakost i izomorfizam grafova"
   ]
  },
  {
   "cell_type": "markdown",
   "metadata": {},
   "source": [
    "**Definicija** Dva grafa su jednaka ukoliko su im skupovi čvorova i skupovi grana jednaki."
   ]
  },
  {
   "cell_type": "markdown",
   "metadata": {},
   "source": [
    "Na primer, svi grafovi na sledećoj slici su jednaki."
   ]
  },
  {
   "cell_type": "markdown",
   "metadata": {},
   "source": [
    "![Jednaki grafovi](jednaki_grafovi.png)"
   ]
  },
  {
   "cell_type": "markdown",
   "metadata": {},
   "source": [
    "**Definicija** Grafovi $G_1 = (V_1, E_1)$ i $G_2 = (V_2, E_2)$ su izomorfni (u oznaci $G_1 \\cong G_2$) ukoliko se može konstruisati bijekcija $f: V_1 \\rightarrow V_2$ sa osobinom da $\\{u, v\\} \\in E_1$ ako i samo ako $\\{f(u), f(v)\\} \\in E_2$. Takvu funkciju nazivamo **izomorfizam grafa $G_1$ u $G_2$**"
   ]
  },
  {
   "cell_type": "markdown",
   "metadata": {},
   "source": [
    "Prikažimo primer dva izomorfna grafa"
   ]
  },
  {
   "cell_type": "markdown",
   "metadata": {},
   "source": [
    "![Izomorfizam grafova](izomorfizam_grafa.png)"
   ]
  },
  {
   "cell_type": "markdown",
   "metadata": {},
   "source": [
    "Između sledeća dva grafa se može konstruisati bijekcija $f = \\bigl(\\begin{smallmatrix} a&b&c&d&e \\\\ u&w&x&y&z \\end{smallmatrix} \\bigr)$"
   ]
  },
  {
   "cell_type": "markdown",
   "metadata": {},
   "source": [
    "Još jedan primer dva izomorfna grafa je dat na sledećoj slici."
   ]
  },
  {
   "cell_type": "markdown",
   "metadata": {},
   "source": [
    "![Još jedan par izomorfnih grafova](izomorfizam_grafa_2.png)"
   ]
  },
  {
   "cell_type": "markdown",
   "metadata": {},
   "source": [
    "Iako ova dva grafa na prvi pogled ne izgledaju izomorfno, između njih se zaista može konstruisati bijekcija $f = \\bigl(\\begin{smallmatrix} p&q&r&s&t \\\\ k&l&o&m&n \\end{smallmatrix} \\bigr)$"
   ]
  },
  {
   "cell_type": "markdown",
   "metadata": {},
   "source": [
    "Činjenica da su dva grafa izomorfna nam je značajna zato što svi izomorfni grafovi dele neke zajedničke osobine."
   ]
  },
  {
   "cell_type": "markdown",
   "metadata": {},
   "source": [
    "**Definicija** Neka je $f$ funkcija definisana nad skupom grafova. Ukoliko za svaka dva grafa $G_1$ i $G_2$ za koje važi $G_1 \\cong G_2$ sledi da je $f(G_1) = f(G_2)$, funkciju $f$ nazivamo **invarijantom grafa**."
   ]
  },
  {
   "cell_type": "markdown",
   "metadata": {},
   "source": [
    "Neke često korišćene invarijante grafa su: broj čvorova, broj grana, sortirani niz stepena svih čvorova..."
   ]
  },
  {
   "cell_type": "markdown",
   "metadata": {},
   "source": [
    "Na osnovu zakona kontrapozicije sledi da, ukoliko je funkcija $f$ invarijanta i za grafove $G_1$ i $G_2$ važi $G_1 \\neq G_2$, sledi da grafovi $G_1$ i $G_2$ NISU izomorfni. Zbog ove osobine nam invarijante grafova mogu pomoći pri proveri izomorfnosti između dva grafa."
   ]
  },
  {
   "cell_type": "markdown",
   "metadata": {},
   "source": [
    "**Teorema** Relacija $\\cong$ je relacija ekvivalencije nad skupom grafova."
   ]
  },
  {
   "cell_type": "markdown",
   "metadata": {},
   "source": [
    "**Dokaz** Da bismo dokazali da je $\\cong$ relacija ekvivalencije, moramo dokazati da je refleksivna, simetrična i tranzitivna. Dokažimo da data relacija poseduje sve navedene osobine."
   ]
  },
  {
   "cell_type": "markdown",
   "metadata": {},
   "source": [
    "*(Refleksivnost)* Za svaki graf $G=(V, E)$ možemo konstruisati identitetsku funkciju $f: V \\rightarrow V$ koja svaki čvor preslikava u samog sebe, tj. $f(v) = v$. Zamenom $f(v)$ u iskaz $\\{u, v\\} \\in E$ dobijamo $\\{f(u), f(v)\\} \\in E$ i obratno, iz čega sledi da je funkcija $f$ izomorfizam grafa u samog sebe, iz čega sledi $G \\cong G$"
   ]
  },
  {
   "cell_type": "markdown",
   "metadata": {},
   "source": [
    "*(Simetričnost)* Neka su $G_1 = (V_1, E_1)$ i $G_2 = (V_2, E_2)$ dva grafa za koja važi $G_1 \\cong G_2$ i neka je $f: V_1 \\rightarrow V_2$ izomorfizam iz $G_1$ u $G_2$. Po osobini izomorfizma, sledi da $\\{u, v\\} \\in E_1$ ako i samo ako $\\{f(u), f(v)\\} \\in E_2$ Kako je svaki izomorfizam bijekcija, sledi da postoji funkcija $f^{-1}: V_2 \\rightarrow V_1$ za koju važi $f^{-1}(f(v)) = v$. Neka je $f(u) = u'$ i $f(v) = v'$. Zamenom svih jednakosti u prethodni iskaz dobijamo da $\\{f^{-1}(u'), f^{-1}(v')\\} \\in E_1$ ako i samo ako $\\{u', v'\\} \\in E_2$, iz čega sledi da je $f^{-1}$ izomorfizam iz $G_2$ u $G_1$, tj. $G_2 \\cong G_1$"
   ]
  },
  {
   "cell_type": "markdown",
   "metadata": {},
   "source": [
    "*(Tranzitivnost)* Neka su $G_1 = (V_1, E_1)$, $G_2 = (V_2, E_2)$ i $G_3 = (V_3, E_3)$ tri grafa za koja važi $G_1 \\cong G_2$ i $G_2 \\cong G_3$ i neka su $f_{12}: V_1 \\rightarrow V_2$ i $f_{23}: V_2 \\rightarrow V_3$ izomorfizmi, redom. Znamo da $\\{u, v\\} \\in E_1$ ako i samo ako $\\{f_{12}(u), f_{12}(v)\\} \\in E_2$ i $\\{u, v\\} \\in E_2$ ako i samo ako $\\{f_{23}(u), f_{23}(v)\\} \\in E_3$. Neka je $f_{13} = f_{23} \\circ f_{12}$ "
   ]
  },
  {
   "cell_type": "markdown",
   "metadata": {},
   "source": [
    "Iz $G_1 \\cong G_2$ imamo da je $\\{u, v\\} \\in E_1$ ako i samo ako $\\{f_{12}(u), f_{12}(v)\\} \\in E_2$, a zatim iz $G_2 \\cong G_3$ imamo da je $\\{f_{12}(u), f_{12}(v)\\} \\in E_2$ ako i samo ako $\\{f_{23}(f_{12}(u)), f_{23}(f_{12}(v))\\} \\in E_3$, odnosno $\\{u, v\\} \\in E_1$ ako i samo ako $\\{f_{13}(u), f_{13}(v)\\} \\in E_3$ iz čega sledi da je $f_{13}$ izomorfizam iz $G_1$ u $G_3$, odnosno da je $G_1 \\cong G_3$"
   ]
  },
  {
   "cell_type": "markdown",
   "metadata": {},
   "source": [
    "Ovime smo dokazali da je relacija izomorfnosti relacija ekvivalencije nad skupom grafova."
   ]
  },
  {
   "cell_type": "markdown",
   "metadata": {},
   "source": [
    "## Operacije nad grafovima"
   ]
  },
  {
   "cell_type": "markdown",
   "metadata": {},
   "source": [
    "**Definicija** Graf $G_1 = (V_1, E_1)$ je **podgraf** grafa $G=(V, E)$ ako važi da je $V_1 \\subseteq V$ i $E_1 \\subseteq E$. Pošto je $G_1$ graf, važi da je $E_1 \\subseteq \\binom{V_1}{2}$. Specijalno, kažemo da je $G_1$ **pravi podgraf** $G$ ukoliko $V_1 \\neq V$"
   ]
  },
  {
   "cell_type": "markdown",
   "metadata": {},
   "source": [
    "Primer grafa i jednog njegovog podgrafa je dat na sledećoj slici."
   ]
  },
  {
   "cell_type": "markdown",
   "metadata": {},
   "source": [
    "![Graf i podgraf](graf_podgraf.png)"
   ]
  },
  {
   "cell_type": "markdown",
   "metadata": {},
   "source": [
    "**Definicija** Graf $G_1=(V_1, E_1)$ je podgraf grafa $G=(V, E)$ indukovan skupom čvorova $V_1$ ukoliko važi da je $E_1 = \\binom{V_1}{2} \\cap E$ tj. grana $\\{u, v\\}$ pripada podgrafu $G_1$ ako i samo ako $u, v \\in V_1$ i $\\{u, v\\} \\in E$"
   ]
  },
  {
   "cell_type": "markdown",
   "metadata": {},
   "source": [
    "Prikažimo sada primer grafa, indukovanog podgrafa nad skupom čvorova i podgrafa nad istim skupom koji nije indukovan."
   ]
  },
  {
   "cell_type": "markdown",
   "metadata": {},
   "source": [
    "![Graf, njegov indukovani podgraf i podgraf koji nije indukovan](indukovani_podgraf.png)"
   ]
  },
  {
   "cell_type": "markdown",
   "metadata": {},
   "source": [
    "Vidimo da između skupa čvorova $V_1= \\{b, d, e, f\\}$ u prvom grafu postoje grane $E_1 = \\{\\{b, d\\},\\{b, e\\},\\{b, f\\},\\{d, e\\},\\{e, f\\}\\}$ i da ta dva skupa upravo indukovani podgraf nad datim čvorovima (drugi graf). S druge strane, treći graf sadrži iste čvorove, ali ne i sve grane iz $E_1$ pa on onda NIJE indukovani podgraf nad skupom čvorova $V_1$, već je samo podgraf prvog grafa."
   ]
  },
  {
   "cell_type": "markdown",
   "metadata": {},
   "source": [
    "**Definicija** Graf dobijen oduzimanjem čvora od $G=(V, E)$ je graf $G - v = (V \\backslash {v}, E_1)$ takav da $E_1 = E \\backslash \\{\\{u, v\\}:\\{u, v\\} \\in E\\}$"
   ]
  },
  {
   "cell_type": "markdown",
   "metadata": {},
   "source": [
    "![Indukovani podgraf](graf_minus.png)"
   ]
  },
  {
   "cell_type": "markdown",
   "metadata": {},
   "source": [
    "**Definicija** Komplement grafa $G = (V, E)$ je graf $\\overline{G} = (V, \\binom{V}{2} \\backslash E)$"
   ]
  },
  {
   "cell_type": "markdown",
   "metadata": {},
   "source": [
    "![Graf i njegov komplement](komplement_grafa.png)"
   ]
  },
  {
   "cell_type": "markdown",
   "metadata": {},
   "source": [
    "Za prvi graf $G_1 = (V_1, E_1)$ imamo da $V_1 = \\{a, b, c, d\\}$ i $E_1 = \\{\\{a, b\\},\\{b, c\\},\\{c, d\\}\\}$. Za drugi graf $G_2 = (V_2, E_2)$ važi da je $V_2 = \\{a, b, c, d\\} = V_1$ i da je $E_2 = \\{\\{a, c\\},\\{a, d\\},\\{b, d\\}\\} = \\binom{V}{2} \\backslash E_1$, iz čega sledi da je $G_2 = \\overline{G_1}$"
   ]
  }
 ],
 "metadata": {
  "language_info": {
   "name": "python"
  }
 },
 "nbformat": 4,
 "nbformat_minor": 2
}
