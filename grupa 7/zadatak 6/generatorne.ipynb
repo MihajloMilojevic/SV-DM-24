{
 "cells": [
  {
   "cell_type": "markdown",
   "metadata": {
    "id": "WyX3EB9_Ht4G"
   },
   "source": [
    "# Generatorne funkcije nizova"
   ]
  },
  {
   "cell_type": "markdown",
   "metadata": {
    "id": "px2wAKYgHt4H"
   },
   "source": [
    "U ovoj lekciji upoznaćemo se sa pojmom funkcija generatrisa (generatornih funkcija), koje predstavljaju koristan alat u matematici, posebno u kombinatorici i analizi nizova. Funkcije generatrise omogućavaju nam da “kodiramo” informacije o nizu kroz koeficijente beskonačnog stepenog reda. Korišćenjem ovih funkcija, možemo rešavati razne probleme koji se odnose na prebrojavanje, analizu nizova, kao i rekurentne relacije. Takođe ćemo prikazati neke od najčešće korišćenih generatornih funkcija i demonstrirati njihove primene kroz konkretne primere i formule."
   ]
  },
  {
   "cell_type": "markdown",
   "metadata": {
    "id": "AOCmSLGSHt4I"
   },
   "source": [
    "## Pre nego što počnemo... podsetnik"
   ]
  },
  {
   "cell_type": "markdown",
   "metadata": {
    "id": "vP-GHJSM6fdY"
   },
   "source": [
    "Da bismo uveli pojam generatornih funkcija, potrebno je da se podsetimo pojma redova. Iako su redovi i generatorne funkcije slični, postoje važne razlike između njih koje ćemo razjasniti."
   ]
  },
  {
   "cell_type": "markdown",
   "metadata": {
    "id": "ZjSThmYXHt4I"
   },
   "source": [
    "**Definicija** Stepeni red je beskonačna suma $$\\sum^{\\infty}_{i = 0} a_ix^i = a_0+a_1x+a_2x^2+a_3x^3+...+a_nx^n+...$$"
   ]
  },
  {
   "cell_type": "markdown",
   "metadata": {
    "id": "6HRzS04a7QAE"
   },
   "source": [
    "U ovom izrazu, koeficijenti\n",
    "$a_i$ čine niz koji red generiše, a $x$ je promenljiva koja je osnova svakog člana. Ovaj oblik koristi se u mnogim oblastima matematike kao sredstvo za reprezentaciju funkcija pomoću beskonačnih suma."
   ]
  },
  {
   "cell_type": "markdown",
   "metadata": {
    "id": "awWJSNYlHt4J"
   },
   "source": [
    "**Teorema** Jedan poseban tip stepenog reda je beskonačni geometrijski niz. Zbir svih članova beskonačnog geometrijskog niza u kojem je $|x|<1$ zadat je formulom $$b + bx + bx^2 + ... + bx^n + ... = \\frac{b}{1-x}$$"
   ]
  },
  {
   "cell_type": "markdown",
   "metadata": {
    "id": "nTvSUd2-Ht4K"
   },
   "source": [
    "**Dokaz** Neka je $S$ zbir elemenata datog beskonačnog geometrijskog niza. Znamo da je $$S = b + bx + bx^2 + bx^3 + ...$$ Množenjem datog izraza sa $x$ dobijamo $$xS = bx + bx^2 + bx^3 + bx^4 + ...$$ Oduzimanjem prethodne dve jednakosti dobijamo $$(1 -x)S = b \\implies S = \\frac{b}{1-x}$$"
   ]
  },
  {
   "cell_type": "markdown",
   "metadata": {
    "id": "ueW1CmAAHt4L"
   },
   "source": [
    "## Definicija generatornih funkcija"
   ]
  },
  {
   "cell_type": "markdown",
   "metadata": {
    "id": "3xQDFfvhHt4L"
   },
   "source": [
    "**Definicija** Neka je $(a_0, a_1, a_2, ... , a_n, ...)$ niz realnih brojeva, tj. beskonačna uređena torka. Otvorena forma funkcije generatrise datog niza je onda stepeni red\n",
    "$$\\sum_{n \\geq 0} a_n z^n = a_0 + a_1 z + a_2 z^2 + \\dots + a_n z^n + \\dots$$\n"
   ]
  },
  {
   "cell_type": "markdown",
   "metadata": {
    "id": "iHXkce-P9FZ0"
   },
   "source": [
    "*Uvodimo pojam zatvorene forme* : Da ne bismo pisali otvorenu formu, generatornu funkciju možemo predstaviti i kroz zatvorenu formu $$\\sum_{n \\geq 0} a_n z^n = A(z)$$"
   ]
  },
  {
   "cell_type": "markdown",
   "metadata": {
    "id": "jPtSAwMn5kFk"
   },
   "source": [
    "***Primetimo!*** Generatorna funkcija je red samo u simboličkom smislu, jer promenljiva $z$ nije nepoznata i nikad ne dobija vrednost. Ona samo nosi eksponent da bi se znalo koji član po redu je u pitanju. Time nas ne zanima nikakva konvergencija, kao što je to slučaj kod redova."
   ]
  },
  {
   "cell_type": "markdown",
   "metadata": {
    "id": "yxnXPbYLHt4L"
   },
   "source": [
    "**Primer** (*Važna generatorna funkcija!* ) Posmatrajmo niz $\\{a_n\\}_{n \\in \\mathbb{N}}$ takav da je $(\\forall n \\in \\mathbb{N}) a_n = 1$ tj. $$(1, 1, 1,1, ...)$$ Njegova funkcija generatrisa je stepeni red sledećeg oblika $$A(z) = 1 + z + z^2 + z^3 ...$$ što se, primenom formule za zbir beskonačnog geometrijskog reda koja je data svodi na $$A(z) = \\frac{1}{1-z}$$"
   ]
  },
  {
   "cell_type": "markdown",
   "metadata": {
    "id": "Dx40uuXuHt4M"
   },
   "source": [
    "## Osobine generatornih funkcija"
   ]
  },
  {
   "cell_type": "markdown",
   "metadata": {
    "id": "d1LMIxO7Ht4M"
   },
   "source": [
    "Posmatrajmo sledeće osobine funkcija generatrisa, koje nam mogu poslužiti za pronalaženje generatrise za proizvoljni niz. Dokaz ovih osobina sledi iz algebarskih osobina polinoma."
   ]
  },
  {
   "cell_type": "markdown",
   "metadata": {
    "id": "9LLebr9YHt4M"
   },
   "source": [
    "**Osobina $1$** (*sabiranje*) Neka su $(a_0, a_1, a_2, ...)$ i $(b_0, b_1, b_2, ...)$ dva niza i neka su $A(z)$ i $B(z)$ njihove zatvorene forme funkcije generatrise, redom. Generatrisa niza $(a_0 + b_0, a_1 + b_1, a_2 + b_2, ...)$ je onda $A(z) + B(z)$"
   ]
  },
  {
   "cell_type": "markdown",
   "metadata": {
    "id": "tb3MxMHXHt4N"
   },
   "source": [
    "**Osobina $2$** (*skaliranje*) Neka je $(a_0, a_1, a_2, ...)$ niz i neka je $A(z)$ njegova generatrisa. Generatrisa niza $(ca_0, ca_1, ca_2, ...)$ gde je $c$ realan broj data je sa $cA(z)$"
   ]
  },
  {
   "cell_type": "markdown",
   "metadata": {
    "id": "IFlDheUvHt4N"
   },
   "source": [
    "**Osobina $3$** Neka je $(a_0, a_1, a_2, ...)$ niz i neka je $A(z)$ njegova generatrisa. Generatrisa niza $(a_0, ca_1, c^2a_2, c^3a_3 ...)$ gde je $c$ realan broj data je sa $A(cz)$"
   ]
  },
  {
   "cell_type": "markdown",
   "metadata": {
    "id": "cuyMmPuEHt4N"
   },
   "source": [
    "**Osobina $4$** (*desno pomeranje*) Neka je $(a_0, a_1, a_2, a_3, ...)$ niz i neka je $A(z)$ njegova generatrisa. Generatrisa niza $(0, 0, 0, ... 0, a_0, a_1, a_2, ...)$ gde niz počinje sa $n$ nula je $z^nA(z)$"
   ]
  },
  {
   "cell_type": "markdown",
   "metadata": {
    "id": "ykYwghHyHt4O"
   },
   "source": [
    "**Osobina $5$** (*levo pomeranje*) Ako je $A(z)$ generatrisa niza $(a_0, a_1, a_2, ...)$, onda je generatrisa niza $(a_n, a_{n+1}, a_{n+2}, ...)$ jednaka $$\\frac{A(z) - (a_0 + a_1z + a_2z^2 + ... + a_{n-1}z^{n-1})}{z^n}$$"
   ]
  },
  {
   "cell_type": "markdown",
   "metadata": {
    "id": "j9CdBzMiHt4O"
   },
   "source": [
    "**Osobina $6$** Ako je $A(z)$ generatrisa niza $(a_0, a_1, a_2, ...)$, onda je generatrisa niza $(a_0, 0, 0, ..., 0, a_1, 0, 0, ... 0, a_2, ...)$ gde između svakog ne-nultog člana imamo $n-1$ nula jednaka $A(z^{n})$"
   ]
  },
  {
   "cell_type": "markdown",
   "metadata": {
    "id": "7kPJ43fRnS9P"
   },
   "source": [
    "**Osobina $7$** (*množenje*) Neka su $(a_0, a_1, a_2, ...)$ i $(b_0, b_1, b_2, ...)$ dva niza i neka su $A(z)$ i $B(z)$ njihove funkcije generatrise, redom. Funkcija $A(z) \\cdot B(z)$ je onda generatrisa niza čiji je opšti član dat sa $$c_n = \\sum_{i=0}^{n} a_i b_{n-i}$$"
   ]
  },
  {
   "cell_type": "markdown",
   "metadata": {
    "id": "_WuXASLonfmT"
   },
   "source": [
    "**Osobina $8$** (*diferenciranje*) Neka je $(a_0, a_1, a_2, ...)$ niz i neka je $A(z)$ njegova generatrisa. Generatrisa niza $(a_1, 2a_2, 3a_3,..., na_n, ...)$ data je sa $A'(z)$"
   ]
  },
  {
   "cell_type": "markdown",
   "metadata": {
    "id": "zf6RY_mLnqaV"
   },
   "source": [
    "**Osobina $9$** (*integraljenje*) Neka je $(a_0, a_1, a_2, ...)$ niz i neka je $A(z)$ njegova generatrisa. Generatrisa niza $(0, a_0, \\frac{1}{2} a_1, \\frac{1}{3} a_2 ..., \\frac{1}{n} a_{n-1}, ...)$ data je sa $\\int^{z}_{0} A(t) dt$"
   ]
  },
  {
   "cell_type": "markdown",
   "metadata": {
    "id": "xaX2vOu4pdVd"
   },
   "source": [
    "### Računanje funkcije generatrise datog niza"
   ]
  },
  {
   "cell_type": "markdown",
   "metadata": {
    "id": "LU1u0YmdHt4O"
   },
   "source": [
    "Pomoću ovih osobina  i činjenice da je generatrisa niza $(1, 1, 1, ...)$ jednaka $A(z) = \\frac{1}{1-z}$ možemo naći generatrisu skoro svakog realnog niza"
   ]
  },
  {
   "cell_type": "markdown",
   "metadata": {
    "id": "3u6KtX1tHt4P"
   },
   "source": [
    "**Primer 1** Naći funkciju generatrisu niza $(1, 1, 2, 2, 4, 4, 8, 8, ..)$"
   ]
  },
  {
   "cell_type": "markdown",
   "metadata": {
    "id": "t01l-sotHt4P"
   },
   "source": [
    "Započnimo od niza $(1, 1, 1, 1, ...)$ i njegove generatrise $$A(z) = \\frac{1}{1-z}$$ Primenom osobine $3$ dobijamo da je generatrisa niza $(1, 2, 4, 8, ...)$ jednaka $$B(z) = A(2z) = \\frac{1}{1-2z}$$ Zatim, primenom osobine $6$ dobijamo da je generatrisa niza $(1, 0, 2, 0, 4, 0,...)$ jednaka $$C(z) = B(z^2) = \\frac{1}{1-2z^2}$$ Nakon toga, primenom osobine $4$ dobijamo da je generatrisa niza $(0, 1, 0, 2, 0, 4, ...)$ jednaka $$D(z) = zC(z) = \\frac{z}{1-2z^2}$$ Konačno, sabiranjem prethodna dva niza i primenom osobine $1$ dobijamo da je generatrisa traženog niza $$E(z) = C(z) + D(z) = \\frac{1+z}{1-2z^2}$$"
   ]
  },
  {
   "cell_type": "markdown",
   "metadata": {
    "id": "WdXSRdVqq-o3"
   },
   "source": [
    "**Primer 2** Napisati otvoreni oblik funkcije $$\\frac{1}{1+2z} \\frac{1}{1-3z}$$"
   ]
  },
  {
   "cell_type": "markdown",
   "metadata": {
    "id": "ZG93mlSX4BFG"
   },
   "source": [
    "Počnimo opet od činjenice da je generatrisa niza $(1, 1, 1, ...)$ jednaka $$A(z) = \\frac{1}{1-z} = \\sum_{i=0}^{\\infty} z^n$$ Primenom osobine $3$ dobijamo $$B(z) = \\frac{1}{1+2z} = A(-2z) = \\sum_{n=0}^{\\infty} (-2z)^n = 1 - 2z + 4z^2 + ...$$ $$C(z) = \\frac{1}{1-3z} = A(3z) = \\sum_{n=0}^{\\infty} (3z)^n = 1 + 3z + 9z^2 + ...$$ (*Prvi način*) Množenjem ove dve funkcije dobijamo traženi otvoreni oblik $$D(z) = B(z) \\cdot C(z) = \\sum^{\\infty}_{n=0} \\sum^{n}_{i=0}(-2z)^{i}(3z)^{n-i}$$ (*Drugi način*) Dati proizvod možemo razložiti na zbir $$\\frac{2}{5}\\frac{1}{1+2z} + \\frac{3}{5} \\frac{1}{1-3z}$$ Zamenom funckija $B(z)$ i $C(z)$ dobijamo $$D(z) = \\frac{2}{5} B(z) + \\frac{3}{5} C(z) = \\sum^{\\infty}_{n=0} \\frac{3^{n+1} + (-1)^{n} 2^{n+1}}{5} z^n$$ Iako smo dobili dve različite otvorene forme, može se dokazati da su jednake, tako što ćemo pokazati da niz $a_n = \\sum^{n}_{i=0}(-2)^{i}(3)^{n-i}$ prati rekurentnu jednačinu $a_0 = 1, a_{n} = 3a_{n-1} + (-2)^{n}$, a zatim je rešiti i dobiti da je rešenje $a_n = \\frac{3^{n+1} + (-1)^{n} 2^{n+1}}{5}$"
   ]
  },
  {
   "cell_type": "code",
   "execution_count": null,
   "metadata": {
    "colab": {
     "base_uri": "https://localhost:8080/"
    },
    "id": "q4kw41e1NDn4",
    "outputId": "f30817da-0789-4d5c-abc7-567c30e2cea4"
   },
   "outputs": [
    {
     "name": "stdout",
     "output_type": "stream",
     "text": [
      "Unesite željeni broj članova niza: 10\n",
      "Unesite zatvorenu formu koristeći z kao simbol (npr. '1/(1 - z)'): z/(1-z-z**2)\n",
      "\n",
      "Prvih 10 članova niza:\n",
      "a(0) = 0\n",
      "a(1) = 1\n",
      "a(2) = 1\n",
      "a(3) = 2\n",
      "a(4) = 3\n",
      "a(5) = 5\n",
      "a(6) = 8\n",
      "a(7) = 13\n",
      "a(8) = 21\n",
      "a(9) = 34\n"
     ]
    }
   ],
   "source": [
    "import sympy as sp\n",
    "\n",
    "# Definišemo promijenljivu z:\n",
    "z = sp.symbols(\"z\")\n",
    "\n",
    "def generisi_funkciju_niza(zatvorena_forma, broj_clanova):\n",
    "    \"\"\"\n",
    "      Kreira funkciju niza iz zatvorene forme generatorne funkcije.\n",
    "\n",
    "    :param zatvorena_forma: Zatvorena forma generatorne funkcije (simbolički izraz u z).\n",
    "    :param broj_clanova: Broj članova za prikaz i računanje vrednosti.\n",
    "    :return: Funkcija koja računa n-ti član niza.\n",
    "    \"\"\"\n",
    "    # Razvijamo zatvorenu formu u stepeni red do željenog broja članova:\n",
    "    otvorena_forma = sp.series(zatvorena_forma, z, 0, broj_clanova).removeO()\n",
    "    # Uzimamo koeficijente redom (od z^0 do z^(broj_clanova-1)):\n",
    "    koeficijenti = [otvorena_forma.coeff(z, i) for i in range(broj_clanova)]\n",
    "\n",
    "    # Kreiramo funkciju niza koja vraća n-ti član:\n",
    "    def funkcija_niza(n):\n",
    "        if n < len(koeficijenti):\n",
    "            return koeficijenti[n]\n",
    "        else:\n",
    "            print(\"Nema dovoljno članova u razvijenom nizu. Povećajte broj članova.\")\n",
    "            return None\n",
    "\n",
    "    return funkcija_niza\n",
    "\n",
    "\n",
    "broj_clanova = int(input(\"Unesite željeni broj članova niza: \"))\n",
    "# Primjer za Fibonačijev niz: z/(1-z-z**2)\n",
    "unos = input(\"Unesite zatvorenu formu koristeći z kao simbol (npr. '1/(1 - z)'): \")\n",
    "\n",
    "try:\n",
    "    zatvorena_forma = sp.sympify(unos)\n",
    "except sp.SympifyError:\n",
    "    print(\"Greška pri unosu. Provjerite da li je izraz ispravno unijet.\")\n",
    "\n",
    "funkcija_niza = generisi_funkciju_niza(zatvorena_forma, broj_clanova)\n",
    "print(f\"\\nPrvih {broj_clanova} članova niza:\")\n",
    "for n in range(broj_clanova):\n",
    "    print(f\"a({n}) =\", funkcija_niza(n))\n"
   ]
  },
  {
   "cell_type": "markdown",
   "metadata": {
    "id": "XYQ3dQV5Ht4R"
   },
   "source": [
    "## Primena funkcija generatrisa"
   ]
  },
  {
   "cell_type": "markdown",
   "metadata": {
    "id": "9WlPRTpPHt4R"
   },
   "source": [
    "Generatorne funkcije predstavljaju moćan alat u kombinatorici i diskretnoj matematici, omogućavajući nam da na efikasan način analiziramo i manipulišemo nizovima i sekvencama podataka. Njihova primena obuhvata širok spektar problema, od prebrojavanja kombinatornih objekata, rešavanja rekurentnih relacija, pa sve do dokazivanja različitih identiteta. Kroz transformaciju diskretnih nizova u formalne funkcije, generatorne funkcije pružaju sredstvo za bolje razumevanje strukture i ponašanja nizova, što je naročito korisno u situacijama kada su klasične tehnike nedovoljno fleksibilne ili složene za analizu."
   ]
  },
  {
   "cell_type": "markdown",
   "metadata": {
    "id": "HGj9YNbiCFuL"
   },
   "source": [
    "### Generatorne funkcije i binomna formula"
   ]
  },
  {
   "cell_type": "markdown",
   "metadata": {
    "id": "KBlnmosh4VL6"
   },
   "source": [
    "**Definicija** Neka je $k$ nenegativan ceo broj, a $u$ proizvoljan realan broj. Uopšteni binomni koeficijent, u oznaci $\\binom{u}{k}$, definisan je sa\n",
    "$$\\binom{u}{k} = \\begin{cases} \\frac{u \\cdot (u-1) \\cdots (u - k + 1)}{k!} & \\text{ako je } k > 0 \\\\ 1 & \\text{ako je } k = 0. \\end{cases}$$"
   ]
  },
  {
   "cell_type": "markdown",
   "metadata": {
    "id": "algN-wlt5EpL"
   },
   "source": [
    "**Primeri**\n",
    "\n",
    "1. Za $\\binom{-1}{k}$ imamo: $$\\binom{-1}{k} = \\frac{(-1)(-2)(-3) \\dots (-1-k+1)}{k!} = \\frac{(-1)^k \\cdot 1 \\cdot 2 \\cdot \\dots \\cdot k}{k!} = (-1)^k$$\n",
    "\n",
    "2. Za $\\binom{-2}{k}$ imamo: $$\\binom{-2}{k} = \\frac{(-2)(-3) \\dots (-2-k+1)}{k!} = \\frac{(-1)^k \\cdot 2 \\cdot 3 \\cdot \\dots \\cdot (k+1)}{k!} = (k+1)(-1)^k$$\n",
    "\n",
    "3. Za $\\binom{-3}{k}$ imamo: $$\\binom{-3}{k} = \\frac{(-3)(-4) \\dots (-3-k+1)}{k!} = \\frac{(-1)^k \\cdot 3 \\cdot 4 \\dots (k+2)}{k!} \\cdot \\frac{2}{2} = \\frac{(k+2)(k+1)}{2}(-1)^k$$"
   ]
  },
  {
   "cell_type": "markdown",
   "metadata": {
    "id": "3STTmxE44soL"
   },
   "source": [
    "**Teorema** (*uopštena binomna formula*) Neka je $u$ proizvoljan realan broj. Tada je $$(1 + z)^u = \\sum_{n \\geq 0} \\binom{u}{n} z^n.$$"
   ]
  },
  {
   "cell_type": "markdown",
   "metadata": {
    "id": "XM7fLnRiHUmc"
   },
   "source": [
    "**Dokaz** Pomoću Maklorenovog polinoma, što je poznato iz algebre."
   ]
  },
  {
   "cell_type": "markdown",
   "metadata": {
    "id": "5_A54UZ4mNN5"
   },
   "source": [
    "**Primer** Odrediti otvoren oblik generatorne funkcije ako je njen zatvoren oblik:\n",
    "\n",
    "$$\\frac{1}{1 - cz} = (1 - cz)^{-1} = \\sum_{n \\geq 0} \\binom{-1}{n} (-cz)^n = \\sum_{n \\geq 0} (-1)^n (-1)^n (cz)^n = \\sum_{n \\geq 0} (cz)^n$$\n"
   ]
  },
  {
   "cell_type": "markdown",
   "metadata": {
    "id": "t_6pSR90jXyW"
   },
   "source": [
    "**Primer** Odrediti otvorene oblike generatornih funkcija, ako su zatvoreni oblici:\n",
    "1.   Za $\\frac{1}{(1 - z)^m}$ imamo:\n",
    "$$\\frac{1}{(1 - z)^m} = (1 - z)^{-m} = \\sum_{n \\geq 0} \\binom{-m}{n} (-z)^n = \\sum_{n \\geq 0} \\binom{m+n-1}{n} z^n$$\n",
    "2.   Za $\\frac{1}{(1 - z)^2}$ imamo:\n",
    "$$\\frac{1}{(1 - z)^2} = \\sum_{n \\geq 0} \\binom{n+1}{n} z^n = \\sum_{n \\geq 0} (n+1) z^n$$\n",
    "3. Za $\\frac{1}{(1 - z)^3}$ imamo:\n",
    "$$\\frac{1}{(1 - z)^3} = \\sum_{n \\geq 0} \\binom{n+2}{n} z^n = \\sum_{n \\geq 0} \\frac{(n+2)(n+1)}{2} z^n$$"
   ]
  },
  {
   "cell_type": "markdown",
   "metadata": {
    "id": "HPAlIPx0Fjqx"
   },
   "source": [
    "### Rešavanje rekurentnih relacija pomoću generatornih funkcija"
   ]
  },
  {
   "cell_type": "markdown",
   "metadata": {
    "id": "rYzf2w6hXizm"
   },
   "source": [
    "**Primer 1** Koristi generatorne funkcije da rešiš rekurentnu relaciju $a_n = 5a_{n-1} - 6a_{n-2}$ sa početnim uslovima $a_0 = 6$ i $a_1 = 30$.\n",
    "\n"
   ]
  },
  {
   "cell_type": "markdown",
   "metadata": {
    "id": "Mh5IxAeyYrSd"
   },
   "source": [
    "**Rešenje**\n",
    "Da bismo rešili rekurentnu relaciju $a_n = 5a_{n-1} - 6a_{n-2}$ sa početnim uslovima $a_0 = 6$ i $a_1 = 30$ koristeći generatorne funkcije, krenimo korak po korak.\n",
    "\n",
    "Definišemo generatornu funkciju: neka je $A(z) = \\sum_{n \\geq 0} a_n z^n$, generatorne funkcija za niz $(a_n)$.\n",
    "\n",
    "Rekurentna relacija glasi $a_n = 5a_{n-1} - 6a_{n-2}$, što možemo zapisati u obliku sume kao\n",
    "$$\\sum_{n \\geq 0} a_n z^n = 5 \\sum_{n \\geq 0} a_{n-1} z^n - 6 \\sum_{n \\geq 0} a_{n-2} z^n$$\n",
    "\n",
    "Da bismo izrazili sve sume u obliku $\\sum_{n \\geq 2} a_n z^n$, promenićemo indekse\n",
    "\n",
    "$$\\sum_{n \\geq 2} a_n z^n = A(z) - a_0 - a_1 z$$\n",
    "$$\\sum_{n \\geq 2} a_{n-1} z^n = z (A(z) - a_0)$$\n",
    "$$\\sum_{n \\geq 2} a_{n-2} z^n = z^2 A(z)$$\n",
    "\n",
    "Ubacujemo ove izraze nazad u relaciju\n",
    "$$A(z) - a_0 - a_1 z = 5z (A(z) - a_0) - 6z^2 A(z)$$\n",
    "\n",
    "Uvedemo početne uslove $a_0 = 6$ i $a_1 = 30$\n",
    "$$A(z) - 6 - 30z = 5z (A(z) - 6) - 6z^2 A(z)$$\n",
    "\n",
    "Pomerimo sve članove sa $A(z)$ na levu stranu i članove bez $A(z)$ na desnu\n",
    "$$A(z) - 5z A(z) + 6z^2 A(z) = 6$$\n",
    "\n",
    "Odavde je $A(z) = \\frac{6}{1-5z+6z^2} = \\frac{18}{1-3z}-\\frac{12}{1-2z}$.\n",
    "\n",
    "Sada, da bismo našli zatvorenu formu za $A(z)$, koristićemo sumu u obliku geometrijskog niza.\n",
    "\n",
    "Za prvi član\n",
    "\n",
    "$$\\frac{1}{1 - 2z} = \\sum_{n \\geq 0} (2z)^n = \\sum_{n \\geq 0} 2^n z^n$$\n",
    "\n",
    "Dakle, prvi član postaje\n",
    "\n",
    "$$\\frac{-12}{1 - 2z} = -12 \\sum_{n \\geq 0} 2^n z^n$$\n",
    "\n",
    "Za drugi član\n",
    "\n",
    "$$\\frac{1}{1 - 3z} = \\sum_{n \\geq 0} (3z)^n = \\sum_{n \\geq 0} 3^n z^n$$\n",
    "\n",
    "Dakle, drugi član postaje\n",
    "\n",
    "$$\\frac{18}{1 - 3z} = 18 \\sum_{n \\geq 0} 3^n z^n$$\n",
    "\n",
    "Sada možemo da napišemo $A(z)$ kao sumu\n",
    "\n",
    "$$A(z) = -12 \\sum_{n \\geq 0} 2^n z^n + 18 \\sum_{n \\geq 0} 3^n z^n $$\n",
    "\n",
    "tj.\n",
    "\n",
    "$$A(z) = \\sum_{n \\geq 0} \\left( -12 \\cdot 2^n + 18 \\cdot 3^n \\right) z^n$$\n",
    "\n",
    "Dakle, zatvorena forma za $A(z)$ je\n",
    "\n",
    "$$A(z) = \\sum_{n \\geq 0} \\left( -12 \\cdot 2^n + 18 \\cdot 3^n \\right) z^n$$\n",
    "\n",
    "Sledi da je eksplicitna formula za $a_n$ jednaka\n",
    "\n",
    "$$a_n = 6( 3^{n+1} - 2^{n+1})$$"
   ]
  },
  {
   "cell_type": "markdown",
   "metadata": {
    "id": "Hlol8RzgIC5x"
   },
   "source": [
    "**Primer 2** ( *formiranje rekurentne relacije* ) Računarski sistem smatra niz decimalnih cifara važećom kodnom rečju ako taj niz sadrži paran broj nula. Na primer, 1230407869 je validna kodna reč, dok 120987045608 nije. Postavite rekurentnu relaciju za $a_n$.\n"
   ]
  },
  {
   "cell_type": "markdown",
   "metadata": {
    "id": "6fAlrmj7UTgj"
   },
   "source": [
    "**Rešenje**\n",
    "\n",
    "Za $a_1$ imamo 10 mogućih jednocifrenih nizova (brojevi od 0 do 9). Međutim, broj 0 nije validan jer sadrži samo jednu cifru 0, što nije paran broj. Dakle, za $a_1 = 9$ postoji 9 validnih jednocifrenih kodnih reči (1, 2, 3, ..., 9).\n",
    "\n",
    "Zadatak je da pomoću rekurentne relacije pronađemo kako se broj validnih $n$-cifrenih kodnih reči može povezati sa brojem validnih $n-1$-cifrenih kodnih reči.\n",
    "\n",
    "Postoje dva disjunktna slučaja prema kojima možemo formirati validnu kodnu reč sa $n$ cifara:\n",
    "\n",
    "1. **Dodavanje cifre koja nije 0**: Ako imamo validan niz od $n-1$ cifara, možemo mu dodati bilo koju cifru osim 0 (1 do 9). Na ovaj način, broj validnih nizova se povećava za $9a_{n-1}$, jer možemo dodati jednu od 9 cifara na bilo koji od validnih nizova dužine $n-1$.\n",
    "\n",
    "2. **Dodavanje cifre 0 na nevalidan niz**: Ako imamo nevalidan niz od $n-1$ cifara, i na njega dodamo cifru 0, dobićemo validan niz sa $n$ cifara. Nevalidan niz od $n-1$ cifara mora imati **neparan** broj cifara 0 (jer će dodavanje 0 učiniti ukupan broj 0 cifara parnim). Dakle, broj takvih mogućnosti je broj nevalidnih nizova dužine $n-1$, što je $10^{n-1} - a_{n-1}$, jer postoji ukupno $10^{n-1}$ mogućih nizova, a $a_{n-1}$ njih je validno.\n",
    "\n",
    "Unija ova dva disjunktna skupa je, po principu zbira, ukupan broj validnih $n$-cifrenih kodnih reči: $$a_n = 9a_{n-1} + (10^{n-1} - a_{n-1})$$ tj. $$a_n = 8a_{n-1} + 10^{n-1}, a_1 = 9$$"
   ]
  },
  {
   "cell_type": "markdown",
   "metadata": {
    "id": "aWOgC_ZwXkG6"
   },
   "source": [
    "**Primer 2** ( *formiranje generatorne funkcije* ) Pretpostavimo da je važeća kodna reč $n$-cifreni broj u decimalnom zapisu koji sadrži paran broj nula. Neka $a_n$ označava broj važećih kodnih reči dužine $n$. U prošlom zadatku pokazali smo da niz $\\{a_n\\}$ zadovoljava rekurentnu relaciju\n",
    "$a_n = 8a_{n-1} + 10^{n-1}$\n",
    "i početni uslov\n",
    "$a_1 = 9$. Koristeći generetorne funkcije naći eksplicitnu formulu za $a_n$."
   ]
  },
  {
   "cell_type": "markdown",
   "metadata": {
    "id": "tm7UQgdrZAQw"
   },
   "source": [
    "**Rešenje**\n",
    "\n",
    "Da bismo pojednostavili rad sa funkcijama generisanja, proširujemo ovu sekvencu tako što postavljamo $a_0 = 1$. Kada dodelimo ovu vrednost $a_0$ i koristimo rekurentnu relaciju, dobijamo:\n",
    "$$a_1 = 8a_0 + 10^{1-1} = 8 \\times 1 + 1 = 9,\n",
    "$$što je u skladu sa našim početnim uslovom. (Ima smisla jer postoji jedan kodni niz dužine 0 — prazan string.)\n",
    "\n",
    "Zatim, pomnožimo obe strane rekurentne relacije sa $z^n$ da bismo dobili:\n",
    "$$a_nz^n = 8a_{n-1} z^n + 10^{n-1} z^n.$$\n",
    "\n",
    "Neka $A(z) = \\sum_{n \\geq 0} a_n z^n$ bude generatorna funkcija niza $a_0, a_1, a_2, \\ldots$. Sabrali smo obe strane poslednje jednačine počevši od $n = 1$, da bismo dobili\n",
    "$$A(z) - a_0 = \\sum_{n \\geq 1} a_n z^n = \\sum_{n \\geq 1} \\left( 8a_{n-1} z^n + 10^{n-1} z^n \\right).$$\n",
    "\n",
    "Prva suma se može prepisati kao\n",
    "$$\\sum_{n \\geq 1} 8a_{n-1} z^n = 8z \\sum_{n \\geq 1} a_{n-1} z^{n-1} = 8z A(z),$$\n",
    "a druga suma je\n",
    "$$\\sum_{n \\geq 1} 10^{n-1} z^n = z \\sum_{n \\geq 0} 10^n z^n = \\frac{z}{1-10z},$$\n",
    "prema poznatoj formuli za sumu geometrijskog niza.\n",
    "\n",
    "Dakle, imamo\n",
    "$$A(z) - 1 = 8z A(z) + \\frac{z}{1-10z}.$$\n",
    "\n",
    "Rešavanjem za $A(z)$, dobijamo\n",
    "$$A(z) = \\frac{1 - 9z}{(1 - 8z)(1 - 10z)}.$$\n",
    "\n",
    "tj.\n",
    "$$A(z) = \\frac{1}{2} \\left( \\frac{1}{1 - 8z} + \\frac{1}{1 - 10z} \\right).$$\n",
    "\n",
    "Koristeći formulu za generatornu funkciju geometrijskih nizova sledi\n",
    "$$A(z) = \\frac{1}{2} (\\sum_{n \\geq 0} 8^n z^n + \\sum_{n \\geq 0} 10^n z^n).$$\n",
    "\n",
    "Na kraju, dobijamo eksplicitnu formulu za $a_n$, broj validnih $n$-cifrenih kodnih reči\n",
    "$$a_n = \\frac{1}{2} (8^n + 10^n).$$"
   ]
  },
  {
   "cell_type": "markdown",
   "metadata": {
    "id": "LG6jAVbeF36x"
   },
   "source": [
    "### Rešavanje celobrojnih jednačina pomoću generatornih funkcija"
   ]
  },
  {
   "cell_type": "markdown",
   "metadata": {
    "id": "eQCg9hi0IDyz"
   },
   "source": [
    "**Primer** Majica se prodaje u tri boje: plavoj, sivoj i beloj. Kupac želi 3 komada: S i B do 1 komad, P do 3. Na koliko načina se ova kupovina može ostvariti?"
   ]
  },
  {
   "cell_type": "markdown",
   "metadata": {
    "id": "8nj2mhSp9Fgh"
   },
   "source": [
    "**Rešenje** Prvi faktor: 0-3 plave majice, druga dva za 0 ili 1 sivu/belu majicu\n",
    "Traženi broj kombinacija sa ponavljanjem je koeficijent uz $x^3$, jednak je 4 i odgovara sledećim kombinacijama: PPP, PPS, PPB, PBS."
   ]
  },
  {
   "cell_type": "markdown",
   "metadata": {
    "id": "hZHIxiKk9lTm"
   },
   "source": [
    "**Primer** Pronađi generatornu funkciju za broj načina na koji agent za oglašavanje može da kupi $n$ minuta $(n ∈ Z⁺)$ vremena za reklame ako vremenski slotovi za reklame dolaze u blokovima od 30, 60 ili 120 sekundi."
   ]
  },
  {
   "cell_type": "markdown",
   "metadata": {
    "id": "0mPF605J9weF"
   },
   "source": [
    "**Rešenje** Neka 30 sekundi predstavlja jednu vremensku jedinicu. Tada je odgovor broj celobrojnih rešenja za jednačinu\n",
    "$$a + 2b + 4c = 2n \\quad \\text{,} \\quad 0 \\leq a, b, c,$$\n",
    "\n",
    "Asocirana generatorna funkcija je\n",
    "\n",
    "$$f(x) = (1 + x + x^2 + \\dots)(1 + x^2 + x^4 + \\dots)(1 + x^4 + x^8 + \\dots)$$\n",
    "\n",
    "$$= \\frac{1}{1 - x} \\cdot \\frac{1}{1 - x^2} \\cdot \\frac{1}{1 - x^4},$$\n",
    "\n",
    "i koeficijent uz $$x^{2n}$$ predstavlja broj particija od $2n$ u jedinice, dvojke i četvorke, što je rešenje zadatka.\n"
   ]
  },
  {
   "cell_type": "markdown",
   "metadata": {
    "id": "yYgMb_H_6-yi"
   },
   "source": [
    "**Primer** Kutija sadrži 30 crvenih, 40 plavih i 50 belih lopti. Lopte iste boje se ne razlikuju međusobno. Na koliko načina se može izabrati 70 lopti iz kutije?\n"
   ]
  },
  {
   "cell_type": "markdown",
   "metadata": {
    "id": "o4VCzlU-7Bxu"
   },
   "source": [
    "**Rešenje** Broj koji tražimo je jednak koeficijentu uz $x^{70}$ u proizvodu $$(1 + x + x^2 + \\dots + x^{30})(1 + x + x^2 + \\dots + x^{40})(1 + x + x^2 + \\dots + x^{50}).$$\n",
    "\n",
    "Ovaj izraz nećemo množiti, nego ćemo iskoristiti činjenicu da je $$1 + x + x^2 + \\dots + x^{30} = \\frac{1 - x^{31}}{1 - x},$$ što je zbir konačne geometrijske progresije.\n",
    "\n",
    "Ceo proizvod se sada može napisati kao $$\\frac{1 - x^{31}}{1 - x} \\cdot \\frac{1 - x^{41}}{1 - x} \\cdot \\frac{1 - x^{51}}{1 - x} = (1 - x)^{-3}(1 - x^{31})(1 - x^{41})(1 - x^{51}).$$\n",
    "\n",
    "Činilac $(1 - x)^{-3}$ može da se razvije u stepeni red prema uopštenoj binomnoj teoremi: $$\\sum_{n \\geq 0} \\binom{-3}{n} (-1)^n x^n = \\sum_{n \\geq 0} \\frac{(n+2)(n+1)}{2}(-1)^n (-1)^n x^n = \\sum_{n \\geq 0} \\frac{(n+2)(n+1)}{2} x^n.$$\n",
    "\n",
    "U proizvodu preostalih činilaca $(1 - x^{31})(1 - x^{41})(1 - x^{51})$ je dovoljno naći koeficijente samo za stepene do $x^{70}$. Stoga dobijamo proizvod\n",
    "$\\left( \\binom{2}{2} + \\binom{3}{2}x + \\binom{4}{2}x^2 + \\binom{5}{2}x^3 + \\dots \\right) \\cdot \\left( 1 - x^{31} - x^{41} - x^{51} + \\dots \\right),$ gde u drugom paru zagrada stoji $\\dots$ umesto stepena većih od $x^{70}$ (najmanji stepen od tih ostalih članova je $x^{31} \\cdot x^{41} = x^{72}$).\n",
    "\n",
    "Koeficijent uz $x^{70}$ u ovom proizvodu, što je i traženi broj izbora lopti iz kutije, jednak je $$\\binom{70+2}{2} - \\binom{70+2-31}{2} - \\binom{70+2-41}{2} - \\binom{70+2-51}{2} = 1061.$$"
   ]
  },
  {
   "cell_type": "markdown",
   "metadata": {
    "id": "2VvTCW7lG_Ob"
   },
   "source": [
    "### Dokazivanje identiteta pomoću generatornih funkcija"
   ]
  },
  {
   "cell_type": "markdown",
   "metadata": {
    "id": "dXZpfDJd6g_j"
   },
   "source": [
    "**Zadatak** Koristeći generatorne funkcije, dokazati identitet $$\\binom{n}{0}^2 + \\binom{n}{1}^2 + \\dots + \\binom{n}{n}^2 = \\binom{2n}{n}$$ za svako $n \\in \\mathbb{N}$."
   ]
  },
  {
   "cell_type": "markdown",
   "metadata": {
    "id": "v44WLMZK7kdY"
   },
   "source": [
    "**Rešenje.** Posmatraćemo identitet $$(1 + x)^n \\cdot (1 + x)^n = (1 + x)^{2n}.$$\n",
    "\n",
    "Prema binomnoj formuli, koeficijent uz $x^n$ u razvoju stepena binoma $(1 + x)^{2n}$ jednak je $\\binom{2n}{n}$. Ako posmatramo polinom $p(x)$ sa leve strane i primenimo binomnu formulu, dobijamo $$p(x) = \\left( 1 + \\binom{n}{1} x + \\binom{n}{2} x^2 + \\dots + \\binom{n}{n} x^n \\right) \\cdot \\left( 1 + \\binom{n}{1} x + \\binom{n}{2} x^2 + \\dots + \\binom{n}{n} x^n \\right).$$\n",
    "\n",
    "Primetimo da je $$p(x) = \\sum_{i \\geq 0} a_i x^i \\cdot \\sum_{i \\geq 0} b_i x^i, \\quad \\text{gde je } a_i = b_i = \\begin{cases}\\binom{n}{i}, & i \\in \\{0, \\dots, n\\} \\\\0, & \\text{inače}.\\end{cases}$$\n",
    "\n",
    "Prema definiciji proizvoda, dobijamo $$p(x) = \\sum_{m=0}^{2n} \\left( \\sum_{j=0}^m a_j b_{m-j} \\right) x^m$$ $$= \\sum_{m=0}^n \\left( \\sum_{j=0}^m a_j b_{m-j} \\right) x^m + \\sum_{m=n+1}^{2n} \\left( \\sum_{j=0}^m a_j b_{m-j} \\right) x^m$$ $$= \\sum_{m=0}^n \\left( \\sum_{j=0}^m \\binom{n}{j} \\binom{n}{m - j} \\right) x^m + \\sum_{m=n+1}^{2n} \\left( \\sum_{j=0}^m a_j b_{m-j} \\right) x^m.$$\n",
    "\n",
    "Koeficijent uz $x^n$ dobijamo kada u prvoj sumi posmatramo član za koji je $m = n$, a to je $$\\sum_{j=0}^n \\binom{n}{j} \\binom{n}{n - j} = \\sum_{j=0}^n \\binom{n}{j}^2 = \\binom{2n}{n}$$"
   ]
  },
  {
   "cell_type": "markdown",
   "metadata": {
    "id": "5CHniCSeHt4P"
   },
   "source": [
    "### Neke korisne generatorne funkcije"
   ]
  },
  {
   "cell_type": "markdown",
   "metadata": {},
   "source": [
    "|G(z) |Zatvorena forma |Otvorena forma|\n",
    "|:---:|:---:|:---:|\n",
    "|$\\frac{1}{1 - z}$|$\\sum_{k=0}^{\\infty} z^k$|$1 + z + z^2 + z^3 + \\dots$|\n",
    "|$\\frac{1}{1 + z}$|$\\sum_{k=0}^{\\infty}(-1)^k z^k$|$1 - z + z^2 - z^3 + \\dots$|\n",
    "|$\\frac{1}{1 - z^m}$|$\\sum_{k=0}^{\\infty} z^{mk}$|$1 + z^m + z^{2m} + z^{3m} + \\dots$|\n",
    "|$\\frac{1}{1 - cz}$|$\\sum_{k=0}^{\\infty} c^k z^k$|$1 + cz + c^2 z^2 + c^3 z^3 + \\dots$|\n",
    "|$\\frac{1}{(1 - z)^m}$|$\\sum_{k=0}^{\\infty} \\binom{m + k - 1}{k} z^k$|$1 + mz + \\binom{m+1}{2} z^2 + \\binom{m+2}{3} z^3 + \\dots$|\n",
    "|$\\frac{z}{(1 - z)^2}$|$\\sum_{k=0}^{\\infty} k z^k$|$0 + z + 2z^2 + 3z^3 + \\dots$|\n",
    "|$(1 + z)^c$|$\\sum_{k=0}^{\\infty} \\binom{c}{k} z^k$|$1 + cz + \\binom{c}{2} z^2 + \\binom{c}{3} z^3 + \\dots$|\n",
    "|$e^z$|$\\sum_{k=0}^{\\infty} \\frac{z^k}{k!}$|$1 + z + \\frac{z^2}{2!} + \\frac{z^3}{3!} + \\dots$|"
   ]
  },
  {
   "cell_type": "markdown",
   "metadata": {
    "id": "38TuIDvkGHKp"
   },
   "source": [
    "## Zadaci"
   ]
  },
  {
   "cell_type": "markdown",
   "metadata": {
    "id": "9vSY1E1vGP84"
   },
   "source": [
    "**Zadatak 1.** Naći zatvorenu formu genratorne funkcije $\\sum_{n \\geq 0}(n+1)^2z^n$."
   ]
  },
  {
   "cell_type": "markdown",
   "metadata": {
    "id": "8TxTtSGnGS0w"
   },
   "source": [
    "**Zadatak 2.** Koliko različitih načina postoji da se osam istih kolačića podeli među troje različite dece, ako svako dete dobije najmanje dva kolačića, a najviše četiri?"
   ]
  },
  {
   "cell_type": "markdown",
   "metadata": {
    "id": "l7Y-stbcGUEX"
   },
   "source": [
    "**Zadatak 3.** Pronađite eksplicitnu formulu Fibonačijevog niza koristeći generatorne funkcije."
   ]
  }
 ],
 "metadata": {
  "colab": {
   "collapsed_sections": [
    "Z2qrWR3fHt39",
    "AOCmSLGSHt4I",
    "ueW1CmAAHt4L",
    "Dx40uuXuHt4M",
    "xaX2vOu4pdVd",
    "HGj9YNbiCFuL",
    "HPAlIPx0Fjqx",
    "2VvTCW7lG_Ob",
    "5CHniCSeHt4P",
    "38TuIDvkGHKp"
   ],
   "provenance": []
  },
  "kernelspec": {
   "display_name": "Python 3",
   "name": "python3"
  },
  "language_info": {
   "name": "python"
  }
 },
 "nbformat": 4,
 "nbformat_minor": 0
}
