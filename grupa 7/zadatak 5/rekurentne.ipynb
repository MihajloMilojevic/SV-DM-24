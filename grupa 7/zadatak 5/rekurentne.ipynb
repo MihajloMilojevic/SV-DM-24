{
 "cells": [
  {
   "cell_type": "markdown",
   "metadata": {
    "id": "nYkA4R8jGXLF"
   },
   "source": [
    "# Rekurentne relacije"
   ]
  },
  {
   "cell_type": "markdown",
   "metadata": {
    "id": "z1xKHJ4wGXLH"
   },
   "source": [
    "## Definicija rekurentnih relacija"
   ]
  },
  {
   "cell_type": "markdown",
   "metadata": {
    "id": "TuSVwIaPGXLH"
   },
   "source": [
    "**Definicija** Rekurzivna funkcija je funkcija čiji je domen skup nenegativnih brojeva sa sledećim osobinama\n",
    "1) $f(0)$ je dato definicijom\n",
    "2) $f(n)$ je definisano kao funkcija od elemenata skupa $\\{f(0), f(1), ..., f(n-2), f(n-1)\\}$"
   ]
  },
  {
   "cell_type": "markdown",
   "metadata": {
    "id": "VfVxpgz8GXLI"
   },
   "source": [
    "Datu definiciju možemo prevesti na jezik nizova"
   ]
  },
  {
   "cell_type": "markdown",
   "metadata": {
    "id": "dKOvGYCwGXLI"
   },
   "source": [
    "**Definicija** Neka je $\\{a_n\\}$ niz. Rekurentna relacija niza $\\{a_n\\}$ je jednakost koji element $a_n$ izražava u funkciji od $\\{a_1, a_2, ..., a_n\\}$. Niz koji zadovoljava rekurentnu relaciju nazivamo **rešenjem rekurentne relacije**"
   ]
  },
  {
   "cell_type": "markdown",
   "metadata": {
    "id": "tTsxxlMHGXLI"
   },
   "source": [
    "Većina problema vezanih za rekurentne relacije se svodi na pronalaženje njihovog rešenja"
   ]
  },
  {
   "cell_type": "markdown",
   "metadata": {
    "id": "-lGbO43LGxdo"
   },
   "source": [
    "## Generisanje rekurentne relacije"
   ]
  },
  {
   "cell_type": "markdown",
   "metadata": {
    "id": "QTEIeCNKG5ez"
   },
   "source": [
    "**Primer** Naći rekurentnu relaciju i dati početne uslove za broj nizova bitova dužine n koji nemaju dve uzastopne nule. Koliko ima takvih nizova bitova dužine pet?"
   ]
  },
  {
   "cell_type": "markdown",
   "metadata": {
    "id": "Pfk8EZoMQ95N"
   },
   "source": [
    "**Rešenje**: Neka $a_n$ označava broj nizova bita dužine $n$ koji nemaju dve uzastopne nule. Da bismo dobili relaciju rekurzije za $\\{a_n\\}$, primećujemo da, prema pravilu zbira, broj nizova bita dužine $n$ koji nemaju dve uzastopne nule jeste jednak broju takvih nizova koji se završavaju sa 0 plus broj takvih nizova koji se završavaju sa 1. Pretpostavljamo da je $n \\geq 3$, tako da niz ima najmanje tri bita.\n",
    "\n",
    "Nizovi bita dužine $n$ koji se završavaju sa 1 i nemaju dve uzastopne nule su tačno nizovi dužine $n - 1$ bez dve uzastopne nule sa dodatom 1 na kraju. Dakle, postoji $a_{n-1}$ takvih nizova.\n",
    "\n",
    "Nizovi bita dužine $n$ koji se završavaju sa 0 i nemaju dve uzastopne nule moraju imati 1 kao $(n-1)$-i bit; inače bi završavali sa parom nula. Iz toga sledi da su nizovi bita dužine $n$ koji se završavaju sa 0 i nemaju dve uzastopne nule tačno nizovi dužine $n - 2$ bez dve uzastopne nule sa dodatkom 10 na kraju. Dakle, postoji $a_{n-2}$ takvih nizova.\n",
    "\n",
    "Zaključujemo da:\n",
    "\n",
    "$a_n = a_{n-1} + a_{n-2}$, za $n \\geq 3$.\n",
    "\n",
    "Početni uslovi su $a_1 = 2$, jer oba niza bitova dužine jedan, 0 i 1, nemaju uzastopne nule, i $a_2 = 3$, jer su validni nizovi bita dužine dva: 01, 10 i 11. Da bismo izračunali $a_5$, koristimo relaciju rekurzije tri puta:\n",
    "\n",
    "$a_3 = a_2 + a_1 = 3 + 2 = 5$,  \n",
    "$a_4 = a_3 + a_2 = 5 + 3 = 8$,  \n",
    "$a_5 = a_4 + a_3 = 8 + 5 = 13$."
   ]
  },
  {
   "cell_type": "markdown",
   "metadata": {
    "id": "Enka0bSuGXLJ"
   },
   "source": [
    "## Rešavanje rekurentnih jednačina"
   ]
  },
  {
   "cell_type": "markdown",
   "metadata": {
    "id": "_-9tBrkdGXLJ"
   },
   "source": [
    "U opštem slučaju, rekurentne jednačine se rešavaju pomoću matematičke indukcije, ali je ovakvo rešavanje često neintuitivno i zahteva uočavanje obrasca koji može biti veoma složen"
   ]
  },
  {
   "cell_type": "markdown",
   "metadata": {
    "id": "9HEyNe9cGXLJ"
   },
   "source": [
    "**Primer** Fibonačijevi brojevi su niz definisan na sledeći način: $a_0 = 0$, $a_1 = 1$, $a_n = a_{n-1} + a_{n-2}$. Rešenje njihove rekurentne jednačine je niz definisan zatvorenom formom $$a_n = \\frac{1}{\\sqrt{5}} ((\\frac{1+\\sqrt{5}}{2})^{n} - (\\frac{1-\\sqrt{5}}{2})^{n})$$"
   ]
  },
  {
   "cell_type": "markdown",
   "metadata": {
    "id": "6czRYz49GXLJ"
   },
   "source": [
    "Srećom po nas, prethodna rekurentna jednačina spada u vrstu onih čije rešenje možemo naći jednostavnim postupkom"
   ]
  },
  {
   "cell_type": "markdown",
   "metadata": {
    "id": "z8pZXG6sHDyU"
   },
   "source": [
    "## Linearne rekurentne relacije sa konstantnim koeficijentima"
   ]
  },
  {
   "cell_type": "markdown",
   "metadata": {
    "id": "453X_Tw8HfPS"
   },
   "source": [
    "**Definicija** Linearna rekurentna relacija sa konstantnim koeficijentima je rekurentna jednačina oblika $$a_n = c_1 a_{n-1} + c_2 a_{n-2} + ... + c_k a_{n-k} + f(n)$$ gde su $c_1, \\dots, c_k ∈ R$, $c_k \\neq 0$ (tj. jednačina je reda $k$)."
   ]
  },
  {
   "cell_type": "markdown",
   "metadata": {
    "id": "TAN9IJcmNXKF"
   },
   "source": [
    "\n",
    "\n",
    "| Rekurentna relacija                      | Linearna | Homogena | Konstantni koeficijenti | Objašnjenje                                                                                          |\n",
    "|------------------------------------------|----------|----------|-------------------------|------------------------------------------------------------------------------------------------------|\n",
    "| $a_n = 2a_{n-1} + 3a_{n-2}$              | Da       | Da       | Da                      | Linearna je, homogena je jer nema dodatnih članova (sve zavisi samo od prethodnih članova), ima konstantne koeficijente. |\n",
    "| $a_n = a_{n-1}^2 + 2$                    | Ne       | Ne       | Da                      | Nije linearna jer ima kvadratni član $a_{n-1}^2$, i nije homogena zbog dodatnog člana $2$.           |\n",
    "| $a_n = 3a_{n-1} + 5n$                    | Da       | Ne       | Da                      | Linearna je jer je stepen svakog člana 1, ali nije homogena zbog člana $5n$ koji zavisi od $n$.      |\n",
    "| $a_n = n \\cdot a_{n-1} + 4$              | Da       | Ne       | Ne                      | Linearna je, ali nije homogena zbog člana $4$ i nema konstantne koeficijente jer $n$ menja koeficijent $a_{n-1}$. |\n",
    "| $a_n = 4a_{n-1} - 2a_{n-2} + 5$          | Da       | Ne       | Da                      | Linearna je i ima konstantne koeficijente, ali nije homogena zbog dodatnog člana $5$.               |\n",
    "| $a_n = a_{n-1} + a_{n-2} + n \\cdot a_{n-3}$ | Da       | Da       | Ne                      | Linearna i homogena je jer nema dodatnih članova, ali nema konstantne koeficijente zbog $n \\cdot a_{n-3}$. |\n",
    "| $a_n = 3a_{n-1} + 2a_{n-2} - 4a_{n-3}$   | Da       | Da       | Da                      | Linearna, homogena i ima konstantne koeficijente.                                                    |\n",
    "| $a_n = 2a_{n-1} + 3a_{n-2} + 7n^2$       | Da       | Ne       | Da                      | Linearna je, ali nije homogena zbog člana $7n^2$.                                                   |\n",
    "| $a_n = 5n \\cdot a_{n-1} - 3$             | Da       | Ne       | Ne                      | Linearna je, nije homogena zbog $-3$, i nema konstantne koeficijente zbog $5n \\cdot a_{n-1}$.       |\n",
    "| $a_n = a_{n-1}^2 - a_{n-2} + 1$          | Ne       | Ne       | Da                      | Nije linearna zbog kvadrata $a_{n-1}^2$ i nije homogena zbog dodatnog člana $1$."
   ]
  },
  {
   "cell_type": "markdown",
   "metadata": {
    "id": "9zrcnqeZGXLK"
   },
   "source": [
    "### Linearne homogene rekurentne jednačine sa konstantnim koeficijentima"
   ]
  },
  {
   "cell_type": "markdown",
   "metadata": {
    "id": "blVdg0eYGXLK"
   },
   "source": [
    "**Definicija** Linearna homogena rekurentna jednačina sa konstantnim koeficijentima je rekurentna jednačina oblika $$a_n = c_1 a_{n-1} + c_2 a_{n-2} + ... + c_k a_{n-k},$$ tj. jednačina gde je $f(n) = 0$ i gde su $c_i$ konstante, a $a_{n-i}$ prethodni članovi niza $(1 \\leq i \\leq k)$"
   ]
  },
  {
   "cell_type": "markdown",
   "metadata": {
    "id": "rlUPFZx1GXLK"
   },
   "source": [
    "Pretpostavimo da postoji broj $x$ sa osobinom da je $a_i = x^i$. Zamenom u rekurentnu jednačinu dobijamo $$x^n = c_1 x^{n-1} + c_2 x^{n-2} + ... + c_k x^{n-k}$$ Skraćivanjem $x^{n-k}$ sa obe strane i prebacivanjem svih izraza na jednu stranu dobijamo $$x^k - c_1 x^{k-1} - c_2 x^{k-2} - ... c_{k+1} x - c_k = 0$$ Data jednačina naziva se **karakteristična jednačina rekurentne relacije**"
   ]
  },
  {
   "cell_type": "markdown",
   "metadata": {
    "id": "kolozYknGXLK"
   },
   "source": [
    "**Teorema** Ukoliko su $x_1, x_2, ..., x_k$ koreni karakteristične jednačine rekurentne jednačine $a_n = c_1 a_{n-1} + c_2 a_{n-2} + ... + c_k a_{n-k}$ i ukoliko je mnogostrukost svakog korena tačno jedan onda je opšte rešenje dato sa $$a_n = b_1 x_1^n + b_2 x_2^n + ... + b_k x_k^n$$ gde su $b_i$ konstante jedinstveno određene početnim uslovima"
   ]
  },
  {
   "cell_type": "markdown",
   "metadata": {
    "id": "hngn3OdZGXLK"
   },
   "source": [
    "**Dokaz** Tačnost formule za $a_n$ se dokazuje jednostavnom zamenom u rekurentnu jednačinu. Jedinstvenost koeficijenata sledi iz činjenice da se zamenom u početne uslove dobija sistem $$a_0 = b_1 + b_2 + ... + b_k$$ $$a_1 = b_1 x_1 + b_2 x_2 + ... + b_k x_k$$ $$a_2 = b_1 x_1^2 + b_2 x_2^2 + ... + b_k x_k^2$$ $$...$$ $$a_{k-1} = b_1 x_1^{k-1} + b_2 x_2^{k-1} + ... + b_k x_k^{k-1}$$ Determinanta ovog sistema jednaka je determinanti Vandermondove matrice, koja je u ovom slučaju različita od nule, jer su svi brojevi $x_1, x_2, ..., x_n$ različiti"
   ]
  },
  {
   "cell_type": "markdown",
   "metadata": {
    "id": "Yh7aRmugGXLK"
   },
   "source": [
    "Korišćenjem date teoreme, možemo izvesti zatvorenu formu jednačine Fibonačijevih brojeva!"
   ]
  },
  {
   "cell_type": "markdown",
   "metadata": {
    "id": "o8yjDUSoGXLL"
   },
   "source": [
    "Znamo da su $a_0 = 0$ i $a_1 = 1$. Karakteristična jednačina rekurentne relacije $a_n = a_{n-1} + a_{n-2}$ jednaka je $x^2 - x - 1 = 0$. Rešenja date jednačine su $\\frac{1+\\sqrt{5}}{2}$ i $\\frac{1-\\sqrt{5}}{2}$. Dakle, znamo da je zatvorena forma oblika $$a_n = b_1 (\\frac{1+\\sqrt{5}}{2})^n + b_2 (\\frac{1-\\sqrt{5}}{2})^n$$ Zamenom $n=0$ i $n=1$ u datu formulu dobijamo sistem jednačina $$0 = b_1 + b_2$$ $$1 = b_1 \\frac{1+\\sqrt{5}}{2} + b_2 \\frac{1-\\sqrt{5}}{2}$$ Rešavanjem datog sistema dobijamo vrednosti $b_1 = \\frac{1}{\\sqrt{5}}$ i $b_2 = -\\frac{1}{\\sqrt{5}}$ i zamenom u izraz za $a_n$ dobijamo rešenje rekurentne jednačine $$a_n = \\frac{1}{\\sqrt{5}} ((\\frac{1+\\sqrt{5}}{2})^{n} - (\\frac{1-\\sqrt{5}}{2})^{n})$$"
   ]
  },
  {
   "cell_type": "markdown",
   "metadata": {
    "id": "7ujGfYAsS3LA"
   },
   "source": [
    "**Teorema** Ukoliko su $x_1, x_2, \\dots, x_r$ koreni karakteristične jednačine rekurentne jednačine $a_n = c_1 a_{n-1} + c_2 a_{n-2} + \\dots + c_k a_{n-k}$, gde koren $x_i$ ima mnogostrukost $m_i$ (za $i = 1, 2, \\dots, r$), tada je opšte rešenje dato sa\n",
    "\n",
    "$$\n",
    "a_n = \\sum_{i=1}^{r} \\left( b_{i,1} x_i^n + b_{i,2} n x_i^n + b_{i,3} n^2 x_i^n + \\dots + b_{i,m_i} n^{m_i - 1} x_i^n \\right),\n",
    "$$\n",
    "\n",
    "gde su $b_{i,j}$ konstante koje su jedinstveno određene početnim uslovima."
   ]
  },
  {
   "cell_type": "markdown",
   "metadata": {
    "id": "C9VzA-sCHBoM"
   },
   "source": [
    "**Dokaz** Slično prethodnom dokazu."
   ]
  },
  {
   "cell_type": "markdown",
   "metadata": {
    "id": "982-kOgSGf8Y"
   },
   "source": [
    "### Linearne nehomogene rekurentne jednačine sa konstantnim koeficijentima"
   ]
  },
  {
   "cell_type": "markdown",
   "metadata": {
    "id": "0ZpglDYaShth"
   },
   "source": [
    "**Definicija** Linearna nehomogena rekurentna jednačina sa konstantnim koeficijentima je rekurentna jednačina oblika $$a_n = c_1 a_{n-1} + c_2 a_{n-2} + ... + c_k a_{n-k} + f(n),$$ tj. jednačina gde je $f(n) \\neq 0$ i gde su $c_i$ konstante, a $a_{n-i}$ prethodni članovi niza $(1 \\leq i \\leq k)$"
   ]
  },
  {
   "cell_type": "markdown",
   "metadata": {
    "id": "Tz_0-RC5Kqtm"
   },
   "source": [
    "**Teorema** Ako je $a_n^{(p1)}$ partikularno rešenje nehomogene linearne rekurentne relacije sa konstantnim koeficijentima, tada za svako rešenje $a_n$ jednačine iz prethodne definicije postoji rešenje $a_n^{(h)}$ odgovarajuće homogene rekurentne relacije sa osobinom\n",
    "\n",
    "$$a_n = a_n^{(h)} + a_n^{(p1)}, \\quad n \\geq 0.$$"
   ]
  },
  {
   "cell_type": "markdown",
   "metadata": {
    "id": "GN6CaSF2K5iZ"
   },
   "source": [
    "**Dokaz.** Neka je $a_n^{(p1)}$ dato (partikularno) rešenje jednačine. Tada za svako $n \\in \\mathbb{N}_0$ važi\n",
    "\n",
    "$$a_n^{(p1)} = c_1 a_{n-1}^{(p1)} + c_2 a_{n-2}^{(p1)} + \\dots + c_k a_{n-k}^{(p1)} + f(n). \\tag{1.1}$$\n",
    "\n",
    "Posmatrajmo sada proizvoljno rešenje $a_n^{(p)}$ jednačine. Za njega važi\n",
    "\n",
    "$$a_n^{(p)} = c_1 a_{n-1}^{(p)} + c_2 a_{n-2}^{(p)} + \\dots + c_k a_{n-k}^{(p)} + f(n), \\quad n \\in \\mathbb{N}_0. \\tag{1.2}$$\n",
    "\n",
    "Ako od relacije (1.2) oduzmemo relaciju (1.1), dobijamo\n",
    "\n",
    "$$a_n^{(p)} - a_n^{(p1)} = c_1 \\left( a_{n-1}^{(p)} - a_{n-1}^{(p1)} \\right) + c_2 \\left( a_{n-2}^{(p)} - a_{n-2}^{(p1)} \\right) + \\dots + c_k \\left( a_{n-k}^{(p)} - a_{n-k}^{(p1)} \\right),$$\n",
    "\n",
    "što znači da je $a_n^{(p)} - a_n^{(p1)}$ rešenje homogenog dela rekurentne relacije, tj. za svako rešenje nehomogene rekurentne relacije $a_n$ postoji rešenje $a_n^{(h)}$ homogene jednačine tako da se $a_n$ može izraziti pomoću $a_n^{(h)}$ i $a_n^{(p1)}$ koristeći obrazac\n",
    "\n",
    "$$a_n = a_n^{(h)} + a_n^{(p1)}.$$"
   ]
  },
  {
   "cell_type": "markdown",
   "metadata": {
    "id": "XfbPA-GBMEsL"
   },
   "source": [
    "**Teorema** Neka je\n",
    "\n",
    "$$f(n) = \\left( b_m n^m + b_{m-1} n^{m-1} + \\dots + b_1 n + b_0 \\right) s^n, \\quad b_0, \\dots, b_m \\in \\mathbb{R}.$$\n",
    "\n",
    "Ako je $s$ koren karakteristične jednačine višestrukosti $l$ (ako nije koren, tada je $l = 0$), onda postoji partikularno rešenje oblika\n",
    "\n",
    "$$a_n^{(p)} = n^l \\left( c_m n^m + c_{m-1} n^{m-1} + \\dots + c_1 n + c_0 \\right) s^n.$$"
   ]
  },
  {
   "cell_type": "markdown",
   "metadata": {
    "id": "4FM-Db5nMRbC"
   },
   "source": [
    "**Teorema** Ako su $a_n^{(p1)}$ i $a_n^{(p2)}$ redom rešenja nehomogenih rekurentnih relacija\n",
    "\n",
    "$$a_n = c_1 a_{n-1} + c_2 a_{n-2} + \\dots + c_k a_{n-k} + f_1(n)$$\n",
    "\n",
    "$$\\text{i}$$\n",
    "\n",
    "$$a_n = c_1 a_{n-1} + c_2 a_{n-2} + \\dots + c_k a_{n-k} + f_2(n),$$\n",
    "\n",
    "onda je $a_n^{(p1)} + a_n^{(p2)}$ rešenje nehomogene rekurentne relacije\n",
    "\n",
    "$$a_n = c_1 a_{n-1} + c_2 a_{n-2} + \\dots + c_k a_{n-k} + f_1(n) + f_2(n).$$\n",
    "\n"
   ]
  },
  {
   "cell_type": "markdown",
   "metadata": {
    "id": "eHGDy9-2Muw5"
   },
   "source": [
    "**Dokaz** Ako su $a_n^{(p1)}$ i $a_n^{(p2)}$ redom rešenja navedenih rekurentnih relacija, onda važi\n",
    "\n",
    "$$a_n^{(p1)} = c_1 a_{n-1}^{(p1)} + c_2 a_{n-2}^{(p1)} + \\dots + c_k a_{n-k}^{(p1)} + f_1(n)$$\n",
    "\n",
    "$$\\text{i}$$\n",
    "\n",
    "$$a_n^{(p2)} = c_1 a_{n-1}^{(p2)} + c_2 a_{n-2}^{(p2)} + \\dots + c_k a_{n-k}^{(p2)} + f_2(n).$$\n",
    "\n",
    "Sabiranjem prethodne dve jednakosti dobijamo\n",
    "\n",
    "$$a_n^{(p1)} + a_n^{(p2)} = c_1 \\left( a_{n-1}^{(p1)} + a_{n-1}^{(p2)} \\right) + c_2 \\left( a_{n-2}^{(p1)} + a_{n-2}^{(p2)} \\right) + \\dots + c_k \\left( a_{n-k}^{(p1)} + a_{n-k}^{(p2)} \\right) + f_1(n) + f_2(n),$$\n",
    "\n",
    "čime je direktno pokazano da je $a_n^{(p1)} + a_n^{(p2)}$ rešenje rekurentne relacije\n",
    "\n",
    "$$a_n = c_1 a_{n-1} + c_2 a_{n-2} + \\dots + c_k a_{n-k} + f_1(n) + f_2(n).$$"
   ]
  },
  {
   "cell_type": "markdown",
   "metadata": {
    "id": "rGUJB0fWICIh"
   },
   "source": [
    "## Primene u programiranju"
   ]
  },
  {
   "cell_type": "code",
   "execution_count": 1,
   "metadata": {
    "colab": {
     "base_uri": "https://localhost:8080/"
    },
    "id": "QH6y1VVkIKAO",
    "outputId": "1d05b827-fe76-40a5-a904-b11d520d3755"
   },
   "outputs": [
    {
     "name": "stdout",
     "output_type": "stream",
     "text": [
      "Početni niz: \n",
      "12 11 13 5 6 7 24 56 12 9 80 45 \n",
      "\n",
      "Sortirani niz: \n",
      "5 6 7 9 11 12 12 13 24 45 56 80 \n"
     ]
    }
   ],
   "source": [
    "#Merge sort\n",
    "def merge(arr, left, mid, right):\n",
    "    n1 = mid - left + 1\n",
    "    n2 = right - mid\n",
    "\n",
    "    L = [0] * n1\n",
    "    R = [0] * n2\n",
    "\n",
    "    for i in range(n1):\n",
    "        L[i] = arr[left + i]\n",
    "    for j in range(n2):\n",
    "        R[j] = arr[mid + 1 + j]\n",
    "\n",
    "    i = 0\n",
    "    j = 0\n",
    "    k = left\n",
    "\n",
    "    while i < n1 and j < n2:\n",
    "        if L[i] <= R[j]:\n",
    "            arr[k] = L[i]\n",
    "            i += 1\n",
    "        else:\n",
    "            arr[k] = R[j]\n",
    "            j += 1\n",
    "        k += 1\n",
    "\n",
    "    while i < n1:\n",
    "        arr[k] = L[i]\n",
    "        i += 1\n",
    "        k += 1\n",
    "\n",
    "    while j < n2:\n",
    "        arr[k] = R[j]\n",
    "        j += 1\n",
    "        k += 1\n",
    "\n",
    "def merge_sort(arr, left, right):\n",
    "    if left < right:\n",
    "        mid = (left + right) // 2\n",
    "\n",
    "        merge_sort(arr, left, mid)\n",
    "        merge_sort(arr, mid + 1, right)\n",
    "        merge(arr, left, mid, right)\n",
    "\n",
    "def print_list(arr):\n",
    "    for i in arr:\n",
    "        print(i, end=\" \")\n",
    "    print()\n",
    "\n",
    "if __name__ == \"__main__\":\n",
    "    arr = [12, 11, 13, 5, 6, 7, 24, 56, 12, 9, 80, 45]\n",
    "    print(\"Početni niz: \")\n",
    "    print_list(arr)\n",
    "\n",
    "    merge_sort(arr, 0, len(arr) - 1)\n",
    "\n",
    "    print(\"\\nSortirani niz: \")\n",
    "    print_list(arr)\n"
   ]
  },
  {
   "cell_type": "code",
   "execution_count": 4,
   "metadata": {
    "colab": {
     "base_uri": "https://localhost:8080/"
    },
    "id": "soF5jYkMJDn3",
    "outputId": "1a8a7ea7-8342-4fcd-f7f2-b5f262d09349"
   },
   "outputs": [
    {
     "name": "stdout",
     "output_type": "stream",
     "text": [
      "Pomeri disk 1 sa diska A na disk C\n",
      "Pomeri disk 2 sa diska A na disk B\n",
      "Pomeri disk 1 sa diska C na disk B\n",
      "Pomeri disk 3 sa diska A na disk C\n",
      "Pomeri disk 1 sa diska B na disk A\n",
      "Pomeri disk 2 sa diska B na disk C\n",
      "Pomeri disk 1 sa diska A na disk C\n"
     ]
    }
   ],
   "source": [
    "#Hanojeva kula\n",
    "def TowerOfHanoi(n, from_rod, to_rod, aux_rod):\n",
    "    if n == 0:\n",
    "        return\n",
    "    TowerOfHanoi(n-1, from_rod, aux_rod, to_rod)\n",
    "    print(\"Pomeri disk\", n, \"sa diska\", from_rod, \"na disk\", to_rod)\n",
    "    TowerOfHanoi(n-1, aux_rod, to_rod, from_rod)\n",
    "\n",
    "if __name__ == \"__main__\":\n",
    "  N = 3\n",
    "  TowerOfHanoi(N, 'A', 'C', 'B')"
   ]
  },
  {
   "cell_type": "code",
   "execution_count": 1,
   "metadata": {
    "colab": {
     "base_uri": "https://localhost:8080/"
    },
    "id": "PFpOZzLTJgYs",
    "outputId": "4514faa1-1eb6-40a8-d116-8c45762ed8e5"
   },
   "outputs": [
    {
     "name": "stdout",
     "output_type": "stream",
     "text": [
      "Element 10 se nalazi na indeksu: 3\n"
     ]
    }
   ],
   "source": [
    "#Binarna pretraga\n",
    "def binarySearch(arr, low, high, x):\n",
    "    while low <= high:\n",
    "        mid = low + (high - low) // 2\n",
    "        if arr[mid] == x:\n",
    "            return mid\n",
    "        elif arr[mid] < x:\n",
    "            low = mid + 1\n",
    "        else:\n",
    "            high = mid - 1\n",
    "    return -1\n",
    "\n",
    "\n",
    "if __name__ == '__main__':\n",
    "    arr = [2, 3, 4, 10, 40]\n",
    "    x = 10\n",
    "\n",
    "    result = binarySearch(arr, 0, len(arr)-1, x)\n",
    "    if result != -1:\n",
    "        print(f\"Element {x} se nalazi na indeksu: {result}\")\n",
    "    else:\n",
    "        print(f\"Element {x} ne postoji u nizu.\")\n"
   ]
  }
 ],
 "metadata": {
  "colab": {
   "provenance": []
  },
  "kernelspec": {
   "display_name": "Python 3",
   "language": "python",
   "name": "python3"
  },
  "language_info": {
   "codemirror_mode": {
    "name": "ipython",
    "version": 3
   },
   "file_extension": ".py",
   "mimetype": "text/x-python",
   "name": "python",
   "nbconvert_exporter": "python",
   "pygments_lexer": "ipython3",
   "version": "3.10.0"
  }
 },
 "nbformat": 4,
 "nbformat_minor": 0
}
