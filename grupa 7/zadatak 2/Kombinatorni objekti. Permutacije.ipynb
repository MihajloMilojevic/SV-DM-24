{
  "cells": [
    {
      "cell_type": "markdown",
      "metadata": {
        "id": "UwMyHr7y2o6O"
      },
      "source": [
        "# Kombinatorna prebrojavanja"
      ]
    },
    {
      "cell_type": "markdown",
      "metadata": {
        "id": "bL7f7k5ALQMU"
      },
      "source": [
        "## Definicija i podela kombinatornih objekata"
      ]
    },
    {
      "cell_type": "markdown",
      "metadata": {
        "id": "QoF4S9YOLaPl"
      },
      "source": [
        "Svaki kombinatorni objekat možemo definisati kao izdvajanje elemenata iz skupa / multiskupa svih zadatih objekata, gde pravimo razliku između toga da li jedan element možemo odabrati više puta i da li je redosled u kojem biramo elemente značajan ili ne."
      ]
    },
    {
      "cell_type": "markdown",
      "metadata": {
        "id": "ulMobnLTLdz4"
      },
      "source": [
        "|         | Redosled je bitan | Redosled nije bitan |\n",
        "|:-------:|:-----------------:|:-------------------:|\n",
        "|**Ne možemo birati element više puta**|Permutacija skupa / permutacija bez ponavljanja|Kombinacija skupa / kombinacija bez ponavljanja|\n",
        "|**Možemo birati element više puta**|Permutacija multiskupa / permutacija s ponavljanjem|Kombinacija multiskupa / kombinacija sa ponavljanjem|\n"
      ]
    },
    {
      "cell_type": "markdown",
      "metadata": {
        "id": "VRZ9gPcO3RXm"
      },
      "source": [
        "## Permutacije skupa"
      ]
    },
    {
      "cell_type": "markdown",
      "metadata": {
        "id": "_M76EbW_QDE4"
      },
      "source": [
        "**Definicija:**\n",
        "Pod **permutacijom** skupa $A$ se podrazumeva svaka bijekcija $f : A \\to A$ skupa $A$ na samog sebe. Skup svih permutacija skupa $A$ obično se obeležava sa $\\text{Sym}(A)$.\n"
      ]
    },
    {
      "cell_type": "markdown",
      "metadata": {
        "id": "uSnKWbteQFdz"
      },
      "source": [
        "Za skup $\\text{Sym}(A)$ svih permutacija skupa $A$ važi sledeća teorema, koja ilustruje algebarsku strukturu skupa $\\text{Sym}(A)$."
      ]
    },
    {
      "cell_type": "markdown",
      "metadata": {
        "id": "2toneuIZQJHg"
      },
      "source": [
        "**Teorema:**  Ako je dat skup $A$, tada za skup $\\text{Sym}(A)$ važe sledeće osobine:\n",
        "\n",
        "\n",
        "> a) Zatvorenost: \n",
        "> $(\\forall f, g \\in \\text{Sym}(A)) \\quad f \\circ g \\in \\text{Sym}(A)$\n",
        "> \n",
        "> b) Asocijativnost: \n",
        "> $(\\forall f, g, h \\in \\text{Sym}(A)) \\quad f \\circ (g \\circ h) = (f \\circ g) \\circ h;$\n",
        "> \n",
        "> c) Postojanje neutralnog elementa: \n",
        "> $(\\exists i_A \\in \\text{Sym}(A)) \\quad (\\forall x \\in A) \\quad i_A(x) = x;$\n",
        "> \n",
        "> d) Postojanje inverznog elementa:\n",
        "> $(\\forall f \\in \\text{Sym}(A)) \\quad (\\exists f^{-1} \\in \\text{Sym}(A)) \\quad f \\circ f^{-1} = f^{-1} \\circ f = i_A.$\n"
      ]
    },
    {
      "cell_type": "markdown",
      "metadata": {
        "id": "0gb0S6vXsYeR"
      },
      "source": [
        "Algebarski, uređeni par $(Sym(A), \\circ)$, gde je $\\circ$ operacija kompozicije čini algebarsku grupu. Ova grupa se specijalno naziva **simetrijska grupa skupa $A$**"
      ]
    },
    {
      "cell_type": "markdown",
      "metadata": {
        "id": "K7SvuXd-yvBC"
      },
      "source": [
        "\n",
        "**Definicija:** $k$-permutacija skupa od $n$ elemenata je svaka uređena $k$-torka različitih elemenata iz skupa od $n$ elemenata. Permutacija skupa od $n$ elemenata je svaka $n$-permutacija tog skupa.\n",
        "\n",
        "Pored naziva $k$-permutacija koristi se i termin varijacija bez ponavljanja $k$-te klase od $n$ elemenata.\n"
      ]
    },
    {
      "cell_type": "markdown",
      "metadata": {
        "id": "xZZtZEgYzhcg"
      },
      "source": [
        "**Teorema:** Neka su $P(n,k)$ i $P(n,n)$ redom broj $k$-permutacija skupa od $n$ elemenata i broj permutacija skupa od $n$ elemenata. Tada:\n",
        "\n",
        "1. $P(n,k) = n \\cdot (n - 1) \\cdot ... \\cdot (n - k + 1) = \\frac{n!}{(n - k)!},$\n",
        "\n",
        "2. $P(n,n) = n \\cdot (n - 1) \\cdot ... \\cdot 2 \\cdot 1 = n!$\n"
      ]
    },
    {
      "cell_type": "markdown",
      "metadata": {
        "id": "DzSfnyTaz1TU"
      },
      "source": [
        "**Dokaz:**\n",
        "\n",
        "(1) Prvi član $k$-permutacije skupa od $n$ elemenata može biti izabran na $n$ načina. Pošto je jedan element izabran, a u permutaciji se nalaze samo različiti elementi, preostaje $n - 1$ elemenat, tako da se sledeći član bira na $n - 1$ način. Prema tome, prva dva člana mogu se izabrati na $n \\cdot (n - 1)$ načina. Postupak produžavamo, tako da se poslednji, $k$-ti član permutacije bira iz skupa koji sadrži $n - (k - 1)$ elemenata, pa postoji upravo toliko načina da i on bude izabran. Prema pravilu proizvoda,\n",
        "\n",
        "$$\n",
        "P(n,k) = n \\cdot (n - 1) \\cdot \\dots \\cdot (n - k + 1).\n",
        "$$\n",
        "\n",
        "(2) Direktna posledica (1) za $k = n$.\n"
      ]
    },
    {
      "cell_type": "markdown",
      "metadata": {
        "id": "sf1hsD3ScqBk"
      },
      "source": [
        "$k$-permutacija skupa predstavlja sve načine na koji iz skupa od $n$ različitih elemenata možemo odabrati $k$ elemenata, tako da je redosled kojim biramo te elemente značajan."
      ]
    },
    {
      "cell_type": "code",
      "execution_count": null,
      "metadata": {
        "id": "iwRSBKVSMNKe"
      },
      "outputs": [],
      "source": [
        "#Rekurzivni algoritam za generisanje svih k-permutacija skupa\n",
        "def generate_permutations(arr, length, current, used):\n",
        "    if len(used) == min(length, len(arr)):\n",
        "        print(current)\n",
        "    else:\n",
        "        for i in arr:\n",
        "            if i not in used:\n",
        "                newcurrent = current.copy()\n",
        "                newcurrent.append(i)\n",
        "                newused = used.copy()\n",
        "                newused.add(i)\n",
        "                generate_permutations(arr, length, newcurrent, newused)\n",
        "\n",
        "def permute(arr, k):\n",
        "    generate_permutations(arr, k, [], set())\n",
        "\n",
        "permute([1, 2, 3, 4], 4)\n",
        "print(\"###################\")\n",
        "permute([1, 2, 3, 4], 2)"
      ]
    },
    {
      "cell_type": "markdown",
      "metadata": {
        "id": "dVMDVa2B5UED"
      },
      "source": [
        "## Permutacije multiskupa"
      ]
    },
    {
      "cell_type": "markdown",
      "metadata": {
        "id": "bR57htCkz9iC"
      },
      "source": [
        "**Teorema:** Neka je dato $k$ vrsta objekata, tako da $i$-te vrste ima $n_i$ objekata, i neka je $n = \\sum_{i=1}^{k} n_i$. Tada je broj permutacija tih $n$ objekata jednak:\n",
        "\n",
        "$$\n",
        "\\frac{n!}{n_1! n_2! \\dots n_k!}.\n",
        "$$\n"
      ]
    },
    {
      "cell_type": "markdown",
      "metadata": {
        "id": "-3VeXXby1D5s"
      },
      "source": [
        "**Dokaz:** Neka je $x$ traženi broj permutacija. Za bilo koju permutaciju ovih $n$ objekata, ako objekte prve vrste posmatramo kao različite, dobijamo $x \\cdot n_1!$ permutacija.\n",
        "\n",
        "Isto ponavljamo za objekte druge i svih ostalih vrsta, što daje:\n",
        "\n",
        "$$\n",
        "x \\cdot n_1! \\cdot n_2! \\cdot \\dots \\cdot n_k! = P(n,n) = n!.\n",
        "$$\n",
        "\n",
        "Stoga je traženi broj jednak:\n",
        "\n",
        "$$\n",
        "x = \\frac{n!}{n_1! \\cdot n_2! \\cdot \\dots \\cdot n_k!}.\n",
        "$$\n"
      ]
    },
    {
      "cell_type": "code",
      "execution_count": null,
      "metadata": {
        "collapsed": true,
        "id": "xJTbZt0bUy0m"
      },
      "outputs": [],
      "source": [
        "class ListElement:\n",
        "    def __init__(self, value, next):\n",
        "        self.value = value\n",
        "        self.next = next\n",
        "    def nth(self, n):\n",
        "        o = self\n",
        "        i = 0\n",
        "        while i < n and o.next is not None:\n",
        "            o = o.next\n",
        "            i += 1\n",
        "        return o\n",
        "\n",
        "def init(multiset):\n",
        "    multiset.sort() # ensures proper non-increasing order\n",
        "    h = ListElement(multiset[0], None)\n",
        "    for item in multiset[1:]:\n",
        "        h = ListElement(item, h)\n",
        "    return h, h.nth(len(multiset) - 2), h.nth(len(multiset) - 1)\n",
        "\n",
        "def visit(h):\n",
        "    \"\"\"Converts our bespoke linked list to a python list.\"\"\"\n",
        "    o = h\n",
        "    l = []\n",
        "    while o is not None:\n",
        "        l.append(o.value)\n",
        "        o = o.next\n",
        "    return l\n",
        "\n",
        "def permutations(multiset):\n",
        "    \"\"\"Generator providing all multiset permutations of a multiset.\"\"\"\n",
        "    h, i, j = init(multiset)\n",
        "    yield visit(h)\n",
        "    while j.next is not None or j.value < h.value:\n",
        "        if j.next is not None and i.value >= j.next.value:\n",
        "            s = j\n",
        "        else:\n",
        "            s = i\n",
        "        t = s.next\n",
        "        s.next = t.next\n",
        "        t.next = h\n",
        "        if t.value < h.value:\n",
        "            i = t\n",
        "        j = i.next\n",
        "        h = t\n",
        "        yield visit(h)\n",
        "\n",
        "if __name__ == '__main__':\n",
        "    import sys\n",
        "    multiset = [1, 1, 2, 2, 3, 3, 3]\n",
        "    if multiset != []:\n",
        "        for permutation in permutations(multiset):\n",
        "            for item in permutation:\n",
        "                print(item)\n",
        "            print()\n",
        "    else:\n",
        "        print(\"usage\", sys.argv[0], \"<multiset>\")"
      ]
    },
    {
      "cell_type": "markdown",
      "metadata": {
        "id": "S0XihjMw1Qrc"
      },
      "source": [
        "**Teorema:** Neka je dato $n$ objekata. Broj $k$-permutacija sa ponavljanjem je jednak $n^k$.\n"
      ]
    },
    {
      "cell_type": "markdown",
      "metadata": {
        "id": "I_dclZLH1Y73"
      },
      "source": [
        "**Dokaz:** Pošto u svakom od $k$ koraka izbora možemo izabrati jedan od $n$ elemenata, rezultat neposredno sledi prema pravilu proizvoda. Dakle, ukupan broj mogućih izbora je:\n",
        "\n",
        "$$\n",
        "n \\cdot n \\cdot \\dots \\cdot n \\quad (k \\text{ puta}) = n^k.\n",
        "$$"
      ]
    },
    {
      "cell_type": "markdown",
      "metadata": {
        "id": "SF2z9Q_J3WLF"
      },
      "source": [
        "## Permutacije \"oko okruglog stola\" / kružne permutacije\n",
        "\n"
      ]
    },
    {
      "cell_type": "markdown",
      "metadata": {
        "id": "8sUNmntn128M"
      },
      "source": [
        "**Teorema:** Broj načina da se $n$ objekata rasporedi oko okruglog stola je $(n - 1)!$.\n"
      ]
    },
    {
      "cell_type": "markdown",
      "metadata": {
        "id": "zD978nZT1-mz"
      },
      "source": [
        "**Dokaz (prvi način):**\n",
        "1. Fiksiramo jedan objekat (npr. $A$) da izbegnemo dupliranje zbog rotacija.\n",
        "2. Preostali $n - 1$ objekata možemo rasporediti na $(n - 1)!$ načina."
      ]
    },
    {
      "cell_type": "markdown",
      "metadata": {
        "id": "K_-syDm5dKXb"
      },
      "source": [
        "**Dokaz (drugi način):** Primetimo da za svako raspoređivanje $n$ elemenata u nizu postoji tačno $n$ raspoređivanja za okruglim stolom koja se razlikuju samo po tome od kojeg mesta smo počeli raspored, tj. postoji $n$ rasporeda koji se od jednog mogu generisati samo rotacijom stola. Kako je ukupan broj permutacija $n!$ i svaka permutacija se za okruglim stolom ponavlja $n$ puta, ukupan broj kružnih permutacija je $\\frac{n!}{n} = (n-1)!$"
      ]
    },
    {
      "cell_type": "markdown",
      "metadata": {
        "id": "FbRmFtQy3F9A"
      },
      "source": [
        "## Primeri"
      ]
    },
    {
      "cell_type": "code",
      "execution_count": null,
      "metadata": {
        "colab": {
          "base_uri": "https://localhost:8080/"
        },
        "id": "_OndqW3DG8I6",
        "outputId": "09946521-8c0e-405c-988f-d7a6fe5af076"
      },
      "outputs": [
        {
          "name": "stdout",
          "output_type": "stream",
          "text": [
            "Nasumična permutacija skupa {1, 2, ..., 5}: [4, 1, 5, 3, 2]\n"
          ]
        }
      ],
      "source": [
        "#Fisher-Yates algoritam za nasumično permutovanje\n",
        "\n",
        "import random\n",
        "\n",
        "def random_permutation(n):\n",
        "    elements = list(range(1, n + 1))\n",
        "\n",
        "    for i in range(n - 1, 0, -1):\n",
        "        j = random.randint(0, i)\n",
        "        elements[i], elements[j] = elements[j], elements[i]\n",
        "\n",
        "    return elements\n",
        "\n",
        "n = 5\n",
        "perm = random_permutation(n)\n",
        "print(f\"Nasumična permutacija skupa {{1, 2, ..., {n}}}: {perm}\")\n"
      ]
    },
    {
      "cell_type": "code",
      "execution_count": null,
      "metadata": {
        "colab": {
          "base_uri": "https://localhost:8080/"
        },
        "id": "gzzjXAeZHomD",
        "outputId": "b4d9034e-9144-4655-b7de-765bb7a2cd20"
      },
      "outputs": [
        {
          "name": "stdout",
          "output_type": "stream",
          "text": [
            "Permutacija sa rednim brojem 5 : [1, 1, 5, 1]\n"
          ]
        }
      ],
      "source": [
        "#Kod za generisanje određene permutacije po leksikografskom poretku, u ovom primeru izračunata je 5. permutacija\n",
        "\n",
        "import math\n",
        "\n",
        "def permutacija_po_redu(k, m, n, a):\n",
        "    a[m] = 1 + (k - 1) // math.factorial(n - m)\n",
        "\n",
        "    if m < n - 1:\n",
        "        k0 = k - (a[m] - 1) * math.factorial(n - m)\n",
        "        permutacija_po_redu(k0, m + 1, n, a)\n",
        "\n",
        "        for i in range(m + 1, n):\n",
        "            if a[i] > a[m]:\n",
        "                a[i] += 1\n",
        "\n",
        "n = 4\n",
        "k = 5\n",
        "a = [0] * n\n",
        "\n",
        "permutacija_po_redu(k, 0, n, a)\n",
        "print(\"Permutacija sa rednim brojem\", k, \":\", a)\n"
      ]
    }
  ],
  "metadata": {
    "colab": {
      "provenance": []
    },
    "kernelspec": {
      "display_name": "Python 3",
      "name": "python3"
    },
    "language_info": {
      "name": "python"
    }
  },
  "nbformat": 4,
  "nbformat_minor": 0
}
