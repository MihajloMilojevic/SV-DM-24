{
 "cells": [
  {
   "cell_type": "markdown",
   "metadata": {
    "id": "p16XP1chkxlb"
   },
   "source": [
    "# **Stabla**"
   ]
  },
  {
   "cell_type": "markdown",
   "metadata": {
    "id": "UwDbMIjM0x31"
   },
   "source": [
    "**Definicija.** Za prost graf $G = (V, E)$ kažemo da je stablo ako važi:\n",
    "1. $G$ je povezan graf i\n",
    "2. $G$ je acikličan graf (bez kontura)"
   ]
  },
  {
   "cell_type": "markdown",
   "metadata": {
    "id": "Qmytegi4f28K"
   },
   "source": [
    "## **Karakterizacija stabla**"
   ]
  },
  {
   "cell_type": "markdown",
   "metadata": {
    "id": "fEXjB3sUlIFa"
   },
   "source": [
    "**Teorema** (*Karakterizacija stabla*) Neka je $G = (V, E)$ prost graf. Sledeća tvrđenja su ekvivalentna:\n",
    "\n",
    "$\\quad$ ($i$) $G$ je stablo.\n",
    "\n",
    "$\\quad$ ($ii$) Za svaka dva čvora $u, v \\in V(G)$ postoji jedinstven put od $u$ do $v$.\n",
    "\n",
    "$\\quad$ ($iii$) $G$ je povezan i $|E(G)| = |V(G)| -1$\n",
    "\n",
    "$\\quad$ ($iv$) $G$ je minimalan povezan graf.\n",
    "\n",
    "$\\quad$ ($v$) $G$ je maksimalan acikličan graf."
   ]
  },
  {
   "cell_type": "markdown",
   "metadata": {
    "id": "pdEmHcAW8AEr"
   },
   "source": [
    "***Napomena!*** $  $ Dovoljno je pokazati da je prvo tvrđenje ekvivalentno s drugim, trećim, četvrtim i petim. Tranzitivnost relacije ekvivalencije tada garantuje da su sva tvrđenja međusobno ekvivalentna."
   ]
  },
  {
   "cell_type": "markdown",
   "metadata": {
    "id": "bW5DiZR319BF"
   },
   "source": [
    "**Teorema** ($i$) ⇔ ($ii$)\n",
    "\n",
    "Neka je $G = (V, E)$ i $|V| = n ≥ 2$.Tada je $G$ stablo ako i samo ako za\n",
    "svaka dva čvora $u, v \\in V$ postoji jedinstven $uv$-put."
   ]
  },
  {
   "cell_type": "markdown",
   "metadata": {
    "id": "7eQ5s0pHAAR0"
   },
   "source": [
    "Dokaz. **(⇒)**  \n",
    "Za $n = 2$ tvrđenje sledi direktno. Pretpostavićemo da je $n \\geq 3$.  \n",
    "\n",
    "Pretpostavimo suprotno:  \n",
    "\n",
    "$$U_1 = uu_1 \\dots u_i u_{i+1} \\dots u_m v$$  \n",
    "$$U_2 = uv_1 \\dots v_n v$$\n",
    "\n",
    "Neka važi:  \n",
    "$$\\{u_i, u_{i+1}\\} \\in U_1 \\quad \\text{ i } \\quad \\{u_i, u_{i+1}\\} \\notin U_2$$  \n",
    "\n",
    "Razmatra se slučaj kada je $u, v \\notin \\{u_i, u_{i+1}\\}$. Ostali slučajevi se izvode slično. Tada je:  \n",
    "\n",
    "$$u_i \\dots u_1 uv_1 \\dots v_n v u_m \\dots u_{i+1}$$\n",
    "\n",
    "Ovo predstavlja $u_i u_{i+1}$-šetnju u grafu $G - \\{u_i, u_{i+1}\\}$. Ako u grafu $G - \\{u_i, u_{i+1}\\}$ postoji $u_i u_{i+1}$-šetnja, tada postoji i $u_i u_{i+1}$-put.  \n",
    "\n",
    "Dodavanjem grane $u_i u_{i+1}$ dobijamo konturu u grafu $G$, što je u suprotnosti sa pretpostavkom da je $G$ stablo.  \n"
   ]
  },
  {
   "cell_type": "markdown",
   "metadata": {
    "id": "ucw5usmMGZOs"
   },
   "source": [
    "Dokaz. **(⇐)**  \n",
    "Ako za svaka dva čvora $u, v \\in V$ postoji $uv$-put, onda je $G$ po definiciji povezan graf.  \n",
    "\n",
    "Treba još pokazati da je $G$ acikličan. Pretpostavimo suprotno, tj. da u grafu $G$ postoji kontura oblika:  \n",
    "\n",
    "$$w_1 w_2 w_3 \\dots w_l w_1.$$\n",
    "\n",
    "Tada postoje bar dva puta od $w_1$ do $w_l$:  \n",
    "\n",
    "$$w_1 w_l \\quad \\text{ i } \\quad w_1 w_2 w_3 \\dots w_l.$$\n",
    "\n",
    "Ovo je kontradikcija sa pretpostavkom da za svaka dva čvora postoji jedinstven put od jednog do drugog.  \n",
    "\n",
    "Dakle, naša pretpostavka je netačna, što znači da je $G$ acikličan graf.  "
   ]
  },
  {
   "cell_type": "markdown",
   "metadata": {
    "id": "EPEoq1m_BeNG"
   },
   "source": [
    "*Lema* $ $ Neka je $G = (V, E)$ stablo i neka je $|V| = n ≥ 2$. Tada postoje bar dva čvora stepena 1."
   ]
  },
  {
   "cell_type": "markdown",
   "metadata": {
    "id": "q_lllhudB6tb"
   },
   "source": [
    "Dokaz. Kako je $G$ stablo, $G$ je povezan graf. Pretpostavimo da je\n",
    "\n",
    "$$u_1 u_2 \\dots u_l$$\n",
    "\n",
    "najduži put u grafu $G$ (može biti više takvih puteva iste dužine). Pokazaćemo da je tada\n",
    "\n",
    "$$d_G(u_1) = d_G(u_l) = 1.$$\n",
    "\n",
    "Pretpostavimo da je $d_G(u_1) \\geq 2$ (slično za $d_G(u_l) \\geq 2$). Tada postoji čvor $w$ $(\\neq u_2)$ sa osobinom $u_1 w \\in E$.\n",
    "\n",
    "Ako je $w \\in \\{u_3, \\dots, u_l\\}$, onda $G$ ima konturu, što je u kontradikciji sa pretpostavkom da je $G$ stablo.\n",
    "\n",
    "Ako $w \\notin \\{u_3, \\dots, u_l\\}$, onda je put\n",
    "\n",
    "$$w u_1 u_2 \\dots u_l$$\n",
    "\n",
    "duži od početnog za kog smo pretpostavili da je najduži, što je kontradikcije."
   ]
  },
  {
   "cell_type": "markdown",
   "metadata": {
    "id": "OX0FQFacB7xk"
   },
   "source": [
    "*Lema* $ $ Neka je $G = (V, E)$, $|V| = n ≥ 2$, i neka je $d_G(u) = 1$ za neki čvor $u \\in V$. Tada je $G$ stablo akko je $G - u$ stablo."
   ]
  },
  {
   "cell_type": "markdown",
   "metadata": {
    "id": "UCFIa8bUCZXZ"
   },
   "source": [
    "Dokaz. **(⇒)**\n",
    "\n",
    "Pretpostavimo da je $G$ stablo.\n",
    "\n",
    "Da bismo pokazali da je $G - u$ stablo, treba pokazati sledeće:  \n",
    "$\\quad$($i$) $G - u$ je povezan:\n",
    "\n",
    "$\\qquad$ $\\qquad$ Posmatrajmo dva proizvoljna čvora $v, w \\in V(G - u)$. Kako je $G$ povezan, postoji $vw$-put u $G$. Ovaj put ne sadrži čvor stepena 1 koji je različit od $v$ i $w$, što znači da ne sadrži $u$. Znači, taj put je ujedno i put u $G - u$, što pokazuje da je $G - u$ povezan.  \n",
    "\n",
    "$\\quad$($ii$) $G - u$ je acikličan:\n",
    "\n",
    "$\\qquad$ $\\qquad$ Kako je $G$ acikličan, to je i $G - u$ acikličan, zato što brisanjem grane iz acikličnog grafa ne možemo dobiti konturu.\n",
    "\n",
    "\n"
   ]
  },
  {
   "cell_type": "markdown",
   "metadata": {
    "id": "Lnh9RT1jJv6o"
   },
   "source": [
    "Dokaz. **(⇐)**\n",
    "\n",
    "Neka je $G - u$ stablo.  \n",
    "Od acikličnog grafa, dodavanjem nazad čvora $u$ ne možemo dobiti konturu u tom grafu. Svaki čvor konture ima stepen bar dva, a čvor $u$ je stepena 1. Svaka dva čvora koja su povezana u $G - u$ ostaju povezana i u $G$.  \n",
    "\n",
    "Ostaje još da pokažemo da postoji $uw$-put za svaki čvor $w \\in V(G - u)$. Kako je $d_G(u) = 1$, postoji $v \\in V(G - u)$ sa osobinom $\\{u, v\\} \\in E(G)$.  Iz pretpostavke da je $G - u$ stablo, sledi da je $G - u$ povezan graf, odakle za svako $w \\in V(G - u)$ postoji $wv$-put u $G - u$.  \n",
    "\n",
    "Dodavanjem grane $\\{u, v\\}$ tom putu, dobijamo put u $G$.\n"
   ]
  },
  {
   "cell_type": "markdown",
   "metadata": {
    "id": "mdk1GsymABgJ"
   },
   "source": [
    "**Teorema** ($i$) ⇔ ($iii$)\n",
    "\n",
    "Neka je $G = (V, E)$ i $|V| = n ≥ 2$. Tada je $G$ stablo ako i samo ako je $G$ povezan graf i $|E|= n - 1$."
   ]
  },
  {
   "cell_type": "markdown",
   "metadata": {
    "id": "NoGbZ6ZhAgQm"
   },
   "source": [
    "Dokaz. **(⇒)** (*indukcijom po n*) \n",
    "\n",
    "$n = 2$: stablo sa 2 čvora ima jednu granu  \n",
    "$T_n ⇒ T_{n+1}$ : Neka je dato stablo $$G = (V, E) \\quad |V| = n + 1$$  \n",
    "\n",
    "Neka je $u$ list u tom stablu i $\\{u, v\\}$ (jedina) grana incidentna sa $u$:  \n",
    "\n",
    "$$G' = G - u = (V \\setminus \\{u\\}, E \\setminus \\{\\{u, v\\}\\})$$\n",
    "\n",
    "$$|E| = |E(G')| + 1 = (n - 1) + 1 = n$$\n",
    "\n",
    "\n",
    "\n"
   ]
  },
  {
   "cell_type": "markdown",
   "metadata": {
    "id": "WFXXcDDkNzxr"
   },
   "source": [
    "Dokaz. **(⇐)** (*indukcijom po n*)\n",
    "\n",
    "$n = 2$: Povezan graf sa dva čvora i jednom granom je stablo.  \n",
    "\n",
    "$T_{n-1} ⇒ T_n$ : Ako je $E(G) = V(G) - 1$, onda postoji čvor $u$ sa osobinom $d_G(u) \\leq 1$. Kako je $G$ povezan, mora važiti $d_G(u) = 1$ i graf $G' = G - u$ je povezan graf sa osobinama\n",
    "$$|V(G')| = |V(G)| - 1 = n$$\n",
    "$$|E(G')| = |E(G)| - 1 = n - 1.$$\n",
    "\n",
    "Prema induktivnoj pretpostavci je sada $G' - u$ stablo. Prema prethodnoj lemi, $G$ je stablo."
   ]
  },
  {
   "cell_type": "markdown",
   "metadata": {
    "id": "ESKcHkZpVwgf"
   },
   "source": [
    "*Lema* $ $ Neka je $G = (V, E)$ graf sa $|V| = n$ i $|E| = m$. Neka su $G_1, G_2, \\dots, G_l$ komponente povezanosti grafa $G$, sa $k_1, k_2, \\dots, k_l$ brojevima čvorova, respektivno. Tada postoji $i \\in \\{1, …, l\\}$ sa osobinom $|E(G_i)| \\ge k_i$.\n"
   ]
  },
  {
   "cell_type": "markdown",
   "metadata": {
    "id": "K_FvFagwW_Q3"
   },
   "source": [
    "Dokaz. Pretpostavimo suprotno, da za svako $i \\in \\{1, …, l\\}$ važi $|E(G_i)| < k_i$.\n",
    "\n",
    "Tada je $$ n \\le E(G) = E(G_1) + \\dots + E(G_l) < k_1 + k_2 + \\dots + k_l = n$$ što je kontradikcija."
   ]
  },
  {
   "cell_type": "markdown",
   "metadata": {
    "id": "nqMpZwf0Vxso"
   },
   "source": [
    "**Teorema** Neka je $G = (V, E)$, gde je $|V| = n \\geq 2$ i $|E| \\geq n$. Tada $G$ sadrži konturu."
   ]
  },
  {
   "cell_type": "markdown",
   "metadata": {
    "id": "yqwP1gLdYm5D"
   },
   "source": [
    "Dokaz. Razmatramo dva slučaja\n",
    "\n",
    "$\\quad$($i$) G je povezan:  \n",
    "\n",
    "$\\qquad$ $\\qquad$ Ako $G$ nema konturu, onda je $G$ stablo i ima $n-1$ granu.\n",
    "\n",
    "$\\quad$($ii$) G nije povezan:  \n",
    "\n",
    "$\\qquad$ $\\qquad$ Neka su $G_1, G_2, \\dots, G_l$ komponente povezanosti grafa $G$, sa osobinama $$|V(G_1)| = k_1, \\dots , |V(G_l)| = k_l, \\qquad k_1 + \\dots + k_l = n$$\n",
    "\n",
    "Prema prethodnoj lemi, postoji $i \\in \\{1, …, l\\}$ sa osobinom $|E(G_i)| \\ge k_i$. Ako $G_i$ nema konturu, onda je $G_i$ stablo, a samim tim ima $k_i - 1$ granu, što je kontradikcija.\n",
    "\n",
    "Znači, komponenta $G_i$ mora imati konturu, a to je ujedno i kontura u grafu $G$."
   ]
  },
  {
   "cell_type": "markdown",
   "metadata": {
    "id": "GvjdsRJZAxNi"
   },
   "source": [
    "**Teorema** ($i$) ⇔ ($iv$)\n",
    "\n",
    "Neka je $G = (V, E)$ i $|V| = n ≥ 2$. Tada je $G$ stablo ako i samo ako je $G$ povezan graf i ako se brisanjem proizvoljne grane dobija nepovezan graf."
   ]
  },
  {
   "cell_type": "markdown",
   "metadata": {
    "id": "0WeNz1xTA_cK"
   },
   "source": [
    "Dokaz. **(⇒)**\n",
    "\n",
    "Ako je $G$ stablo, onda je $G$ po definiciji povezan graf i acikličan graf.\n",
    "\n",
    "Pretpostavimo suprotno, tj. da je $G - \\{u,v\\}$ povezan, za neku granu $\\{u,v\\} \\in E$.\n",
    "\n",
    "Po definiciji povezanog grafa, postoji $uv$-put $P$ u $G - \\{u,v\\}$, a samim tim i u $G$.\n",
    "\n",
    "Po definiciji konture, $P + \\{u,v\\}$ je kontura u $G$ što je kontradikcija sa pretpostavkom da je $G$ acikličan."
   ]
  },
  {
   "cell_type": "markdown",
   "metadata": {
    "id": "DfIfac1KPOxQ"
   },
   "source": [
    "Dokaz. **(⇐)**\n",
    "\n",
    "Treba samo pokazati da je $G$ acikličan.\n",
    "\n",
    "Pretpostavimo da je $G$ povezan i da sadrži konturu $C$.\n",
    "Prema tvrđenju uvedenom u prethodnoj lekciji, $G - \\{u,v\\}$ je povezan, gde $\\{u,v\\} \\in C$, što je kontradikcija sa pretpostavkom da se brisanjem bilo koje grane dobija nepovezan graf."
   ]
  },
  {
   "cell_type": "markdown",
   "metadata": {
    "id": "yjNybrJGBG2o"
   },
   "source": [
    "**Teorema** ($i$) ⇔ ($v$)\n",
    "\n",
    "Neka je $G = (V, E)$ i $|V| = n ≥ 2$. Tada je $G$ stablo ako i samo ako je $G$ acikličan graf i ako se dodavanjem grane dobija graf koji sadrži konturu."
   ]
  },
  {
   "cell_type": "markdown",
   "metadata": {
    "id": "QVz_5QyZBShY"
   },
   "source": [
    "Dokaz. **(⇒)**\n",
    "\n",
    "Ako je $G$ stablo, $G$ je povezan.\n",
    "\n",
    "Izaberimo $\\{u, v\\} \\notin E(G)$. Pošto sigurno postoji $uv$-put $P$ u $G$, dodavanjem grane $\\{u, v\\}$ u graf $G$, put $P$ zajedno sa $\\{u, v\\}$ formira konturu u grafu $G + \\{u, v\\}$."
   ]
  },
  {
   "cell_type": "markdown",
   "metadata": {
    "id": "4LvaWsMpPQ4X"
   },
   "source": [
    "Dokaz. **(⇐)**\n",
    "\n",
    "Treba pokazati da je $G$ povezan.  \n",
    "Neka su $u$ i $v$ proizvoljni čvorovi iz $V$.\n",
    "\n",
    "Imamo dva slučaja:\n",
    "\n",
    "$\\quad$ ($i$) Ako je $\\{u, v\\} \\in E$,\n",
    "\n",
    "$\\qquad$ $\\qquad$ tada je ta grana ujedno i $uv$-put.\n",
    "\n",
    "$\\quad$ ($ii$) Ako $\\{u, v\\} \\notin E$,\n",
    "\n",
    "$\\qquad$ $\\qquad$ tada $G + \\{u, v\\}$ sadrži konturu koja uključuje granu $\\{u, v\\}$. Oduzimanjem grane $\\{u, v\\}$ sa te konture, dobijamo $uv$-put u $G$.\n",
    "\n",
    "U oba slučaja postoji $uv$-put, pa je graf $G$ povezan."
   ]
  },
  {
   "cell_type": "markdown",
   "metadata": {
    "id": "MIN8sk9JD0lq"
   },
   "source": [
    "**Definicija.** Za prost graf $G=(V,E)$ kažemo da je šuma ako je\n",
    "$G$ acikličan (ne sadrži konture), ali nije nužno povezan. Drugim rečima, šuma je unija disjunktnih stabala."
   ]
  },
  {
   "cell_type": "markdown",
   "metadata": {
    "id": "aflVAtujkFCg"
   },
   "source": [
    "[Graf, stablo, šuma - primer](https://static.cambridge.org/binary/version/id/urn:cambridge.org:id:binary:20171027092037172-0306:9781316105450:08931fig2_1.png?pub-status=live)"
   ]
  },
  {
   "cell_type": "markdown",
   "metadata": {
    "id": "A2CHtSUklYJn"
   },
   "source": [
    "## **Pokrivajuća stabla**"
   ]
  },
  {
   "cell_type": "markdown",
   "metadata": {
    "id": "ln8EvJBOaOS7"
   },
   "source": [
    "**Definicija.**  $G_1$ je pokrivajuće stablo grafa $G$ ako je\n",
    "\n",
    "$\\quad$($i$) $G_1$ pokrivajući podgraf od $G$ $\\quad$ ($V(G_1)=V(G)$ i $E(G_1)\n",
    "⊆ E(G))$\n",
    "\n",
    "$\\quad$($ii$) $G_1$ stablo."
   ]
  },
  {
   "cell_type": "markdown",
   "metadata": {
    "id": "YDjg1BzHdWvQ"
   },
   "source": [
    "*Lema* $ $  Neka je $G$ povezan graf sa osobinom $|V(G)| = n$. Ako je $k \\ge n$ i $E(G)=k$ onda $G$ ima pokrivajuće stablo."
   ]
  },
  {
   "cell_type": "markdown",
   "metadata": {
    "id": "j9H865uVdXi4"
   },
   "source": [
    "Dokaz. (*indukcijom po $k$)*\n",
    "Graf sa $n$ čvorova i bar $n$ grana ima konturu.  \n",
    "\n",
    "$k = n$ : Oduzimanjem iz grafa jedne grane konture, graf ostaje povezan i pokriva i dalje sve čvorove. Povezan graf sa $n - 1$ čvorova je stablo.  \n",
    "\n",
    "$T_{k-1} \\Rightarrow T_k$: Ako $G$ sadrži konturu, onda možemo konstruisati povezan graf $G'$ brisanjem proizvoljne grane konture. Primetimo da je $V(G') = V(G)$ i $E(G') \\subseteq E(G)$. Kako je $G'$ povezan, prema induktivnoj pretpostavci, $G'$ ima pokrivajuće stablo, a to je ujedno i pokrivajuće stablo grafa $G$."
   ]
  },
  {
   "cell_type": "markdown",
   "metadata": {
    "id": "2--h6CxCbf8O"
   },
   "source": [
    "**Teorema** Graf ima pokrivajuće stablo akko je povezan."
   ]
  },
  {
   "cell_type": "markdown",
   "metadata": {
    "id": "V1RRX3X9bmgc"
   },
   "source": [
    "Dokaz. **(⇒)** Sledi direktno iz definicije.\n",
    "\n",
    "Dokaz. **(⇐)** Neka je $G$ povezan. $|V(G)| = n ≥ 2$ ⇒ $|E(G)| ≥ n - 1$ jer u suprotnom graf ne bi bio povezan.\n",
    "\n",
    "Posmatramo sledeća dva slučaja:\n",
    "\n",
    "$\\quad$($i$) $|E(G)| = n - 1$ : povezan graf sa $n - 1$ čvorova je stablo, tako da je $G$ stablo a takođe i sopstveno pokrivajuće stablo\n",
    "\n",
    "$\\quad$($ii$) $|E(G)| = k \\ge n$ : važi na osnovu prethodne leme."
   ]
  },
  {
   "cell_type": "markdown",
   "metadata": {},
   "source": [
    "## **Težinski graf**"
   ]
  },
  {
   "cell_type": "markdown",
   "metadata": {},
   "source": [
    "**Definicija.** Težinski graf je graf $G = (V, E, w)$, gde je:\n",
    "- $V$ skup čvorova,\n",
    "- $E$ skup ivica,\n",
    "- $w: E \\to \\mathbb{R}$ funkcija koja dodeljuje težinu (realni broj) svakoj ivici $e \\in E$."
   ]
  },
  {
   "cell_type": "markdown",
   "metadata": {},
   "source": [
    "### Algoritam za određivanje najkraćeg puta u grafu"
   ]
  },
  {
   "cell_type": "code",
   "execution_count": null,
   "metadata": {},
   "outputs": [
    {
     "name": "stdout",
     "output_type": "stream",
     "text": [
      "Shortest paths from vertex 0: {0: 0, 1: 4, 2: 4, 3: 7, 4: 8, 5: 6}\n"
     ]
    }
   ],
   "source": [
    "# Dajkstrin algoritam za pronalaženje najkraćeg puta\n",
    "\n",
    "import heapq\n",
    "\n",
    "class DijkstraShortestPath:\n",
    "    def __init__(self, vertices):\n",
    "        self.vertices = vertices\n",
    "        self.graph = {v: [] for v in range(vertices)}\n",
    "\n",
    "    def add_edge(self, u, v, weight):\n",
    "        self.graph[u].append((v, weight))\n",
    "        self.graph[v].append((u, weight))  \n",
    "\n",
    "    def dijkstra(self, start):\n",
    "        distances = {v: float('inf') for v in range(self.vertices)}\n",
    "        distances[start] = 0\n",
    "        priority_queue = [(0, start)]\n",
    "\n",
    "        while priority_queue:\n",
    "            current_distance, current_vertex = heapq.heappop(priority_queue)\n",
    "\n",
    "            if current_distance > distances[current_vertex]:\n",
    "                continue\n",
    "\n",
    "            for neighbor, weight in self.graph[current_vertex]:\n",
    "                distance = current_distance + weight\n",
    "                if distance < distances[neighbor]:\n",
    "                    distances[neighbor] = distance\n",
    "                    heapq.heappush(priority_queue, (distance, neighbor))\n",
    "\n",
    "        return distances\n",
    "\n",
    "# Primer\n",
    "if __name__ == \"__main__\":\n",
    "    vertices = 6\n",
    "    edges = [\n",
    "        (0, 1, 4), (0, 2, 4), (1, 2, 2), (1, 0, 4), (2, 0, 4),\n",
    "        (2, 3, 3), (2, 5, 2), (2, 4, 4), (3, 2, 3), (3, 4, 3),\n",
    "        (4, 2, 4), (4, 3, 3), (5, 2, 2), (5, 4, 3)\n",
    "    ]\n",
    "    dijkstra = DijkstraShortestPath(vertices)\n",
    "    for u, v, weight in edges:\n",
    "        dijkstra.add_edge(u, v, weight)\n",
    "\n",
    "    start_vertex = 0\n",
    "    distances = dijkstra.dijkstra(start_vertex)\n",
    "    print(f\"Shortest paths from vertex {start_vertex}:\", distances)"
   ]
  },
  {
   "cell_type": "markdown",
   "metadata": {
    "id": "GtzWW0oLlcMF"
   },
   "source": [
    "### Algoritmi za konstrukciju pokrivajućeg stabla"
   ]
  },
  {
   "cell_type": "code",
   "execution_count": null,
   "metadata": {
    "colab": {
     "base_uri": "https://localhost:8080/"
    },
    "executionInfo": {
     "elapsed": 269,
     "status": "ok",
     "timestamp": 1734304964389,
     "user": {
      "displayName": "Bojana Paunović",
      "userId": "16427843641206162906"
     },
     "user_tz": -60
    },
    "id": "chIQfqa-m1jv",
    "outputId": "028b0c67-018c-4276-cff5-6e2c1ca467be"
   },
   "outputs": [
    {
     "name": "stdout",
     "output_type": "stream",
     "text": [
      "Minimum Spanning Tree (Kruskal): [(1, 2, 2), (2, 5, 2), (2, 3, 3), (3, 4, 3), (0, 1, 4)]\n",
      "Minimum Spanning Tree (Prim): [(0, 0), (4, 1), (2, 2), (2, 5), (3, 3), (3, 4)]\n",
      "Total Weight (Prim): 14\n"
     ]
    }
   ],
   "source": [
    "# Implementacija algoritama za pronalaženje minimalnog pokrivajućeg stabla (minimum spanning tree - MST)\n",
    "\n",
    "import heapq\n",
    "\n",
    "# Kruskalov algoritam za pronalaženje MST\n",
    "class KruskalMST:\n",
    "    def __init__(self, vertices):\n",
    "        self.vertices = vertices\n",
    "        self.parent = {v: v for v in range(vertices)}\n",
    "        self.rank = {v: 0 for v in range(vertices)}\n",
    "\n",
    "    def find(self, v):\n",
    "        if self.parent[v] != v:\n",
    "            self.parent[v] = self.find(self.parent[v])  \n",
    "        return self.parent[v]\n",
    "\n",
    "    def union(self, u, v):\n",
    "        root_u = self.find(u)\n",
    "        root_v = self.find(v)\n",
    "\n",
    "        if root_u != root_v:\n",
    "            if self.rank[root_u] > self.rank[root_v]:\n",
    "                self.parent[root_v] = root_u\n",
    "            elif self.rank[root_u] < self.rank[root_v]:\n",
    "                self.parent[root_u] = root_v\n",
    "            else:\n",
    "                self.parent[root_v] = root_u\n",
    "                self.rank[root_u] += 1\n",
    "\n",
    "    def kruskal(self, edges):\n",
    "        mst = []\n",
    "        edges.sort(key=lambda edge: edge[2])  \n",
    "\n",
    "        for u, v, weight in edges:\n",
    "            if self.find(u) != self.find(v):\n",
    "                self.union(u, v)\n",
    "                mst.append((u, v, weight))\n",
    "\n",
    "        return mst\n",
    "\n",
    "# Prim - Jarnikov algoritam za pronalaženje MST\n",
    "class PrimMST:\n",
    "    def __init__(self, vertices):\n",
    "        self.vertices = vertices\n",
    "        self.graph = {v: [] for v in range(vertices)}\n",
    "\n",
    "    def add_edge(self, u, v, weight):\n",
    "        self.graph[u].append((v, weight))\n",
    "        self.graph[v].append((u, weight))\n",
    "\n",
    "    def prim(self, start=0):\n",
    "        visited = [False] * self.vertices\n",
    "        min_heap = [(0, start)]  # (weight, vertex)\n",
    "        mst = []\n",
    "        total_weight = 0\n",
    "\n",
    "        while min_heap:\n",
    "            weight, current_vertex = heapq.heappop(min_heap)\n",
    "\n",
    "            if visited[current_vertex]:\n",
    "                continue\n",
    "\n",
    "            visited[current_vertex] = True\n",
    "            total_weight += weight\n",
    "            mst.append((weight, current_vertex))\n",
    "\n",
    "            for neighbor, edge_weight in self.graph[current_vertex]:\n",
    "                if not visited[neighbor]:\n",
    "                    heapq.heappush(min_heap, (edge_weight, neighbor))\n",
    "\n",
    "        return mst, total_weight\n",
    "\n",
    "\n",
    "# Primer\n",
    "if __name__ == \"__main__\":\n",
    "    # Primer za Kruskalov algoritam\n",
    "    vertices = 6\n",
    "    edges = [\n",
    "        (0, 1, 4), (0, 2, 4), (1, 2, 2), (1, 0, 4), (2, 0, 4),\n",
    "        (2, 3, 3), (2, 5, 2), (2, 4, 4), (3, 2, 3), (3, 4, 3),\n",
    "        (4, 2, 4), (4, 3, 3), (5, 2, 2), (5, 4, 3)\n",
    "    ]\n",
    "    kruskal = KruskalMST(vertices)\n",
    "    mst_kruskal = kruskal.kruskal(edges)\n",
    "    print(\"Minimum Spanning Tree (Kruskal):\", mst_kruskal)\n",
    "\n",
    "    # Primer za Prim - Jarnikov algoritam\n",
    "    prim = PrimMST(vertices)\n",
    "    for u, v, weight in edges:\n",
    "        prim.add_edge(u, v, weight)\n",
    "\n",
    "    mst_prim, total_weight = prim.prim()\n",
    "    print(\"Minimum Spanning Tree (Prim):\", mst_prim)\n",
    "    print(\"Total Weight (Prim):\", total_weight)"
   ]
  },
  {
   "cell_type": "markdown",
   "metadata": {
    "id": "n8203qluqXGU"
   },
   "source": [
    "Oba algoritma daju isti rezultat (MST), ali koriste različite pristupe: Kruskal se fokusira na grane, dok Prim gradi stablo oko čvorova."
   ]
  },
  {
   "cell_type": "markdown",
   "metadata": {
    "id": "_IrwnrBNpZY8"
   },
   "source": [
    "#### Kruskalov algoritam\n",
    "\n",
    "\n"
   ]
  },
  {
   "cell_type": "markdown",
   "metadata": {
    "id": "veeemWl5pfEz"
   },
   "source": [
    "1. Sortira sve grane grafa prema težini.\n",
    "2. Gradi minimalno pokrivajuće stablo (MST) tako što iterativno dodaje grane najmanje težine, pazeći da ne formira ciklus (koristeći strukturu Union-Find za detekciju ciklusa).\n",
    "3. Nastavlja sve dok algoritam ne poveže sve čvorove.\n",
    "\n",
    "\n",
    "**Ključni pristup:** Radi \"odozdo nagore\", dodajući grane jednu po jednu na osnovu težine.\n",
    "\n"
   ]
  },
  {
   "cell_type": "markdown",
   "metadata": {
    "id": "K9XGAw58pg2T"
   },
   "source": [
    "#### Primov algoritam\n"
   ]
  },
  {
   "cell_type": "markdown",
   "metadata": {
    "id": "grg-Qo-Ipim8"
   },
   "source": [
    "1. Počinje od proizvoljnog čvora.\n",
    "2. Iterativno dodaje granu najmanje težine koja povezuje MST sa novim čvorom.\n",
    "3. Ponavlja sve dok svi čvorovi nisu deo MST.\n",
    "\n",
    "\n",
    "**Ključni pristup:** Radi \"odozgo nadole\", šireći stablo ka novim čvorovima koristeći red sa prioritetom za najmanje grane."
   ]
  },
  {
   "cell_type": "markdown",
   "metadata": {
    "id": "sw9CebxLlg2-"
   },
   "source": [
    "### Priferov niz"
   ]
  },
  {
   "cell_type": "markdown",
   "metadata": {
    "id": "MmPYI80OhAmZ"
   },
   "source": [
    "Neka je $G = (V, E)$ stablo u kojem su čvorovi označeni prirodnim brojevima $1, \\dots, n$. Za takvo stablo kažemo da je označeno. Priferov kod je niz:\n",
    "\n",
    "$$ p(G) = (p_1, \\dots, p_{n-2}) $$\n",
    "\n",
    "koji na jedinstven način karakteriše stablo $G$.\n",
    "\n",
    "1. $G_0 = G$ i $i = 1$.\n",
    "2. Izaberimo list $u$ sa najmanjom oznakom i posmatrajmo dalje $G_i := G_{i-1} - u$.\n",
    "3. $p_i$ je jednak oznaci čvora koji je susedan čvoru $u$.\n",
    "4. Ako je $i = n - 2$ onda je algoritam završen, inače $i$ povećamo za 1 i vratimo se na korak 2."
   ]
  },
  {
   "cell_type": "markdown",
   "metadata": {
    "id": "X7rACfWLhhNJ"
   },
   "source": [
    "**Rekonstrukcija označenog stabla**\n",
    "\n",
    "Neka je $p(G) = (p_1, \\dots, p_{n-2})$ Priferov niz dobijen od označenog stabla $G$.\n",
    "\n",
    "- Za $l_1 = \\min (\\{ 1, \\dots, n \\} \\setminus \\{ p_1, \\dots, p_{n-2} \\})$ kreiraj granu $\\{ l_1, p_1 \\} \\in T(G)$.\n",
    "\n",
    "- Za $i = 2, \\dots, n - 2$  \n",
    "  $$ l_i = \\min \\left( \\{ 1, \\dots, n \\} \\setminus \\left( \\{ p_i, \\dots, p_{n-2} \\} \\cup \\{ l_1, \\dots, l_{i-1} \\} \\right) \\right) $$  \n",
    "  $$ = \\min \\left( \\{ 1, \\dots, n \\} \\setminus \\{ l_1, \\dots, l_{i-1} \\} \\setminus \\{ p_i, \\dots, p_{n-2} \\} \\right) $$  \n",
    "  kreiraj granu $\\{ l_i, p_i \\} \\in T(G)$.\n",
    "\n",
    "- Poslednja grana je $uv$, gde je $u, v \\in \\{ 1, \\dots, n \\} \\setminus \\{ l_1, \\dots, l_{n-2} \\}$.\n"
   ]
  },
  {
   "cell_type": "markdown",
   "metadata": {
    "id": "SzJ6ag14iaL6"
   },
   "source": [
    "**Teorema** *(Priferov kod)* Kompletan graf $K_n$ ima $n^{n-2}$ različitih pokrivajućih stabala.\n",
    "\n"
   ]
  },
  {
   "cell_type": "markdown",
   "metadata": {
    "id": "KSDjXDhciopU"
   },
   "source": [
    "Dokaz. Dokaz sledi na osnovu principa bijekcije.\n",
    "\n",
    "- Preslikavanje skupa svih stabala u skup Priferovih nizova je bijekcija.  \n",
    "- Broj nizova elemenata iz skupa $\\{ 1, \\dots, n \\}$ dužine $n$ je $n^{n-2}$."
   ]
  },
  {
   "cell_type": "code",
   "execution_count": 1,
   "metadata": {
    "colab": {
     "base_uri": "https://localhost:8080/"
    },
    "executionInfo": {
     "elapsed": 220,
     "status": "ok",
     "timestamp": 1734387478071,
     "user": {
      "displayName": "Miomir Dujanovic",
      "userId": "11353318760238435364"
     },
     "user_tz": -60
    },
    "id": "6rnOmntYi7Ae",
    "outputId": "dd50c895-d6b1-47ce-a0b4-b245eb712da8"
   },
   "outputs": [
    {
     "name": "stdout",
     "output_type": "stream",
     "text": [
      "Prufer Code: [2, 2, 4, 4]\n"
     ]
    }
   ],
   "source": [
    "def prufer_encode(tree):\n",
    "    \"\"\"\n",
    "    Encode a given labeled tree into its corresponding Prufer code.\n",
    "\n",
    "    Parameters:\n",
    "    - tree: Dictionary representing an undirected tree. Keys are nodes,\n",
    "            values are lists of adjacent nodes.\n",
    "\n",
    "    Returns:\n",
    "    - prufer_code: List of integers representing the Prufer sequence.\n",
    "    \"\"\"\n",
    "    import heapq  # To efficiently find the smallest leaf\n",
    "\n",
    "    # Initialize the degree of each node\n",
    "    degree = {node: len(adj) for node, adj in tree.items()}\n",
    "\n",
    "    # Use a priority queue (min-heap) to keep track of leaves (nodes with degree 1)\n",
    "    leaves = [node for node in tree if degree[node] == 1]\n",
    "    heapq.heapify(leaves)\n",
    "\n",
    "    prufer_code = []\n",
    "\n",
    "    # Repeat until n-2 nodes are processed\n",
    "    for _ in range(len(tree) - 2):\n",
    "        # Extract the smallest leaf\n",
    "        leaf = heapq.heappop(leaves)\n",
    "\n",
    "        # Find its only neighbor (since it's a leaf, it has one edge)\n",
    "        for neighbor in tree[leaf]:\n",
    "            if degree[neighbor] > 0:  # Ensure neighbor is still part of the tree\n",
    "                break\n",
    "\n",
    "        # Add the neighbor to the Prüfer code\n",
    "        prufer_code.append(neighbor)\n",
    "\n",
    "        # Update degrees: remove the leaf and reduce the degree of its neighbor\n",
    "        degree[leaf] -= 1\n",
    "        degree[neighbor] -= 1\n",
    "\n",
    "        # If the neighbor becomes a leaf, add it to the priority queue\n",
    "        if degree[neighbor] == 1:\n",
    "            heapq.heappush(leaves, neighbor)\n",
    "\n",
    "    return prufer_code\n",
    "\n",
    "\n",
    "# Example Tree: Represented as an adjacency list\n",
    "tree = {\n",
    "    1: [2],\n",
    "    2: [1, 3, 4],\n",
    "    3: [2],\n",
    "    4: [2, 5, 6],\n",
    "    5: [4],\n",
    "    6: [4]\n",
    "}\n",
    "\n",
    "# Prufer Encoding\n",
    "prufer_sequence = prufer_encode(tree)\n",
    "print(\"Prufer Code:\", prufer_sequence)"
   ]
  },
  {
   "cell_type": "code",
   "execution_count": 3,
   "metadata": {
    "colab": {
     "base_uri": "https://localhost:8080/"
    },
    "executionInfo": {
     "elapsed": 846,
     "status": "ok",
     "timestamp": 1734387544844,
     "user": {
      "displayName": "Miomir Dujanovic",
      "userId": "11353318760238435364"
     },
     "user_tz": -60
    },
    "id": "vFlXQvzSjMnl",
    "outputId": "16a72997-29f3-4186-bcdf-090643db93a7"
   },
   "outputs": [
    {
     "name": "stdout",
     "output_type": "stream",
     "text": [
      "Reconstructed Tree: {1: [2], 2: [1, 3, 4], 3: [2], 4: [2, 5, 6], 5: [4], 6: [4]}\n"
     ]
    }
   ],
   "source": [
    "def prufer_decode(prufer_code):\n",
    "    \"\"\"\n",
    "    Decode a Prufer sequence to reconstruct the corresponding tree.\n",
    "\n",
    "    Parameters:\n",
    "    - prufer_code: List of integers representing the Prufer sequence.\n",
    "\n",
    "    Returns:\n",
    "    - tree: Dictionary representing the reconstructed tree.\n",
    "    \"\"\"\n",
    "    import heapq\n",
    "\n",
    "    n = len(prufer_code) + 2  # Number of nodes in the tree\n",
    "    degree = [1] * (n + 1)    # Initialize degrees of all nodes (1 edge per node initially)\n",
    "\n",
    "    # Increase degree for nodes in the Prüfer code\n",
    "    for node in prufer_code:\n",
    "        degree[node] += 1\n",
    "\n",
    "    # Use a priority queue to keep track of leaves\n",
    "    leaves = [i for i in range(1, n + 1) if degree[i] == 1]\n",
    "    heapq.heapify(leaves)\n",
    "\n",
    "    tree = {i: [] for i in range(1, n + 1)}  # Initialize tree as adjacency list\n",
    "\n",
    "    for node in prufer_code:\n",
    "        leaf = heapq.heappop(leaves)  # Get the smallest leaf\n",
    "        tree[leaf].append(node)       # Connect leaf and node\n",
    "        tree[node].append(leaf)\n",
    "\n",
    "        # Update degrees\n",
    "        degree[node] -= 1\n",
    "        degree[leaf] -= 1\n",
    "\n",
    "        # If node becomes a leaf, add it to the priority queue\n",
    "        if degree[node] == 1:\n",
    "            heapq.heappush(leaves, node)\n",
    "\n",
    "    # Connect the last two remaining nodes\n",
    "    u = heapq.heappop(leaves)\n",
    "    v = heapq.heappop(leaves)\n",
    "    tree[u].append(v)\n",
    "    tree[v].append(u)\n",
    "\n",
    "    return tree\n",
    "\n",
    "\n",
    "# Example Prufer Code\n",
    "prufer_code = [2, 2, 4, 4]\n",
    "\n",
    "# Prufer Decoding\n",
    "reconstructed_tree = prufer_decode(prufer_code)\n",
    "print(\"Reconstructed Tree:\", reconstructed_tree)"
   ]
  }
 ],
 "metadata": {
  "colab": {
   "provenance": []
  },
  "kernelspec": {
   "display_name": "Python 3",
   "name": "python3"
  },
  "language_info": {
   "name": "python"
  }
 },
 "nbformat": 4,
 "nbformat_minor": 0
}
