{
 "cells": [
  {
   "cell_type": "markdown",
   "metadata": {},
   "source": [
    "<a href=\"https://tprg-diskretna-matematika.vercel.app/\" style=\"display:flex; justify-content: center; align-items: center; gap: 1.5rem; flex-wrap: wrap; text-decoration: none; font-weight: bold; font-size: 2.5rem;\">\n",
    "    <img src=\"favicon.png\" alt=\"logo\" style=\"max-width: 75px; width: 100%; height: auto;\"> \n",
    "    TPRG - Diskretna matematika | Početna\n",
    "<a>"
   ]
  },
  {
   "cell_type": "markdown",
   "metadata": {},
   "source": [
    "<div style=\"display:flex; justify-content: space-between; align-items: center; gap: 10px; flex-wrap: wrap;\">\n",
    "    <p>\n",
    "        <a href=\"./02-multiskup.ipynb\">&lt; 02 Multiskup</a>\n",
    "    </p>\n",
    "    <p>\n",
    "        <a href=\"./04-relacije-i-funkcije.ipynb\">04 Relacije i funkcije&gt;</a>\n",
    "    </p>\n",
    "</div>"
   ]
  },
  {
   "cell_type": "markdown",
   "metadata": {},
   "source": [
    "# n-torke"
   ]
  },
  {
   "cell_type": "markdown",
   "metadata": {},
   "source": [
    "U matematici, n-torka je konačna, uređena lista (niz) od $n$ objekata. n-torke se koriste za opis matematičkih objekata koji se sastoje iz specifičnih delova, kao što je na primer graf $(V, E)$ ili tačka $(x, y)$.\n",
    "\n",
    "n-torke su uređene, što znači da je redosled elemenata bitan:\n",
    "$$(1, 2) \\not = (2, 1)$$\n",
    "Elementi n-torke se mogu ponavljati.\n",
    "\n",
    "Dve n-torke su jednako ako i samo ako su svi elementi na istim pozicijama jednaki:\n",
    "$$(x_1, x_2,...,x_n) = (y_1, y_2, ...y_n) \\iff x_1 = y_1 \\land x_2 = y_2 \\land ... \\land x_n = y_n$$"
   ]
  },
  {
   "cell_type": "markdown",
   "metadata": {},
   "source": [
    "## n-torke u programiranju\n",
    "\n",
    "U Pythonu torke su implementirane pomoću strukture ```tuple```. Torke su u pythonu jedan od sekvencijalnih tipova, odnosno kolecija sa indeksima.\n",
    "\n",
    "n-torke se mogu kreirai pomoću literala navodjenjem elemenata u uglastim zagradama."
   ]
  },
  {
   "cell_type": "code",
   "execution_count": 1,
   "metadata": {},
   "outputs": [
    {
     "name": "stdout",
     "output_type": "stream",
     "text": [
      "(1, 2, 3, 4, 5)\n"
     ]
    }
   ],
   "source": [
    "torka = (1, 2, 3, 4, 5)\n",
    "print(torka)"
   ]
  },
  {
   "cell_type": "markdown",
   "metadata": {},
   "source": [
    "Elementima torke se pristupa njihovim indeksom, počevši od 0. "
   ]
  },
  {
   "cell_type": "code",
   "execution_count": 4,
   "metadata": {},
   "outputs": [
    {
     "name": "stdout",
     "output_type": "stream",
     "text": [
      "1\n",
      "4\n"
     ]
    }
   ],
   "source": [
    "print(torka[0])\n",
    "print(torka[3])"
   ]
  },
  {
   "cell_type": "markdown",
   "metadata": {},
   "source": [
    "Torka je nepromjenjiva (immutable), što znači da se ne može mijenjati nakon što je definirana. Pokušajte promijeniti jedan od elemenata torke i vidjet ćete grešku."
   ]
  },
  {
   "cell_type": "code",
   "execution_count": 5,
   "metadata": {},
   "outputs": [
    {
     "ename": "TypeError",
     "evalue": "'tuple' object does not support item assignment",
     "output_type": "error",
     "traceback": [
      "\u001b[1;31m---------------------------------------------------------------------------\u001b[0m",
      "\u001b[1;31mTypeError\u001b[0m                                 Traceback (most recent call last)",
      "Cell \u001b[1;32mIn[5], line 1\u001b[0m\n\u001b[1;32m----> 1\u001b[0m \u001b[43mtorka\u001b[49m\u001b[43m[\u001b[49m\u001b[38;5;241;43m2\u001b[39;49m\u001b[43m]\u001b[49m \u001b[38;5;241m=\u001b[39m \u001b[38;5;241m2\u001b[39m\n",
      "\u001b[1;31mTypeError\u001b[0m: 'tuple' object does not support item assignment"
     ]
    }
   ],
   "source": [
    "torka[2] = 2"
   ]
  },
  {
   "cell_type": "markdown",
   "metadata": {},
   "source": [
    "Više o torkama u [pythonovoj dokumentaciji](https://docs.python.org/3/library/stdtypes.html#tuple)."
   ]
  },
  {
   "cell_type": "markdown",
   "metadata": {},
   "source": [
    "<div style=\"display:flex; justify-content: space-between; align-items: center; gap: 10px; flex-wrap: wrap;\">\n",
    "    <p>\n",
    "        <a href=\"./02-multiskup.ipynb\">&lt; 02 Multiskup</a>\n",
    "    </p>\n",
    "    <p>\n",
    "        <a href=\"./04-relacije-i-funkcije.ipynb\">04 Relacije i funkcije&gt;</a>\n",
    "    </p>\n",
    "</div>"
   ]
  }
 ],
 "metadata": {
  "kernelspec": {
   "display_name": ".venv",
   "language": "python",
   "name": "python3"
  },
  "language_info": {
   "codemirror_mode": {
    "name": "ipython",
    "version": 3
   },
   "file_extension": ".py",
   "mimetype": "text/x-python",
   "name": "python",
   "nbconvert_exporter": "python",
   "pygments_lexer": "ipython3",
   "version": "3.12.0"
  }
 },
 "nbformat": 4,
 "nbformat_minor": 2
}
