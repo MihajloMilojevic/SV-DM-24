{
 "cells": [
  {
   "cell_type": "markdown",
   "metadata": {},
   "source": [
    "<a href=\"https://tprg-diskretna-matematika.vercel.app/\" style=\"display:flex; justify-content: center; align-items: center; gap: 1.5rem; flex-wrap: wrap; text-decoration: none; font-weight: bold; font-size: 2.5rem;\">\n",
    "    <img src=\"favicon.png\" alt=\"logo\" style=\"max-width: 75px; width: 100%; height: auto;\"> \n",
    "    TPRG - Diskretna matematika | Početna\n",
    "<a>"
   ]
  },
  {
   "cell_type": "markdown",
   "metadata": {},
   "source": [
    "<div style=\"display:flex; justify-content: space-between; align-items: center; gap: 10px; flex-wrap: wrap;\">\n",
    "    <p>\n",
    "        <a href=\"./04-relacije-i-funkcije.ipynb\">&lt; 04 Relacije i funkcije</a>\n",
    "    </p>\n",
    "    <p>\n",
    "        <a href=\"./06-nabrajanja-i-prebrojavanja.ipynb\">06 Nabrajanja i prebrajanja&gt;</a>\n",
    "    </p>\n",
    "</div>"
   ]
  },
  {
   "cell_type": "markdown",
   "metadata": {},
   "source": [
    "# Matematička indukcija"
   ]
  },
  {
   "cell_type": "markdown",
   "metadata": {},
   "source": [
    "## Šta je matematička indukcija?\n",
    "\n",
    "Matematička indukcija je poseban metod matematičkog dokazivanja koji nam ne dozvoljava da donosimo zaključke o opštem pravilu na osnovu pojedinih slučajeva, bez određenih dokaza."
   ]
  },
  {
   "cell_type": "markdown",
   "metadata": {},
   "source": [
    "## Princip matematičke indukcije\n",
    "\n",
    "Neka je $P(i)$ tvrđenje koje zavisi od $i$. Da bismo dokazali da je $P(i)$ tačno $\\forall i \\in M, M\\subseteq \\mathbb{N}$ (tj. $\\forall i \\ge i_0, i_0\\in \\mathbb{N}$):\n",
    "\n",
    "1. _*Baza indukcije*_ - u ovom koraku pokazujemo da je $P(i_0)$ tačno\n",
    "2. _*Induktivna hipoteza*_ - u ovom koraku prepostavljamo pretpostavljamo $P(i) \\implies P(i+1)$ odnosno da je $P(i)$ tačno za neko $k$\n",
    "3. _*Induktinvni korak*_ - u ovom koraku dokazujemo induktivnu hipotezu, odnosno pokazujemo da $P(i)$ važi i za $k+1$ odnosno da je $P(k+1)$ tačno"
   ]
  },
  {
   "cell_type": "markdown",
   "metadata": {},
   "source": [
    "## Primer\n",
    "\n",
    "Dokazati da $\\forall n\\in\\mathbb{N}$ važi $1+2+3+....+n=\\frac{n(n+1)}{2}$\n",
    "\n",
    "1. Baza indukcije: $n = 1$\n",
    "$$1 = 1 \\text{ }\\text{ }\\text{ }\\top$$\n",
    "2. Induktivna hipoteza: $n = k$\n",
    "$$1 + 2 + 3 + ... + (k-1) + k = \\frac{k(k+1)}{2}$$\n",
    "3. Induktivni korak: $n = k + 1$\n",
    "$$ \\begin{aligned} \n",
    "1 + 2 + 3 + ... + (k - 1) + k + (k+1) &= \\frac{(k+1)((k+1)+1)}{2} \\\\ \\\\ \\\\\n",
    "\\underbrace{1 + 2 + 3 + ... + (k-1) + k}_{\\frac{k(k+1)}{2} \\text( - ind. hip.)} + (k+1) &= \\\\\n",
    "\\frac{k(k+1)}{2} + (k + 1) &= \\\\\n",
    "\\frac{k(k+1)}{2}+\\frac{2(k + 1)}{2} &= \\\\\n",
    "\\frac{k(k+1) + 2(k+1)}{2} &= \\\\\n",
    "\\frac{(k+1)(k+2)}{2} &= \n",
    "\\frac{(k+1)((k+1)+1)}{2}\n",
    "\\end{aligned} $$"
   ]
  },
  {
   "cell_type": "markdown",
   "metadata": {},
   "source": [
    "Postoje razne varijante indukcije i sve se sastoje iz baze indukcije i induktivnog koraka, gde baza indukcije služi da pokaže tačnost uslova u prvoj implikaciji $i_0$, dok induktivni korak generiše beskonačan niz narednih implikcaja koji služe da se dođe do tvrđenja $P(n)$ za proizvoljno $i\\in \\mathbb{N}, i \\ge i_0$"
   ]
  },
  {
   "cell_type": "markdown",
   "metadata": {},
   "source": [
    "## Primena matematičke indukcije u programiranju\n",
    "\n",
    "- rekurzija - problem se deli na manje probleme dok se ne dođe do osnovnog slučaja\n",
    "\n",
    "$$n! = \\begin{cases}\n",
    "   1 & \\text{ za } n = 0 \\\\\n",
    "   n(n-1)! & \\text{ za } n > 0\n",
    "\\end{cases}$$\n",
    "\n",
    "BI: $n=0$:\n",
    "$$0!=1\\text{ }\\text{ }\\text{ }\\top$$\n",
    "\n",
    "IK: $n=k+1$\n",
    "$$(k+1)! = (k+1)k!$$\n"
   ]
  },
  {
   "cell_type": "markdown",
   "metadata": {},
   "source": [
    "- dokaz ispravnosti - npr. petrlja iterira kroz elemente niza. Pomoću matematičke indukcije se pokazuje da će algoritam završiti uvek nakon određenog broja koraka i da će uvek rezultat biti ispravan."
   ]
  },
  {
   "cell_type": "code",
   "execution_count": 1,
   "metadata": {},
   "outputs": [],
   "source": [
    "def sum(arr, n):\n",
    "    if n == 0:\n",
    "        return 0\n",
    "    return sum(arr, n - 1) + arr[n - 1]"
   ]
  },
  {
   "cell_type": "code",
   "execution_count": 2,
   "metadata": {},
   "outputs": [
    {
     "name": "stdout",
     "output_type": "stream",
     "text": [
      "5050\n"
     ]
    }
   ],
   "source": [
    "arr = range(1, 101)\n",
    "n = len(arr)\n",
    "print(sum(arr, n))"
   ]
  },
  {
   "cell_type": "markdown",
   "metadata": {},
   "source": [
    "BI: $n = 0$ - vraća se $0$ jer je niz prazan\n",
    "\n",
    "IK: funkcija dodaje n-ti element na sumu prethodnih $n-1$"
   ]
  },
  {
   "cell_type": "markdown",
   "metadata": {},
   "source": [
    "## Primer - Insertion sort\n",
    "\n",
    "- služi za iterativno sortiranje\n",
    "- dokaz da niz ostaje sortiran nakon svake iteracije\n"
   ]
  },
  {
   "cell_type": "code",
   "execution_count": 3,
   "metadata": {},
   "outputs": [],
   "source": [
    "from random import shuffle"
   ]
  },
  {
   "cell_type": "code",
   "execution_count": 4,
   "metadata": {},
   "outputs": [],
   "source": [
    "def insertion_sort(arr):\n",
    "    n = len(arr)  # Get the length of the array\n",
    "      \n",
    "    if n <= 1:\n",
    "        return  # If the array has 0 or 1 element, it is already sorted, so return\n",
    " \n",
    "    for i in range(1, n):  # Iterate over the array starting from the second element\n",
    "        key = arr[i]  # Store the current element as the key to be inserted in the right position\n",
    "        j = i-1\n",
    "        while j >= 0 and key < arr[j]:  # Move elements greater than key one position ahead\n",
    "            arr[j+1] = arr[j]  # Shift elements to the right\n",
    "            j -= 1\n",
    "        arr[j+1] = key  # Insert the key in the correct position"
   ]
  },
  {
   "cell_type": "code",
   "execution_count": 5,
   "metadata": {},
   "outputs": [
    {
     "name": "stdout",
     "output_type": "stream",
     "text": [
      "[9, 68, 93, 49, 38, 98, 17, 4, 100, 22, 32, 66, 24, 87, 61, 43, 67, 15, 6, 97, 13, 31, 20, 96, 65, 75, 11, 77, 19, 79, 33, 57, 74, 10, 2, 41, 60, 14, 80, 51, 18, 26, 40, 54, 47, 99, 30, 48, 78, 27, 58, 63, 3, 69, 59, 25, 21, 84, 36, 56, 34, 7, 55, 42, 1, 12, 94, 89, 70, 46, 45, 50, 82, 90, 95, 92, 23, 5, 83, 88, 72, 35, 73, 37, 39, 62, 28, 52, 81, 86, 16, 44, 53, 29, 85, 91, 76, 8, 71, 64]\n"
     ]
    }
   ],
   "source": [
    "arr = list(range(1, 101))\n",
    "shuffle(arr)\n",
    "print(arr)"
   ]
  },
  {
   "cell_type": "code",
   "execution_count": 6,
   "metadata": {},
   "outputs": [
    {
     "name": "stdout",
     "output_type": "stream",
     "text": [
      "[1, 2, 3, 4, 5, 6, 7, 8, 9, 10, 11, 12, 13, 14, 15, 16, 17, 18, 19, 20, 21, 22, 23, 24, 25, 26, 27, 28, 29, 30, 31, 32, 33, 34, 35, 36, 37, 38, 39, 40, 41, 42, 43, 44, 45, 46, 47, 48, 49, 50, 51, 52, 53, 54, 55, 56, 57, 58, 59, 60, 61, 62, 63, 64, 65, 66, 67, 68, 69, 70, 71, 72, 73, 74, 75, 76, 77, 78, 79, 80, 81, 82, 83, 84, 85, 86, 87, 88, 89, 90, 91, 92, 93, 94, 95, 96, 97, 98, 99, 100]\n"
     ]
    }
   ],
   "source": [
    "insertion_sort(arr)\n",
    "print(arr)"
   ]
  },
  {
   "cell_type": "markdown",
   "metadata": {},
   "source": [
    "BI: $n=1$, nakon prve iteracije, niz je sortiran (1 element)\n",
    "\n",
    "IH: pretpostavimo da važi za $n = k$ elemenata\n",
    "\n",
    "IK: dokazujemo za $n=k+1$\n",
    "\n",
    "U $k+1$-oj iteraciji uzimamo sledeći element i tražimo njegovo mesto među prethodnih k, već sortiranih elemenata (na osnovu hipoteze). Elementi koji su veći od našeg elementa se pomeraju u desnu stranu za 1 mesto da bi se napravio prostor za naš element. Sada je $k+1$ elemenata sortirano."
   ]
  },
  {
   "cell_type": "markdown",
   "metadata": {},
   "source": [
    "<div style=\"display:flex; justify-content: space-between; align-items: center; gap: 10px; flex-wrap: wrap;\">\n",
    "    <p>\n",
    "        <a href=\"./04-relacije-i-funkcije.ipynb\">&lt; 04 Relacije i funkcije</a>\n",
    "    </p>\n",
    "    <p>\n",
    "        <a href=\"./06-nabrajanja-i-prebrojavanja.ipynb\">06 Nabrajanja i prebrajanja&gt;</a>\n",
    "    </p>\n",
    "</div>"
   ]
  }
 ],
 "metadata": {
  "kernelspec": {
   "display_name": ".venv",
   "language": "python",
   "name": "python3"
  },
  "language_info": {
   "codemirror_mode": {
    "name": "ipython",
    "version": 3
   },
   "file_extension": ".py",
   "mimetype": "text/x-python",
   "name": "python",
   "nbconvert_exporter": "python",
   "pygments_lexer": "ipython3",
   "version": "3.12.0"
  }
 },
 "nbformat": 4,
 "nbformat_minor": 2
}
