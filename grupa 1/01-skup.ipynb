{
 "cells": [
  {
   "cell_type": "markdown",
   "metadata": {},
   "source": [
    "<a href=\"https://tprg-diskretna-matematika.vercel.app/\" style=\"display:flex; justify-content: center; align-items: center; gap: 1.5rem; flex-wrap: wrap; text-decoration: none; font-weight: bold; font-size: 2.5rem;\">\n",
    "    <img src=\"favicon.png\" alt=\"logo\" style=\"max-width: 75px; width: 100%; height: auto;\"> \n",
    "    TPRG - Diskretna matematika | Početna\n",
    "<a>"
   ]
  },
  {
   "cell_type": "markdown",
   "metadata": {},
   "source": [
    "<div style=\"display:flex; justify-content: flex-end; align-items: center; gap: 10px; flex-wrap: wrap;\">\n",
    "    <p>\n",
    "        <a href=\"./02-multiskup.ipynb\">02 Multiskupovi &gt;</a>\n",
    "    </p>\n",
    "</div>"
   ]
  },
  {
   "cell_type": "markdown",
   "metadata": {},
   "source": [
    "# Skupovi"
   ]
  },
  {
   "cell_type": "markdown",
   "metadata": {
    "vscode": {
     "languageId": "plaintext"
    }
   },
   "source": [
    "## Osnovni pojmovi"
   ]
  },
  {
   "cell_type": "markdown",
   "metadata": {
    "vscode": {
     "languageId": "plaintext"
    }
   },
   "source": [
    "Skup je pojam koji se obično ne definiše. Georg Kantor je skup objasnio kao bilo koju kolekciju različitih objekata kod kojih redosled nije bitan, recimo naših zapažanja ili misli.\n",
    "\n",
    "Teorija skupova je osnova svega i može se smatrati temeljom svega u matematici. \n",
    "\n",
    "Skupovi se najčešće označavaju velikim štampanim latičnim slovima ($A$, $B$, $C$...).\n",
    "\n",
    "Skupovi se mogu definisati navođenjem elemenata unutar vitičastih zagrada:\n",
    "\n",
    "$$A = \\{x_1, x_2, x_3,..., x_n\\}$$\n",
    "\n",
    "_Ovde je $A$ konačan skup od $n$ elemenata i $...$ se koriste da označe sve elemente između._\n",
    "\n",
    "$$B = \\{x_1, x_2, x_3,...\\}$$\n",
    "\n",
    "_Ovde je $B$ beskonačan skup i $...$ označavaju da se elementi nastavljaju po istom šablonu._\n",
    "\n",
    "Elementi skupa se takođe mogu i opisati korišćenjem nekog svojstva koji isključivo samo oni zadovoljavaju:\n",
    "\n",
    "$$A = \\{x | P(x)\\}$$\n",
    "\n",
    "Za pripadnost nekog elementa određenm skupu koristi se operator pripadnosti ($\\in$) odnosno ne pripadnosti ($\\notin$):\n",
    "\n",
    "$$1 \\in \\{1,2,3\\}$$\n",
    "$$6 \\notin \\{1,2,3\\}$$\n",
    "\n",
    "Između skupova se uvode dve osnovne relacije: jednakosti i inkluzije\n",
    "\n",
    "Jednakost (aksiom o jednakositi - skupovi su jednaki ako imaju iste elemente): \n",
    "$$A = B \\iff (\\forall x)(x \\in A \\iff x \\in B)$$\n",
    "\n",
    "Inkluzija (podskup - $A$ je podskup $B$ akko je svaki element skupa $A$ i element skupa $B$): \n",
    "$$A \\subset B \\iff (\\forall x)(x \\in A \\implies x \\in B)$$\n",
    "\n",
    "Neposredno iz ovih definicja sledi: \n",
    "$$A = B \\iff (A \\subset B \\land B \\subset A)$$\n",
    "\n",
    "Prazan skup je skup koji ima osobinu da ne poseduje ni jedan element.\n",
    "\n",
    "$$\\emptyset = \\{x | x \\not = x\\}$$\n",
    "\n",
    "Univerzalni skup ($U$) jeste skup koji sadrži sve skupove nad kojima se operiše u zadatom trenutku.\n",
    "\n",
    "Neka je $X$ proizvoljan skup. Skup $\\overline{X}$ je skup koji sadrži sve elemente koji nisu u skupu $X$ i naziva se komplement skupa $X$. \n",
    "$$\\overline{X} = \\{x | x \\in U \\land x \\notin X\\}$$\n",
    "\n",
    "<div style=\"display: flex; flex-direction: column; align-items: center; justify-content: center;\">\n",
    "  <img src=\"./imgs/01-skup-komplement.png\" alt=\"Veneov dijagram komplementa\" style=\"width: 100%; max-width: 500px;\">\n",
    "  <p style=\"text-align: center;\"><i>Veneov dijagram komplementa skupa</i></p>\n",
    "</div>\n",
    "\n",
    "Skupovi $A$ i $B$ su disjunktni ako i samo ako nemaju zajedničke elemente:\n",
    "\n",
    "$$(A \\text{ i } B \\text{ su disjunktni }) \\iff (\\forall x \\in A)(x \\notin B)$$\n",
    "\n",
    "Particija (podela ili razbijanje) skupa $A$, skup je nepraznih\n",
    "podskupova skupa $A$, od kojih su svaka dva disjunktivna (nemaju zajedničke\n",
    "elemente, tj. presek im je prazan skup), a njihova je unija ceo skup $A$. Svaka\n",
    "particija određuje tačno jednu relaciju ekvivalencije.\n",
    "\n",
    "Partitivni skup skupa $A$, u oznaci \\mathcal{P}(A), skup je svih podskupova skupa $A$, to jest \n",
    "$$\\mathcal{P}(A) = \\{X | X\\subseteq A\\}$$\n",
    "\n",
    "Na primer, ako je $A = \\{1, 2, 3\\}$, tada partitivni skup skupa $A$ je\n",
    "$$\\mathcal{P}(A) = \\{ \\emptyset, \\{ 1 \\} , \\{ 2 \\}, \\{ 3 \\}, \\{ 1, 2\\}, \\{1, 3\\}, \\{2 , 3 \\}, \\{1, 2,3\\}\\}$$\n",
    "Sve particije skupa $\\{1, 2, 3\\}$ su:\n",
    "$$\\{ \\{ 1 , 2 ,3 \\} \\} ,\\{ \\{ 1 ,2\\}, \\{ 3 \\} \\} , \\{ \\{ 1 , 3\\}, \\{ 2 \\} \\} ,\\{ \\{ 2 ,3 \\} , \\{ 1 \\} \\} ,\\{ \\{ 1 \\} , \\{2 \\}, \\{ 3 \\} \\}$$\n",
    "\n",
    "\n",
    "Posebni skupovi su skopovi koji imaju posebnu ulogu u matematici kao što su:\n",
    "- Skup prirodnih brojeva - $\\mathbb{N}$\n",
    "- Skup celih brojeva - $\\mathbb{Z}$\n",
    "- skup racionalih brojeva - $\\mathbb{Q}$\n",
    "- skup iracionalnih brojeva - $\\mathbb{I}$\n",
    "- Skup realnih brojeva - $\\mathbb{R}$\n",
    "- skup kompleksnih brojeva - $\\mathbb{C}$"
   ]
  },
  {
   "cell_type": "markdown",
   "metadata": {},
   "source": [
    "## Operacije nad skupovima"
   ]
  },
  {
   "cell_type": "markdown",
   "metadata": {},
   "source": [
    "U slučaju da posmatramo dva skupa $A$ i $B$ koja su oba podskupovi univerzalnog skupa $U$, mogu se definisati sledeće operacije nad skupovima:"
   ]
  },
  {
   "cell_type": "markdown",
   "metadata": {},
   "source": [
    "### Unija\n",
    "\n",
    "Unija skupova je skup svih elemenata koji su elementi bar jednog od skupova $A$ i $B$ i označava se sa $A \\cup B$.\n",
    "$$ A \\cup B = \\{ x \\in U | x\\in A \\lor x \\in B \\}$$\n",
    "\n",
    "<div style=\"display: flex; flex-direction: column; align-items: center; justify-content: center;\">\n",
    "  <img src=\"./imgs/01-skup-unija.png\" alt=\"Veneov dijagram unije dva skupa\" style=\"width: 100%; max-width: 500px;\">\n",
    "  <p style=\"text-align: center;\"><i>Veneov dijagram unije dva skupa</i></p>\n",
    "</div>\n",
    "\n",
    "### Presek\n",
    "\n",
    "Presek dva skupa je skup svih elemenata koji su elementi i prvog i drugog skupa i obeležava se $A \\cap B$.\n",
    "\n",
    "$$ A \\cap B = \\{ x \\in U | x\\in A \\land x \\in B \\}$$\n",
    "\n",
    "<div style=\"display: flex; flex-direction: column; align-items: center; justify-content: center;\">\n",
    "  <img src=\"./imgs/01-skup-presek.png\" alt=\"Veneov dijagram preseka dva skupa\" style=\"width: 100%; max-width: 500px;\">\n",
    "  <p style=\"text-align: center;\"><i>Veneov dijagram preseka dva skupa</i></p>\n",
    "</div>\n",
    "\n",
    "Pomoću preseka se definišu disjunktni skupovi:\n",
    "\n",
    "Skupovi $A$ i $B$ su međusobno disjunktni ako i samo ako je njihov presek prazan skup.\n",
    "\n",
    "$$A\\text{ i } B \\text{ su disjunktni} \\iff A\\cap B = \\emptyset$$\n",
    "\n",
    "### Razlika\n",
    "\n",
    "Razlika skupova $A$ i $B$ je skup svih elemenata koji su elementi skupa $A$, ali nisu elementi skupa $B$ i označava se sa $A \\setminus B$.\n",
    "\n",
    "$$ A \\setminus B = \\{ x \\in U | x\\in A \\land x \\notin B \\}$$\n",
    "\n",
    "<div style=\"display: flex; flex-direction: column; align-items: center; justify-content: center;\">\n",
    "  <img src=\"./imgs/01-skup-razlika.png\" alt=\"Veneov dijagram razlike dva skupa\" style=\"width: 100%; max-width: 500px;\">\n",
    "  <p style=\"text-align: center;\"><i>Veneov dijagram razlike dva skupa</i></p>\n",
    "</div>\n",
    "\n",
    "Za razliku od prethodnih operacija u ovom slučaju $A\\setminus B$ nije isto što i $B\\setminus A$\n",
    "\n",
    "### Simetrična razlika\n",
    "\n",
    "Simetrična razlika skupova podrazumeva skup $(A\\setminus B) \\cup (B\\setminus A)$ i najčešće se označava sa $\\Delta$.\n",
    "\n",
    "$$A \\Delta B = (A\\setminus B) \\cup (B\\setminus A)$$\n",
    "\n",
    "<div style=\"display: flex; flex-direction: column; align-items: center; justify-content: center;\">\n",
    "  <img src=\"./imgs/01-skup-simetricna-razlika.png\" alt=\"Veneov dijagram simetrične razlike dva skupa\" style=\"width: 100%; max-width: 500px;\">\n",
    "  <p style=\"text-align: center;\"><i>Veneov dijagram simetrične razlike dva skupa</i></p>\n",
    "</div>\n",
    "\n",
    "### Dekartov proizvod\n",
    "\n",
    "Dekartov proizvod dva skupa podrazumeva skup uređenih parova $(x, y)$ takvih da je $x$ iz skupa $A$, a $y$ iz skupa $B$. Dekartov proizvod se obeležava sa $\\times$.\n",
    "$$A\\times B = \\{(x, y) | x\\in A \\land y \\in B\\}$$\n",
    "\n",
    "Na primer za skupove $A = \\{1,2,3\\}$ i $B = \\{a, b\\}$ Dekartov proizvod bi bio:\n",
    "$$A\\times B = \\{(1, a), (1, b), (2,a), (2,b), (3,a), (3, b)\\}$$\n"
   ]
  },
  {
   "cell_type": "markdown",
   "metadata": {},
   "source": [
    "## Osobine operacija nad skupovima"
   ]
  },
  {
   "cell_type": "markdown",
   "metadata": {},
   "source": [
    "### Asocijativnost\n",
    "\n",
    "Asocijativnost je svojstvo neke binarne operacije da se rezultat ne menja bez obzira na grupisanje operanada. Kod skupovnih operacija to se ispoljava na sledeći način:\n",
    "\n",
    "$$X \\cup (Y \\cup Z) = (X \\cup Y) \\cup Z$$\n",
    "$$X \\cap (Y \\cap Z) = (X \\cap Y) \\cap Z$$\n",
    "\n",
    "Dakle i unija i presek su asocijativne operacije.\n",
    "Dokaz ćemo dati samo za uniju, a presek bi bio sličan.\n",
    "\n",
    "_Dokaz:_ \n",
    "$$X \\cup (Y \\cup Z) = (X \\cup Y) \\cup Z$$\n",
    "$$\n",
    "a \\in X \\cup (Y \\cup Z) \\iff a\\in X \\lor a \\in (Y \\cup Z) \\\\\n",
    "\\iff a\\in X \\lor (a \\in Y \\lor a \\in Z) \\\\\n",
    "\\iff (a \\in X \\lor a \\in Y) \\lor a \\in Z \\\\\n",
    "\\iff (a \\in (X \\cup Y) \\lor a\\in Z) \\\\\n",
    "\\iff a\\in (X\\cup Y) \\cup Z\n",
    "$$\n",
    "$$\\tag*{□}$$\n",
    "\n",
    "U dokazu smo koristili asocijativnost disjunkcije."
   ]
  },
  {
   "cell_type": "markdown",
   "metadata": {},
   "source": [
    "### Komutativnost\n",
    "\n",
    "Komutativnost predstavlja osobinu binarne operacije da redosled operanada ne utiče na rezultat operacije. Što se tiče operacija sa skupovima, komutativne su operacije unije, preseka i simetrične razlike dva skupa.\n",
    "$$X \\cup Y = Y \\cup X$$\n",
    "$$X \\cap Y = Y \\cap X$$\n",
    "\n",
    "Dokaz ćemo dati za presek, a unija i simetrična razlika su slične:\n",
    "\n",
    "_Dokaz:_\n",
    "\n",
    "$$X \\cap Y = Y \\cap X$$\n",
    "$$ a\\in (X\\cap Y) \\iff a\\in X \\land a\\in Y \\\\\n",
    "\\iff a\\in Y \\land a\\in X \\iff a\\in (Y\\cap X)$$\n",
    "\n",
    "$$\\tag*{□}$$\n",
    "\n",
    "U dokazu smo koristili komutativnost konjukcije.\n",
    "\n",
    "Zbog načina na koji su definisane, razlika i Dekartov proizvod nisu komutativne operacije."
   ]
  },
  {
   "cell_type": "markdown",
   "metadata": {
    "vscode": {
     "languageId": "plaintext"
    }
   },
   "source": [
    "### Apsorptivnost\n",
    "\n",
    "Presek skupa sa unijom drugog skupa i njega samog daće polazni skup. Odnosno:\n",
    "$$S \\cup (S\\cap T) = S$$\n",
    "Osobina se takođe može izraziti i u obliku:\n",
    "$$S\\cap (S\\cup T) = S$$\n",
    "\n",
    "Dokazaćemo samo prvi oblik, dok se drugi pokazuje na sličan način.\n",
    "\n",
    "_Dokaz:_\n",
    "\n",
    "Za presek bilo koja dva skupa znamo da je podskup i jednog i drugog skupa, odnosno:\n",
    "$$(S\\cap T) \\subseteq S \\land (S\\cap T) \\subseteq T$$\n",
    "\n",
    "Kako nam je poznato da je unija bilo kog skupa i bilo kog njegovog podskupa jeste upravo taj skup i iz prethodnog tvrđenja zaključujemo da važi:\n",
    "$$S \\cup (S\\cap T) = S$$\n",
    "\n",
    "$$\\tag*{□}$$"
   ]
  },
  {
   "cell_type": "markdown",
   "metadata": {
    "vscode": {
     "languageId": "plaintext"
    }
   },
   "source": [
    "### Distributivnost\n",
    "\n",
    "Ova osobina se ispoljava dvojako:\n",
    "$$R\\cap(S\\cup T) = (R\\cap S) \\cup (R\\cap T)$$\n",
    "$$R\\cup(S\\cap T) = (R\\cup S) \\cap (R\\cup T)$$\n",
    "\n",
    "Dokazaćemo prvi oblik, dok se drugi pokazuje na sličan način.\n",
    "\n",
    "_Dokaz:_\n",
    "\n",
    "Uočimo $x$ tako da $x \\in R \\cap (S \\cup T)$\n",
    "$$x \\in R \\cap (S \\cup T) \\stackrel{[1]}{\\iff} x\\in R \\land (x\\in S \\lor x\\in T)  \\stackrel{[2]}{\\iff} \\\\(x\\in R \\land x\\in S) \\lor (x\\in R \\land x\\in T) \\stackrel{[1]}{\\iff} x \\in R \\cap (S \\cup T)$$\n",
    "\n",
    "$$\\tag*{□}$$\n",
    "\n",
    "_[1] - definicije unije i preseka_\n",
    "\n",
    "_[2] - distributivnost konjukcije sa disjunkcijom_\n",
    "\n",
    "Ovime smo pokazali da distributivnost preseka u odnosu na uniju važi oslanjajući se na osobine logičkih operacija."
   ]
  },
  {
   "cell_type": "markdown",
   "metadata": {},
   "source": [
    "### De Morganovi zakoni\n",
    "\n",
    "$$S \\setminus (T_1 \\cap T_2) = (S\\setminus T_1) \\cup (S \\setminus T_2)$$\n",
    "$$S \\setminus (T_1 \\cup T_2) = (S\\setminus T_1) \\cap (S \\setminus T_2)$$\n",
    "\n",
    "_Dokaz:_\n",
    "\n",
    "Uzmimo neko $x$ tako da $x\\in S \\setminus (T_1 \\cap T_2)$. Tada po definiciji razlike skupova važi:\n",
    "\n",
    "$$(x\\in S) \\land (x\\notin(T_1\\cap T_2)) \\stackrel{[1]}{\\iff} (x\\in S)\\land(\\lnot(x\\in T_1 \\land x\\in T_2)) \\stackrel{[2]}{\\iff} \\\\\n",
    "(x\\in S)\\land (x\\notin T_1 \\lor x\\notin T_2) \\\\\n",
    "\\stackrel{[3]}{\\iff} (x\\in S \\land X\\notin T_1) \\lor (x\\in S \\land x\\notin T_2) \\stackrel{[4]}{\\iff} \\\\\n",
    "x \\in (S\\setminus T_1) \\cup (S\\setminus T_2) $$\n",
    "\n",
    "$$\\tag*{□}$$\n",
    "\n",
    "_[1] - definicija preseka skupova_\n",
    "\n",
    "_[2] - De Morganovi zakon logičkih operacija_\n",
    "\n",
    "_[3] - distributivnost logičkih operacija_\n",
    "\n",
    "_[4] - definicija unije i razlike skupova_"
   ]
  },
  {
   "cell_type": "markdown",
   "metadata": {
    "vscode": {
     "languageId": "plaintext"
    }
   },
   "source": [
    "## Skup u programiranju\n",
    "\n",
    "Skup (set) u programiranju jeste struktura podataka koja čuva podatake bez redosleda (uglavnom) i ne sadrži duplikate.\n",
    "\n",
    "U programskom jeziku Python skup je implementiram klasom ```set```.\n"
   ]
  },
  {
   "cell_type": "code",
   "execution_count": 1,
   "metadata": {},
   "outputs": [
    {
     "name": "stdout",
     "output_type": "stream",
     "text": [
      "{1, 2}\n"
     ]
    }
   ],
   "source": [
    "skup = set([1,2])\n",
    "print(skup)"
   ]
  },
  {
   "cell_type": "markdown",
   "metadata": {},
   "source": [
    "Pythonov skup podržava: \n",
    "- dodavanje elemenata pomoću metode ```add```"
   ]
  },
  {
   "cell_type": "code",
   "execution_count": 2,
   "metadata": {},
   "outputs": [
    {
     "name": "stdout",
     "output_type": "stream",
     "text": [
      "{1, 2, 3, 4, 5}\n"
     ]
    }
   ],
   "source": [
    "skup.add(1)\n",
    "skup.add(2)\n",
    "skup.add(3)\n",
    "skup.add(4)\n",
    "skup.add(5)\n",
    "print(skup)"
   ]
  },
  {
   "cell_type": "markdown",
   "metadata": {},
   "source": [
    "- uklanjanje elemenata pomoću metode ```remove```"
   ]
  },
  {
   "cell_type": "code",
   "execution_count": 3,
   "metadata": {},
   "outputs": [
    {
     "name": "stdout",
     "output_type": "stream",
     "text": [
      "{1, 2, 4, 5}\n"
     ]
    }
   ],
   "source": [
    "skup.remove(3)\n",
    "print(skup)"
   ]
  },
  {
   "cell_type": "markdown",
   "metadata": {},
   "source": [
    "- provera da li se element nalazi u skupu pomoću operatora ```in```"
   ]
  },
  {
   "cell_type": "code",
   "execution_count": 4,
   "metadata": {},
   "outputs": [
    {
     "name": "stdout",
     "output_type": "stream",
     "text": [
      "True\n",
      "False\n"
     ]
    }
   ],
   "source": [
    "print(1 in skup)\n",
    "print(3 in skup)"
   ]
  },
  {
   "cell_type": "markdown",
   "metadata": {},
   "source": [
    "- odredjivanje broja elemenata skupa pomoću funkcije ```len```"
   ]
  },
  {
   "cell_type": "code",
   "execution_count": 5,
   "metadata": {},
   "outputs": [
    {
     "name": "stdout",
     "output_type": "stream",
     "text": [
      "4\n"
     ]
    }
   ],
   "source": [
    "print(len(skup))"
   ]
  },
  {
   "cell_type": "markdown",
   "metadata": {},
   "source": [
    "- unija dva skupa pomoću metode ```union``` ili operatora ```|```"
   ]
  },
  {
   "cell_type": "code",
   "execution_count": 6,
   "metadata": {},
   "outputs": [
    {
     "name": "stdout",
     "output_type": "stream",
     "text": [
      "{1, 2, 3, 4, 5}\n",
      "{1, 2, 3, 4, 5}\n"
     ]
    }
   ],
   "source": [
    "a = set([1,2,3])\n",
    "b = set([3,4,5])\n",
    "print(a.union(b))\n",
    "print(a | b)"
   ]
  },
  {
   "cell_type": "markdown",
   "metadata": {},
   "source": [
    "- presek dva skupa pomocu metode ```intersection``` ili operatora ```&```"
   ]
  },
  {
   "cell_type": "code",
   "execution_count": 7,
   "metadata": {},
   "outputs": [
    {
     "name": "stdout",
     "output_type": "stream",
     "text": [
      "{3}\n",
      "{3}\n"
     ]
    }
   ],
   "source": [
    "print(a.intersection(b))\n",
    "print(a & b)"
   ]
  },
  {
   "cell_type": "markdown",
   "metadata": {},
   "source": [
    "- razlika dva skupa pomoću metode ```differences``` ili operatora ```-```"
   ]
  },
  {
   "cell_type": "code",
   "execution_count": 8,
   "metadata": {},
   "outputs": [
    {
     "name": "stdout",
     "output_type": "stream",
     "text": [
      "{1, 2}\n",
      "{1, 2}\n"
     ]
    }
   ],
   "source": [
    "print(a.difference(b))\n",
    "print(a - b)"
   ]
  },
  {
   "cell_type": "markdown",
   "metadata": {},
   "source": [
    "- simetrična razlika dva skupa pomoću metode ```symmetric_difference```"
   ]
  },
  {
   "cell_type": "code",
   "execution_count": 9,
   "metadata": {},
   "outputs": [
    {
     "name": "stdout",
     "output_type": "stream",
     "text": [
      "{1, 2, 4, 5}\n"
     ]
    }
   ],
   "source": [
    "print(a.symmetric_difference(b))"
   ]
  },
  {
   "cell_type": "markdown",
   "metadata": {},
   "source": [
    "Python podržava i niz logičkih operatora i metoda za proveravanje da li su skupovi dijunktni, podskupovi i slično.\n",
    "\n",
    "Više informacija na [Python dokumentaciji](https://docs.python.org/3/library/stdtypes.html#set)"
   ]
  },
  {
   "cell_type": "markdown",
   "metadata": {
    "vscode": {
     "languageId": "plaintext"
    }
   },
   "source": [
    "<div style=\"display:flex; justify-content: flex-end; align-items: center; gap: 10px; flex-wrap: wrap;\">\n",
    "    <p>\n",
    "        <a href=\"./02-multiskup.ipynb\">02 Multiskupovi &gt;</a>\n",
    "    </p>\n",
    "</div>"
   ]
  }
 ],
 "metadata": {
  "kernelspec": {
   "display_name": ".venv",
   "language": "python",
   "name": "python3"
  },
  "language_info": {
   "codemirror_mode": {
    "name": "ipython",
    "version": 3
   },
   "file_extension": ".py",
   "mimetype": "text/x-python",
   "name": "python",
   "nbconvert_exporter": "python",
   "pygments_lexer": "ipython3",
   "version": "3.12.0"
  }
 },
 "nbformat": 4,
 "nbformat_minor": 2
}
