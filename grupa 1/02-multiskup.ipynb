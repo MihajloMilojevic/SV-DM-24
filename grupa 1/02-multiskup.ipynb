{
 "cells": [
  {
   "cell_type": "markdown",
   "metadata": {},
   "source": [
    "<a href=\"https://tprg-diskretna-matematika.vercel.app/\" style=\"display:flex; justify-content: center; align-items: center; gap: 1.5rem; flex-wrap: wrap; text-decoration: none; font-weight: bold; font-size: 2.5rem;\">\n",
    "    <img src=\"favicon.png\" alt=\"logo\" style=\"max-width: 75px; width: 100%; height: auto;\"> \n",
    "    TPRG - Diskretna matematika | Početna\n",
    "<a>"
   ]
  },
  {
   "cell_type": "markdown",
   "metadata": {},
   "source": [
    "<div style=\"display:flex; justify-content: space-between; align-items: center; gap: 10px; flex-wrap: wrap;\">\n",
    "    <p>\n",
    "        <a href=\"./01-skup.ipynb\">&lt; 01 Skupovi</a>\n",
    "    </p><p>\n",
    "        <a href=\"./03-n-torke.ipynb\">03 n-torke &gt;</a>\n",
    "    </p>\n",
    "</div>"
   ]
  },
  {
   "cell_type": "markdown",
   "metadata": {},
   "source": [
    "# Multiskupovi"
   ]
  },
  {
   "cell_type": "markdown",
   "metadata": {},
   "source": [
    "Multiskup je veoma sličan skupu. I multiskup je kolekcija objekata, bez nekog redosleda, jedina razlika je u tome što multiskup podržava i duplikate.\n",
    "\n",
    "Broj pojavljivanja nekog elementa u multiskupu je nenegativan ceo broj, dok broj različitih elemenata u multiskupu može biti beskonačan.\n",
    "\n",
    "Ako se neki element $x$ pojavljuje tačno $n$ puta u multiskupu $M$, pišemo:\n",
    "$$x\\in ^{n} M$$\n",
    "\n",
    "Za multiskup u kojem se x_1 pojavljuje n_1 puta, x_2 se pojavljuje n_2 puta itd., pišemo:\n",
    "$$[x_1, x_2,...]_{n_1, n_2,...}$$\n",
    "\n",
    "ili možemo u uglastim zagradama da navedemo sva pojavljivanja elemenata:\n",
    "$$[1, 1, 2, 2, 2] \\not = [1, 2] \\text{ ali } [1,2] = [2, 1]$$"
   ]
  },
  {
   "cell_type": "markdown",
   "metadata": {
    "vscode": {
     "languageId": "plaintext"
    }
   },
   "source": [
    "## Multiset u programiranju\n",
    "\n",
    "Python ne podržava multiset \"out of the box\", već se morati instalirati kao poseban paket. Jedan od mogućih paketa je ```multiset```.\n",
    "\n",
    "Paket se instalira komandom ```pip install multiset``` u terminalu.\n",
    "\n",
    "Obično implementacije multiseta koriste rečnike za čuvanje elemenata i njihov broj."
   ]
  },
  {
   "cell_type": "code",
   "execution_count": 1,
   "metadata": {},
   "outputs": [
    {
     "name": "stdout",
     "output_type": "stream",
     "text": [
      "{}\n",
      "{a, b, c, d, e}\n",
      "{a, a, a, a, b, b, c, c, c, d}\n"
     ]
    }
   ],
   "source": [
    "from multiset import *\n",
    "\n",
    "# print empty multiset\n",
    "print(Multiset())\n",
    "\n",
    "# print multiset from iterable\n",
    "print(Multiset('abcde'))\n",
    "\n",
    "# print multiset from mapping\n",
    "print(Multiset({'a': 4, 'b': 2, 'c': 3, 'd':1}))\n"
   ]
  },
  {
   "cell_type": "markdown",
   "metadata": {},
   "source": [
    "Multiskupovi se mogu kombinovati sa skupovima"
   ]
  },
  {
   "cell_type": "code",
   "execution_count": 2,
   "metadata": {},
   "outputs": [
    {
     "name": "stdout",
     "output_type": "stream",
     "text": [
      "Skup je:  {1, 2, 3}\n",
      "Novi multiskup je:  {1, 1, 1, 3, 3, 4, 4, 4, 4, 4, 2}\n"
     ]
    }
   ],
   "source": [
    "skup = {1, 2, 3} \n",
    "print(\"Skup je: \", skup)\n",
    "\n",
    "multiskup = Multiset({1: 2, 3: 1, 4: 5}) + skup\n",
    "print(\"Novi multiskup je: \",multiskup)\n"
   ]
  },
  {
   "cell_type": "markdown",
   "metadata": {},
   "source": [
    "Multiskup podržava veliki broj istih operacija kao i skup. Za više detalja možete pročitati [tutoria](https://www.geeksforgeeks.org/python-multiset/) ili [dokumentaciju paketa](https://multiset.readthedocs.io/en/stable/)."
   ]
  },
  {
   "cell_type": "markdown",
   "metadata": {},
   "source": [
    "<div style=\"display:flex; justify-content: space-between; align-items: center; gap: 10px; flex-wrap: wrap;\">\n",
    "    <p>\n",
    "        <a href=\"./01-skup.ipynb\">&lt; 01 Skupovi</a>\n",
    "    </p><p>\n",
    "        <a href=\"./03-n-torke.ipynb\">03 n-torke &gt;</a>\n",
    "    </p>\n",
    "</div>"
   ]
  }
 ],
 "metadata": {
  "kernelspec": {
   "display_name": ".venv",
   "language": "python",
   "name": "python3"
  },
  "language_info": {
   "codemirror_mode": {
    "name": "ipython",
    "version": 3
   },
   "file_extension": ".py",
   "mimetype": "text/x-python",
   "name": "python",
   "nbconvert_exporter": "python",
   "pygments_lexer": "ipython3",
   "version": "3.12.0"
  }
 },
 "nbformat": 4,
 "nbformat_minor": 2
}
