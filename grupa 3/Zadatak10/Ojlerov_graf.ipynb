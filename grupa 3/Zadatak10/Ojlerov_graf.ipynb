{
  "cells": [
    {
      "cell_type": "markdown",
      "source": [
        "### **Ojlerov graf**\n",
        "\n",
        "\n",
        "**Problem 7 mostova Kenigsberga**\n",
        "\n",
        "Grad Kenigsberg bio je smešten na reci Pregel i imao je četiri kopnene oblasti povezane sa sedam mostova. Građani su se zabavljali pokušavajući da pređu svaki most tačno jednom i vrate se na početnu tačku. Međutim, bez obzira na pokušaje, to nije bilo moguće. Ovaj problem nije bio samo izazov već je imao veliki uticaj u razvoju matematike.\n",
        "\n",
        "Švajcarski matematičar, Leonard Ojler (Leonhard Euler) je  zahvaljujući upravo ovoj tematici prvi abstrahovao geografski problem u matematičku strukturu koju danas zovemo graf. Umesto da razmatra konkretne obale i mostove, predstavio je problem ovako:\n",
        "\n",
        "*   Svaka kopnena oblast (ostrvo ili deo obale) → **čvor** (teme) grafa\n",
        "*   Svaki most → **grana** (ivica) koja povezuje dva čvora\n",
        "\n",
        "Tako je nastao prvi poznati model grafa u istoriji matematike.\n",
        "\n",
        "**Ojlerov graf**\n",
        "\n",
        "Definicija:\n",
        "Neusmeren graf je Ojlerov ako postoji zatvorena putanja koja prolazi kroz svaku granu tačno jednom i završava se u početnom čvoru. Ovakva putanja poznata je i kao **Ojelrova tura**. Neusmeren graf je Ojlerov ako i samo ako zadovoljava uslov da je svaki čvor povezan i svaki čvor u grafu ima **paran** stepen.\n",
        "\n",
        "**Polu Ojlerov graf**\n",
        "\n",
        "Definicija:\n",
        "Neusmeren graf je polu Ojlerov ako postoji otvorena putanja koja prolazi svakom ivicom tačno jednom, ali počinje i završava u različitim čvorovima. Ovakva putanja poznata je i kao **Ojlerov put**. Neusmeren povezan graf je polu Ojlerov ako i samo ako ima tačno dva čvora neparnog stepena, a svi ostali čvorovi imaju paran stepen.\n",
        "\n",
        "Definicija: Graf je Ojlerov ako sadrzi Ojlerovu turu. Graf je polu\n",
        "Ojlerov ako sadrzi Ojlerov put.\n",
        "\n"
      ],
      "metadata": {
        "id": "KQR6wmQ1mqc_"
      }
    },
    {
      "cell_type": "markdown",
      "source": [
        "**Priferov kod i rekonstrukcija stabla**\n",
        "\n",
        "Definicija: Priferov kod predstavlja jedinstvenu sekvencu kojom se može kodirati bilo koje označeno stablo sa n čvorova. Kod je niz dužine n -  2, sastavljen od čvorova stabla.\n",
        "\n",
        "**Algoritam za rekonstukciju stabla iz Priferovog koda**:\n",
        "\n",
        "\n",
        "*   Inicijalizujemo stepen svakog čvora na 1\n",
        "\n",
        "    (čvorovi su numerisani od 1 do 𝑛).\n",
        "*   Lista degrees dužine *italicized text* označava broj preostalih veza (stepen) svakog čvora.\n",
        "\n",
        "*   Svaki broj u Priferovom kodu označava roditelja, pa za svaki takav čvor povećavamo njegov stepen za 1.\n",
        "*   Iteriramo kroz Priferov kod\n",
        "\n",
        "  Za svaki čvor iz koda:\n",
        "\n",
        "  Pronalazimo najmanji čvor sa stepenom 1 (čvor koji se nigde više ne pominje i spreman je da se veže).\n",
        "\n",
        "  Dodajemo granu između tog čvora i dobavljenog čvora iz koda.\n",
        "\n",
        "  Smanjujemo stepen za oba čvora (jer je njihova veza obrađena).\n",
        "\n",
        "\n",
        "*   Na kraju ostaju još 2 čvora sa stepenom 1 koja još nismo povezali.\n",
        "\n",
        "    Jedini mogući potez je da ih spojimo i time zatvorimo rekonstrukciju stabla\n",
        "*   Vraćamo listu svih grana stabla\n",
        "\n",
        "    Svaka grana je predstavljena kao tuple (u, v).\n"
      ],
      "metadata": {
        "id": "nR1SwJEU4OdX"
      }
    },
    {
      "cell_type": "code",
      "source": [
        "def prufer_tree(code):\n",
        "    n = len(code) + 2  # Stablo sa n čvorova ima Priferov kod dužine n - 2\n",
        "    degrees = [1] * n  # Inicijalno svi čvorovi imaju stepen 1 - bar 1 grana\n",
        "\n",
        "    # Uvećavamo stepen za svaki čvor koji se pojavljuje u Prifer kodu\n",
        "    for node in code:\n",
        "        degrees[node - 1] += 1\n",
        "\n",
        "    branches = []\n",
        "\n",
        "    for node in code:\n",
        "        # Tražimo najmanji čvor sa stepenom 1 (on je list koji nije u kodu)\n",
        "        for i in range(n):\n",
        "            if degrees[i] == 1:\n",
        "                branches.append((i + 1, node))  # Povezujemo taj list sa trenutnim čvorom iz koda\n",
        "                degrees[i] -= 1\n",
        "                degrees[node - 1] -= 1\n",
        "                break\n",
        "\n",
        "    # Na kraju ostaju još dva čvora sa stepenom 1 koje treba povezati\n",
        "    last_two_nodes = [i + 1 for i in range(n) if degrees[i] == 1]\n",
        "    branches.append((last_two_nodes[0], last_two_nodes[1]))\n",
        "\n",
        "    return branches\n",
        "\n",
        "code = [2, 4, 4]  # Prifer kod za stablo sa 5 čvorova\n",
        "branches=prufer_tree(code)\n",
        "\n",
        "print(\"Grane rekonstruisanog stabla:\")\n",
        "for u, v in branches:\n",
        "    print(f\"{u} — {v}\")\n"
      ],
      "metadata": {
        "id": "ECFTwge0nV52",
        "outputId": "3a3a08fd-6710-4328-aa00-a2fa5c4cd418",
        "colab": {
          "base_uri": "https://localhost:8080/"
        }
      },
      "execution_count": 1,
      "outputs": [
        {
          "output_type": "stream",
          "name": "stdout",
          "text": [
            "Grane rekonstruisanog stabla:\n",
            "1 — 2\n",
            "2 — 4\n",
            "3 — 4\n",
            "4 — 5\n"
          ]
        }
      ]
    },
    {
      "cell_type": "markdown",
      "source": [
        "**Težinski graf**  je graf u kojem je svakoj grani pridružena neka vrednost – težina. Težine mogu predstavljati bilo koju meru \"troška\" ili \"vrednosti\" prelaska preko date grane. Tezinski graf moze biti usmeren ili neusmeren\n",
        "\n",
        "Formalno:\n",
        "Težinski graf se definiše kao trojka:\n",
        "\n",
        "$$G=(V,E,w)$$\n",
        "gde je:\n",
        "\n",
        "𝑉: skup čvorova,\n",
        "\n",
        "𝐸: skup grana,\n",
        "\n",
        "𝑤: 𝐸→𝑅 funkcija koja svakoj grani dodeljuje realan broj kao težinu.\n",
        "\n",
        "Težine u grafovima mogu predstavljati različite veličine u zavisnosti od konteksta: dužinu puta, trošak, vreme putovanja, kapacitet veze, broj koraka i\n",
        "slično.\n",
        "\n",
        "Mogu biti pozitivne, nula, pa čak i negativne (u nekim algoritmima).\n",
        "Težinski grafovi se koriste u mnogim algoritmima i oblastima, uključujući:\n",
        "\n",
        "*   **Dijkstrin** algoritam - algoritam najkraćeg puta,\n",
        "*   **Primov** i **Kruskalov** algoritam - algoritmi minimalnog razapinjućeg stabla\n",
        "\n",
        "*   **Bellman-Ford** algoritam - algoritam najkraćeg puta sa negativnim težinama\n",
        "*  \tModelovanje saobraćaja, mreža, logistike\n"
      ],
      "metadata": {
        "id": "rktQDuf4w6ay"
      }
    },
    {
      "cell_type": "markdown",
      "source": [
        "**Algoritam za određivanje Ojlerove ture**\n",
        "\n",
        "Za pronalaženje Ojlerove ture u neusmerenom povezanom grafu u kojem su svi čvorovi parnog stepena, koristi se **Hirholcerov** algoritam.\n",
        "\n",
        " Algoritam efikasno\n",
        "konstruiše Ojlerov ciklus tako što kreće iz proizvoljnog čvora i \"prati\" grane dok se ne vrati u početni čvor, zatim proširuje ciklus dok ne obuhvati sve grane.\n",
        "\n",
        "**Opis algoritma**\n",
        "\n",
        "\n",
        "*   Algoritam funkcioniše za neusmerene i usmerene grafove.\n",
        "*   Pretpostavlja se da graf zadovoljava uslov za postojanje Ojlerove ture.\n",
        "\n",
        "*   Svaka grana se koristi tačno jednom."
      ],
      "metadata": {
        "id": "cyu7XjDH4C6I"
      }
    },
    {
      "cell_type": "code",
      "source": [
        "from collections import defaultdict\n",
        "\n",
        "def find_eulerian_tour(graph):\n",
        "    # Proveravamo da li je graf Ojlerov: svi čvorovi moraju imati paran stepen\n",
        "    for node in graph:\n",
        "        if len(graph[node]) % 2 != 0:\n",
        "            return None  # Nema Ojlerove ture\n",
        "\n",
        "    tour = []  # Lista za čuvanje rezultujuće ture\n",
        "    stack = []  # Pomoćna lista za DFS pristup (Depth First Search)\n",
        "\n",
        "    # Počinjemo od proizvoljnog čvora\n",
        "    current = next(iter(graph))\n",
        "    stack.append(current)\n",
        "\n",
        "    # Dok god imamo čvorove na steku\n",
        "    while stack:\n",
        "        if graph[current]:\n",
        "            # Ako čvor ima susede, biramo jednog\n",
        "            neighbor = graph[current].pop()\n",
        "            graph[neighbor].remove(current)  # Uklanjamo ivicu iz obe strane\n",
        "            stack.append(current)  # Vraćamo trenutni čvor na stek\n",
        "            current = neighbor  # Idemo ka susedu\n",
        "        else:\n",
        "            # Ako nema više suseda, završavamo čvor\n",
        "            tour.append(current)\n",
        "            current = stack.pop()  # Vraćamo se unazad\n",
        "\n",
        "    return tour[::-1]  # Obrćemo redosled da bismo dobili ispravnu turu\n",
        "\n",
        "# Kreiramo graf kao rečnik: svaki čvor ima listu svojih suseda\n",
        "graph = {\n",
        "    1: [2, 3],\n",
        "    2: [1, 4],\n",
        "    3: [1, 4],\n",
        "    4: [2, 3]\n",
        "}\n",
        "\n",
        "# Kopiramo graf jer se tokom algoritma uništava\n",
        "import copy\n",
        "tour = find_eulerian_tour(copy.deepcopy(graph))\n",
        "\n",
        "print(\"Ojlerova tura:\", tour)\n",
        "\n"
      ],
      "metadata": {
        "id": "I1Pl6XvK0-PR",
        "outputId": "cef22551-c371-4789-dbe2-94297970c4f8",
        "colab": {
          "base_uri": "https://localhost:8080/"
        }
      },
      "execution_count": 2,
      "outputs": [
        {
          "output_type": "stream",
          "name": "stdout",
          "text": [
            "Ojlerova tura: [1, 3, 4, 2, 1]\n"
          ]
        }
      ]
    }
  ],
  "metadata": {
    "colab": {
      "provenance": [],
      "toc_visible": true
    },
    "kernelspec": {
      "display_name": "Python 3",
      "name": "python3"
    }
  },
  "nbformat": 4,
  "nbformat_minor": 0
}