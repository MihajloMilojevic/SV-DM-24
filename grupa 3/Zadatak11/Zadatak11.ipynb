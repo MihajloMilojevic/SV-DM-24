{
 "cells": [
  {
   "cell_type": "markdown",
   "id": "541eae26-dfe6-4743-8af9-6bdf5c998159",
   "metadata": {},
   "source": [
    "# Hamiltonov graf\n",
    "\n",
    "---"
   ]
  },
  {
   "cell_type": "markdown",
   "id": "7be09513-1136-41d4-9c31-023a94b8e7cf",
   "metadata": {},
   "source": [
    "## 1. Istorija Hamiltonovog grafa\n",
    "\n",
    "Hamiltonovi grafovi su dobili ime po irskom matematičaru **Williamu Rowanu Hamiltonu** (1805-1865), jednom od najznačajnijih matematičara 19. veka. Hamilton nije bio samo matematičar - bio je i fizičar, astronom i inventor koji je dao fundamentalne doprinose algebri, optici, dinamici i teoriji kvateriona.\n",
    "\n"
   ]
  },
  {
   "cell_type": "markdown",
   "id": "eb3f60d4-8190-4f0e-a3bc-7fc45f559644",
   "metadata": {},
   "source": [
    "### 1.1 Hamiltonova igra dodekaedera (1857)\n",
    "\n",
    "Priča o Hamiltonovim grafovima počinje 1857. godine kada je Hamilton izmislio matematičku igru zvanu **\"Icosian Game\"** ili **\"Hamilton's puzzle\"**. Ova igra se zasnivala na grafu dodekaedera - regularnog poliedra sa 12 pentagonalnih strana, 20 čvorova i 30 grana.\n",
    "\n",
    "Igra je imala jednostavno pravilo: počevši od bilo kojeg čvora na dodekaderu, potrebno je pronaći putanju koja prolazi kroz svaki od 20 čvorova tačno jednom i vraća se u početni čvor. Hamilton je čak pokušao da komercijalno iskoristi ovu igru, prodajući je kao zabavu za aristokratske salone Londona, mada nije postigao veliki komercijalni uspeh.\n"
   ]
  },
  {
   "cell_type": "markdown",
   "id": "836c4166-405b-4ea2-95b3-3198c264e873",
   "metadata": {},
   "source": [
    "### 1.2 Matematička formalizacija\n",
    "\n",
    "Ono što Hamilton nije mogao da predvidi je da će njegov jednostavan problem postati jedan od centralnih problema teorije grafova. Dok je sam Hamilton posmatrao svoj problem kao zanimljivu geometrijsku zagonetku, matematičari 20. veka su prepoznali duboku strukturu koja se krije iza ovog problema.\n",
    "\n",
    "Teorija grafova kao matematička disciplina se razvila tek u 20. veku, uglavnom zahvaljujući radovima matematičara poput Koeniga, Menger-a i kasnije Erdős-a i Tutte-a. Problem Hamiltonovih ciklusa se pokazao kao jedan od najfunamentalnijih i najteže rešivih problema u ovoj oblasti.\n"
   ]
  },
  {
   "cell_type": "markdown",
   "id": "25cdcb3f-27d1-4aa7-9e12-be7d52803eab",
   "metadata": {},
   "source": [
    "### 1.3 Razvoj u modernoj matematici\n",
    "\n",
    "U drugoj polovini 20. veka, problem Hamiltonovih grafova je dobio dodatnu važnost sa razvojem računarske nauke. Otkriveno je da pripada klasi **NP-kompletnih problema**, što znači da ne postoji efikasan algoritam za njegovo rešavanje u opštem slučaju (barem koliko trenutno znamo).\n",
    "\n",
    "Ova složenost je učinila problem Hamiltonovih grafova centralnim u teoriji složenosti, kombinatornoj optimizaciji i algoritmici. Danas se primenjuje u oblastima kao što su:\n",
    "- Rešavanje problema trgovačkog putnika (TSP)\n",
    "- Dizajn računarskih mreža\n",
    "- Bioinformatika (sekvenciranje DNA)\n",
    "- Kvantno računarstvo\n",
    "\n",
    "---"
   ]
  },
  {
   "cell_type": "markdown",
   "id": "26600047-5f10-4af5-8dda-6053c6ccffa4",
   "metadata": {},
   "source": [
    "## 2. Definicije i osnove\n"
   ]
  },
  {
   "cell_type": "markdown",
   "id": "aace9cc6-c36e-4ab9-8042-6c908d5f41e4",
   "metadata": {},
   "source": [
    "### 2.1 Osnovne definicije\n",
    "\n",
    "**Definicija 2.1:** *Hamiltonov put* u grafu $G = (V, E)$ je jednostavan put koji prolazi kroz svaki čvor grafa tačno jednom. Formalno, to je sekvenca čvorova $v₁, v₂, ..., v_n$ gde je $n = |V|$, svi čvorovi su različiti, i $(v_i, v_{i+1}) ∈ E$ za sve $i = 1, 2, ..., n-1$.\n",
    "\n",
    "**Definicija 2.2:** *Hamiltonova kontura* u grafu $G = (V, E)$ je jednostavan ciklus koji prolazi kroz svaki čvor grafa tačno jednom. To je Hamiltonova putanja $v₁, v₂, ..., v_n$ sa dodatnim uslovom da $(v_n, v₁) ∈ E$.\n",
    "\n",
    "**Definicija 2.3:** Graf $G$ se naziva:\n",
    "- **Hamiltonov graf** ako sadrži Hamiltonovu konturu\n",
    "- **Polu-Hamiltonov graf** (ili traceable graf) ako sadrži Hamiltonov put ali ne sadrži Hamiltonovu konturu\n"
   ]
  },
  {
   "cell_type": "markdown",
   "id": "657cb857-00e0-462b-8fc6-5e4188a1fd3b",
   "metadata": {},
   "source": [
    "### 2.2 Osnovna svojstva\n",
    "\n",
    "Važno je primetiti da pojam Hamiltonova kontura ima smisla samo za povezane grafove sa najmanje 3 čvora. Za grafove sa manje od 3 čvora, pojam ciklusa koji prolazi kroz sve čvorove nema matematički smisao.\n",
    "\n",
    "Takođe, svaki Hamiltonov graf je nužno povezan, ali obrnuto ne važi - postoji mnogo povezanih grafova koji nisu Hamiltonovi. Ova asimetrija čini problem prepoznavanja Hamiltonovih grafova posebno izazovnim.\n",
    "\n",
    "---"
   ]
  },
  {
   "cell_type": "markdown",
   "id": "6317ae93-2910-473a-9d67-029c6dc8971c",
   "metadata": {},
   "source": [
    "## 3. Dovoljni uslovi za Hamiltonove grafove\n"
   ]
  },
  {
   "cell_type": "markdown",
   "id": "da3d470c-fba3-4bad-acb3-21e43fe34622",
   "metadata": {},
   "source": [
    "### 3.1 Diracova teorema (1952)\n",
    "\n",
    "**Teorema 3.1 (Dirac, 1952):** Neka je $G$ jednostavan graf sa $n ≥ 3$ čvorova. Ako za svaki čvor $v$ važi $deg(v) ≥ n/2$, tada je $G$ Hamiltonov graf.\n",
    "\n",
    "**Dokaz Diracove teoreme:**\n",
    "\n",
    "Dokaz ćemo sprovesti metodom kontradikcije. Pretpostavimo da postoji graf $G$ sa $n ≥ 3$ čvorova koji zadovoljava uslove teoreme $(δ(G) ≥ n/2)$, ali nije Hamiltonov.\n",
    "\n",
    "*Korak 1: Konstruisanje maksimalnog ne-Hamiltonovog grafa*\n",
    "\n",
    "Dodajemo grane u $G$ dok ne dobijemo graf $H$ koji je maksimalan u odnosu na svojstvo da nije Hamiltonov. To znači da $H$ nije Hamiltonov, ali dodavanjem bilo koje grane koja ne postoji u $H$ dobijamo Hamiltonov graf.\n",
    "\n",
    "*Korak 2: Analiza strukture $H$*\n",
    "\n",
    "U $H$ postoje čvorovi $u$ i $v$ koji nisu susedni (jer $H$ nije kompletan - da jeste, bio bi Hamiltonov). Kada dodamo granu $uv$, dobijamo Hamiltonov graf $H + uv$. To znači da svaki Hamiltonov ciklus u $H + uv$ mora da koristi granu $uv$.\n",
    "\n",
    "*Korak 3: Postojanje Hamiltonove putanje*\n",
    "\n",
    "Dakle, u $H$ postoji Hamiltonova putanja od $u$ do $v$. Neka je ova putanja:\n",
    "$P: u = x₁, x₂, x₃, ..., x_n = v$\n",
    "\n",
    "*Korak 4: Analiza susedstava*\n",
    "\n",
    "Posmatrajmo susedstva čvorova $u$ i $v$ u $H$:\n",
    "- $N_H(u)$ = {čvorovi susedni sa $u$}\n",
    "- $N_H(v)$ = {čvorovi susedni sa $v$}\n",
    "\n",
    "Ključna opservacija: ako za neki $i$ važi da je $x_i ∈ N_H(u) i x_{i+1} ∈ N_H(v)$, tada možemo konstruisati ciklus:\n",
    "$u - x_i - x_{i-1} - ... - x₁ - x₂ - ... - x_{i+1} - v - x_n - ... - x_{i+2} - u$\n",
    "\n",
    "*Korak 5: Brojanje argumentom*\n",
    "\n",
    "Neka je $S = {x_i : x_{i+1} ∈ N_H(v), i = 1, 2, ..., n-1}$. Tada $S ∩ N_H(u) = ∅$ (inače bi postojao Hamiltonov ciklus).\n",
    "\n",
    "Imamo:\n",
    "- $|N_H(u)| ≥ n/2$ (po pretpostavci teoreme)\n",
    "- $|S| ≥ |N_H(v)| - 1 ≥ n/2 - 1$ (jer možda $x_n ∉ S$)\n",
    "- $|S ∪ N_H(u)| ≤ n - 2$ (jer $u, v ∉ S ∪ N_H(u)$)\n",
    "\n",
    "Ali tada: $n - 2 ≥ |S ∪ N_H(u)| = |S| + |N_H(u)| ≥ (n/2 - 1) + n/2 = n - 1$\n",
    "\n",
    "Ovo je kontradikcija! Dakle, $G$ mora biti Hamiltonov. $□$"
   ]
  },
  {
   "cell_type": "markdown",
   "id": "8df7ba10-b8f8-4c6b-96d3-c7492378fe77",
   "metadata": {},
   "source": [
    "### 3.2 Ore-ova teorema (1960)\n",
    "\n",
    "**Teorema 3.2 (Ore, 1960):** Neka je $G$ jednostavan graf sa $n ≥ 3$ čvorova. Ako za svaki par nesusednih čvorova $u, v$ važi $deg(u) + deg(v) ≥ n$, tada je $G$ Hamiltonov graf.\n",
    "\n",
    "**Dokaz Ore-ove teoreme:**\n",
    "\n",
    "Ore-ova teorema je generalizacija Diracove teoreme. Dokaz sledi sličan pristup kao kod Diracove teoreme, sa ključnom razlikom u analizi parova nesusednih čvorova.\n",
    "\n",
    "*Napomena:* Diracova teorema je specijalan slučaj Ore-ove teoreme. Ako $deg(v) ≥ n/2$ za sve čvorove, tada za bilo koji par nesusednih čvorova $u, v$ važi $deg(u) + deg(v) ≥ n/2 + n/2 = n$.\n",
    "\n",
    "### 3.3 Chvátalova teorema\n",
    "\n",
    "**Teorema 3.3 (Chvátal, 1972):** Neka je $G$ graf sa $n$ čvorova, i neka je $σ(G)$ najmanji broj $k$ takav da postoji bar $n-k$ čvorova stepena $≥ k$. Ako je $σ(G) ≥ n/2$, tada je $G$ Hamiltonov.\n",
    "\n",
    "Ova teorema predstavlja najširu generalizaciju prethodnih rezultata i omogućava prepoznavanje Hamiltonovih grafova u slučajevima kada nijedna od prethodnih teorema nije primenljiva.\n"
   ]
  },
  {
   "cell_type": "markdown",
   "id": "2c2f6db1-6615-4233-8e1c-1f2340db82bb",
   "metadata": {},
   "source": [
    "## 4. Potrebni uslovi i ograničenja\n"
   ]
  },
  {
   "cell_type": "markdown",
   "id": "2a14a37b-df8d-4bd3-bab3-7adb380c5aa9",
   "metadata": {},
   "source": [
    "### 4.1 Osnovni potrebni uslovi\n",
    "\n",
    "**Teorema 4.1:** Svaki Hamiltonov graf $G$ sa $n ≥ 3$ čvorova mora biti:\n",
    "1. Povezan\n",
    "2. Ima najmanje $n$ grana\n",
    "3. Za svaki čvor $v$ važi $deg(v) ≥ 2$\n",
    "\n",
    "**Dokaz:** Uslovi 1 i 3 su očigledni iz definicije Hamiltonovog ciklusa. Za uslov 2: Hamiltonov ciklus ima $n$ grana, pa graf mora imati najmanje toliko grana. $□$\n"
   ]
  },
  {
   "cell_type": "markdown",
   "id": "a73cd3dd-cb9e-4c7c-af85-b0685e256d75",
   "metadata": {},
   "source": [
    "### 4.2 Dirac-ov potreban uslov za bipartitne grafove\n",
    "\n",
    "**Teorema 4.2:** Neka je $G$ bipartitan graf sa partijama $A$ i $B$. $G$ je Hamiltonov ako i samo ako $|A| = |B|$ i $G$ je povezan.\n",
    "\n",
    "**Dokaz:** \n",
    "*Potrebnost:* U bipartitnom grafu, svaki ciklus mora imati paran broj čvorova, i mora alternirati između partija $A$ i $B$. Za Hamiltonov ciklus od $n$ čvorova, potrebno je da $n$ bude parno i da $|A| = |B| = n/2$.\n",
    "\n",
    "*Dovoljnost:* Ako je $|A| = |B|$ i $G$ povezan, konstruišemo Hamiltonov ciklus koristeći konstrukciju maksimalnog povezanog podpodgrafa. $□$\n"
   ]
  },
  {
   "cell_type": "markdown",
   "id": "c2a1c2d9-e1b4-487d-a00b-fe85cd0ab400",
   "metadata": {},
   "source": [
    "### 4.3 Mostovi i artikulacione tačke\n",
    "\n",
    "**Teorema 4.3:** Ako Hamiltonov graf $G$ ima most (granu čije brisanje prekida povezanost), tada $G$ ima tačno 2 komponente povezanosti nakon brisanja tog mosta.\n",
    "\n",
    "Ova teorema ograničava strukturu Hamiltonovih grafova - oni ne mogu imati \"usko grlo\" tipa most koji deli graf na više manjih komponenti.\n",
    "\n",
    "---"
   ]
  },
  {
   "cell_type": "markdown",
   "id": "e4e3edd3-90ce-4f43-b48d-4acaf9d11b85",
   "metadata": {},
   "source": [
    "## 5. Algoritmi i složenost\n"
   ]
  },
  {
   "cell_type": "markdown",
   "id": "93cec588-b035-495f-98dc-6d849341cd71",
   "metadata": {},
   "source": [
    "### 5.1 NP-kompletnost\n",
    "\n",
    "Problem odlučivanja \"Da li graf $G$ ima Hamiltonov ciklus?\" je jedan od originalnih 21 NP-kompletnih problema identificiranih u Karp-ovom radu iz 1972. godine. Ovo znači da:\n",
    "\n",
    "1. Problem pripada klasi NP (rešenje se može verifikovati u polinomijalnom vremenu)\n",
    "2. Svaki problem iz NP se može svesti na ovaj problem u polinomijalnom vremenu\n",
    "3. Ne postoji poznati algoritam polinomijalne složenosti za opšti slučaj\n"
   ]
  },
  {
   "cell_type": "markdown",
   "id": "516b8cdf-18ba-4bc5-86ac-deedeae99244",
   "metadata": {},
   "source": [
    "### 5.2 Jednostavan backtracking algoritam\n",
    "\n",
    "Najjednostavniji pristup za pronalaženje Hamiltonovog ciklusa je backtracking:\n"
   ]
  },
  {
   "cell_type": "code",
   "execution_count": 1,
   "id": "58d1330a-37d1-4f93-ab2d-67489c116ce3",
   "metadata": {},
   "outputs": [],
   "source": [
    "def hamiltonian_cycle_backtrack(graph):\n",
    "    \"\"\"\n",
    "    Osnovni backtracking algoritam za pronalaženje Hamiltonovog ciklusa.\n",
    "    \n",
    "    Args:\n",
    "        graph: dict - graf predstavljen kao adjacency list\n",
    "               npr. {1: [2, 3], 2: [1, 3], 3: [1, 2]}\n",
    "    \n",
    "    Returns:\n",
    "        list - Hamiltonov ciklus ako postoji, None inače\n",
    "    \"\"\"\n",
    "    nodes = list(graph.keys())\n",
    "    n = len(nodes)\n",
    "    \n",
    "    if n < 3:\n",
    "        return None  # Ciklus mora imati bar 3 čvora\n",
    "    \n",
    "    def is_safe(v, path, pos):\n",
    "        \"\"\"Proverava da li je bezbedno dodati čvor v na poziciju pos\"\"\"\n",
    "        # Da li je čvor v sused poslednjeg čvora u putanji?\n",
    "        if v not in graph[path[pos - 1]]:\n",
    "            return False\n",
    "        \n",
    "        # Da li je čvor v već u putanji?\n",
    "        if v in path:\n",
    "            return False\n",
    "        \n",
    "        return True\n",
    "    \n",
    "    def solve_util(path, pos):\n",
    "        \"\"\"Rekurzivna funkcija za backtracking\"\"\"\n",
    "        # Bazni slučaj: ako su svi čvorovi dodati\n",
    "        if pos == n:\n",
    "            # Proverava da li poslednji čvor može da se poveže sa prvim\n",
    "            if path[0] in graph[path[pos - 1]]:\n",
    "                return True\n",
    "            return False\n",
    "        \n",
    "        # Pokušava sve čvorove kao sledeći kandidat\n",
    "        for v in nodes:\n",
    "            if is_safe(v, path, pos):\n",
    "                path[pos] = v\n",
    "                \n",
    "                # Rekurzivni poziv\n",
    "                if solve_util(path, pos + 1):\n",
    "                    return True\n",
    "                \n",
    "                # Backtrack - uklanja čvor\n",
    "                path[pos] = None\n",
    "        \n",
    "        return False\n",
    "    \n",
    "    # Pokušava sa svakim čvorom kao početnim\n",
    "    for start in nodes:\n",
    "        path = [None] * n\n",
    "        path[0] = start\n",
    "        \n",
    "        if solve_util(path, 1):\n",
    "            # Dodaje početni čvor na kraj da zatvori ciklus\n",
    "            return path + [start]\n",
    "    \n",
    "    return None\n"
   ]
  },
  {
   "cell_type": "code",
   "execution_count": 2,
   "id": "dac21ca3-2286-4b8f-ab6f-d41b968cc1c9",
   "metadata": {},
   "outputs": [
    {
     "name": "stdout",
     "output_type": "stream",
     "text": [
      "Graf 1:\n",
      "Hamiltonov ciklus: 1 -> 2 -> 3 -> 5 -> 4 -> 1\n",
      "\n",
      "Graf 2:\n",
      "Nema Hamiltonovog ciklusa\n"
     ]
    }
   ],
   "source": [
    "# Primer korišćenja\n",
    "if __name__ == \"__main__\":\n",
    "    # Graf sa Hamiltonovim ciklusom\n",
    "    graph1 = {\n",
    "        1: [2, 3, 4],\n",
    "        2: [1, 3, 5],\n",
    "        3: [1, 2, 4, 5],\n",
    "        4: [1, 3, 5],\n",
    "        5: [2, 3, 4]\n",
    "    }\n",
    "    \n",
    "    # Graf bez Hamiltonovog ciklusa\n",
    "    graph2 = {\n",
    "        1: [2, 3],\n",
    "        2: [1, 4],\n",
    "        3: [1, 4],\n",
    "        4: [2, 3, 5],\n",
    "        5: [4]\n",
    "    }\n",
    "    \n",
    "    print(\"Graf 1:\")\n",
    "    result1 = hamiltonian_cycle_backtrack(graph1)\n",
    "    if result1:\n",
    "        print(f\"Hamiltonov ciklus: {' -> '.join(map(str, result1))}\")\n",
    "    else:\n",
    "        print(\"Nema Hamiltonovog ciklusa\")\n",
    "    \n",
    "    print(\"\\nGraf 2:\")\n",
    "    result2 = hamiltonian_cycle_backtrack(graph2)\n",
    "    if result2:\n",
    "        print(f\"Hamiltonov ciklus: {' -> '.join(map(str, result2))}\")\n",
    "    else:\n",
    "        print(\"Nema Hamiltonovog ciklusa\")"
   ]
  },
  {
   "cell_type": "markdown",
   "id": "3829e3f8-149e-4e6b-8053-cc8bdbf71266",
   "metadata": {},
   "source": [
    "Ovaj algoritam ima vremensku složenost $O(n!)$ u najgorem slučaju, što ga čini nepraktičnim za velike grafove.\n"
   ]
  },
  {
   "cell_type": "markdown",
   "id": "8fc95135-b886-48c7-8710-b2d92dafa284",
   "metadata": {},
   "source": [
    "### 5.3 Held-Karpov algoritam\n",
    "\n",
    "Za potpune grafove, Held-Karp algoritam koristi dinamičko programiranje da reši problem u $O(n²2ⁿ)$ vremenu, što je značajno bolje od $n!$, ali i dalje eksponencijalno.\n"
   ]
  },
  {
   "cell_type": "markdown",
   "id": "062d3fd5-027c-412a-af0c-51c67af24b59",
   "metadata": {},
   "source": [
    "### 5.4 Aproksimacijski algoritmi\n",
    "\n",
    "Za problem trgovačkog putnika (TSP), koji je usko povezan sa Hamiltonovim ciklusima, postoje aproksimacijski algoritmi:\n",
    "- Christofides algoritam (1.5-aproksimacija za metrički TSP)\n",
    "- 2-aproksimacija preko minimalnog spanning tree-a\n",
    "\n",
    "---"
   ]
  },
  {
   "cell_type": "markdown",
   "id": "358dfa6a-faed-49ad-ad12-85c376057b46",
   "metadata": {},
   "source": [
    "## 6. Primene i značaj\n"
   ]
  },
  {
   "cell_type": "markdown",
   "id": "70926f43-83e0-4868-a5d2-f78a98535f9c",
   "metadata": {},
   "source": [
    "### 6.1 Problem trgovačkog putnika (TSP)\n",
    "\n",
    "Hamiltonovi ciklusi su srce problema trgovačkog putnika - pronalaska najkraćeg ciklusa koji obilazi sve gradove. TSP ima ogromne praktične primene u logistici, planiranju ruta, proizvodnji čipova.\n"
   ]
  },
  {
   "cell_type": "markdown",
   "id": "7d13db3f-e52c-4c47-8860-1e0282c65c21",
   "metadata": {},
   "source": [
    "### 6.2 Bioinformatika\n",
    "\n",
    "U sekvenciranju DNK, problem se svodi na pronalaženje Hamiltonove putanje u grafu gde čvorovi predstavljaju fragmente DNK sekvenci.\n"
   ]
  },
  {
   "cell_type": "markdown",
   "id": "a24991d2-f424-47d9-aa4c-465f5e89e0e2",
   "metadata": {},
   "source": [
    "### 6.3 Teorija složenosti\n",
    "\n",
    "Hamiltonovi grafovi služe kao benchmark za testiranje novih algoritamskih tehnika i teorijskih pristupa NP-kompletnim problemima.\n",
    "\n",
    "---"
   ]
  }
 ],
 "metadata": {
  "kernelspec": {
   "display_name": "Python 3",
   "language": "python",
   "name": "python3"
  },
  "language_info": {
   "codemirror_mode": {
    "name": "ipython",
    "version": 3
   },
   "file_extension": ".py",
   "mimetype": "text/x-python",
   "name": "python",
   "nbconvert_exporter": "python",
   "pygments_lexer": "ipython3",
   "version": "3.12.2"
  }
 },
 "nbformat": 4,
 "nbformat_minor": 5
}
