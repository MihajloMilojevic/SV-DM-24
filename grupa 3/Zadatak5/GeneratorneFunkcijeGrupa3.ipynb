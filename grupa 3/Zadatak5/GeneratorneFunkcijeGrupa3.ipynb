{
  "cells": [
    {
      "cell_type": "markdown",
      "metadata": {
        "id": "kftdfG6rHdsN"
      },
      "source": [
        "#Generatorne funkcije"
      ]
    },
    {
      "cell_type": "markdown",
      "metadata": {
        "id": "Og1mYenpnw7u"
      },
      "source": [
        "##Šta su generatorne funkcije"
      ]
    },
    {
      "cell_type": "markdown",
      "metadata": {
        "id": "sM8MMWF8H27J"
      },
      "source": [
        "Generatorne funkcije su alat koji omogućava predstavljanje sekvenci brojeva putem formalnih redova. Svaka sekvenca može biti povezana s funkcijom oblika:\n",
        "\n",
        "$A(z)=∑aₙzₙ$\n",
        "\n",
        "Primer:\n",
        "Za sekvencu {1, 2, 3, 4, ...} odgovarajuća generatorna funkcija je:\n",
        "A(z) = 1 + 2^z + 3z2 + 4z3 + ...\n",
        "\n",
        "Generatorne funkcije se koriste za **kompaktno predstavljanje**, **manipulaciju sekvencama** i **rešavanje** problema u kombinatorici.\n",
        "\n"
      ]
    },
    {
      "cell_type": "markdown",
      "metadata": {
        "id": "-nMurx7LOLq7"
      },
      "source": [
        "##Primeri sekvenci i njihovih generatornih funkcija"
      ]
    },
    {
      "cell_type": "markdown",
      "metadata": {
        "id": "t7xqorcyLugV"
      },
      "source": [
        "\n",
        "\n",
        "\n",
        "---\n",
        "\n",
        "\n",
        "###Konstantna sekvenca\n",
        "\n",
        "${1,1,1,…}$\n",
        "###Generatorna funkcija:\n",
        "\n",
        "$𝐴\n",
        "(\n",
        "𝑧\n",
        ")\n",
        "=\n",
        "1\n",
        "+\n",
        "𝑧\n",
        "+\n",
        "𝑧_\n",
        "2\n",
        "+\n",
        "𝑧_\n",
        "3\n",
        "+\n",
        "⋯\n",
        "=\n",
        "1\n",
        "1\n",
        "−\n",
        "𝑧\n",
        ",\n",
        "∣\n",
        "𝑧\n",
        "∣\n",
        "<\n",
        "1\n",
        "$\n",
        "\n",
        "---\n",
        "\n",
        "\n",
        "###Geometrijski niz\n",
        "\n",
        "${1,2,4,8,…}$\n",
        "\n",
        "###Generatorna funkcija:\n",
        "\n",
        "$𝐴\n",
        "(\n",
        "𝑧\n",
        ")\n",
        "=\n",
        "1\n",
        "+\n",
        "2\n",
        "𝑧\n",
        "+\n",
        "4\n",
        "𝑧_\n",
        "2\n",
        "+\n",
        "8\n",
        "𝑧_\n",
        "3\n",
        "+\n",
        "⋯\n",
        "=\n",
        "1\n",
        "1\n",
        "−\n",
        "2\n",
        "𝑧\n",
        ",\n",
        "∣\n",
        "𝑧\n",
        "∣\n",
        "<\n",
        "1\n",
        "2$\n",
        "\n",
        "\n",
        "---\n",
        "\n",
        "\n",
        "\n",
        "\n",
        "###Aritmetički niz\n",
        "\n",
        "${1,2,3,4,…}$\n",
        "###Generatorna funkcija:\n",
        "\n",
        "$𝐴\n",
        "(\n",
        "𝑧\n",
        ")\n",
        "=\n",
        "1\n",
        "+\n",
        "2\n",
        "𝑧\n",
        "+\n",
        "3\n",
        "𝑧_\n",
        "2\n",
        "+\n",
        "4\n",
        "𝑧_\n",
        "3\n",
        "+\n",
        "⋯\n",
        "=\n",
        "1\n",
        "(\n",
        "1\n",
        "−\n",
        "𝑧\n",
        ")\n",
        "2\n",
        ",\n",
        "∣\n",
        "𝑧\n",
        "∣\n",
        "<\n",
        "1$\n",
        "---\n",
        "\n"
      ]
    },
    {
      "cell_type": "markdown",
      "metadata": {
        "id": "brv3-8HrOSQq"
      },
      "source": [
        "Primer koda u Pajtonu"
      ]
    },
    {
      "cell_type": "code",
      "execution_count": null,
      "metadata": {
        "colab": {
          "base_uri": "https://localhost:8080/"
        },
        "id": "RFvO-DDnKcpq",
        "outputId": "9a602774-5206-41d0-901f-a89c6dd80366"
      },
      "outputs": [
        {
          "name": "stdout",
          "output_type": "stream",
          "text": [
            "Koeficijenti: [1, -1, 1, -1, 1, -1, 1, -1, 1, -1]\n"
          ]
        }
      ],
      "source": [
        "import sympy as sp\n",
        "\n",
        "z = sp.Symbol('z')\n",
        "\n",
        "A = 1 / (1 + z)\n",
        "\n",
        "n_terms = 10\n",
        "coeffs = [sp.series(A, z, 0, n_terms).as_coefficients_dict().get(z**i, 0) for i in range(n_terms)]\n",
        "print(\"Koeficijenti:\", coeffs)"
      ]
    },
    {
      "cell_type": "markdown",
      "metadata": {
        "id": "DCvLnyiFPWih"
      },
      "source": [
        "Primer koda u Pajtonu"
      ]
    },
    {
      "cell_type": "code",
      "execution_count": null,
      "metadata": {
        "colab": {
          "base_uri": "https://localhost:8080/"
        },
        "id": "9tfyEdsaPcOp",
        "outputId": "ccc8c73c-8546-483f-da48-9ad05a97d869"
      },
      "outputs": [
        {
          "name": "stdout",
          "output_type": "stream",
          "text": [
            "Koeficijenti geometrijskog niza: [1, 2, 4, 8, 16, 32, 64, 128, 256, 512]\n"
          ]
        }
      ],
      "source": [
        "B = 1 / (1 - 2*z)\n",
        "\n",
        "coeffs_geo = [sp.series(B, z, 0, n_terms).as_coefficients_dict().get(z**i, 0) for i in range(n_terms)]\n",
        "print(\"Koeficijenti geometrijskog niza:\", coeffs_geo)\n"
      ]
    },
    {
      "cell_type": "markdown",
      "metadata": {
        "id": "Lc1K8WVAQLVR"
      },
      "source": [
        "##Operacije nad generatornim funkcijama"
      ]
    },
    {
      "cell_type": "markdown",
      "metadata": {
        "id": "cu44shbgQQlL"
      },
      "source": [
        "**Sabiranje**\n",
        "\n",
        "$C(z)=A(z)+B(z)=∑(aₙ+bₙ)z^n $"
      ]
    },
    {
      "cell_type": "code",
      "execution_count": null,
      "metadata": {
        "colab": {
          "base_uri": "https://localhost:8080/"
        },
        "id": "dsC_gpGcRy8j",
        "outputId": "791fd198-3e8a-4d28-a759-b92643b5e3e7"
      },
      "outputs": [
        {
          "name": "stdout",
          "output_type": "stream",
          "text": [
            "Rezultat sabiranja: (z - 2)/((z + 1)*(2*z - 1))\n"
          ]
        }
      ],
      "source": [
        "combined = sp.simplify(A + B)\n",
        "print(\"Rezultat sabiranja:\", combined)"
      ]
    },
    {
      "cell_type": "markdown",
      "metadata": {
        "id": "MDMXpWxdR4ie"
      },
      "source": [
        "**Množenje**\n",
        "\n",
        "$C(z)=A(z)⋅B(z)=∑​(∑a_k​b_{n−k}​)z^n$"
      ]
    },
    {
      "cell_type": "code",
      "execution_count": null,
      "metadata": {
        "colab": {
          "base_uri": "https://localhost:8080/"
        },
        "id": "XtUExZiwSrgF",
        "outputId": "5f518e59-a548-4523-e3a9-45da010109c8"
      },
      "outputs": [
        {
          "name": "stdout",
          "output_type": "stream",
          "text": [
            "Rezultat množenja: -1/((z + 1)*(2*z - 1))\n"
          ]
        }
      ],
      "source": [
        "product = sp.simplify(A * B)\n",
        "print(\"Rezultat množenja:\", product)"
      ]
    },
    {
      "cell_type": "markdown",
      "metadata": {
        "id": "XXBUE6ZYSwNj"
      },
      "source": [
        "**Pomeranje indeksa**\n",
        "\n",
        "$z^k A(z)=∑aₙ​z_{k - 1}$"
      ]
    },
    {
      "cell_type": "code",
      "execution_count": null,
      "metadata": {
        "colab": {
          "base_uri": "https://localhost:8080/"
        },
        "id": "aJeBlkAFS2wM",
        "outputId": "c32a7919-452f-4ac9-b0b3-1699eb25df81"
      },
      "outputs": [
        {
          "name": "stdout",
          "output_type": "stream",
          "text": [
            "Rezultat pomeranja indeksa: z**2/(z + 1)\n"
          ]
        }
      ],
      "source": [
        "shifted = z**2 * A\n",
        "print(\"Rezultat pomeranja indeksa:\", shifted)"
      ]
    },
    {
      "cell_type": "markdown",
      "metadata": {
        "id": "lkuk8PgHS763"
      },
      "source": [
        "**Derivacija**\n",
        "\n",
        "$\\frac{dz}{d​A}(z)=∑​n⋅aₙ​z^{n-1}$\n"
      ]
    },
    {
      "cell_type": "code",
      "execution_count": null,
      "metadata": {
        "colab": {
          "base_uri": "https://localhost:8080/"
        },
        "id": "bn5_MS73TEIP",
        "outputId": "f90a5b03-bfe0-4b7d-8bdf-98eceb3fdbcb"
      },
      "outputs": [
        {
          "name": "stdout",
          "output_type": "stream",
          "text": [
            "Rezultat derivacije: -1/(z + 1)**2\n"
          ]
        }
      ],
      "source": [
        "derivative = sp.diff(A, z)\n",
        "print(\"Rezultat derivacije:\", derivative)"
      ]
    },
    {
      "cell_type": "markdown",
      "metadata": {
        "id": "vuNHDWfETPK0"
      },
      "source": [
        "**Skaliranje**\n",
        "\n",
        "B(z)\\=∑(c⋅aₙ​)zₙ"
      ]
    },
    {
      "cell_type": "code",
      "execution_count": null,
      "metadata": {
        "colab": {
          "base_uri": "https://localhost:8080/"
        },
        "id": "-czXoyb6TUeB",
        "outputId": "5cda9d48-3d32-4e0a-a182-f65468e2e0e8"
      },
      "outputs": [
        {
          "name": "stdout",
          "output_type": "stream",
          "text": [
            "Rezultat skaliranja generatorne funkcije: 5/(z + 1)\n",
            "Skalirani koeficijenti: [25, -25, 25, -25, 25, -25, 25, -25, 25, -25]\n"
          ]
        }
      ],
      "source": [
        "c = 5\n",
        "scaled = c * A\n",
        "print(\"Rezultat skaliranja generatorne funkcije:\", scaled)\n",
        "\n",
        "coeffs_arith = [sp.series(scaled, z, 0, n_terms).as_coefficients_dict().get(z**i, 0) for i in range(n_terms)]\n",
        "\n",
        "coeffs_scaled = [c * coeff for coeff in coeffs_arith]\n",
        "print(\"Skalirani koeficijenti:\", coeffs_scaled)\n"
      ]
    },
    {
      "cell_type": "markdown",
      "metadata": {
        "id": "a6eLS4ufWt42"
      },
      "source": [
        "##Uopštena binomna formula"
      ]
    },
    {
      "cell_type": "markdown",
      "metadata": {
        "id": "NLAkxC-koN_O"
      },
      "source": [
        "Neka je k nenegativan ceo broj, a u proizvoljan realan broj. Uopšteni binomni koeficijent u oznaci u nad k je definisan kao:\n",
        "\n",
        "$(\\frac{u}{k})$ = 1, k = 0\n",
        "\n",
        "$(\\frac{u}{k})$ = $\\frac{u*(u-1)*... * (u-k+1))}{k!}$, k > 0"
      ]
    },
    {
      "cell_type": "markdown",
      "metadata": {
        "id": "rawCosFGfzcK"
      },
      "source": [
        "Neka je *u* proizvoljan realan broj, tada je:\n",
        "\n",
        "***$(1+z)^u = Σ(\\frac{u}{k})z^n$***"
      ]
    },
    {
      "cell_type": "markdown",
      "metadata": {
        "id": "sw_o6_VBO18F"
      },
      "source": [
        "# Zadaci"
      ]
    },
    {
      "cell_type": "markdown",
      "metadata": {
        "id": "SIZGuT3MO18F"
      },
      "source": [
        "1. Dat je skup A sa osobinom $ |A| = n+1, n>=0 $. Broj podskupova neparne kardinalnosti jednak je $2^n$ i isti je broj skupova parne kardinalnosti. Dokazati, primenom rekurentnih relacija i generatornih funkcija.\n",
        "\n",
        "Razmatramo podskupove  $A$  sa neparnom i parnom kardinalnošću, gde:\n",
        "- Broj podskupova sa **parnom kardinalnošću** za skup veličine  $n+1 $ označimo kao $ P_{n+1} $,\n",
        "- Broj podskupova sa **neparnom kardinalnošću** označimo kao $ O_{n+1} $.\n",
        "\n",
        "Uočavamo da:\n",
        "1. Ako se element  $a_{n+1} \\in A$  **ne uključi** u podskup, tada broj podskupova ostaje isti kao za skup veličine $ n $,\n",
        "2. Ako se $ a_{n+1} $ **uključi**, tada broj podskupova prelazi iz parne kardinalnosti u neparnu i obrnuto.\n",
        "\n",
        "Rekurentne relacije su:\n",
        "\n",
        "$$P_{n+1} = P_n + O_n,$$\n",
        "\n",
        "\n",
        "$$O_{n+1} = P_n + O_n$$.\n",
        "\n",
        "\n",
        "Koristimo generatorsku funkciju za podskupove. Generatorska funkcija za broj podskupova skupa $ A $ sa $ n+1 $ elemenata je:\n",
        "\n",
        "$$F(x) = (1 + x)^{n+1},$$\n",
        "\n",
        "gde svaki član $ x^k $ predstavlja broj podskupova kardinalnosti $ k $.\n",
        "\n",
        "Funkciju $ (1+x)^{n+1} $ možemo napisati kao:\n",
        "\n",
        "$$F(x) = \\sum_{k=0}^{n+1} \\binom{n+1}{k} x^k.$$\n",
        "\n",
        "- Koeficijenti uz parne stepene \\($ x^{2k} $\\) odgovaraju broju podskupova parne kardinalnosti,\n",
        "- Koeficijenti uz neparne stepene \\($ x^{2k+1} $\\) odgovaraju broju podskupova neparne kardinalnosti.\n",
        "\n",
        "Iz generatorske funkcije:\n",
        "\n",
        "$$F(1) = (1+1)^{n+1} = 2^{n+1}.$$\n",
        "\n",
        "Ovo je ukupan broj podskupova skupa $ A $.\n",
        "\n",
        "Za $ x = -1 $, generatorska funkcija postaje:\n",
        "\n",
        "$$F(-1) = (1 - 1)^{n+1} = 0.$$\n",
        "\n",
        "Ovo pokazuje da je zbir broja podskupova parne i neparne kardinalnosti jednak 0:\n",
        "\n",
        "$$P_{n+1} - O_{n+1} = 0 => P_{n+1} = O_{n+1}.$$\n",
        "\n",
        "\n",
        "Ukupan broj podskupova je:\n",
        "\n",
        "$$P_{n+1} + O_{n+1} = 2^{n+1}.$$\n",
        "\n",
        "Pošto su jednaki, imamo:\n",
        "\n",
        "$$P_{n+1} = O_{n+1} = \\frac{2^{n+1}}{2} = 2^n.$$\n",
        "\n",
        "\n",
        "Broj podskupova **parne kardinalnosti** i broj podskupova **neparne kardinalnosti** je jednak \\($ 2^n $\\), što je traženo.\n"
      ]
    },
    {
      "cell_type": "markdown",
      "metadata": {
        "id": "wd212FpRO18F"
      },
      "source": [
        "2. Napisati otvoreni oblik za $\\frac{1}{1+2z} * \\frac{1}{1-3z}$.\n",
        "\n",
        "Da bismo napisali **otvoreni oblik generatorne funkcije** za izraz:\n",
        "\n",
        "\n",
        "$$\\frac{1}{1+2z} \\cdot \\frac{1}{1-3z},$$\n",
        "\n",
        "\n",
        "koristimo svojstva redova i manipulacije generatornih funkcija.\n",
        "\n",
        "Posmatramo svaki faktor u izrazu zasebno i razvijamo ga u red.\n",
        "\n",
        "Koristimo formulu za geometrijski red $$\\frac{1}{1+x} = \\sum_{n=0}^\\infty (-1)^n * x^n.$$ Dakle:\n",
        "\n",
        "$$\\frac{1}{1+2z} = \\sum_{n=0}^\\infty (-1)^n (2z)^n = \\sum_{n=0}^\\infty (-1)^n 2^n z^n.$$\n",
        "\n",
        "\n",
        "Koristimo standardni geometrijski red $\\frac{1}{1-x} = \\sum_{n=0}^\\infty x^n$. Dakle:\n",
        "\n",
        "$$\\frac{1}{1-3z} = \\sum_{m=0}^\\infty (3z)^m = \\sum_{m=0}^\\infty 3^m z^m.$$\n",
        "\n",
        "\n",
        "Imamo proizvod dva reda:\n",
        "\n",
        "$$\\frac{1}{1+2z} \\cdot \\frac{1}{1-3z} = \\left(\\sum_{n=0}^\\infty (-1)^n 2^n z^n \\right) \\cdot \\left(\\sum_{m=0}^\\infty 3^m z^m \\right).$$\n",
        "\n",
        "\n",
        "Proizvod ovih redova daje:\n",
        "\n",
        "$$\\sum_{k=0}^\\infty c_k z^k,$$\n",
        "\n",
        "gde su koeficijenti $ c_k $ dati konvolucijom:\n",
        "\n",
        "$$c_k = \\sum_{n=0}^k (-1)^n 2^n \\cdot 3^{k-n}.$$\n",
        "\n",
        "\n",
        "Dakle:\n",
        "\n",
        "$$\\frac{1}{1+2z} \\cdot \\frac{1}{1-3z} = \\sum_{k=0}^\\infty \\left( \\sum_{n=0}^k (-1)^n 2^n 3^{k-n} \\right) z^k.$$\n",
        "\n",
        "\n",
        "Otvoreni oblik je:\n",
        "\n",
        "$$\\frac{1}{1+2z} \\cdot \\frac{1}{1-3z} = \\sum_{k=0}^\\infty \\left( \\sum_{n=0}^k (-1)^n 2^n 3^{k-n} \\right) z^k.$$\n",
        "\n",
        "\n",
        "Gde je svaka suma unutrašnjeg izraza $$\\sum_{n=0}^k (-1)^n 2^n 3^{k-n}$$ konvolucija koeficijenata dva geometrijska reda."
      ]
    },
    {
      "cell_type": "markdown",
      "metadata": {
        "id": "btvWKLnsO18G"
      },
      "source": [
        "3. Pomoću Njutnovih binomnih formula zapisati u otvorenom obliku:\n",
        "\n",
        "    a) $(1 + \\frac{1}{2}z)^{-5}$\n",
        "\n",
        "    b) $\\frac{1}{(1-2z)^4}$\n",
        "\n",
        "a) Da bismo izrazili $(1 + \\frac{1}{2}z)^{-5}$ pomoću Njutnovih binomnih formula, koristimo prošireni binomni teorem za eksponente koji mogu biti negativni ili razlomljeni. Formula glasi:\n",
        "\n",
        "$$\n",
        "(1 + x)^n = \\sum_{k=0}^\\infty \\binom{n}{k} x^k,\n",
        "$$\n",
        "gde je $\\binom{n}{k}$ definisano kao:\n",
        "$$\n",
        "\\binom{n}{k} = \\frac{n(n-1)(n-2)\\cdots(n-k+1)}{k!},\n",
        "$$\n",
        "a za $n = -5$ i $x = \\frac{1}{2}z$, dobijamo:\n",
        "\n",
        "$$\n",
        "(1 + \\frac{1}{2}z)^{-5} = \\sum_{k=0}^\\infty \\binom{-5}{k} \\left(\\frac{1}{2}z\\right)^k.\n",
        "$$\n",
        "\n",
        "Računanje $\\binom{-5}{k}$:\n",
        "Koristimo opštu formulu:\n",
        "$$\n",
        "\\binom{-5}{k} = \\frac{(-5)(-5-1)(-5-2)\\cdots(-5-k+1)}{k!}.\n",
        "$$\n",
        "\n",
        "Razvoj u niz:\n",
        "Sada pišemo prvih nekoliko članova niza. Kada $k = 0$, $\\binom{-5}{0} = 1$, pa je prvi član 1.\n",
        "\n",
        "Za $k = 1$, $\\binom{-5}{1} = -5$, pa je drugi član:\n",
        "$$\n",
        "-5 \\cdot \\frac{1}{2}z = -\\frac{5}{2}z.\n",
        "$$\n",
        "\n",
        "Za $k = 2$, $\\binom{-5}{2} = \\frac{-5 \\cdot (-6)}{2!} = 15$, pa je treći član:\n",
        "$$\n",
        "15 \\cdot \\left(\\frac{1}{2}z\\right)^2 = 15 \\cdot \\frac{1}{4}z^2 = \\frac{15}{4}z^2.\n",
        "$$\n",
        "\n",
        "Za $k = 3$, $\\binom{-5}{3} = \\frac{-5 \\cdot (-6) \\cdot (-7)}{3!} = -35$, pa je četvrti član:\n",
        "$$\n",
        "-35 \\cdot \\left(\\frac{1}{2}z\\right)^3 = -35 \\cdot \\frac{1}{8}z^3 = -\\frac{35}{8}z^3.\n",
        "$$\n",
        "\n",
        "Konačni izraz (prvih nekoliko članova):\n",
        "$$\n",
        "(1 + \\frac{1}{2}z)^{-5} = 1 - \\frac{5}{2}z + \\frac{15}{4}z^2 - \\frac{35}{8}z^3 + \\cdots\n",
        "$$\n",
        "    \n",
        "\n",
        "    \n",
        "b) Da bismo rešili izraz $\\frac{1}{(1 - 2z)^4}$ koristeći Njutnovu binomnu formulu, proširujemo ovaj izraz u obliku beskonačnog binomnog reda.\n",
        "\n",
        "Njutnova binomna formula:\n",
        "$$\n",
        "(1 + x)^n = \\sum_{k=0}^\\infty \\binom{n}{k} x^k,\n",
        "$$\n",
        "gde je $\\binom{n}{k}$ binomni koeficijent:\n",
        "$$\n",
        "\\binom{n}{k} = \\frac{n(n-1)(n-2)\\cdots(n-k+1)}{k!}.\n",
        "$$\n",
        "\n",
        "U našem slučaju:\n",
        "$$\n",
        "\\frac{1}{(1 - 2z)^4} = (1 - 2z)^{-4}.\n",
        "$$\n",
        "Dakle, imamo $x = -2z$ i $n = -4$. Uvrštavanjem u formulu, dobijamo:\n",
        "$$\n",
        "(1 - 2z)^{-4} = \\sum_{k=0}^\\infty \\binom{-4}{k} (-2z)^k.\n",
        "$$\n",
        "\n",
        "Izračunavanje binomnog koeficijenta $\\binom{-4}{k}$:\n",
        "$$\n",
        "\\binom{-4}{k} = \\frac{(-4)(-4-1)(-4-2)\\cdots(-4-k+1)}{k!} = \\frac{(-1)^k \\cdot 4 \\cdot 5 \\cdot 6 \\cdots (4 + k - 1)}{k!}.\n",
        "$$\n",
        "\n",
        "Kompletan red:\n",
        "$$\n",
        "(1 - 2z)^{-4} = \\sum_{k=0}^\\infty \\binom{-4}{k} (-2z)^k = \\sum_{k=0}^\\infty \\frac{(-1)^k \\cdot 4 \\cdot 5 \\cdot 6 \\cdots (4 + k - 1)}{k!} \\cdot (-2z)^k.\n",
        "$$\n",
        "\n",
        "Pojednostavljenje:\n",
        "Negativni znak u $(-2z)^k$ i $(-1)^k$ se međusobno poništavaju, pa dobijamo:\n",
        "$$\n",
        "(1 - 2z)^{-4} = \\sum_{k=0}^\\infty \\frac{4 \\cdot 5 \\cdot 6 \\cdots (4 + k - 1)}{k!} \\cdot (2z)^k.\n",
        "$$\n",
        "\n",
        "Možemo ovo dalje zapisati koristeći faktore:\n",
        "$$\n",
        "(1 - 2z)^{-4} = \\sum_{k=0}^\\infty \\frac{(4 + k - 1)!}{(4 - 1)! \\cdot k!} \\cdot (2z)^k.\n",
        "$$\n"
      ]
    },
    {
      "cell_type": "markdown",
      "metadata": {
        "id": "7X7xSN9vO18G"
      },
      "source": [
        "4. Koristeci generatorne funkcije , resiti rekurentne relacije: a) a(0) = 1, a(n) = 3*a(n-1), n>=1, b) a(0) = 3, a(1) = -12, a(n) = -5a(n-1) + 36a(n-1), n >= 2\n",
        "\n",
        "**a)** Rekurentna relacija:\n",
        "$$\n",
        "a(0) = 1, \\quad a(n) = 3a(n-1), \\quad n \\geq 1\n",
        "$$\n",
        "\n",
        "Definišemo generatornu funkciju:\n",
        "$$\n",
        "A(x) = \\sum_{n=0}^\\infty a(n)x^n.\n",
        "$$\n",
        "\n",
        "Koristeći relaciju $a(n) = 3a(n-1)$pomnožimo obe strane sa $n$, sumiramo od $n = 1$\n",
        "\n",
        "$$\n",
        "\\sum_{n=1}^\\infty a(n)x^n = \\sum_{n=1}^\\infty 3a(n-1)x^n.\n",
        "$$\n",
        "\n",
        "Menjamo indeks u desnoj sumi $m = n-1 \\implies n = m+1$:\n",
        "$$\n",
        "\\sum_{n=1}^\\infty a(n)x^n = 3x \\sum_{m=0}^\\infty a(m)x^m.\n",
        "$$\n",
        "\n",
        "Leva strana je:\n",
        "$$\n",
        "\\sum_{n=1}^\\infty a(n)x^n = A(x) - a(0).\n",
        "$$\n",
        "\n",
        "Dakle:\n",
        "$$\n",
        "A(x) - 1 = 3xA(x).\n",
        "$$\n",
        "\n",
        "$$\n",
        "A(x)(1 - 3x) = 1 \\implies A(x) = \\frac{1}{1 - 3x}.\n",
        "$$\n",
        "\n",
        "Razvijamo $\\frac{1}{1 - 3x}$oristeći geometrijski red:\n",
        "$$\n",
        "\\frac{1}{1 - 3x} = \\sum_{n=0}^\\infty (3x)^n = \\sum_{n=0}^\\infty 3^n x^n.\n",
        "$$\n",
        "\n",
        "Dakle:\n",
        "$$\n",
        "a(n) = 3^n.\n",
        "$$\n",
        "\n",
        "**b)** Rekurentna relacija:\n",
        "$$\n",
        "a(0) = 3, \\quad a(1) = -12, \\quad a(n) = -5a(n-1) + 36a(n-2), \\quad n \\geq 2.\n",
        "$$\n",
        "\n",
        "Definišemo generatornu funkciju:\n",
        "$$\n",
        "A(x) = \\sum_{n=0}^\\infty a(n)x^n.\n",
        "$$\n",
        "\n",
        "Koristeći relaciju $a(n) = -5a(n-1) + 36a(n-2)$, pomnožimo obe strane sa $n$ i sumiramo od $n=2$\n",
        "$$\n",
        "\\sum_{n=2}^\\infty a(n)x^n = \\sum_{n=2}^\\infty -5a(n-1)x^n + \\sum_{n=2}^\\infty 36a(n-2)x^n.\n",
        "$$\n",
        "\n",
        "Menjamo indekse u desnim sumama:\n",
        "- Za prvu: $ = n-1 \\implies n = m+1$,\n",
        "- Za drugu: $ = n-2 \\implies n = m+2$.\n",
        "\n",
        "Tada:\n",
        "$$\n",
        "\\sum_{n=2}^\\infty a(n)x^n = -5x\\sum_{m=1}^\\infty a(m)x^m + 36x^2\\sum_{m=0}^\\infty a(m)x^m.\n",
        "$$\n",
        "\n",
        "Leva strana je:\n",
        "$$\n",
        "\\sum_{n=2}^\\infty a(n)x^n = A(x) - a(0) - a(1)x.\n",
        "$$\n",
        "\n",
        "Dakle:\n",
        "$$\n",
        "A(x) - 3 - (-12)x = -5x(A(x) - 3) + 36x^2A(x).\n",
        "$$\n",
        "\n",
        "Sredimo izraz:\n",
        "$$\n",
        "A(x) - 3 + 12x = -5xA(x) + 15x + 36x^2A(x).\n",
        "$$\n",
        "\n",
        "Grupišemo po $A(x)$\n",
        "$$\n",
        "A(x)(1 + 5x - 36x^2) = 3 - 12x - 15x.\n",
        "$$\n",
        "\n",
        "Dakle:\n",
        "$$\n",
        "A(x) = \\frac{3 - 27x}{1 + 5x - 36x^2}.\n",
        "$$\n",
        "\n",
        "Imenilac faktorišemo: $1 + 5x - 36x^2 = (1 - 4x)(1 + 9x)$. Tako:\n",
        "$$\n",
        "A(x) = \\frac{3 - 27x}{(1 - 4x)(1 + 9x)}.\n",
        "$$\n",
        "\n",
        "Razdvojimo na parcijalne razlomke:\n",
        "$$\n",
        "\\frac{3 - 27x}{(1 - 4x)(1 + 9x)} = \\frac{A}{1 - 4x} + \\frac{B}{1 + 9x}.\n",
        "$$\n",
        "\n",
        "Rešavamo $A$i $B$ pa razvijamo u redove:\n",
        "$$\n",
        "A = \\frac{3}{13}, \\quad B = \\frac{-27}{13}.\n",
        "$$\n",
        "\n",
        "Razvijamo:\n",
        "$$\n",
        "\\frac{A}{1 - 4x} = \\frac{3}{13} \\sum_{n=0}^\\infty (4x)^n, \\quad \\frac{B}{1 + 9x} = \\frac{-27}{13} \\sum_{n=0}^\\infty (-9x)^n.\n",
        "$$\n",
        "\n",
        "Dakle:\n",
        "$$\n",
        "a(n) = \\frac{3}{13}(4^n) + \\frac{-27}{13}((-9)^n).\n",
        "$$"
      ]
    },
    {
      "cell_type": "markdown",
      "metadata": {
        "id": "JpR1aOQ1O18G"
      },
      "source": [
        "5. Koristice generatorne funkcije resiti rekurentne funkcije: $$a) a(0) = 1, a(n)=3a(n-1)+7, n>=1, $$ $$b) a(0) = 8, a(n)=24a(n-1)-144, n>=1.$$\n",
        "\n",
        "**a)** Rekurentna relacija:\n",
        "$$\n",
        "a(0) = 1, \\quad a(n) = 3a(n-1) + 7, \\quad n \\geq 1.\n",
        "$$\n",
        "\n",
        "Definišemo generatornu funkciju:\n",
        "$$\n",
        "A(x) = \\sum_{n=0}^\\infty a(n)x^n.\n",
        "$$\n",
        "\n",
        "Koristeći relaciju $a(n) = 3a(n-1) + 7$ pomnožimo obe strane sa $^n$i sumiramo od $= 1$\n",
        "$$\n",
        "\\sum_{n=1}^\\infty a(n)x^n = \\sum_{n=1}^\\infty 3a(n-1)x^n + \\sum_{n=1}^\\infty 7x^n.\n",
        "$$\n",
        "\n",
        "Menjamo indeks u prvoj sumi ($ = n-1 \\implies n = m+1$:\n",
        "$$\n",
        "\\sum_{n=1}^\\infty a(n)x^n = 3x\\sum_{m=0}^\\infty a(m)x^m + \\sum_{n=1}^\\infty 7x^n.\n",
        "$$\n",
        "\n",
        "Leva strana je:\n",
        "$$\n",
        "\\sum_{n=1}^\\infty a(n)x^n = A(x) - a(0).\n",
        "$$\n",
        "\n",
        "Suma u desnoj strani je:\n",
        "$$\n",
        "\\sum_{n=1}^\\infty 7x^n = 7\\sum_{n=1}^\\infty x^n = 7\\frac{x}{1-x}.\n",
        "$$\n",
        "\n",
        "Dakle:\n",
        "$$\n",
        "A(x) - 1 = 3xA(x) + \\frac{7x}{1-x}.\n",
        "$$\n",
        "\n",
        "Grupišemo po $(x)$\n",
        "$$\n",
        "A(x)(1 - 3x) = 1 + \\frac{7x}{1-x}.\n",
        "$$\n",
        "\n",
        "Sredimo desnu stranu:\n",
        "$$\n",
        "A(x)(1 - 3x) = \\frac{1 - x + 7x}{1-x} = \\frac{1 + 6x}{1-x}.\n",
        "$$\n",
        "\n",
        "Delimo sa $- 3x$\n",
        "$$\n",
        "A(x) = \\frac{1 + 6x}{(1-x)(1-3x)}.\n",
        "$$\n",
        "\n",
        "Faktorišemo:\n",
        "$$\n",
        "\\frac{1 + 6x}{(1-x)(1-3x)} = \\frac{A}{1-x} + \\frac{B}{1-3x}.\n",
        "$$\n",
        "\n",
        "Rešavamo za $i$\n",
        "$$\n",
        "A(1 - 3x) + B(1 - x) = 1 + 6x.\n",
        "$$\n",
        "\n",
        "Koeficijenti daju:\n",
        "$$\n",
        "A + B = 1, \\quad -3A - B = 6.\n",
        "$$\n",
        "\n",
        "Rešavanjem:\n",
        "$$\n",
        "A = -2, \\quad B = 3.\n",
        "$$\n",
        "\n",
        "Dakle:\n",
        "$$\n",
        "A(x) = \\frac{-2}{1-x} + \\frac{3}{1-3x}.\n",
        "$$\n",
        "\n",
        "Koristimo geometrijski red za svaki član:\n",
        "$$\n",
        "\\frac{-2}{1-x} = -2\\sum_{n=0}^\\infty x^n, \\quad \\frac{3}{1-3x} = 3\\sum_{n=0}^\\infty (3x)^n = 3\\sum_{n=0}^\\infty 3^n x^n.\n",
        "$$\n",
        "\n",
        "Dakle:\n",
        "$$\n",
        "A(x) = \\sum_{n=0}^\\infty \\left(-2 + 3^{n+1}\\right)x^n.\n",
        "$$\n",
        "\n",
        "Eksplicitno:\n",
        "$$\n",
        "a(n) = -2 + 3^{n+1}.\n",
        "$$\n",
        "\n",
        "**b)** Rekurentna relacija:\n",
        "$$\n",
        "a(0) = 8, \\quad a(n) = 24a(n-1) - 144, \\quad n \\geq 1.\n",
        "$$\n",
        "\n",
        "Definišemo generatornu funkciju:\n",
        "$$\n",
        "A(x) = \\sum_{n=0}^\\infty a(n)x^n.\n",
        "$$\n",
        "\n",
        "Koristeći relaciju $(n) = 24a(n-1) - 144$ pomnožimo obe strane sa $^n$i sumiramo od $=1$\n",
        "$$\n",
        "\\sum_{n=1}^\\infty a(n)x^n = \\sum_{n=1}^\\infty 24a(n-1)x^n - \\sum_{n=1}^\\infty 144x^n.\n",
        "$$\n",
        "\n",
        "Menjamo indeks u prvoj sumi ($ = n-1 \\implies n = m+1$:\n",
        "$$\n",
        "\\sum_{n=1}^\\infty a(n)x^n = 24x\\sum_{m=0}^\\infty a(m)x^m - \\sum_{n=1}^\\infty 144x^n.\n",
        "$$\n",
        "\n",
        "Leva strana je:\n",
        "$$\n",
        "\\sum_{n=1}^\\infty a(n)x^n = A(x) - a(0).\n",
        "$$\n",
        "\n",
        "Suma u desnoj strani je:\n",
        "$$\n",
        "\\sum_{n=1}^\\infty 144x^n = 144\\frac{x}{1-x}.\n",
        "$$\n",
        "\n",
        "Dakle:\n",
        "$$\n",
        "A(x) - 8 = 24xA(x) - \\frac{144x}{1-x}.\n",
        "$$\n",
        "\n",
        "Grupišemo po $(x)$\n",
        "$$\n",
        "A(x)(1 - 24x) = 8 - \\frac{144x}{1-x}.\n",
        "$$\n",
        "\n",
        "Sredimo desnu stranu:\n",
        "$$\n",
        "A(x)(1 - 24x) = \\frac{8(1-x) - 144x}{1-x} = \\frac{8 - 8x - 144x}{1-x} = \\frac{8 - 152x}{1-x}.\n",
        "$$\n",
        "\n",
        "Delimo sa $ - 24x$:\n",
        "$$\n",
        "A(x) = \\frac{8 - 152x}{(1-x)(1-24x)}.\n",
        "$$\n",
        "\n",
        "Faktorišemo:\n",
        "$$\n",
        "\\frac{8 - 152x}{(1-x)(1-24x)} = \\frac{A}{1-x} + \\frac{B}{1-24x}.\n",
        "$$\n",
        "\n",
        "Rešavamo za $i$\n",
        "$$\n",
        "A(1 - 24x) + B(1 - x) = 8 - 152x.\n",
        "$$\n",
        "\n",
        "Koeficijenti daju:\n",
        "$$\n",
        "A + B = 8, \\quad -24A - B = -152.\n",
        "$$\n",
        "\n",
        "Rešavanjem:\n",
        "$$\n",
        "A = 4, \\quad B = 4.\n",
        "$$\n",
        "\n",
        "Dakle:\n",
        "$$\n",
        "A(x) = \\frac{4}{1-x} + \\frac{4}{1-24x}.\n",
        "$$\n",
        "\n",
        "Razvijamo svaku komponentu:\n",
        "$$\n",
        "\\frac{4}{1-x} = 4\\sum_{n=0}^\\infty x^n, \\quad \\frac{4}{1-24x} = 4\\sum_{n=0}^\\infty (24x)^n = 4\\sum_{n=0}^\\infty 24^n x^n.\n",
        "$$\n",
        "\n",
        "Dakle:\n",
        "$$\n",
        "A(x) = \\sum_{n=0}^\\infty (4 + 4 \\cdot 24^n)x^n.\n",
        "$$\n",
        "\n",
        "Eksplicitno:\n",
        "$$\n",
        "a(n) = 4 + 4 \\cdot 24^n.\n",
        "$$"
      ]
    }
  ],
  "metadata": {
    "colab": {
      "provenance": []
    },
    "kernelspec": {
      "display_name": "Python 3",
      "name": "python3"
    },
    "language_info": {
      "name": "python"
    }
  },
  "nbformat": 4,
  "nbformat_minor": 0
}