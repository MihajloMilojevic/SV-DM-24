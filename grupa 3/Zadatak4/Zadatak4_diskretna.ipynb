{
  "nbformat": 4,
  "nbformat_minor": 0,
  "metadata": {
    "colab": {
      "provenance": []
    },
    "kernelspec": {
      "name": "python3",
      "display_name": "Python 3"
    },
    "language_info": {
      "name": "python"
    }
  },
  "cells": [
    {
      "cell_type": "markdown",
      "source": [
        "# **Binomni koeficijent**"
      ],
      "metadata": {
        "id": "1uHRRWHBv4sY"
      }
    },
    {
      "cell_type": "markdown",
      "source": [
        "Binomni koeficijent, označen kao $\\binom{n}{k}$ ili $C(n, k)$, može se definisati na dva načina:\n",
        "\n",
        "1. $Algebarski$:  \n",
        "   Binomni koeficijent se algebarski definiše kao broj načina na koji se može izabrati $k$ elemenata iz skupa od $n$ elemenata, gde redosled nije bitan. Njegova formula je:\n",
        "\n",
        "  $$\\binom{n}{k} = \\frac{n!}{k!(n - k)!}$$\n",
        "   \n",
        "\n",
        "   gde je $n!$ faktorijel broja $n$ (proizvod svih celih brojeva od 1 do $n$), a $k!$ i $(n - k)!$ su odgovarajući faktorijeli za $k$ i $n - k$.\n",
        "\n",
        "2. ${Kombinatorno}:$  \n",
        "   Kombinatorno, binomni koeficijent predstavlja broj $k$-kombinacija skupa od $n$ elemenata, tj. broj podskupova veličine $k$ koje možemo formirati od $n$ različitih elemenata bez obzira na redosled.\n"
      ],
      "metadata": {
        "id": "OZoL1B6XueH0"
      }
    },
    {
      "cell_type": "markdown",
      "source": [
        "**Osobine binomnog koeficijenta**\n",
        "\n",
        "1. **Simetričnost:**\n",
        "   $ \\binom{n}{k} = \\binom{n}{n - k} $\n",
        "   \n",
        "   - **Kombinatorna interpretacija:** Izbor $k$ elemenata od $n$ je ekvivalentan izboru $n - k$ elemenata koji se ne biraju, jer preostalih $n - k$ elemenata čini komplementarni podskup.\n",
        "   - **Algebarski dokaz:** Koristeći formulu za binomni koeficijent, imamo:\n",
        "     $$ \\binom{n}{k} = \\frac{n!}{k!(n - k)!} = \\frac{n!}{(n - k)!k!} = \\binom{n}{n - k} $$\n",
        "\n",
        "2. **Osobina kada je $k = 0$ ili $k = n$**\n",
        "   $ \\binom{n}{0} = \\binom{n}{n} = 1 $\n",
        "   \n",
        "   - **Kombinatorna interpretacija:** Postoji samo jedan način da se ne izabere nijedan element (odabir praznog skupa) ili da se izaberu svi elementi iz skupa od $n$ elemenata.\n",
        "   - **Algebarski dokaz**:\n",
        "   Prema formuli:\n",
        "     $ \\binom{n}{0} = \\frac{n!}{0! \\cdot n!} = 1 $\n",
        "     $ \\binom{n}{n} = \\frac{n!}{n! \\cdot 0!} = 1 $\n",
        "\n",
        "3. **Paskalov identitet:**\n",
        "   $ \\binom{n}{k} = \\binom{n-1}{k-1} + \\binom{n-1}{k} $\n",
        "   \n",
        "   - **Kombinatorna interpretacija**: Ovaj identitet kaže da broj načina da se izabere $k$ elemenata iz skupa od $n$ elemenata možemo podeliti na dva slučaja:\n",
        "     - Prvi slučaj: biramo element $A$ (jedan određeni element), a preostalih $k-1$ biramo iz $n-1$ elemenata (bez $A$).\n",
        "     - Drugi slučaj: ne biramo element $A$, pa biramo svih $k$ elemenata iz preostalih $n-1$ elemenata.\n",
        "   - **Algebarski dokaz:**\n",
        "     Prema definiciji binomnog koeficijenta imamo:\n",
        "     $ \\binom{n-1}{k-1} + \\binom{n-1}{k} = \\frac{(n-1)!}{(k-1)!(n - k)!} + \\frac{(n-1)!}{k!(n - k - 1)!} $\n",
        "     \n",
        "     Sređivanjem, dolazimo do:\n",
        "     $ \\binom{n}{k} = \\frac{n!}{k!(n-k)!} $\n",
        "\n"
      ],
      "metadata": {
        "id": "H9QsxdDMv8ZP"
      }
    },
    {
      "cell_type": "markdown",
      "source": [
        "**Binomna formula (tvrdnja):**\n",
        "\n",
        "Za svaki ceo broj $n \\geq 0$ i realne brojeve $a$ i $b$, važi:\n",
        "$$\n",
        "(a + b)^n = \\sum_{k=0}^{n} \\binom{n}{k} a^{n-k} b^k\n",
        "$$\n",
        "\n",
        "Dokaz (matematička indukcija po $n$):\n",
        "\n",
        "1. **Baza indukcije:** Za $n = 0$, imamo $(a + b)^0 = 1$, dok je po formuli:\n",
        "   $$\n",
        "   \\sum_{k=0}^{0} \\binom{0}{0} a^{0} b^{0} = 1\n",
        "   $$\n",
        "   Dakle, tvrdnja važi za $n = 0$.\n",
        "\n",
        "2. **Induktivna hipoteza:** Pretpostavimo da tvrdnja važi za neki $n = m$, tj. da je:\n",
        "   $$\n",
        "   (a + b)^m = \\sum_{k=0}^{m} \\binom{m}{k} a^{m-k} b^k\n",
        "   $$\n",
        "\n",
        "3. **Induktivni korak:** Potrebno je pokazati da tvrdnja važi i za $n = m + 1$, tj. da je:\n",
        "   $$\n",
        "   (a + b)^{m+1} = (a + b) \\cdot (a + b)^m\n",
        "   $$\n",
        "   Primenićemo induktivnu hipotezu:\n",
        "   $$\n",
        "   (a + b)^{m+1} = (a + b) \\sum_{k=0}^{m} \\binom{m}{k} a^{m-k} b^k\n",
        "   $$\n",
        "   Razvijanjem, dobijamo:\n",
        "   $$\n",
        "   = \\sum_{k=0}^{m} \\binom{m}{k} a^{m+1-k} b^k + \\sum_{k=0}^{m} \\binom{m}{k} a^{m-k} b^{k+1}\n",
        "   $$\n",
        "   Preuređivanjem članova i korišćenjem Paskalovog identiteta $\\binom{m}{k} + \\binom{m}{k-1} = \\binom{m+1}{k}$, dolazimo do:\n",
        "   $$\n",
        "   (a + b)^{m+1} = \\sum_{k=0}^{m+1} \\binom{m+1}{k} a^{m+1-k} b^k\n",
        "   $$\n",
        "   Time je tvrdnja dokazana za $n = m+1$.\n",
        "\n",
        "Po principu matematičke indukcije, tvrdnja važi za svako $n \\geq 0$.\n"
      ],
      "metadata": {
        "id": "qF4XKlvw8per"
      }
    },
    {
      "cell_type": "markdown",
      "source": [
        "# **Polinomni koeficijent**"
      ],
      "metadata": {
        "id": "FDEpn3jg-tE8"
      }
    },
    {
      "cell_type": "markdown",
      "source": [
        "**Definicija polinomnog koeficijenta:**\n",
        "\n",
        "\n",
        "1. **Algebarski:**\n",
        "Polinomni koeficijent $\\binom{n}{k_1, k_2, \\dots, k_r}$ za nenegativne cele brojeve $n, k_1, k_2, \\dots, k_r$ gde važi $k_1 + k_2 + \\dots + k_r = n$, definisan je algebarski kao\n",
        "$$\n",
        "\\binom{n}{k_1, k_2, \\dots, k_r} = \\frac{n!}{k_1! \\, k_2! \\, \\dots \\, k_r!}\n",
        "$$\n",
        "\n",
        "2. **Kombinatorno:** Kombinatorna interpretacija polinomnog koeficijenta može se posmatrati kao broj različitih permutacija multiskupa sa $n$ elemenata gde je svaki element $i$ ponovljen tačno $k_i$ puta. Drugim rečima, $\\binom{n}{k_1, k_2, \\dots, k_r}$ predstavlja broj načina da se podeli $n$ elemenata u $r$ grupa veličine $k_1, k_2, \\dots, k_r$.\n",
        "\n",
        "Polinomni koeficijent se koristi u proširenju (generalizaciji) binomnog teorema, poznatom kao multinomni teorem, gde se za izraz $(x_1 + x_2 + \\dots + x_r)^n$ dobija:\n",
        "$$\n",
        "(x_1 + x_2 + \\dots + x_r)^n = \\sum_{k_1 + k_2 + \\dots + k_r = n} \\binom{n}{k_1, k_2, \\dots, k_r} x_1^{k_1} x_2^{k_2} \\dots x_r^{k_r}\n",
        "$$\n"
      ],
      "metadata": {
        "id": "QPpnHklB_KUh"
      }
    },
    {
      "cell_type": "markdown",
      "source": [
        "**Osobine polinomnog koeficijenta:**\n",
        "\n",
        "1. **Simetričnost**: Polinomni koeficijent $\\binom{n}{k_1, k_2, \\dots, k_r}$ je simetričan po zameni $k_i$ vrednosti. To znači da je broj permutacija nezavisan od redosleda veličina grupa.\n",
        "\n",
        "2. **Osobina kada je $r = 1$ ili $r = n$**:\n",
        "   - Kada je $r = 1$, imamo samo jednu grupu sa $n$ elemenata, pa je $\\binom{n}{n} = 1$, što znači da postoji tačno jedan način da se grupišu svi elementi u jednu grupu.\n",
        "   - Kada je $r = n$, svaka grupa sadrži jedan element, pa je $\\binom{n}{1,1,\\dots,1} = n!$, jer postoji $n!$ različitih permutacija $n$ različitih elemenata.\n",
        "\n",
        "3. **Osobina za specifične vrednosti $k_i = 0$:**  Ako je neki $k_i = 0$, tada se broj kombinacija svodi na koeficijent $\\binom{n}{k_1, k_2, \\dots, k_{i-1}, k_{i+1}, \\dots, k_r}$, jer se element sa $k_i = 0$ ne uzima u obzir.\n",
        "\n",
        "**Algebarski dokaz** ovih osobina može se izvesti analizom definicije polinomnog koeficijenta:\n",
        "\n",
        "$$\n",
        "\\binom{n}{k_1, k_2, \\dots, k_r} = \\frac{n!}{k_1! \\, k_2! \\, \\dots \\, k_r!}\n",
        "$$\n",
        "\n",
        "1. **Simetričnost**: Ova osobina sledi direktno iz faktora $k_1! \\, k_2! \\, \\dots \\, k_r!$ u imeniocu, koji su nezavisni od redosleda $k_i$ vrednosti.\n",
        "\n",
        "2. **Osobina kada je $r = 1$ ili $r = n$**:\n",
        "   - Kada je $r = 1$, imamo $\\binom{n}{n} = \\frac{n!}{n!} = 1$.\n",
        "   - Kada je $r = n$ i svi $k_i = 1$, tada je $\\binom{n}{1,1,\\dots,1} = \\frac{n!}{1! \\, 1! \\, \\dots \\, 1!} = n!$.\n",
        "\n",
        "3. **Osobina za specifične vrednosti $k_i = 0$**: Ako je $k_i = 0$, tada se faktor $k_i!$ u nazivniku postaje $1$, i ostatak koeficijenta sledi iz $k$ vrednosti različitih od nule, čime se broj kombinacija svodi na $\\binom{n}{k_1, k_2, \\dots, k_{i-1}, k_{i+1}, \\dots, k_r}$.\n",
        "\n",
        "**Kombinatorno**, ove osobine ukazuju na to da:\n",
        "- Simetričnost znači da je redosled formiranja grupa irelevantan.\n",
        "- Za $r = 1$ ili $r = n$, postoji samo jedan način da se svi elementi grupišu zajedno ili u pojedinačne grupe.\n",
        "- Ako je $k_i = 0$, onda taj element ne doprinosi grupisanju.\n",
        "\n",
        "Ove osobine potvrđuju da polinomni koeficijent predstavlja sve moguće permutacije multiskupa različitih veličina grupa.\n"
      ],
      "metadata": {
        "id": "Uo2fX7lGBcaQ"
      }
    },
    {
      "cell_type": "markdown",
      "source": [
        "**Polinomna formula:**\n",
        "\n",
        "Polinomna formula, ili multinomna formula, je generalizacija binomne formule i glasi:\n",
        "\n",
        "$$\n",
        "(x_1 + x_2 + \\dots + x_r)^n = \\sum_{k_1 + k_2 + \\dots + k_r = n} \\binom{n}{k_1, k_2, \\dots, k_r} x_1^{k_1} x_2^{k_2} \\dots x_r^{k_r}\n",
        "$$\n",
        "\n",
        "gde su $k_1, k_2, \\dots, k_r$ nenegativni celi brojevi za koje važi $k_1 + k_2 + \\dots + k_r = n$, a $\\binom{n}{k_1, k_2, \\dots, k_r}$ predstavlja polinomni koeficijent, definisan kao:\n",
        "$$\n",
        "\\binom{n}{k_1, k_2, \\dots, k_r} = \\frac{n!}{k_1! \\, k_2! \\, \\dots \\, k_r!}\n",
        "$$\n",
        "\n",
        "**Primer:**\n",
        "\n",
        "Izračunajmo $(x + y + z)^3$ koristeći polinomnu formulu.\n",
        "\n",
        "Prvo, potrebno je pronaći sve moguće trojke $(k_1, k_2, k_3)$ za koje važi $k_1 + k_2 + k_3 = 3$. Moguće vrednosti su:\n",
        "- $(k_1, k_2, k_3) = (3, 0, 0)$\n",
        "- $(k_1, k_2, k_3) = (2, 1, 0)$\n",
        "- $(k_1, k_2, k_3) = (2, 0, 1)$\n",
        "- $(k_1, k_2, k_3) = (1, 2, 0)$\n",
        "- $(k_1, k_2, k_3) = (1, 1, 1)$\n",
        "- $(k_1, k_2, k_3) = (1, 0, 2)$\n",
        "- $(k_1, k_2, k_3) = (0, 3, 0)$\n",
        "- $(k_1, k_2, k_3) = (0, 2, 1)$\n",
        "- $(k_1, k_2, k_3) = (0, 1, 2)$\n",
        "- $(k_1, k_2, k_3) = (0, 0, 3)$\n",
        "\n",
        "Izračunajmo odgovarajuće članove:\n",
        "\n",
        "$$\n",
        "(x + y + z)^3 = \\binom{3}{3, 0, 0} x^3 + \\binom{3}{2, 1, 0} x^2 y + \\binom{3}{2, 0, 1} x^2 z + \\binom{3}{1, 2, 0} x y^2 + \\binom{3}{1, 1, 1} x y z + \\binom{3}{1, 0, 2} x z^2 + \\binom{3}{0, 3, 0} y^3 + \\binom{3}{0, 2, 1} y^2 z + \\binom{3}{0, 1, 2} y z^2 + \\binom{3}{0, 0, 3} z^3\n",
        "$$\n",
        "\n",
        "Računamo koeficijente:\n",
        "- $\\binom{3}{3, 0, 0} = 1$\n",
        "- $\\binom{3}{2, 1, 0} = 3$\n",
        "- $\\binom{3}{2, 0, 1} = 3$\n",
        "- $\\binom{3}{1, 2, 0} = 3$\n",
        "- $\\binom{3}{1, 1, 1} = 6$\n",
        "- $\\binom{3}{1, 0, 2} = 3$\n",
        "- $\\binom{3}{0, 3, 0} = 1$\n",
        "- $\\binom{3}{0, 2, 1} = 3$\n",
        "- $\\binom{3}{0, 1, 2} = 3$\n",
        "- $\\binom{3}{0, 0, 3} = 1$\n",
        "\n",
        "Tada dobijamo:\n",
        "$$\n",
        "(x + y + z)^3 = x^3 + 3 x^2 y + 3 x^2 z + 3 x y^2 + 6 x y z + 3 x z^2 + y^3 + 3 y^2 z + 3 y z^2 + z^3\n",
        "$$\n"
      ],
      "metadata": {
        "id": "u_eqlWOmE4xP"
      }
    },
    {
      "cell_type": "markdown",
      "source": [
        "# Broj svih preslikavanja i broj injektivnih preslikavanja\n",
        "* Skupu svih presliavanja odgovaraju premutacij multiskupa i broj preslikavanja se može izračunati kao što je formulisano sledećim tvrdjenjem.\n",
        "\n",
        "* **Teorema 23** Neka je $A = \\{ a_1, ..., a_m \\}$ i $B = \\{b_1, ... , b_l\\}$.Broj svih preslikavanja skupa $A$ u skup $B$ jednak je $|\\{f: A -> B\\}| = l^m$.\n",
        "\n",
        "* *Dokaz* Svako preslikavanje $f: A -> B$ može se prikazati kao skup parova $\\{(a_1, f(a_1)), ..., (a_m, f(a_m))\\}$.\n",
        "\n",
        "* Ako proizvoljno uredimo skup $A$, na primer $(a_1, ..., a_m)$, onda funkciju možemo predstaviti kao $l-torku$ vrednosti u tačkama domena (u skladu sa uređenjem), tj. \\\\\n",
        "$(f(a_1), ..., f(a_m))∈B×...×B$. \\\\\n",
        "Svaka takva $m-torka$ je jedna $m-$premutacija multiskupa $M = [b_1, ..., b_l]_m, ..., _m$. Broj takvih $l-torki$ jednak je broju elemenata skupa $B × ... × B$, tj. \\\\\n",
        "$|B^m| = |B|^m = l^m$ \\\\\n",
        "Neka je $A = \\{a_1, ..., a_m\\} i M = \\{b_1, ..., b_n\\}$. Preslikavanje $f: A->B$ je injektivno ako zadovoljava sledeću osobinu: \\\\\n",
        "\n",
        "$∀_i,_j ∈ \\{1, ..., m\\} i \\neq j  ⟹ f(a_1) \\neq f(a_j)$. \\\\\n",
        "Ako se preslikavanje posmatra kao podskup skupa $A × B$, to znači da različitim prvim komponentama uvek odgovaraju različite druge komponmente.\n",
        "\n",
        "* **Teorema 24** Neka je $A = \\{a_1, ..., a_m\\} i B = \\{b_1, ..., b_n\\}$, gde je $1 ≤ m \\le n$. Broj svih injektivnih preslikavanja skupa $A$ u skup $B$ jednak je \\\\\n",
        "$|\\{f: A \\xrightarrow{\\text{1-1}} B\\}| = n * (n-1) *  ... * (n - m + 1)$.\n",
        "\n"
      ],
      "metadata": {
        "id": "UT-se8CbHTfP"
      }
    },
    {
      "cell_type": "markdown",
      "source": [
        "# Stirlingovi brojevi druge vrste\n",
        "\n",
        "Problem: Određivanje broja načina da se $m$ različitih objekata rasporedi u $n$ jednakih kutija , tako da nijedna kutija ne bude prazna. Takva raspoređivanja nazivamo particijama.\n",
        "\n",
        "* **Definicja 26**  *Neka je $A = \\{ a_1, a_2, ..., a_m\\}$. Kažemo da je $\\{B_1, ..., B_n\\}$ particija skupa $A$ na n podskupova ako važi:* \\\\\n",
        "(1) $A = B_1 𝖴 ... 𝖴 B_n$, \\\\\n",
        "(2) $∀_id ∈ \\{1, ..., n\\} B_i \\neq ∅ i $. \\\\\n",
        "(3) $∀_i, _j \\in \\{1, ..., n\\} i\\neq j → B_i ∩ B_j = ∅$. \\\\\n",
        "Za broj svih particija skupa uvodimo posebnu oznaku, definisanu seledećom definicijom.\n",
        "\n",
        "* **Definicija 27**  *Neka je $1 \\le n \\le m$. Broj particija skupa od m elemenata na n podskupova, u oznaci S(m, n), naziva se Stirlingov broj druge vrste*.\n",
        "\n",
        "## Veza između sirjektivnog preslikavanja i Stirlingovih brojeva\n",
        "\n",
        "* Neka je $|A| = n$ i neka je $|B| = m$ . Broj svih sirjektivnih preslikavanja skupa $A$ u skup $B$ možemo dobiti formulom $m! * S(n, m)$ gde je $S(n, m)$ raspodela svih elemenata iz $A$ u $m$ nepraznih grupa, permutacijom svih mogućih grupa upravo dobijamo ukupan broj sirjektivnih preslikavanja."
      ],
      "metadata": {
        "id": "4qpUMyGQAfT4"
      }
    },
    {
      "cell_type": "code",
      "source": [
        "import math"
      ],
      "metadata": {
        "id": "OfqFp_wASWw2"
      },
      "execution_count": 1,
      "outputs": []
    },
    {
      "cell_type": "code",
      "source": [
        "def paskal(n):\n",
        "  ret = [[1]]\n",
        "  for i in range(1, n+1):\n",
        "    tmp = [ret[i-1][j] + ret[i-1][j+1] for j in range(i-1)]\n",
        "    tmp = [1] + tmp + [1]\n",
        "    ret.append(tmp)\n",
        "  return ret"
      ],
      "metadata": {
        "id": "bt5L3VkLSSFo"
      },
      "execution_count": null,
      "outputs": []
    },
    {
      "cell_type": "code",
      "source": [
        "def binomni_koef(n, k):\n",
        "  return int(math.factorial(n) / (math.factorial(k) * math.factorial(n-k)))\n",
        "\n",
        "def paskal2(n):\n",
        "  ret = []\n",
        "  for i in range(n+1):\n",
        "    tmp = [binomni_koef(i,k) for k in range(i+1)]\n",
        "    ret.append(tmp)\n",
        "  return ret"
      ],
      "metadata": {
        "id": "24cgMOyHSTlL"
      },
      "execution_count": null,
      "outputs": []
    },
    {
      "cell_type": "code",
      "source": [
        "def binomni_razvoj(n):\n",
        "  ret = \"\"\n",
        "  koefs = paskal(n)[-1]\n",
        "  for i in range(n+1):\n",
        "    ret += f\"{koefs[i]}*a^{n-i}*b^{i} + \"\n",
        "  return ret[:-3]"
      ],
      "metadata": {
        "id": "BKpxej1wSfkV"
      },
      "execution_count": null,
      "outputs": []
    },
    {
      "cell_type": "code",
      "source": [
        "def permutacije_multiskupa(k, n):\n",
        "    permutacije = []\n",
        "\n",
        "    def backtrack(perm, ostatak, i):\n",
        "\n",
        "        if i == k:\n",
        "            if ostatak == 0:\n",
        "                permutacije.append(perm[:])\n",
        "            return\n",
        "\n",
        "        for j in range(ostatak + 1):\n",
        "            perm[i] = j\n",
        "            backtrack(perm, ostatak - j, i + 1)\n",
        "\n",
        "    backtrack([0] * k, n, 0)\n",
        "\n",
        "    return permutacije"
      ],
      "metadata": {
        "id": "dU-7KrU3SiyE"
      },
      "execution_count": null,
      "outputs": []
    },
    {
      "cell_type": "code",
      "source": [
        "def polinomni_koef(perm):\n",
        "  faktorijeli = [math.factorial(num) for num in perm]\n",
        "  return math.factorial(sum(perm)) / math.prod(faktorijeli)\n",
        "\n",
        "def polinomni_razvoj(k, n):\n",
        "  x = [chr(i+ord('a')) for i in range(k)]\n",
        "  ret = \"\"\n",
        "  for perm in permutacije_multiskupa(k, n):\n",
        "    koef = polinomni_koef(perm)\n",
        "    tmp = f\"{int(koef)}*\"\n",
        "    for i in range(len(perm)):\n",
        "      tmp += f\"{x[i]}^{perm[i]}*\"\n",
        "    ret += tmp[:-1] + \" + \"\n",
        "  return ret[:-3]"
      ],
      "metadata": {
        "id": "44NrIaclSjoN"
      },
      "execution_count": 2,
      "outputs": []
    }
  ]
}